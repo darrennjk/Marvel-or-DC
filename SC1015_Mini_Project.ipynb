{
  "nbformat": 4,
  "nbformat_minor": 0,
  "metadata": {
    "colab": {
      "name": "SC1015 Mini-Project.ipynb",
      "provenance": [],
      "collapsed_sections": [
        "dPt1KtDRLIE2",
        "TzkYl8A8M2Ud",
        "MS9VbBdSeuQI",
        "1Ys-G6n7vlXy",
        "l9gYqHjQ9Z0w",
        "qpHfZMDK-qLm",
        "IlvMiRwbpUdD"
      ],
      "toc_visible": true
    },
    "kernelspec": {
      "name": "python3",
      "display_name": "Python 3"
    },
    "language_info": {
      "name": "python"
    }
  },
  "cells": [
    {
      "cell_type": "markdown",
      "source": [
        "What is the Grading Scheme for the Mini-Project?\n",
        "\n",
        "10% for coming up with your own problem definition based on a dataset\n",
        "\n",
        "10% for data preparation and cleaning to suit the problem of your choice\n",
        "\n",
        "20% for exploratory data analysis/visualization to gather relevant insights\n",
        "\n",
        "20% for the use of machine learning techniques to solve specific problem\n",
        "\n",
        "20% for the presentation of data-driven insights and the recommendations\n",
        "\n",
        "10% for the quality of your final team presentation and overall impressions\n",
        "\n",
        "10% for learning something new and doing something beyond this course\n",
        "\n",
        "---"
      ],
      "metadata": {
        "id": "J5Te8MJSTFdT"
      }
    },
    {
      "cell_type": "markdown",
      "source": [
        "## **Problem defined based on Marvel Superheroes Dataset:**\n",
        "\n",
        "**Predict which universe (Marvel/DC) a superhero is in.**\n",
        "\n",
        "Dataset:         https://www.kaggle.com/datasets/jonathanbesomi/superheroes-nlp-dataset?datasetId=633089&sortBy=voteCount \n",
        "\n",
        "Sample:          https://www.kaggle.com/code/raislervoigt/marvel-or-dc-creators#Some-tests "
      ],
      "metadata": {
        "id": "dPt1KtDRLIE2"
      }
    },
    {
      "cell_type": "code",
      "source": [
        "from google.colab import drive\n",
        "drive.mount('/content/drive')"
      ],
      "metadata": {
        "id": "5phl1b9s3SUk",
        "colab": {
          "base_uri": "https://localhost:8080/"
        },
        "outputId": "43525150-3f68-40a6-c02a-294461c51625"
      },
      "execution_count": 1,
      "outputs": [
        {
          "output_type": "stream",
          "name": "stdout",
          "text": [
            "Drive already mounted at /content/drive; to attempt to forcibly remount, call drive.mount(\"/content/drive\", force_remount=True).\n"
          ]
        }
      ]
    },
    {
      "cell_type": "markdown",
      "source": [
        "We shall start off by importing some basic libraries to begin exploratory analysis on our data."
      ],
      "metadata": {
        "id": "zQKH-2jIZzs4"
      }
    },
    {
      "cell_type": "code",
      "execution_count": 2,
      "metadata": {
        "id": "4T9BN7I280fD",
        "cellView": "code"
      },
      "outputs": [],
      "source": [
        "# Basic Libraries\n",
        "import numpy as np\n",
        "import pandas as pd\n",
        "import seaborn as sb\n",
        "import matplotlib.pyplot as plt\n",
        "from sklearn.model_selection import train_test_split  # Import train_test_split from sklearn\n",
        "from sklearn.tree import DecisionTreeClassifier       # Import DecisionTreeClassifier model from Scikit-Learn\n",
        "from sklearn.tree import plot_tree                    # Plot the trained Decision Tree\n",
        "from sklearn.metrics import confusion_matrix          # Plot the two-way Confusion Matrix\n",
        "from sklearn.preprocessing import LabelEncoder        # Encode categorial features into numeric values\n",
        "\n",
        "# set the default Seaborn style for graphics\n",
        "sb.set()"
      ]
    },
    {
      "cell_type": "markdown",
      "source": [
        "Next, we will import the dataset using the read_csv() function from pandas, creating the dataframe: heroesData"
      ],
      "metadata": {
        "id": "-Z4MJh2zdz6P"
      }
    },
    {
      "cell_type": "code",
      "source": [
        "\n",
        "# import csv file\n",
        "heroesData = pd.read_csv(\"/content/drive/MyDrive/data/superheroes_nlp_dataset.csv\")\n"
      ],
      "metadata": {
        "id": "u5mnRaZnBGuj"
      },
      "execution_count": 3,
      "outputs": []
    },
    {
      "cell_type": "markdown",
      "source": [
        "Let us take a look at a brief overview of what our dataset and its entries look like."
      ],
      "metadata": {
        "id": "RBNxAElIcj_p"
      }
    },
    {
      "cell_type": "code",
      "source": [
        "heroesData.head()"
      ],
      "metadata": {
        "colab": {
          "base_uri": "https://localhost:8080/",
          "height": 594
        },
        "id": "ChbPyGGCL8VX",
        "outputId": "b0add633-b34b-4ef8-bacf-0dd5cb2728ad"
      },
      "execution_count": 4,
      "outputs": [
        {
          "output_type": "execute_result",
          "data": {
            "text/plain": [
              "            name               real_name               full_name  \\\n",
              "0        3-D Man     Delroy Garrett, Jr.     Delroy Garrett, Jr.   \n",
              "1  514A (Gotham)             Bruce Wayne                     NaN   \n",
              "2         A-Bomb  Richard Milhouse Jones  Richard Milhouse Jones   \n",
              "3             Aa                      Aa                     NaN   \n",
              "4     Aaron Cash              Aaron Cash              Aaron Cash   \n",
              "\n",
              "  overall_score                                       history_text  \\\n",
              "0             6  Delroy Garrett, Jr. grew up to become a track ...   \n",
              "1            10  He was one of the many prisoners of Indian Hil...   \n",
              "2            20   Richard \"Rick\" Jones was orphaned at a young ...   \n",
              "3            12  Aa is one of the more passive members of the P...   \n",
              "4             5  Aaron Cash is the head of security at Arkham A...   \n",
              "\n",
              "                                         powers_text  intelligence_score  \\\n",
              "0                                                NaN                  85   \n",
              "1                                                NaN                 100   \n",
              "2    On rare occasions, and through unusual circu...                  80   \n",
              "3                                                NaN                  80   \n",
              "4                                                NaN                  80   \n",
              "\n",
              "   strength_score  speed_score  durability_score  ...  has_flight  \\\n",
              "0              30           60                60  ...         0.0   \n",
              "1              20           30                50  ...         0.0   \n",
              "2             100           80               100  ...         0.0   \n",
              "3              50           55                45  ...         0.0   \n",
              "4              10           25                40  ...         0.0   \n",
              "\n",
              "   has_accelerated_healing has_weapons_master has_intelligence has_reflexes  \\\n",
              "0                      0.0                0.0              0.0          0.0   \n",
              "1                      0.0                0.0              0.0          1.0   \n",
              "2                      1.0                0.0              0.0          1.0   \n",
              "3                      0.0                0.0              0.0          0.0   \n",
              "4                      0.0                1.0              0.0          0.0   \n",
              "\n",
              "  has_super_speed has_durability has_stamina has_agility has_super_strength  \n",
              "0             1.0            0.0         0.0         0.0                1.0  \n",
              "1             0.0            1.0         0.0         0.0                1.0  \n",
              "2             1.0            1.0         1.0         1.0                1.0  \n",
              "3             0.0            0.0         0.0         0.0                0.0  \n",
              "4             0.0            0.0         0.0         0.0                0.0  \n",
              "\n",
              "[5 rows x 81 columns]"
            ],
            "text/html": [
              "\n",
              "  <div id=\"df-7f25dbbd-e6c8-4546-a393-3536186d9273\">\n",
              "    <div class=\"colab-df-container\">\n",
              "      <div>\n",
              "<style scoped>\n",
              "    .dataframe tbody tr th:only-of-type {\n",
              "        vertical-align: middle;\n",
              "    }\n",
              "\n",
              "    .dataframe tbody tr th {\n",
              "        vertical-align: top;\n",
              "    }\n",
              "\n",
              "    .dataframe thead th {\n",
              "        text-align: right;\n",
              "    }\n",
              "</style>\n",
              "<table border=\"1\" class=\"dataframe\">\n",
              "  <thead>\n",
              "    <tr style=\"text-align: right;\">\n",
              "      <th></th>\n",
              "      <th>name</th>\n",
              "      <th>real_name</th>\n",
              "      <th>full_name</th>\n",
              "      <th>overall_score</th>\n",
              "      <th>history_text</th>\n",
              "      <th>powers_text</th>\n",
              "      <th>intelligence_score</th>\n",
              "      <th>strength_score</th>\n",
              "      <th>speed_score</th>\n",
              "      <th>durability_score</th>\n",
              "      <th>...</th>\n",
              "      <th>has_flight</th>\n",
              "      <th>has_accelerated_healing</th>\n",
              "      <th>has_weapons_master</th>\n",
              "      <th>has_intelligence</th>\n",
              "      <th>has_reflexes</th>\n",
              "      <th>has_super_speed</th>\n",
              "      <th>has_durability</th>\n",
              "      <th>has_stamina</th>\n",
              "      <th>has_agility</th>\n",
              "      <th>has_super_strength</th>\n",
              "    </tr>\n",
              "  </thead>\n",
              "  <tbody>\n",
              "    <tr>\n",
              "      <th>0</th>\n",
              "      <td>3-D Man</td>\n",
              "      <td>Delroy Garrett, Jr.</td>\n",
              "      <td>Delroy Garrett, Jr.</td>\n",
              "      <td>6</td>\n",
              "      <td>Delroy Garrett, Jr. grew up to become a track ...</td>\n",
              "      <td>NaN</td>\n",
              "      <td>85</td>\n",
              "      <td>30</td>\n",
              "      <td>60</td>\n",
              "      <td>60</td>\n",
              "      <td>...</td>\n",
              "      <td>0.0</td>\n",
              "      <td>0.0</td>\n",
              "      <td>0.0</td>\n",
              "      <td>0.0</td>\n",
              "      <td>0.0</td>\n",
              "      <td>1.0</td>\n",
              "      <td>0.0</td>\n",
              "      <td>0.0</td>\n",
              "      <td>0.0</td>\n",
              "      <td>1.0</td>\n",
              "    </tr>\n",
              "    <tr>\n",
              "      <th>1</th>\n",
              "      <td>514A (Gotham)</td>\n",
              "      <td>Bruce Wayne</td>\n",
              "      <td>NaN</td>\n",
              "      <td>10</td>\n",
              "      <td>He was one of the many prisoners of Indian Hil...</td>\n",
              "      <td>NaN</td>\n",
              "      <td>100</td>\n",
              "      <td>20</td>\n",
              "      <td>30</td>\n",
              "      <td>50</td>\n",
              "      <td>...</td>\n",
              "      <td>0.0</td>\n",
              "      <td>0.0</td>\n",
              "      <td>0.0</td>\n",
              "      <td>0.0</td>\n",
              "      <td>1.0</td>\n",
              "      <td>0.0</td>\n",
              "      <td>1.0</td>\n",
              "      <td>0.0</td>\n",
              "      <td>0.0</td>\n",
              "      <td>1.0</td>\n",
              "    </tr>\n",
              "    <tr>\n",
              "      <th>2</th>\n",
              "      <td>A-Bomb</td>\n",
              "      <td>Richard Milhouse Jones</td>\n",
              "      <td>Richard Milhouse Jones</td>\n",
              "      <td>20</td>\n",
              "      <td>Richard \"Rick\" Jones was orphaned at a young ...</td>\n",
              "      <td>On rare occasions, and through unusual circu...</td>\n",
              "      <td>80</td>\n",
              "      <td>100</td>\n",
              "      <td>80</td>\n",
              "      <td>100</td>\n",
              "      <td>...</td>\n",
              "      <td>0.0</td>\n",
              "      <td>1.0</td>\n",
              "      <td>0.0</td>\n",
              "      <td>0.0</td>\n",
              "      <td>1.0</td>\n",
              "      <td>1.0</td>\n",
              "      <td>1.0</td>\n",
              "      <td>1.0</td>\n",
              "      <td>1.0</td>\n",
              "      <td>1.0</td>\n",
              "    </tr>\n",
              "    <tr>\n",
              "      <th>3</th>\n",
              "      <td>Aa</td>\n",
              "      <td>Aa</td>\n",
              "      <td>NaN</td>\n",
              "      <td>12</td>\n",
              "      <td>Aa is one of the more passive members of the P...</td>\n",
              "      <td>NaN</td>\n",
              "      <td>80</td>\n",
              "      <td>50</td>\n",
              "      <td>55</td>\n",
              "      <td>45</td>\n",
              "      <td>...</td>\n",
              "      <td>0.0</td>\n",
              "      <td>0.0</td>\n",
              "      <td>0.0</td>\n",
              "      <td>0.0</td>\n",
              "      <td>0.0</td>\n",
              "      <td>0.0</td>\n",
              "      <td>0.0</td>\n",
              "      <td>0.0</td>\n",
              "      <td>0.0</td>\n",
              "      <td>0.0</td>\n",
              "    </tr>\n",
              "    <tr>\n",
              "      <th>4</th>\n",
              "      <td>Aaron Cash</td>\n",
              "      <td>Aaron Cash</td>\n",
              "      <td>Aaron Cash</td>\n",
              "      <td>5</td>\n",
              "      <td>Aaron Cash is the head of security at Arkham A...</td>\n",
              "      <td>NaN</td>\n",
              "      <td>80</td>\n",
              "      <td>10</td>\n",
              "      <td>25</td>\n",
              "      <td>40</td>\n",
              "      <td>...</td>\n",
              "      <td>0.0</td>\n",
              "      <td>0.0</td>\n",
              "      <td>1.0</td>\n",
              "      <td>0.0</td>\n",
              "      <td>0.0</td>\n",
              "      <td>0.0</td>\n",
              "      <td>0.0</td>\n",
              "      <td>0.0</td>\n",
              "      <td>0.0</td>\n",
              "      <td>0.0</td>\n",
              "    </tr>\n",
              "  </tbody>\n",
              "</table>\n",
              "<p>5 rows × 81 columns</p>\n",
              "</div>\n",
              "      <button class=\"colab-df-convert\" onclick=\"convertToInteractive('df-7f25dbbd-e6c8-4546-a393-3536186d9273')\"\n",
              "              title=\"Convert this dataframe to an interactive table.\"\n",
              "              style=\"display:none;\">\n",
              "        \n",
              "  <svg xmlns=\"http://www.w3.org/2000/svg\" height=\"24px\"viewBox=\"0 0 24 24\"\n",
              "       width=\"24px\">\n",
              "    <path d=\"M0 0h24v24H0V0z\" fill=\"none\"/>\n",
              "    <path d=\"M18.56 5.44l.94 2.06.94-2.06 2.06-.94-2.06-.94-.94-2.06-.94 2.06-2.06.94zm-11 1L8.5 8.5l.94-2.06 2.06-.94-2.06-.94L8.5 2.5l-.94 2.06-2.06.94zm10 10l.94 2.06.94-2.06 2.06-.94-2.06-.94-.94-2.06-.94 2.06-2.06.94z\"/><path d=\"M17.41 7.96l-1.37-1.37c-.4-.4-.92-.59-1.43-.59-.52 0-1.04.2-1.43.59L10.3 9.45l-7.72 7.72c-.78.78-.78 2.05 0 2.83L4 21.41c.39.39.9.59 1.41.59.51 0 1.02-.2 1.41-.59l7.78-7.78 2.81-2.81c.8-.78.8-2.07 0-2.86zM5.41 20L4 18.59l7.72-7.72 1.47 1.35L5.41 20z\"/>\n",
              "  </svg>\n",
              "      </button>\n",
              "      \n",
              "  <style>\n",
              "    .colab-df-container {\n",
              "      display:flex;\n",
              "      flex-wrap:wrap;\n",
              "      gap: 12px;\n",
              "    }\n",
              "\n",
              "    .colab-df-convert {\n",
              "      background-color: #E8F0FE;\n",
              "      border: none;\n",
              "      border-radius: 50%;\n",
              "      cursor: pointer;\n",
              "      display: none;\n",
              "      fill: #1967D2;\n",
              "      height: 32px;\n",
              "      padding: 0 0 0 0;\n",
              "      width: 32px;\n",
              "    }\n",
              "\n",
              "    .colab-df-convert:hover {\n",
              "      background-color: #E2EBFA;\n",
              "      box-shadow: 0px 1px 2px rgba(60, 64, 67, 0.3), 0px 1px 3px 1px rgba(60, 64, 67, 0.15);\n",
              "      fill: #174EA6;\n",
              "    }\n",
              "\n",
              "    [theme=dark] .colab-df-convert {\n",
              "      background-color: #3B4455;\n",
              "      fill: #D2E3FC;\n",
              "    }\n",
              "\n",
              "    [theme=dark] .colab-df-convert:hover {\n",
              "      background-color: #434B5C;\n",
              "      box-shadow: 0px 1px 3px 1px rgba(0, 0, 0, 0.15);\n",
              "      filter: drop-shadow(0px 1px 2px rgba(0, 0, 0, 0.3));\n",
              "      fill: #FFFFFF;\n",
              "    }\n",
              "  </style>\n",
              "\n",
              "      <script>\n",
              "        const buttonEl =\n",
              "          document.querySelector('#df-7f25dbbd-e6c8-4546-a393-3536186d9273 button.colab-df-convert');\n",
              "        buttonEl.style.display =\n",
              "          google.colab.kernel.accessAllowed ? 'block' : 'none';\n",
              "\n",
              "        async function convertToInteractive(key) {\n",
              "          const element = document.querySelector('#df-7f25dbbd-e6c8-4546-a393-3536186d9273');\n",
              "          const dataTable =\n",
              "            await google.colab.kernel.invokeFunction('convertToInteractive',\n",
              "                                                     [key], {});\n",
              "          if (!dataTable) return;\n",
              "\n",
              "          const docLinkHtml = 'Like what you see? Visit the ' +\n",
              "            '<a target=\"_blank\" href=https://colab.research.google.com/notebooks/data_table.ipynb>data table notebook</a>'\n",
              "            + ' to learn more about interactive tables.';\n",
              "          element.innerHTML = '';\n",
              "          dataTable['output_type'] = 'display_data';\n",
              "          await google.colab.output.renderOutput(dataTable, element);\n",
              "          const docLink = document.createElement('div');\n",
              "          docLink.innerHTML = docLinkHtml;\n",
              "          element.appendChild(docLink);\n",
              "        }\n",
              "      </script>\n",
              "    </div>\n",
              "  </div>\n",
              "  "
            ]
          },
          "metadata": {},
          "execution_count": 4
        }
      ]
    },
    {
      "cell_type": "code",
      "source": [
        "heroesData.shape"
      ],
      "metadata": {
        "colab": {
          "base_uri": "https://localhost:8080/"
        },
        "id": "ingH9TNcRndJ",
        "outputId": "8f6d6f32-6ce9-40cc-c231-1f04d66a5659"
      },
      "execution_count": 5,
      "outputs": [
        {
          "output_type": "execute_result",
          "data": {
            "text/plain": [
              "(1450, 81)"
            ]
          },
          "metadata": {},
          "execution_count": 5
        }
      ]
    },
    {
      "cell_type": "code",
      "source": [
        "heroesData.describe()"
      ],
      "metadata": {
        "colab": {
          "base_uri": "https://localhost:8080/",
          "height": 393
        },
        "id": "e9nZ2SsWMT_M",
        "outputId": "3e96cfc8-d023-4d21-b66f-b1cff70a9b70"
      },
      "execution_count": 6,
      "outputs": [
        {
          "output_type": "execute_result",
          "data": {
            "text/plain": [
              "       intelligence_score  strength_score  speed_score  durability_score  \\\n",
              "count         1450.000000     1450.000000  1450.000000       1450.000000   \n",
              "mean            79.103448       39.458621    46.389655         56.193103   \n",
              "std             25.048393       34.385566    29.205902         31.647711   \n",
              "min              0.000000        0.000000     0.000000          0.000000   \n",
              "25%             75.000000       10.000000    25.000000         30.000000   \n",
              "50%             85.000000       30.000000    40.000000         55.000000   \n",
              "75%             95.000000       65.000000    65.000000         85.000000   \n",
              "max            100.000000      100.000000   100.000000        100.000000   \n",
              "\n",
              "       power_score  combat_score  has_electrokinesis  has_energy_constructs  \\\n",
              "count  1450.000000   1450.000000         1383.000000            1383.000000   \n",
              "mean     66.913793     68.175862            0.090383               0.076645   \n",
              "std      33.225127     29.540420            0.286834               0.266124   \n",
              "min       0.000000      0.000000            0.000000               0.000000   \n",
              "25%      40.000000     55.000000            0.000000               0.000000   \n",
              "50%      72.500000     75.000000            0.000000               0.000000   \n",
              "75%     100.000000     90.000000            0.000000               0.000000   \n",
              "max     100.000000    100.000000            1.000000               1.000000   \n",
              "\n",
              "       has_mind_control_resistance  has_matter_manipulation  ...   has_flight  \\\n",
              "count                  1383.000000              1383.000000  ...  1383.000000   \n",
              "mean                      0.075922                 0.050615  ...     0.266811   \n",
              "std                       0.264969                 0.219289  ...     0.442453   \n",
              "min                       0.000000                 0.000000  ...     0.000000   \n",
              "25%                       0.000000                 0.000000  ...     0.000000   \n",
              "50%                       0.000000                 0.000000  ...     0.000000   \n",
              "75%                       0.000000                 0.000000  ...     1.000000   \n",
              "max                       1.000000                 1.000000  ...     1.000000   \n",
              "\n",
              "       has_accelerated_healing  has_weapons_master  has_intelligence  \\\n",
              "count              1383.000000         1383.000000       1383.000000   \n",
              "mean                  0.308026            0.409978          0.433116   \n",
              "std                   0.461844            0.492007          0.495686   \n",
              "min                   0.000000            0.000000          0.000000   \n",
              "25%                   0.000000            0.000000          0.000000   \n",
              "50%                   0.000000            0.000000          0.000000   \n",
              "75%                   1.000000            1.000000          1.000000   \n",
              "max                   1.000000            1.000000          1.000000   \n",
              "\n",
              "       has_reflexes  has_super_speed  has_durability  has_stamina  \\\n",
              "count   1383.000000      1383.000000     1383.000000  1383.000000   \n",
              "mean       0.428778         0.386840        0.511931     0.532899   \n",
              "std        0.495080         0.487203        0.500038     0.499097   \n",
              "min        0.000000         0.000000        0.000000     0.000000   \n",
              "25%        0.000000         0.000000        0.000000     0.000000   \n",
              "50%        0.000000         0.000000        1.000000     1.000000   \n",
              "75%        1.000000         1.000000        1.000000     1.000000   \n",
              "max        1.000000         1.000000        1.000000     1.000000   \n",
              "\n",
              "       has_agility  has_super_strength  \n",
              "count  1383.000000         1383.000000  \n",
              "mean      0.562545            0.528561  \n",
              "std       0.496252            0.499364  \n",
              "min       0.000000            0.000000  \n",
              "25%       0.000000            0.000000  \n",
              "50%       1.000000            1.000000  \n",
              "75%       1.000000            1.000000  \n",
              "max       1.000000            1.000000  \n",
              "\n",
              "[8 rows x 56 columns]"
            ],
            "text/html": [
              "\n",
              "  <div id=\"df-b1534dd1-5831-48e7-9fa6-793705231b6c\">\n",
              "    <div class=\"colab-df-container\">\n",
              "      <div>\n",
              "<style scoped>\n",
              "    .dataframe tbody tr th:only-of-type {\n",
              "        vertical-align: middle;\n",
              "    }\n",
              "\n",
              "    .dataframe tbody tr th {\n",
              "        vertical-align: top;\n",
              "    }\n",
              "\n",
              "    .dataframe thead th {\n",
              "        text-align: right;\n",
              "    }\n",
              "</style>\n",
              "<table border=\"1\" class=\"dataframe\">\n",
              "  <thead>\n",
              "    <tr style=\"text-align: right;\">\n",
              "      <th></th>\n",
              "      <th>intelligence_score</th>\n",
              "      <th>strength_score</th>\n",
              "      <th>speed_score</th>\n",
              "      <th>durability_score</th>\n",
              "      <th>power_score</th>\n",
              "      <th>combat_score</th>\n",
              "      <th>has_electrokinesis</th>\n",
              "      <th>has_energy_constructs</th>\n",
              "      <th>has_mind_control_resistance</th>\n",
              "      <th>has_matter_manipulation</th>\n",
              "      <th>...</th>\n",
              "      <th>has_flight</th>\n",
              "      <th>has_accelerated_healing</th>\n",
              "      <th>has_weapons_master</th>\n",
              "      <th>has_intelligence</th>\n",
              "      <th>has_reflexes</th>\n",
              "      <th>has_super_speed</th>\n",
              "      <th>has_durability</th>\n",
              "      <th>has_stamina</th>\n",
              "      <th>has_agility</th>\n",
              "      <th>has_super_strength</th>\n",
              "    </tr>\n",
              "  </thead>\n",
              "  <tbody>\n",
              "    <tr>\n",
              "      <th>count</th>\n",
              "      <td>1450.000000</td>\n",
              "      <td>1450.000000</td>\n",
              "      <td>1450.000000</td>\n",
              "      <td>1450.000000</td>\n",
              "      <td>1450.000000</td>\n",
              "      <td>1450.000000</td>\n",
              "      <td>1383.000000</td>\n",
              "      <td>1383.000000</td>\n",
              "      <td>1383.000000</td>\n",
              "      <td>1383.000000</td>\n",
              "      <td>...</td>\n",
              "      <td>1383.000000</td>\n",
              "      <td>1383.000000</td>\n",
              "      <td>1383.000000</td>\n",
              "      <td>1383.000000</td>\n",
              "      <td>1383.000000</td>\n",
              "      <td>1383.000000</td>\n",
              "      <td>1383.000000</td>\n",
              "      <td>1383.000000</td>\n",
              "      <td>1383.000000</td>\n",
              "      <td>1383.000000</td>\n",
              "    </tr>\n",
              "    <tr>\n",
              "      <th>mean</th>\n",
              "      <td>79.103448</td>\n",
              "      <td>39.458621</td>\n",
              "      <td>46.389655</td>\n",
              "      <td>56.193103</td>\n",
              "      <td>66.913793</td>\n",
              "      <td>68.175862</td>\n",
              "      <td>0.090383</td>\n",
              "      <td>0.076645</td>\n",
              "      <td>0.075922</td>\n",
              "      <td>0.050615</td>\n",
              "      <td>...</td>\n",
              "      <td>0.266811</td>\n",
              "      <td>0.308026</td>\n",
              "      <td>0.409978</td>\n",
              "      <td>0.433116</td>\n",
              "      <td>0.428778</td>\n",
              "      <td>0.386840</td>\n",
              "      <td>0.511931</td>\n",
              "      <td>0.532899</td>\n",
              "      <td>0.562545</td>\n",
              "      <td>0.528561</td>\n",
              "    </tr>\n",
              "    <tr>\n",
              "      <th>std</th>\n",
              "      <td>25.048393</td>\n",
              "      <td>34.385566</td>\n",
              "      <td>29.205902</td>\n",
              "      <td>31.647711</td>\n",
              "      <td>33.225127</td>\n",
              "      <td>29.540420</td>\n",
              "      <td>0.286834</td>\n",
              "      <td>0.266124</td>\n",
              "      <td>0.264969</td>\n",
              "      <td>0.219289</td>\n",
              "      <td>...</td>\n",
              "      <td>0.442453</td>\n",
              "      <td>0.461844</td>\n",
              "      <td>0.492007</td>\n",
              "      <td>0.495686</td>\n",
              "      <td>0.495080</td>\n",
              "      <td>0.487203</td>\n",
              "      <td>0.500038</td>\n",
              "      <td>0.499097</td>\n",
              "      <td>0.496252</td>\n",
              "      <td>0.499364</td>\n",
              "    </tr>\n",
              "    <tr>\n",
              "      <th>min</th>\n",
              "      <td>0.000000</td>\n",
              "      <td>0.000000</td>\n",
              "      <td>0.000000</td>\n",
              "      <td>0.000000</td>\n",
              "      <td>0.000000</td>\n",
              "      <td>0.000000</td>\n",
              "      <td>0.000000</td>\n",
              "      <td>0.000000</td>\n",
              "      <td>0.000000</td>\n",
              "      <td>0.000000</td>\n",
              "      <td>...</td>\n",
              "      <td>0.000000</td>\n",
              "      <td>0.000000</td>\n",
              "      <td>0.000000</td>\n",
              "      <td>0.000000</td>\n",
              "      <td>0.000000</td>\n",
              "      <td>0.000000</td>\n",
              "      <td>0.000000</td>\n",
              "      <td>0.000000</td>\n",
              "      <td>0.000000</td>\n",
              "      <td>0.000000</td>\n",
              "    </tr>\n",
              "    <tr>\n",
              "      <th>25%</th>\n",
              "      <td>75.000000</td>\n",
              "      <td>10.000000</td>\n",
              "      <td>25.000000</td>\n",
              "      <td>30.000000</td>\n",
              "      <td>40.000000</td>\n",
              "      <td>55.000000</td>\n",
              "      <td>0.000000</td>\n",
              "      <td>0.000000</td>\n",
              "      <td>0.000000</td>\n",
              "      <td>0.000000</td>\n",
              "      <td>...</td>\n",
              "      <td>0.000000</td>\n",
              "      <td>0.000000</td>\n",
              "      <td>0.000000</td>\n",
              "      <td>0.000000</td>\n",
              "      <td>0.000000</td>\n",
              "      <td>0.000000</td>\n",
              "      <td>0.000000</td>\n",
              "      <td>0.000000</td>\n",
              "      <td>0.000000</td>\n",
              "      <td>0.000000</td>\n",
              "    </tr>\n",
              "    <tr>\n",
              "      <th>50%</th>\n",
              "      <td>85.000000</td>\n",
              "      <td>30.000000</td>\n",
              "      <td>40.000000</td>\n",
              "      <td>55.000000</td>\n",
              "      <td>72.500000</td>\n",
              "      <td>75.000000</td>\n",
              "      <td>0.000000</td>\n",
              "      <td>0.000000</td>\n",
              "      <td>0.000000</td>\n",
              "      <td>0.000000</td>\n",
              "      <td>...</td>\n",
              "      <td>0.000000</td>\n",
              "      <td>0.000000</td>\n",
              "      <td>0.000000</td>\n",
              "      <td>0.000000</td>\n",
              "      <td>0.000000</td>\n",
              "      <td>0.000000</td>\n",
              "      <td>1.000000</td>\n",
              "      <td>1.000000</td>\n",
              "      <td>1.000000</td>\n",
              "      <td>1.000000</td>\n",
              "    </tr>\n",
              "    <tr>\n",
              "      <th>75%</th>\n",
              "      <td>95.000000</td>\n",
              "      <td>65.000000</td>\n",
              "      <td>65.000000</td>\n",
              "      <td>85.000000</td>\n",
              "      <td>100.000000</td>\n",
              "      <td>90.000000</td>\n",
              "      <td>0.000000</td>\n",
              "      <td>0.000000</td>\n",
              "      <td>0.000000</td>\n",
              "      <td>0.000000</td>\n",
              "      <td>...</td>\n",
              "      <td>1.000000</td>\n",
              "      <td>1.000000</td>\n",
              "      <td>1.000000</td>\n",
              "      <td>1.000000</td>\n",
              "      <td>1.000000</td>\n",
              "      <td>1.000000</td>\n",
              "      <td>1.000000</td>\n",
              "      <td>1.000000</td>\n",
              "      <td>1.000000</td>\n",
              "      <td>1.000000</td>\n",
              "    </tr>\n",
              "    <tr>\n",
              "      <th>max</th>\n",
              "      <td>100.000000</td>\n",
              "      <td>100.000000</td>\n",
              "      <td>100.000000</td>\n",
              "      <td>100.000000</td>\n",
              "      <td>100.000000</td>\n",
              "      <td>100.000000</td>\n",
              "      <td>1.000000</td>\n",
              "      <td>1.000000</td>\n",
              "      <td>1.000000</td>\n",
              "      <td>1.000000</td>\n",
              "      <td>...</td>\n",
              "      <td>1.000000</td>\n",
              "      <td>1.000000</td>\n",
              "      <td>1.000000</td>\n",
              "      <td>1.000000</td>\n",
              "      <td>1.000000</td>\n",
              "      <td>1.000000</td>\n",
              "      <td>1.000000</td>\n",
              "      <td>1.000000</td>\n",
              "      <td>1.000000</td>\n",
              "      <td>1.000000</td>\n",
              "    </tr>\n",
              "  </tbody>\n",
              "</table>\n",
              "<p>8 rows × 56 columns</p>\n",
              "</div>\n",
              "      <button class=\"colab-df-convert\" onclick=\"convertToInteractive('df-b1534dd1-5831-48e7-9fa6-793705231b6c')\"\n",
              "              title=\"Convert this dataframe to an interactive table.\"\n",
              "              style=\"display:none;\">\n",
              "        \n",
              "  <svg xmlns=\"http://www.w3.org/2000/svg\" height=\"24px\"viewBox=\"0 0 24 24\"\n",
              "       width=\"24px\">\n",
              "    <path d=\"M0 0h24v24H0V0z\" fill=\"none\"/>\n",
              "    <path d=\"M18.56 5.44l.94 2.06.94-2.06 2.06-.94-2.06-.94-.94-2.06-.94 2.06-2.06.94zm-11 1L8.5 8.5l.94-2.06 2.06-.94-2.06-.94L8.5 2.5l-.94 2.06-2.06.94zm10 10l.94 2.06.94-2.06 2.06-.94-2.06-.94-.94-2.06-.94 2.06-2.06.94z\"/><path d=\"M17.41 7.96l-1.37-1.37c-.4-.4-.92-.59-1.43-.59-.52 0-1.04.2-1.43.59L10.3 9.45l-7.72 7.72c-.78.78-.78 2.05 0 2.83L4 21.41c.39.39.9.59 1.41.59.51 0 1.02-.2 1.41-.59l7.78-7.78 2.81-2.81c.8-.78.8-2.07 0-2.86zM5.41 20L4 18.59l7.72-7.72 1.47 1.35L5.41 20z\"/>\n",
              "  </svg>\n",
              "      </button>\n",
              "      \n",
              "  <style>\n",
              "    .colab-df-container {\n",
              "      display:flex;\n",
              "      flex-wrap:wrap;\n",
              "      gap: 12px;\n",
              "    }\n",
              "\n",
              "    .colab-df-convert {\n",
              "      background-color: #E8F0FE;\n",
              "      border: none;\n",
              "      border-radius: 50%;\n",
              "      cursor: pointer;\n",
              "      display: none;\n",
              "      fill: #1967D2;\n",
              "      height: 32px;\n",
              "      padding: 0 0 0 0;\n",
              "      width: 32px;\n",
              "    }\n",
              "\n",
              "    .colab-df-convert:hover {\n",
              "      background-color: #E2EBFA;\n",
              "      box-shadow: 0px 1px 2px rgba(60, 64, 67, 0.3), 0px 1px 3px 1px rgba(60, 64, 67, 0.15);\n",
              "      fill: #174EA6;\n",
              "    }\n",
              "\n",
              "    [theme=dark] .colab-df-convert {\n",
              "      background-color: #3B4455;\n",
              "      fill: #D2E3FC;\n",
              "    }\n",
              "\n",
              "    [theme=dark] .colab-df-convert:hover {\n",
              "      background-color: #434B5C;\n",
              "      box-shadow: 0px 1px 3px 1px rgba(0, 0, 0, 0.15);\n",
              "      filter: drop-shadow(0px 1px 2px rgba(0, 0, 0, 0.3));\n",
              "      fill: #FFFFFF;\n",
              "    }\n",
              "  </style>\n",
              "\n",
              "      <script>\n",
              "        const buttonEl =\n",
              "          document.querySelector('#df-b1534dd1-5831-48e7-9fa6-793705231b6c button.colab-df-convert');\n",
              "        buttonEl.style.display =\n",
              "          google.colab.kernel.accessAllowed ? 'block' : 'none';\n",
              "\n",
              "        async function convertToInteractive(key) {\n",
              "          const element = document.querySelector('#df-b1534dd1-5831-48e7-9fa6-793705231b6c');\n",
              "          const dataTable =\n",
              "            await google.colab.kernel.invokeFunction('convertToInteractive',\n",
              "                                                     [key], {});\n",
              "          if (!dataTable) return;\n",
              "\n",
              "          const docLinkHtml = 'Like what you see? Visit the ' +\n",
              "            '<a target=\"_blank\" href=https://colab.research.google.com/notebooks/data_table.ipynb>data table notebook</a>'\n",
              "            + ' to learn more about interactive tables.';\n",
              "          element.innerHTML = '';\n",
              "          dataTable['output_type'] = 'display_data';\n",
              "          await google.colab.output.renderOutput(dataTable, element);\n",
              "          const docLink = document.createElement('div');\n",
              "          docLink.innerHTML = docLinkHtml;\n",
              "          element.appendChild(docLink);\n",
              "        }\n",
              "      </script>\n",
              "    </div>\n",
              "  </div>\n",
              "  "
            ]
          },
          "metadata": {},
          "execution_count": 6
        }
      ]
    },
    {
      "cell_type": "code",
      "source": [
        "heroesData.count()"
      ],
      "metadata": {
        "colab": {
          "base_uri": "https://localhost:8080/"
        },
        "id": "0uEQoC98MYDr",
        "outputId": "6ed40be7-7298-480d-80ba-89aec3967d1d"
      },
      "execution_count": 7,
      "outputs": [
        {
          "output_type": "execute_result",
          "data": {
            "text/plain": [
              "name                  1448\n",
              "real_name             1301\n",
              "full_name              956\n",
              "overall_score         1450\n",
              "history_text          1360\n",
              "                      ... \n",
              "has_super_speed       1383\n",
              "has_durability        1383\n",
              "has_stamina           1383\n",
              "has_agility           1383\n",
              "has_super_strength    1383\n",
              "Length: 81, dtype: int64"
            ]
          },
          "metadata": {},
          "execution_count": 7
        }
      ]
    },
    {
      "cell_type": "code",
      "source": [
        "heroesData.dtypes"
      ],
      "metadata": {
        "colab": {
          "base_uri": "https://localhost:8080/"
        },
        "id": "ixieWTOW7p-w",
        "outputId": "533de127-2e9f-4cc5-f1ed-5e6ac3a98dba"
      },
      "execution_count": 8,
      "outputs": [
        {
          "output_type": "execute_result",
          "data": {
            "text/plain": [
              "name                   object\n",
              "real_name              object\n",
              "full_name              object\n",
              "overall_score          object\n",
              "history_text           object\n",
              "                       ...   \n",
              "has_super_speed       float64\n",
              "has_durability        float64\n",
              "has_stamina           float64\n",
              "has_agility           float64\n",
              "has_super_strength    float64\n",
              "Length: 81, dtype: object"
            ]
          },
          "metadata": {},
          "execution_count": 8
        }
      ]
    },
    {
      "cell_type": "markdown",
      "source": [
        "# **Cleaning dataset**\n",
        "\n",
        "Our first goal is to determine a Superhero's creator (Marvel/DC) based on only numerical statistics.\n",
        "\n",
        "We will clean the data by removing unneccesary columns (Eg. has_flight, has_electrokinesis, history_text, etc.), and keep only the relevant data."
      ],
      "metadata": {
        "id": "TzkYl8A8M2Ud"
      }
    },
    {
      "cell_type": "code",
      "source": [
        "# new dataframe with only relevant columns\n",
        "statsData = pd.DataFrame(heroesData[[\"overall_score\", \"intelligence_score\", \"strength_score\", \"speed_score\", \"durability_score\", \"power_score\", \"combat_score\", \"creator\"]])\n",
        "statsData.head()\n"
      ],
      "metadata": {
        "id": "gsbGAhIJNo9M",
        "colab": {
          "base_uri": "https://localhost:8080/",
          "height": 206
        },
        "outputId": "cf010741-4499-4ff0-fa2f-fd532634615d"
      },
      "execution_count": 9,
      "outputs": [
        {
          "output_type": "execute_result",
          "data": {
            "text/plain": [
              "  overall_score  intelligence_score  strength_score  speed_score  \\\n",
              "0             6                  85              30           60   \n",
              "1            10                 100              20           30   \n",
              "2            20                  80             100           80   \n",
              "3            12                  80              50           55   \n",
              "4             5                  80              10           25   \n",
              "\n",
              "   durability_score  power_score  combat_score        creator  \n",
              "0                60           40            70  Marvel Comics  \n",
              "1                50           35           100      DC Comics  \n",
              "2               100          100            80  Marvel Comics  \n",
              "3                45          100            55      DC Comics  \n",
              "4                40           30            50      DC Comics  "
            ],
            "text/html": [
              "\n",
              "  <div id=\"df-d7221761-a088-40d1-ad43-b3acdc6dd862\">\n",
              "    <div class=\"colab-df-container\">\n",
              "      <div>\n",
              "<style scoped>\n",
              "    .dataframe tbody tr th:only-of-type {\n",
              "        vertical-align: middle;\n",
              "    }\n",
              "\n",
              "    .dataframe tbody tr th {\n",
              "        vertical-align: top;\n",
              "    }\n",
              "\n",
              "    .dataframe thead th {\n",
              "        text-align: right;\n",
              "    }\n",
              "</style>\n",
              "<table border=\"1\" class=\"dataframe\">\n",
              "  <thead>\n",
              "    <tr style=\"text-align: right;\">\n",
              "      <th></th>\n",
              "      <th>overall_score</th>\n",
              "      <th>intelligence_score</th>\n",
              "      <th>strength_score</th>\n",
              "      <th>speed_score</th>\n",
              "      <th>durability_score</th>\n",
              "      <th>power_score</th>\n",
              "      <th>combat_score</th>\n",
              "      <th>creator</th>\n",
              "    </tr>\n",
              "  </thead>\n",
              "  <tbody>\n",
              "    <tr>\n",
              "      <th>0</th>\n",
              "      <td>6</td>\n",
              "      <td>85</td>\n",
              "      <td>30</td>\n",
              "      <td>60</td>\n",
              "      <td>60</td>\n",
              "      <td>40</td>\n",
              "      <td>70</td>\n",
              "      <td>Marvel Comics</td>\n",
              "    </tr>\n",
              "    <tr>\n",
              "      <th>1</th>\n",
              "      <td>10</td>\n",
              "      <td>100</td>\n",
              "      <td>20</td>\n",
              "      <td>30</td>\n",
              "      <td>50</td>\n",
              "      <td>35</td>\n",
              "      <td>100</td>\n",
              "      <td>DC Comics</td>\n",
              "    </tr>\n",
              "    <tr>\n",
              "      <th>2</th>\n",
              "      <td>20</td>\n",
              "      <td>80</td>\n",
              "      <td>100</td>\n",
              "      <td>80</td>\n",
              "      <td>100</td>\n",
              "      <td>100</td>\n",
              "      <td>80</td>\n",
              "      <td>Marvel Comics</td>\n",
              "    </tr>\n",
              "    <tr>\n",
              "      <th>3</th>\n",
              "      <td>12</td>\n",
              "      <td>80</td>\n",
              "      <td>50</td>\n",
              "      <td>55</td>\n",
              "      <td>45</td>\n",
              "      <td>100</td>\n",
              "      <td>55</td>\n",
              "      <td>DC Comics</td>\n",
              "    </tr>\n",
              "    <tr>\n",
              "      <th>4</th>\n",
              "      <td>5</td>\n",
              "      <td>80</td>\n",
              "      <td>10</td>\n",
              "      <td>25</td>\n",
              "      <td>40</td>\n",
              "      <td>30</td>\n",
              "      <td>50</td>\n",
              "      <td>DC Comics</td>\n",
              "    </tr>\n",
              "  </tbody>\n",
              "</table>\n",
              "</div>\n",
              "      <button class=\"colab-df-convert\" onclick=\"convertToInteractive('df-d7221761-a088-40d1-ad43-b3acdc6dd862')\"\n",
              "              title=\"Convert this dataframe to an interactive table.\"\n",
              "              style=\"display:none;\">\n",
              "        \n",
              "  <svg xmlns=\"http://www.w3.org/2000/svg\" height=\"24px\"viewBox=\"0 0 24 24\"\n",
              "       width=\"24px\">\n",
              "    <path d=\"M0 0h24v24H0V0z\" fill=\"none\"/>\n",
              "    <path d=\"M18.56 5.44l.94 2.06.94-2.06 2.06-.94-2.06-.94-.94-2.06-.94 2.06-2.06.94zm-11 1L8.5 8.5l.94-2.06 2.06-.94-2.06-.94L8.5 2.5l-.94 2.06-2.06.94zm10 10l.94 2.06.94-2.06 2.06-.94-2.06-.94-.94-2.06-.94 2.06-2.06.94z\"/><path d=\"M17.41 7.96l-1.37-1.37c-.4-.4-.92-.59-1.43-.59-.52 0-1.04.2-1.43.59L10.3 9.45l-7.72 7.72c-.78.78-.78 2.05 0 2.83L4 21.41c.39.39.9.59 1.41.59.51 0 1.02-.2 1.41-.59l7.78-7.78 2.81-2.81c.8-.78.8-2.07 0-2.86zM5.41 20L4 18.59l7.72-7.72 1.47 1.35L5.41 20z\"/>\n",
              "  </svg>\n",
              "      </button>\n",
              "      \n",
              "  <style>\n",
              "    .colab-df-container {\n",
              "      display:flex;\n",
              "      flex-wrap:wrap;\n",
              "      gap: 12px;\n",
              "    }\n",
              "\n",
              "    .colab-df-convert {\n",
              "      background-color: #E8F0FE;\n",
              "      border: none;\n",
              "      border-radius: 50%;\n",
              "      cursor: pointer;\n",
              "      display: none;\n",
              "      fill: #1967D2;\n",
              "      height: 32px;\n",
              "      padding: 0 0 0 0;\n",
              "      width: 32px;\n",
              "    }\n",
              "\n",
              "    .colab-df-convert:hover {\n",
              "      background-color: #E2EBFA;\n",
              "      box-shadow: 0px 1px 2px rgba(60, 64, 67, 0.3), 0px 1px 3px 1px rgba(60, 64, 67, 0.15);\n",
              "      fill: #174EA6;\n",
              "    }\n",
              "\n",
              "    [theme=dark] .colab-df-convert {\n",
              "      background-color: #3B4455;\n",
              "      fill: #D2E3FC;\n",
              "    }\n",
              "\n",
              "    [theme=dark] .colab-df-convert:hover {\n",
              "      background-color: #434B5C;\n",
              "      box-shadow: 0px 1px 3px 1px rgba(0, 0, 0, 0.15);\n",
              "      filter: drop-shadow(0px 1px 2px rgba(0, 0, 0, 0.3));\n",
              "      fill: #FFFFFF;\n",
              "    }\n",
              "  </style>\n",
              "\n",
              "      <script>\n",
              "        const buttonEl =\n",
              "          document.querySelector('#df-d7221761-a088-40d1-ad43-b3acdc6dd862 button.colab-df-convert');\n",
              "        buttonEl.style.display =\n",
              "          google.colab.kernel.accessAllowed ? 'block' : 'none';\n",
              "\n",
              "        async function convertToInteractive(key) {\n",
              "          const element = document.querySelector('#df-d7221761-a088-40d1-ad43-b3acdc6dd862');\n",
              "          const dataTable =\n",
              "            await google.colab.kernel.invokeFunction('convertToInteractive',\n",
              "                                                     [key], {});\n",
              "          if (!dataTable) return;\n",
              "\n",
              "          const docLinkHtml = 'Like what you see? Visit the ' +\n",
              "            '<a target=\"_blank\" href=https://colab.research.google.com/notebooks/data_table.ipynb>data table notebook</a>'\n",
              "            + ' to learn more about interactive tables.';\n",
              "          element.innerHTML = '';\n",
              "          dataTable['output_type'] = 'display_data';\n",
              "          await google.colab.output.renderOutput(dataTable, element);\n",
              "          const docLink = document.createElement('div');\n",
              "          docLink.innerHTML = docLinkHtml;\n",
              "          element.appendChild(docLink);\n",
              "        }\n",
              "      </script>\n",
              "    </div>\n",
              "  </div>\n",
              "  "
            ]
          },
          "metadata": {},
          "execution_count": 9
        }
      ]
    },
    {
      "cell_type": "code",
      "source": [
        "statsData.info()"
      ],
      "metadata": {
        "id": "v79Xiz_rEGba",
        "colab": {
          "base_uri": "https://localhost:8080/"
        },
        "outputId": "119439c0-4d60-4f54-9530-9af7a5fb00b4"
      },
      "execution_count": 10,
      "outputs": [
        {
          "output_type": "stream",
          "name": "stdout",
          "text": [
            "<class 'pandas.core.frame.DataFrame'>\n",
            "RangeIndex: 1450 entries, 0 to 1449\n",
            "Data columns (total 8 columns):\n",
            " #   Column              Non-Null Count  Dtype \n",
            "---  ------              --------------  ----- \n",
            " 0   overall_score       1450 non-null   object\n",
            " 1   intelligence_score  1450 non-null   int64 \n",
            " 2   strength_score      1450 non-null   int64 \n",
            " 3   speed_score         1450 non-null   int64 \n",
            " 4   durability_score    1450 non-null   int64 \n",
            " 5   power_score         1450 non-null   int64 \n",
            " 6   combat_score        1450 non-null   int64 \n",
            " 7   creator             1311 non-null   object\n",
            "dtypes: int64(6), object(2)\n",
            "memory usage: 90.8+ KB\n"
          ]
        }
      ]
    },
    {
      "cell_type": "markdown",
      "source": [
        "It is weird that overall_score is showing Dtype of 'object' instead of int64/float. We fix this by converting overall_score using to_numeric and set errors to 'coerce' which means that if there is an error, the invalid entry will be set as NaN.\n"
      ],
      "metadata": {
        "id": "SIoa8SRbETgU"
      }
    },
    {
      "cell_type": "code",
      "source": [
        "# change data to numeric form, and data type to Int64\n",
        "statsData['overall_score'] = pd.to_numeric(statsData['overall_score'], errors='coerce')\n",
        "statsData['overall_score'] = statsData['overall_score'].astype('Int64')\n",
        "\n",
        "statsData.info()"
      ],
      "metadata": {
        "id": "q2alS8g-E0m_",
        "colab": {
          "base_uri": "https://localhost:8080/"
        },
        "outputId": "8251c05d-71d3-4d54-9582-31339ddc6dcb"
      },
      "execution_count": 11,
      "outputs": [
        {
          "output_type": "stream",
          "name": "stdout",
          "text": [
            "<class 'pandas.core.frame.DataFrame'>\n",
            "RangeIndex: 1450 entries, 0 to 1449\n",
            "Data columns (total 8 columns):\n",
            " #   Column              Non-Null Count  Dtype \n",
            "---  ------              --------------  ----- \n",
            " 0   overall_score       1325 non-null   Int64 \n",
            " 1   intelligence_score  1450 non-null   int64 \n",
            " 2   strength_score      1450 non-null   int64 \n",
            " 3   speed_score         1450 non-null   int64 \n",
            " 4   durability_score    1450 non-null   int64 \n",
            " 5   power_score         1450 non-null   int64 \n",
            " 6   combat_score        1450 non-null   int64 \n",
            " 7   creator             1311 non-null   object\n",
            "dtypes: Int64(1), int64(6), object(1)\n",
            "memory usage: 92.2+ KB\n"
          ]
        }
      ]
    },
    {
      "cell_type": "markdown",
      "source": [
        "Now that 'overall_score' has been set to integer, but there is still another problem. There are a total of 1450 entries. However for the column 'overall_score', there are only 1325 non-null values which means there are 125 NaN values that needs to be cleaned. \n",
        "\n",
        "Also, there seems to be 139 null values under 'creator' which needs to be cleaned as well."
      ],
      "metadata": {
        "id": "nl0KIOU2GTyI"
      }
    },
    {
      "cell_type": "code",
      "source": [
        "# remove rows with NaN values\n",
        "statsData = statsData.dropna()\n",
        "statsData"
      ],
      "metadata": {
        "id": "H-DSNLRjIVI-",
        "colab": {
          "base_uri": "https://localhost:8080/",
          "height": 423
        },
        "outputId": "2c81c61c-863d-4504-aa59-afb1d59bf723"
      },
      "execution_count": 12,
      "outputs": [
        {
          "output_type": "execute_result",
          "data": {
            "text/plain": [
              "      overall_score  intelligence_score  strength_score  speed_score  \\\n",
              "0                 6                  85              30           60   \n",
              "1                10                 100              20           30   \n",
              "2                20                  80             100           80   \n",
              "3                12                  80              50           55   \n",
              "4                 5                  80              10           25   \n",
              "...             ...                 ...             ...          ...   \n",
              "1445             10                  90              10           25   \n",
              "1446             18                  80             100          100   \n",
              "1447             20                  95              50          100   \n",
              "1448              9                  75              10          100   \n",
              "1449              5                  45              80           75   \n",
              "\n",
              "      durability_score  power_score  combat_score        creator  \n",
              "0                   60           40            70  Marvel Comics  \n",
              "1                   50           35           100      DC Comics  \n",
              "2                  100          100            80  Marvel Comics  \n",
              "3                   45          100            55      DC Comics  \n",
              "4                   40           30            50      DC Comics  \n",
              "...                ...          ...           ...            ...  \n",
              "1445                30          100            55      DC Comics  \n",
              "1446               100          100            80         Capcom  \n",
              "1447                75          100            80      DC Comics  \n",
              "1448                30          100            30      DC Comics  \n",
              "1449                95           80            50  Marvel Comics  \n",
              "\n",
              "[1194 rows x 8 columns]"
            ],
            "text/html": [
              "\n",
              "  <div id=\"df-1f63a870-9117-4518-8b7a-5562cbf9b6b8\">\n",
              "    <div class=\"colab-df-container\">\n",
              "      <div>\n",
              "<style scoped>\n",
              "    .dataframe tbody tr th:only-of-type {\n",
              "        vertical-align: middle;\n",
              "    }\n",
              "\n",
              "    .dataframe tbody tr th {\n",
              "        vertical-align: top;\n",
              "    }\n",
              "\n",
              "    .dataframe thead th {\n",
              "        text-align: right;\n",
              "    }\n",
              "</style>\n",
              "<table border=\"1\" class=\"dataframe\">\n",
              "  <thead>\n",
              "    <tr style=\"text-align: right;\">\n",
              "      <th></th>\n",
              "      <th>overall_score</th>\n",
              "      <th>intelligence_score</th>\n",
              "      <th>strength_score</th>\n",
              "      <th>speed_score</th>\n",
              "      <th>durability_score</th>\n",
              "      <th>power_score</th>\n",
              "      <th>combat_score</th>\n",
              "      <th>creator</th>\n",
              "    </tr>\n",
              "  </thead>\n",
              "  <tbody>\n",
              "    <tr>\n",
              "      <th>0</th>\n",
              "      <td>6</td>\n",
              "      <td>85</td>\n",
              "      <td>30</td>\n",
              "      <td>60</td>\n",
              "      <td>60</td>\n",
              "      <td>40</td>\n",
              "      <td>70</td>\n",
              "      <td>Marvel Comics</td>\n",
              "    </tr>\n",
              "    <tr>\n",
              "      <th>1</th>\n",
              "      <td>10</td>\n",
              "      <td>100</td>\n",
              "      <td>20</td>\n",
              "      <td>30</td>\n",
              "      <td>50</td>\n",
              "      <td>35</td>\n",
              "      <td>100</td>\n",
              "      <td>DC Comics</td>\n",
              "    </tr>\n",
              "    <tr>\n",
              "      <th>2</th>\n",
              "      <td>20</td>\n",
              "      <td>80</td>\n",
              "      <td>100</td>\n",
              "      <td>80</td>\n",
              "      <td>100</td>\n",
              "      <td>100</td>\n",
              "      <td>80</td>\n",
              "      <td>Marvel Comics</td>\n",
              "    </tr>\n",
              "    <tr>\n",
              "      <th>3</th>\n",
              "      <td>12</td>\n",
              "      <td>80</td>\n",
              "      <td>50</td>\n",
              "      <td>55</td>\n",
              "      <td>45</td>\n",
              "      <td>100</td>\n",
              "      <td>55</td>\n",
              "      <td>DC Comics</td>\n",
              "    </tr>\n",
              "    <tr>\n",
              "      <th>4</th>\n",
              "      <td>5</td>\n",
              "      <td>80</td>\n",
              "      <td>10</td>\n",
              "      <td>25</td>\n",
              "      <td>40</td>\n",
              "      <td>30</td>\n",
              "      <td>50</td>\n",
              "      <td>DC Comics</td>\n",
              "    </tr>\n",
              "    <tr>\n",
              "      <th>...</th>\n",
              "      <td>...</td>\n",
              "      <td>...</td>\n",
              "      <td>...</td>\n",
              "      <td>...</td>\n",
              "      <td>...</td>\n",
              "      <td>...</td>\n",
              "      <td>...</td>\n",
              "      <td>...</td>\n",
              "    </tr>\n",
              "    <tr>\n",
              "      <th>1445</th>\n",
              "      <td>10</td>\n",
              "      <td>90</td>\n",
              "      <td>10</td>\n",
              "      <td>25</td>\n",
              "      <td>30</td>\n",
              "      <td>100</td>\n",
              "      <td>55</td>\n",
              "      <td>DC Comics</td>\n",
              "    </tr>\n",
              "    <tr>\n",
              "      <th>1446</th>\n",
              "      <td>18</td>\n",
              "      <td>80</td>\n",
              "      <td>100</td>\n",
              "      <td>100</td>\n",
              "      <td>100</td>\n",
              "      <td>100</td>\n",
              "      <td>80</td>\n",
              "      <td>Capcom</td>\n",
              "    </tr>\n",
              "    <tr>\n",
              "      <th>1447</th>\n",
              "      <td>20</td>\n",
              "      <td>95</td>\n",
              "      <td>50</td>\n",
              "      <td>100</td>\n",
              "      <td>75</td>\n",
              "      <td>100</td>\n",
              "      <td>80</td>\n",
              "      <td>DC Comics</td>\n",
              "    </tr>\n",
              "    <tr>\n",
              "      <th>1448</th>\n",
              "      <td>9</td>\n",
              "      <td>75</td>\n",
              "      <td>10</td>\n",
              "      <td>100</td>\n",
              "      <td>30</td>\n",
              "      <td>100</td>\n",
              "      <td>30</td>\n",
              "      <td>DC Comics</td>\n",
              "    </tr>\n",
              "    <tr>\n",
              "      <th>1449</th>\n",
              "      <td>5</td>\n",
              "      <td>45</td>\n",
              "      <td>80</td>\n",
              "      <td>75</td>\n",
              "      <td>95</td>\n",
              "      <td>80</td>\n",
              "      <td>50</td>\n",
              "      <td>Marvel Comics</td>\n",
              "    </tr>\n",
              "  </tbody>\n",
              "</table>\n",
              "<p>1194 rows × 8 columns</p>\n",
              "</div>\n",
              "      <button class=\"colab-df-convert\" onclick=\"convertToInteractive('df-1f63a870-9117-4518-8b7a-5562cbf9b6b8')\"\n",
              "              title=\"Convert this dataframe to an interactive table.\"\n",
              "              style=\"display:none;\">\n",
              "        \n",
              "  <svg xmlns=\"http://www.w3.org/2000/svg\" height=\"24px\"viewBox=\"0 0 24 24\"\n",
              "       width=\"24px\">\n",
              "    <path d=\"M0 0h24v24H0V0z\" fill=\"none\"/>\n",
              "    <path d=\"M18.56 5.44l.94 2.06.94-2.06 2.06-.94-2.06-.94-.94-2.06-.94 2.06-2.06.94zm-11 1L8.5 8.5l.94-2.06 2.06-.94-2.06-.94L8.5 2.5l-.94 2.06-2.06.94zm10 10l.94 2.06.94-2.06 2.06-.94-2.06-.94-.94-2.06-.94 2.06-2.06.94z\"/><path d=\"M17.41 7.96l-1.37-1.37c-.4-.4-.92-.59-1.43-.59-.52 0-1.04.2-1.43.59L10.3 9.45l-7.72 7.72c-.78.78-.78 2.05 0 2.83L4 21.41c.39.39.9.59 1.41.59.51 0 1.02-.2 1.41-.59l7.78-7.78 2.81-2.81c.8-.78.8-2.07 0-2.86zM5.41 20L4 18.59l7.72-7.72 1.47 1.35L5.41 20z\"/>\n",
              "  </svg>\n",
              "      </button>\n",
              "      \n",
              "  <style>\n",
              "    .colab-df-container {\n",
              "      display:flex;\n",
              "      flex-wrap:wrap;\n",
              "      gap: 12px;\n",
              "    }\n",
              "\n",
              "    .colab-df-convert {\n",
              "      background-color: #E8F0FE;\n",
              "      border: none;\n",
              "      border-radius: 50%;\n",
              "      cursor: pointer;\n",
              "      display: none;\n",
              "      fill: #1967D2;\n",
              "      height: 32px;\n",
              "      padding: 0 0 0 0;\n",
              "      width: 32px;\n",
              "    }\n",
              "\n",
              "    .colab-df-convert:hover {\n",
              "      background-color: #E2EBFA;\n",
              "      box-shadow: 0px 1px 2px rgba(60, 64, 67, 0.3), 0px 1px 3px 1px rgba(60, 64, 67, 0.15);\n",
              "      fill: #174EA6;\n",
              "    }\n",
              "\n",
              "    [theme=dark] .colab-df-convert {\n",
              "      background-color: #3B4455;\n",
              "      fill: #D2E3FC;\n",
              "    }\n",
              "\n",
              "    [theme=dark] .colab-df-convert:hover {\n",
              "      background-color: #434B5C;\n",
              "      box-shadow: 0px 1px 3px 1px rgba(0, 0, 0, 0.15);\n",
              "      filter: drop-shadow(0px 1px 2px rgba(0, 0, 0, 0.3));\n",
              "      fill: #FFFFFF;\n",
              "    }\n",
              "  </style>\n",
              "\n",
              "      <script>\n",
              "        const buttonEl =\n",
              "          document.querySelector('#df-1f63a870-9117-4518-8b7a-5562cbf9b6b8 button.colab-df-convert');\n",
              "        buttonEl.style.display =\n",
              "          google.colab.kernel.accessAllowed ? 'block' : 'none';\n",
              "\n",
              "        async function convertToInteractive(key) {\n",
              "          const element = document.querySelector('#df-1f63a870-9117-4518-8b7a-5562cbf9b6b8');\n",
              "          const dataTable =\n",
              "            await google.colab.kernel.invokeFunction('convertToInteractive',\n",
              "                                                     [key], {});\n",
              "          if (!dataTable) return;\n",
              "\n",
              "          const docLinkHtml = 'Like what you see? Visit the ' +\n",
              "            '<a target=\"_blank\" href=https://colab.research.google.com/notebooks/data_table.ipynb>data table notebook</a>'\n",
              "            + ' to learn more about interactive tables.';\n",
              "          element.innerHTML = '';\n",
              "          dataTable['output_type'] = 'display_data';\n",
              "          await google.colab.output.renderOutput(dataTable, element);\n",
              "          const docLink = document.createElement('div');\n",
              "          docLink.innerHTML = docLinkHtml;\n",
              "          element.appendChild(docLink);\n",
              "        }\n",
              "      </script>\n",
              "    </div>\n",
              "  </div>\n",
              "  "
            ]
          },
          "metadata": {},
          "execution_count": 12
        }
      ]
    },
    {
      "cell_type": "code",
      "source": [
        "statsData.info()"
      ],
      "metadata": {
        "id": "yO_7hNjCIVG0",
        "colab": {
          "base_uri": "https://localhost:8080/"
        },
        "outputId": "794ae90a-8480-4ce6-c167-e617b6d3d810"
      },
      "execution_count": 13,
      "outputs": [
        {
          "output_type": "stream",
          "name": "stdout",
          "text": [
            "<class 'pandas.core.frame.DataFrame'>\n",
            "Int64Index: 1194 entries, 0 to 1449\n",
            "Data columns (total 8 columns):\n",
            " #   Column              Non-Null Count  Dtype \n",
            "---  ------              --------------  ----- \n",
            " 0   overall_score       1194 non-null   Int64 \n",
            " 1   intelligence_score  1194 non-null   int64 \n",
            " 2   strength_score      1194 non-null   int64 \n",
            " 3   speed_score         1194 non-null   int64 \n",
            " 4   durability_score    1194 non-null   int64 \n",
            " 5   power_score         1194 non-null   int64 \n",
            " 6   combat_score        1194 non-null   int64 \n",
            " 7   creator             1194 non-null   object\n",
            "dtypes: Int64(1), int64(6), object(1)\n",
            "memory usage: 85.1+ KB\n"
          ]
        }
      ]
    },
    {
      "cell_type": "markdown",
      "source": [
        "After dropping rows with NaN Values, there are now 1194 remaining rows of superheroes with valid numerical values and creator."
      ],
      "metadata": {
        "id": "fXf6YUEDJV1m"
      }
    },
    {
      "cell_type": "markdown",
      "source": [
        "Moving on, since we are focusing on Marvel and DC creators only, we need to remove characters from other creators."
      ],
      "metadata": {
        "id": "xzfrgiGKq7Jd"
      }
    },
    {
      "cell_type": "code",
      "source": [
        "# set other creator values to NaN, then remove rows with NaN values\n",
        "statsData.loc[((statsData['creator'] != \"Marvel Comics\") & (statsData['creator'] != \"DC Comics\")),'creator'] = np.NaN\n",
        "statsData = statsData.dropna()\n",
        "statsData"
      ],
      "metadata": {
        "id": "ug4dFah9IUm4",
        "colab": {
          "base_uri": "https://localhost:8080/",
          "height": 534
        },
        "outputId": "470d5c3a-f771-4076-d60a-6963f1304b15"
      },
      "execution_count": 14,
      "outputs": [
        {
          "output_type": "stream",
          "name": "stderr",
          "text": [
            "/usr/local/lib/python3.7/dist-packages/pandas/core/indexing.py:1817: SettingWithCopyWarning: \n",
            "A value is trying to be set on a copy of a slice from a DataFrame.\n",
            "Try using .loc[row_indexer,col_indexer] = value instead\n",
            "\n",
            "See the caveats in the documentation: https://pandas.pydata.org/pandas-docs/stable/user_guide/indexing.html#returning-a-view-versus-a-copy\n",
            "  self._setitem_single_column(loc, value, pi)\n"
          ]
        },
        {
          "output_type": "execute_result",
          "data": {
            "text/plain": [
              "      overall_score  intelligence_score  strength_score  speed_score  \\\n",
              "0                 6                  85              30           60   \n",
              "1                10                 100              20           30   \n",
              "2                20                  80             100           80   \n",
              "3                12                  80              50           55   \n",
              "4                 5                  80              10           25   \n",
              "...             ...                 ...             ...          ...   \n",
              "1442              5                  80              10           50   \n",
              "1445             10                  90              10           25   \n",
              "1447             20                  95              50          100   \n",
              "1448              9                  75              10          100   \n",
              "1449              5                  45              80           75   \n",
              "\n",
              "      durability_score  power_score  combat_score        creator  \n",
              "0                   60           40            70  Marvel Comics  \n",
              "1                   50           35           100      DC Comics  \n",
              "2                  100          100            80  Marvel Comics  \n",
              "3                   45          100            55      DC Comics  \n",
              "4                   40           30            50      DC Comics  \n",
              "...                ...          ...           ...            ...  \n",
              "1442                30           45           100  Marvel Comics  \n",
              "1445                30          100            55      DC Comics  \n",
              "1447                75          100            80      DC Comics  \n",
              "1448                30          100            30      DC Comics  \n",
              "1449                95           80            50  Marvel Comics  \n",
              "\n",
              "[975 rows x 8 columns]"
            ],
            "text/html": [
              "\n",
              "  <div id=\"df-3ec523d2-74b1-4e8b-9973-4b21a6c44daa\">\n",
              "    <div class=\"colab-df-container\">\n",
              "      <div>\n",
              "<style scoped>\n",
              "    .dataframe tbody tr th:only-of-type {\n",
              "        vertical-align: middle;\n",
              "    }\n",
              "\n",
              "    .dataframe tbody tr th {\n",
              "        vertical-align: top;\n",
              "    }\n",
              "\n",
              "    .dataframe thead th {\n",
              "        text-align: right;\n",
              "    }\n",
              "</style>\n",
              "<table border=\"1\" class=\"dataframe\">\n",
              "  <thead>\n",
              "    <tr style=\"text-align: right;\">\n",
              "      <th></th>\n",
              "      <th>overall_score</th>\n",
              "      <th>intelligence_score</th>\n",
              "      <th>strength_score</th>\n",
              "      <th>speed_score</th>\n",
              "      <th>durability_score</th>\n",
              "      <th>power_score</th>\n",
              "      <th>combat_score</th>\n",
              "      <th>creator</th>\n",
              "    </tr>\n",
              "  </thead>\n",
              "  <tbody>\n",
              "    <tr>\n",
              "      <th>0</th>\n",
              "      <td>6</td>\n",
              "      <td>85</td>\n",
              "      <td>30</td>\n",
              "      <td>60</td>\n",
              "      <td>60</td>\n",
              "      <td>40</td>\n",
              "      <td>70</td>\n",
              "      <td>Marvel Comics</td>\n",
              "    </tr>\n",
              "    <tr>\n",
              "      <th>1</th>\n",
              "      <td>10</td>\n",
              "      <td>100</td>\n",
              "      <td>20</td>\n",
              "      <td>30</td>\n",
              "      <td>50</td>\n",
              "      <td>35</td>\n",
              "      <td>100</td>\n",
              "      <td>DC Comics</td>\n",
              "    </tr>\n",
              "    <tr>\n",
              "      <th>2</th>\n",
              "      <td>20</td>\n",
              "      <td>80</td>\n",
              "      <td>100</td>\n",
              "      <td>80</td>\n",
              "      <td>100</td>\n",
              "      <td>100</td>\n",
              "      <td>80</td>\n",
              "      <td>Marvel Comics</td>\n",
              "    </tr>\n",
              "    <tr>\n",
              "      <th>3</th>\n",
              "      <td>12</td>\n",
              "      <td>80</td>\n",
              "      <td>50</td>\n",
              "      <td>55</td>\n",
              "      <td>45</td>\n",
              "      <td>100</td>\n",
              "      <td>55</td>\n",
              "      <td>DC Comics</td>\n",
              "    </tr>\n",
              "    <tr>\n",
              "      <th>4</th>\n",
              "      <td>5</td>\n",
              "      <td>80</td>\n",
              "      <td>10</td>\n",
              "      <td>25</td>\n",
              "      <td>40</td>\n",
              "      <td>30</td>\n",
              "      <td>50</td>\n",
              "      <td>DC Comics</td>\n",
              "    </tr>\n",
              "    <tr>\n",
              "      <th>...</th>\n",
              "      <td>...</td>\n",
              "      <td>...</td>\n",
              "      <td>...</td>\n",
              "      <td>...</td>\n",
              "      <td>...</td>\n",
              "      <td>...</td>\n",
              "      <td>...</td>\n",
              "      <td>...</td>\n",
              "    </tr>\n",
              "    <tr>\n",
              "      <th>1442</th>\n",
              "      <td>5</td>\n",
              "      <td>80</td>\n",
              "      <td>10</td>\n",
              "      <td>50</td>\n",
              "      <td>30</td>\n",
              "      <td>45</td>\n",
              "      <td>100</td>\n",
              "      <td>Marvel Comics</td>\n",
              "    </tr>\n",
              "    <tr>\n",
              "      <th>1445</th>\n",
              "      <td>10</td>\n",
              "      <td>90</td>\n",
              "      <td>10</td>\n",
              "      <td>25</td>\n",
              "      <td>30</td>\n",
              "      <td>100</td>\n",
              "      <td>55</td>\n",
              "      <td>DC Comics</td>\n",
              "    </tr>\n",
              "    <tr>\n",
              "      <th>1447</th>\n",
              "      <td>20</td>\n",
              "      <td>95</td>\n",
              "      <td>50</td>\n",
              "      <td>100</td>\n",
              "      <td>75</td>\n",
              "      <td>100</td>\n",
              "      <td>80</td>\n",
              "      <td>DC Comics</td>\n",
              "    </tr>\n",
              "    <tr>\n",
              "      <th>1448</th>\n",
              "      <td>9</td>\n",
              "      <td>75</td>\n",
              "      <td>10</td>\n",
              "      <td>100</td>\n",
              "      <td>30</td>\n",
              "      <td>100</td>\n",
              "      <td>30</td>\n",
              "      <td>DC Comics</td>\n",
              "    </tr>\n",
              "    <tr>\n",
              "      <th>1449</th>\n",
              "      <td>5</td>\n",
              "      <td>45</td>\n",
              "      <td>80</td>\n",
              "      <td>75</td>\n",
              "      <td>95</td>\n",
              "      <td>80</td>\n",
              "      <td>50</td>\n",
              "      <td>Marvel Comics</td>\n",
              "    </tr>\n",
              "  </tbody>\n",
              "</table>\n",
              "<p>975 rows × 8 columns</p>\n",
              "</div>\n",
              "      <button class=\"colab-df-convert\" onclick=\"convertToInteractive('df-3ec523d2-74b1-4e8b-9973-4b21a6c44daa')\"\n",
              "              title=\"Convert this dataframe to an interactive table.\"\n",
              "              style=\"display:none;\">\n",
              "        \n",
              "  <svg xmlns=\"http://www.w3.org/2000/svg\" height=\"24px\"viewBox=\"0 0 24 24\"\n",
              "       width=\"24px\">\n",
              "    <path d=\"M0 0h24v24H0V0z\" fill=\"none\"/>\n",
              "    <path d=\"M18.56 5.44l.94 2.06.94-2.06 2.06-.94-2.06-.94-.94-2.06-.94 2.06-2.06.94zm-11 1L8.5 8.5l.94-2.06 2.06-.94-2.06-.94L8.5 2.5l-.94 2.06-2.06.94zm10 10l.94 2.06.94-2.06 2.06-.94-2.06-.94-.94-2.06-.94 2.06-2.06.94z\"/><path d=\"M17.41 7.96l-1.37-1.37c-.4-.4-.92-.59-1.43-.59-.52 0-1.04.2-1.43.59L10.3 9.45l-7.72 7.72c-.78.78-.78 2.05 0 2.83L4 21.41c.39.39.9.59 1.41.59.51 0 1.02-.2 1.41-.59l7.78-7.78 2.81-2.81c.8-.78.8-2.07 0-2.86zM5.41 20L4 18.59l7.72-7.72 1.47 1.35L5.41 20z\"/>\n",
              "  </svg>\n",
              "      </button>\n",
              "      \n",
              "  <style>\n",
              "    .colab-df-container {\n",
              "      display:flex;\n",
              "      flex-wrap:wrap;\n",
              "      gap: 12px;\n",
              "    }\n",
              "\n",
              "    .colab-df-convert {\n",
              "      background-color: #E8F0FE;\n",
              "      border: none;\n",
              "      border-radius: 50%;\n",
              "      cursor: pointer;\n",
              "      display: none;\n",
              "      fill: #1967D2;\n",
              "      height: 32px;\n",
              "      padding: 0 0 0 0;\n",
              "      width: 32px;\n",
              "    }\n",
              "\n",
              "    .colab-df-convert:hover {\n",
              "      background-color: #E2EBFA;\n",
              "      box-shadow: 0px 1px 2px rgba(60, 64, 67, 0.3), 0px 1px 3px 1px rgba(60, 64, 67, 0.15);\n",
              "      fill: #174EA6;\n",
              "    }\n",
              "\n",
              "    [theme=dark] .colab-df-convert {\n",
              "      background-color: #3B4455;\n",
              "      fill: #D2E3FC;\n",
              "    }\n",
              "\n",
              "    [theme=dark] .colab-df-convert:hover {\n",
              "      background-color: #434B5C;\n",
              "      box-shadow: 0px 1px 3px 1px rgba(0, 0, 0, 0.15);\n",
              "      filter: drop-shadow(0px 1px 2px rgba(0, 0, 0, 0.3));\n",
              "      fill: #FFFFFF;\n",
              "    }\n",
              "  </style>\n",
              "\n",
              "      <script>\n",
              "        const buttonEl =\n",
              "          document.querySelector('#df-3ec523d2-74b1-4e8b-9973-4b21a6c44daa button.colab-df-convert');\n",
              "        buttonEl.style.display =\n",
              "          google.colab.kernel.accessAllowed ? 'block' : 'none';\n",
              "\n",
              "        async function convertToInteractive(key) {\n",
              "          const element = document.querySelector('#df-3ec523d2-74b1-4e8b-9973-4b21a6c44daa');\n",
              "          const dataTable =\n",
              "            await google.colab.kernel.invokeFunction('convertToInteractive',\n",
              "                                                     [key], {});\n",
              "          if (!dataTable) return;\n",
              "\n",
              "          const docLinkHtml = 'Like what you see? Visit the ' +\n",
              "            '<a target=\"_blank\" href=https://colab.research.google.com/notebooks/data_table.ipynb>data table notebook</a>'\n",
              "            + ' to learn more about interactive tables.';\n",
              "          element.innerHTML = '';\n",
              "          dataTable['output_type'] = 'display_data';\n",
              "          await google.colab.output.renderOutput(dataTable, element);\n",
              "          const docLink = document.createElement('div');\n",
              "          docLink.innerHTML = docLinkHtml;\n",
              "          element.appendChild(docLink);\n",
              "        }\n",
              "      </script>\n",
              "    </div>\n",
              "  </div>\n",
              "  "
            ]
          },
          "metadata": {},
          "execution_count": 14
        }
      ]
    },
    {
      "cell_type": "markdown",
      "source": [
        "After removing 'creators' that are not \"Marvel Comics\" or \"DC Comics\", we are left with 975 entires. This is our clean dataset for hero statistics.\n",
        "\n",
        "---"
      ],
      "metadata": {
        "id": "uLyk8hDg5aO-"
      }
    },
    {
      "cell_type": "markdown",
      "source": [
        "# **Data Exploration**\n",
        "\n"
      ],
      "metadata": {
        "id": "MS9VbBdSeuQI"
      }
    },
    {
      "cell_type": "code",
      "source": [
        "# statsData without creator for exploration\n",
        "statsDataWOC = statsData.drop('creator', axis=1) "
      ],
      "metadata": {
        "id": "3CeWxN7L4tjX"
      },
      "execution_count": 15,
      "outputs": []
    },
    {
      "cell_type": "code",
      "source": [
        "# boxplot, histplot, violinplot for each individual column\n",
        "f, axes = plt.subplots(7, 3, figsize=(18, 32))\n",
        "\n",
        "count = 0\n",
        "for var in statsDataWOC:\n",
        "    sb.boxplot(data = statsDataWOC[var], orient = \"h\", ax = axes[count,0])\n",
        "    sb.histplot(data = statsDataWOC[var], ax = axes[count,1])\n",
        "    sb.violinplot(data = statsDataWOC[var], orient = \"h\", ax = axes[count,2])\n",
        "    count += 1\n",
        "\n",
        "    "
      ],
      "metadata": {
        "id": "toU5ajz29sLx",
        "colab": {
          "base_uri": "https://localhost:8080/",
          "height": 0
        },
        "outputId": "a571cdc1-1279-4f10-e6c5-13a702e85102"
      },
      "execution_count": 16,
      "outputs": [
        {
          "output_type": "display_data",
          "data": {
            "text/plain": [
              "<Figure size 1296x2304 with 21 Axes>"
            ],
            "image/png": "[encoded data removed]"
          },
          "metadata": {}
        }
      ]
    },
    {
      "cell_type": "code",
      "source": [
        "\n",
        "# Correlation Matrix\n",
        "print(statsDataWOC.corr())\n",
        "\n",
        "# Heatmap of the Correlation Matrix\n",
        "f = plt.figure(figsize=(20, 20))\n",
        "sb.heatmap(statsDataWOC.corr(), vmin = -1, vmax = 1, linewidths = 1,\n",
        "           annot = True, fmt = \".2f\", annot_kws = {\"size\": 18}, cmap = \"RdBu\")\n",
        "\n"
      ],
      "metadata": {
        "id": "5pDiYkpqNokp",
        "colab": {
          "base_uri": "https://localhost:8080/",
          "height": 0
        },
        "outputId": "f89069e2-9bdd-40b4-8050-aa6cecac3cdf"
      },
      "execution_count": 17,
      "outputs": [
        {
          "output_type": "stream",
          "name": "stdout",
          "text": [
            "                    overall_score  intelligence_score  strength_score  \\\n",
            "overall_score            1.000000            0.255080        0.434460   \n",
            "intelligence_score       0.255080            1.000000        0.059490   \n",
            "strength_score           0.434460            0.059490        1.000000   \n",
            "speed_score              0.423537            0.122865        0.620062   \n",
            "durability_score         0.400231            0.053290        0.738799   \n",
            "power_score              0.368750            0.097858        0.556646   \n",
            "combat_score             0.118166            0.228708        0.198596   \n",
            "\n",
            "                    speed_score  durability_score  power_score  combat_score  \n",
            "overall_score          0.423537          0.400231     0.368750      0.118166  \n",
            "intelligence_score     0.122865          0.053290     0.097858      0.228708  \n",
            "strength_score         0.620062          0.738799     0.556646      0.198596  \n",
            "speed_score            1.000000          0.635030     0.557411      0.304439  \n",
            "durability_score       0.635030          1.000000     0.637833      0.261345  \n",
            "power_score            0.557411          0.637833     1.000000      0.204408  \n",
            "combat_score           0.304439          0.261345     0.204408      1.000000  \n"
          ]
        },
        {
          "output_type": "execute_result",
          "data": {
            "text/plain": [
              "<matplotlib.axes._subplots.AxesSubplot at 0x7fca1ba59cd0>"
            ]
          },
          "metadata": {},
          "execution_count": 17
        },
        {
          "output_type": "display_data",
          "data": {
            "text/plain": [
              "<Figure size 1440x1440 with 2 Axes>"
            ],
            "image/png": "[encoded data removed]"
          },
          "metadata": {}
        }
      ]
    },
    {
      "cell_type": "markdown",
      "source": [
        "Strong correlation between strength and durabilty (0.74), power and durability (0.64)."
      ],
      "metadata": {
        "id": "Ce9Y8dHP83dL"
      }
    },
    {
      "cell_type": "markdown",
      "source": [
        "# **Decision Tree model**"
      ],
      "metadata": {
        "id": "1Ys-G6n7vlXy"
      }
    },
    {
      "cell_type": "markdown",
      "source": [
        "**Multi-Variate Decision Tree**"
      ],
      "metadata": {
        "id": "a8AGrrAFKm1v"
      }
    },
    {
      "cell_type": "code",
      "source": [
        "# split statsData into independent variables x (statistics) and dependent variable y (creator)\n",
        "x = pd.DataFrame(statsData.drop('creator', axis=1))\n",
        "y = pd.DataFrame(statsData['creator'])"
      ],
      "metadata": {
        "id": "kSSEY1VtKpa6"
      },
      "execution_count": 56,
      "outputs": []
    },
    {
      "cell_type": "code",
      "source": [
        "\n",
        "# randomly split x and y into train and test dataframes with 80:20 ratio\n",
        "x_train, x_test, y_train, y_test = train_test_split(x, y, test_size = 0.2)\n",
        "\n",
        "print(\"Train Set:\", y_train.shape, x_train.shape)\n",
        "print(\"Test Set :\", y_test.shape, x_test.shape)\n"
      ],
      "metadata": {
        "id": "8ya5hIxJLXKv",
        "colab": {
          "base_uri": "https://localhost:8080/"
        },
        "outputId": "18ceac6d-1873-4184-a744-08261a556fe8"
      },
      "execution_count": 57,
      "outputs": [
        {
          "output_type": "stream",
          "name": "stdout",
          "text": [
            "Train Set: (780, 1) (780, 7)\n",
            "Test Set : (195, 1) (195, 7)\n"
          ]
        }
      ]
    },
    {
      "cell_type": "markdown",
      "source": [
        "Basic statistical exploration and visualization on train set."
      ],
      "metadata": {
        "id": "PzEFHrEpCixF"
      }
    },
    {
      "cell_type": "code",
      "source": [
        "# creator distribution\n",
        "sb.catplot(y = \"creator\", data = y, kind = \"count\")"
      ],
      "metadata": {
        "id": "Xtj4JkQxLXFX",
        "colab": {
          "base_uri": "https://localhost:8080/",
          "height": 383
        },
        "outputId": "3f8074a9-60cd-4ea3-895f-209485a1de45"
      },
      "execution_count": 58,
      "outputs": [
        {
          "output_type": "execute_result",
          "data": {
            "text/plain": [
              "<seaborn.axisgrid.FacetGrid at 0x7fca12a15dd0>"
            ]
          },
          "metadata": {},
          "execution_count": 58
        },
        {
          "output_type": "display_data",
          "data": {
            "text/plain": [
              "<Figure size 360x360 with 1 Axes>"
            ],
            "image/png": "[encoded data removed]"
          },
          "metadata": {}
        }
      ]
    },
    {
      "cell_type": "markdown",
      "source": [
        "We observe that there are slightly more Marvel Comics than DC Comics in the Superhero Universe."
      ],
      "metadata": {
        "id": "aZWQaO-JJ9mZ"
      }
    },
    {
      "cell_type": "code",
      "source": [
        "# creator distribution in the train set\n",
        "y_train[\"creator\"].value_counts()"
      ],
      "metadata": {
        "id": "IUgiZ81gLXHr",
        "colab": {
          "base_uri": "https://localhost:8080/"
        },
        "outputId": "3ed709f1-881b-4fa2-e350-115ebb3d0655"
      },
      "execution_count": 59,
      "outputs": [
        {
          "output_type": "execute_result",
          "data": {
            "text/plain": [
              "Marvel Comics    440\n",
              "DC Comics        340\n",
              "Name: creator, dtype: int64"
            ]
          },
          "metadata": {},
          "execution_count": 59
        }
      ]
    },
    {
      "cell_type": "code",
      "source": [
        "# statistics distribution in the train set\n",
        "x_train.describe()"
      ],
      "metadata": {
        "id": "_6YBaNQNCCfw",
        "colab": {
          "base_uri": "https://localhost:8080/",
          "height": 300
        },
        "outputId": "c1455aaf-1d9a-47fe-9681-84e578c5782f"
      },
      "execution_count": 60,
      "outputs": [
        {
          "output_type": "execute_result",
          "data": {
            "text/plain": [
              "       overall_score  intelligence_score  strength_score  speed_score  \\\n",
              "count     780.000000          780.000000      780.000000   780.000000   \n",
              "mean       13.397436           85.525641       42.294872    49.762821   \n",
              "std        20.063148           11.189492       33.463758    26.498265   \n",
              "min         1.000000           30.000000        0.000000     0.000000   \n",
              "25%         6.000000           80.000000       10.000000    25.000000   \n",
              "50%         8.000000           90.000000       30.000000    45.000000   \n",
              "75%        12.000000           95.000000       71.250000    70.000000   \n",
              "max       237.000000          100.000000      100.000000   100.000000   \n",
              "\n",
              "       durability_score  power_score  combat_score  \n",
              "count        780.000000   780.000000    780.000000  \n",
              "mean          60.320513    67.839744     72.948718  \n",
              "std           28.104880    29.456675     21.490301  \n",
              "min            0.000000     0.000000     10.000000  \n",
              "25%           40.000000    45.000000     60.000000  \n",
              "50%           60.000000    70.000000     75.000000  \n",
              "75%           85.000000   100.000000     90.000000  \n",
              "max          100.000000   100.000000    100.000000  "
            ],
            "text/html": [
              "\n",
              "  <div id=\"df-05b1176d-29da-4a39-9fb9-75c4fad96af6\">\n",
              "    <div class=\"colab-df-container\">\n",
              "      <div>\n",
              "<style scoped>\n",
              "    .dataframe tbody tr th:only-of-type {\n",
              "        vertical-align: middle;\n",
              "    }\n",
              "\n",
              "    .dataframe tbody tr th {\n",
              "        vertical-align: top;\n",
              "    }\n",
              "\n",
              "    .dataframe thead th {\n",
              "        text-align: right;\n",
              "    }\n",
              "</style>\n",
              "<table border=\"1\" class=\"dataframe\">\n",
              "  <thead>\n",
              "    <tr style=\"text-align: right;\">\n",
              "      <th></th>\n",
              "      <th>overall_score</th>\n",
              "      <th>intelligence_score</th>\n",
              "      <th>strength_score</th>\n",
              "      <th>speed_score</th>\n",
              "      <th>durability_score</th>\n",
              "      <th>power_score</th>\n",
              "      <th>combat_score</th>\n",
              "    </tr>\n",
              "  </thead>\n",
              "  <tbody>\n",
              "    <tr>\n",
              "      <th>count</th>\n",
              "      <td>780.000000</td>\n",
              "      <td>780.000000</td>\n",
              "      <td>780.000000</td>\n",
              "      <td>780.000000</td>\n",
              "      <td>780.000000</td>\n",
              "      <td>780.000000</td>\n",
              "      <td>780.000000</td>\n",
              "    </tr>\n",
              "    <tr>\n",
              "      <th>mean</th>\n",
              "      <td>13.397436</td>\n",
              "      <td>85.525641</td>\n",
              "      <td>42.294872</td>\n",
              "      <td>49.762821</td>\n",
              "      <td>60.320513</td>\n",
              "      <td>67.839744</td>\n",
              "      <td>72.948718</td>\n",
              "    </tr>\n",
              "    <tr>\n",
              "      <th>std</th>\n",
              "      <td>20.063148</td>\n",
              "      <td>11.189492</td>\n",
              "      <td>33.463758</td>\n",
              "      <td>26.498265</td>\n",
              "      <td>28.104880</td>\n",
              "      <td>29.456675</td>\n",
              "      <td>21.490301</td>\n",
              "    </tr>\n",
              "    <tr>\n",
              "      <th>min</th>\n",
              "      <td>1.000000</td>\n",
              "      <td>30.000000</td>\n",
              "      <td>0.000000</td>\n",
              "      <td>0.000000</td>\n",
              "      <td>0.000000</td>\n",
              "      <td>0.000000</td>\n",
              "      <td>10.000000</td>\n",
              "    </tr>\n",
              "    <tr>\n",
              "      <th>25%</th>\n",
              "      <td>6.000000</td>\n",
              "      <td>80.000000</td>\n",
              "      <td>10.000000</td>\n",
              "      <td>25.000000</td>\n",
              "      <td>40.000000</td>\n",
              "      <td>45.000000</td>\n",
              "      <td>60.000000</td>\n",
              "    </tr>\n",
              "    <tr>\n",
              "      <th>50%</th>\n",
              "      <td>8.000000</td>\n",
              "      <td>90.000000</td>\n",
              "      <td>30.000000</td>\n",
              "      <td>45.000000</td>\n",
              "      <td>60.000000</td>\n",
              "      <td>70.000000</td>\n",
              "      <td>75.000000</td>\n",
              "    </tr>\n",
              "    <tr>\n",
              "      <th>75%</th>\n",
              "      <td>12.000000</td>\n",
              "      <td>95.000000</td>\n",
              "      <td>71.250000</td>\n",
              "      <td>70.000000</td>\n",
              "      <td>85.000000</td>\n",
              "      <td>100.000000</td>\n",
              "      <td>90.000000</td>\n",
              "    </tr>\n",
              "    <tr>\n",
              "      <th>max</th>\n",
              "      <td>237.000000</td>\n",
              "      <td>100.000000</td>\n",
              "      <td>100.000000</td>\n",
              "      <td>100.000000</td>\n",
              "      <td>100.000000</td>\n",
              "      <td>100.000000</td>\n",
              "      <td>100.000000</td>\n",
              "    </tr>\n",
              "  </tbody>\n",
              "</table>\n",
              "</div>\n",
              "      <button class=\"colab-df-convert\" onclick=\"convertToInteractive('df-05b1176d-29da-4a39-9fb9-75c4fad96af6')\"\n",
              "              title=\"Convert this dataframe to an interactive table.\"\n",
              "              style=\"display:none;\">\n",
              "        \n",
              "  <svg xmlns=\"http://www.w3.org/2000/svg\" height=\"24px\"viewBox=\"0 0 24 24\"\n",
              "       width=\"24px\">\n",
              "    <path d=\"M0 0h24v24H0V0z\" fill=\"none\"/>\n",
              "    <path d=\"M18.56 5.44l.94 2.06.94-2.06 2.06-.94-2.06-.94-.94-2.06-.94 2.06-2.06.94zm-11 1L8.5 8.5l.94-2.06 2.06-.94-2.06-.94L8.5 2.5l-.94 2.06-2.06.94zm10 10l.94 2.06.94-2.06 2.06-.94-2.06-.94-.94-2.06-.94 2.06-2.06.94z\"/><path d=\"M17.41 7.96l-1.37-1.37c-.4-.4-.92-.59-1.43-.59-.52 0-1.04.2-1.43.59L10.3 9.45l-7.72 7.72c-.78.78-.78 2.05 0 2.83L4 21.41c.39.39.9.59 1.41.59.51 0 1.02-.2 1.41-.59l7.78-7.78 2.81-2.81c.8-.78.8-2.07 0-2.86zM5.41 20L4 18.59l7.72-7.72 1.47 1.35L5.41 20z\"/>\n",
              "  </svg>\n",
              "      </button>\n",
              "      \n",
              "  <style>\n",
              "    .colab-df-container {\n",
              "      display:flex;\n",
              "      flex-wrap:wrap;\n",
              "      gap: 12px;\n",
              "    }\n",
              "\n",
              "    .colab-df-convert {\n",
              "      background-color: #E8F0FE;\n",
              "      border: none;\n",
              "      border-radius: 50%;\n",
              "      cursor: pointer;\n",
              "      display: none;\n",
              "      fill: #1967D2;\n",
              "      height: 32px;\n",
              "      padding: 0 0 0 0;\n",
              "      width: 32px;\n",
              "    }\n",
              "\n",
              "    .colab-df-convert:hover {\n",
              "      background-color: #E2EBFA;\n",
              "      box-shadow: 0px 1px 2px rgba(60, 64, 67, 0.3), 0px 1px 3px 1px rgba(60, 64, 67, 0.15);\n",
              "      fill: #174EA6;\n",
              "    }\n",
              "\n",
              "    [theme=dark] .colab-df-convert {\n",
              "      background-color: #3B4455;\n",
              "      fill: #D2E3FC;\n",
              "    }\n",
              "\n",
              "    [theme=dark] .colab-df-convert:hover {\n",
              "      background-color: #434B5C;\n",
              "      box-shadow: 0px 1px 3px 1px rgba(0, 0, 0, 0.15);\n",
              "      filter: drop-shadow(0px 1px 2px rgba(0, 0, 0, 0.3));\n",
              "      fill: #FFFFFF;\n",
              "    }\n",
              "  </style>\n",
              "\n",
              "      <script>\n",
              "        const buttonEl =\n",
              "          document.querySelector('#df-05b1176d-29da-4a39-9fb9-75c4fad96af6 button.colab-df-convert');\n",
              "        buttonEl.style.display =\n",
              "          google.colab.kernel.accessAllowed ? 'block' : 'none';\n",
              "\n",
              "        async function convertToInteractive(key) {\n",
              "          const element = document.querySelector('#df-05b1176d-29da-4a39-9fb9-75c4fad96af6');\n",
              "          const dataTable =\n",
              "            await google.colab.kernel.invokeFunction('convertToInteractive',\n",
              "                                                     [key], {});\n",
              "          if (!dataTable) return;\n",
              "\n",
              "          const docLinkHtml = 'Like what you see? Visit the ' +\n",
              "            '<a target=\"_blank\" href=https://colab.research.google.com/notebooks/data_table.ipynb>data table notebook</a>'\n",
              "            + ' to learn more about interactive tables.';\n",
              "          element.innerHTML = '';\n",
              "          dataTable['output_type'] = 'display_data';\n",
              "          await google.colab.output.renderOutput(dataTable, element);\n",
              "          const docLink = document.createElement('div');\n",
              "          docLink.innerHTML = docLinkHtml;\n",
              "          element.appendChild(docLink);\n",
              "        }\n",
              "      </script>\n",
              "    </div>\n",
              "  </div>\n",
              "  "
            ]
          },
          "metadata": {},
          "execution_count": 60
        }
      ]
    },
    {
      "cell_type": "code",
      "source": [
        "# Decision Tree using train data\n",
        "dectree = DecisionTreeClassifier(max_depth = 4)  # create the decision tree object\n",
        "dectree.fit(x_train, y_train)                    # train the decision tree model\n",
        "\n",
        "# Predict creator corresponding to predictors (train and test)\n",
        "y_train_pred = dectree.predict(x_train)\n",
        "y_test_pred = dectree.predict(x_test)\n",
        "\n",
        "# Calculation of TPR and FPR\n",
        "TNtrain, FPtrain, FNtrain, TPtrain = confusion_matrix(y_train, y_train_pred).ravel()\n",
        "TNtest, FPtest, FNtest, TPtest = confusion_matrix(y_test, y_test_pred).ravel()\n",
        "\n",
        "TPRtrain = TPtrain/(TPtrain+FNtrain)\n",
        "FPRtrain = FPtrain/(FPtrain+TNtrain)\n",
        "\n",
        "TPRtest = TPtest/(TPtest+FNtest)\n",
        "FPRtest = FPtest/(FPtest+TNtest)\n",
        "\n",
        "# Check the Goodness of Fit (on train data)\n",
        "print(\"Goodness of Fit of Model \\tTrain Dataset\")\n",
        "print(\"Classification Accuracy \\t:\", dectree.score(x_train, y_train))\n",
        "print(\"Train set: True Positive Rate \\t:\", TPRtrain)\n",
        "print(\"Train set: False Positive Rate \\t:\", FPRtrain)\n",
        "print()\n",
        "\n",
        "# Check the Goodness of Fit (on test data)\n",
        "print(\"Goodness of Fit of Model \\tTest Dataset\")\n",
        "print(\"Classification Accuracy \\t:\", dectree.score(x_test, y_test))\n",
        "print(\"Test set: True Positive Rate \\t:\", TPRtest)\n",
        "print(\"Test set: False Positive Rate \\t:\", FPRtest)\n",
        "print()\n",
        "\n",
        "# Plot the Confusion Matrix for train and test\n",
        "f, axes = plt.subplots(1, 2, figsize=(12, 4))\n",
        "sb.heatmap(confusion_matrix(y_train, y_train_pred),\n",
        "           annot = True, fmt=\".0f\", annot_kws={\"size\": 18}, ax = axes[0])\n",
        "sb.heatmap(confusion_matrix(y_test, y_test_pred), \n",
        "           annot = True, fmt=\".0f\", annot_kws={\"size\": 18}, ax = axes[1])"
      ],
      "metadata": {
        "id": "_ynXTslvKp-J",
        "colab": {
          "base_uri": "https://localhost:8080/",
          "height": 474
        },
        "outputId": "2f2a768d-9ab4-4b60-f46b-635d75df9a9c"
      },
      "execution_count": 61,
      "outputs": [
        {
          "output_type": "stream",
          "name": "stdout",
          "text": [
            "Goodness of Fit of Model \tTrain Dataset\n",
            "Classification Accuracy \t: 0.6858974358974359\n",
            "Train set: True Positive Rate \t: 0.740909090909091\n",
            "Train set: False Positive Rate \t: 0.38529411764705884\n",
            "\n",
            "Goodness of Fit of Model \tTest Dataset\n",
            "Classification Accuracy \t: 0.5230769230769231\n",
            "Test set: True Positive Rate \t: 0.6037735849056604\n",
            "Test set: False Positive Rate \t: 0.5730337078651685\n",
            "\n"
          ]
        },
        {
          "output_type": "execute_result",
          "data": {
            "text/plain": [
              "<matplotlib.axes._subplots.AxesSubplot at 0x7fca19043350>"
            ]
          },
          "metadata": {},
          "execution_count": 61
        },
        {
          "output_type": "display_data",
          "data": {
            "text/plain": [
              "<Figure size 864x288 with 4 Axes>"
            ],
            "image/png": "[encoded data removed]"
          },
          "metadata": {}
        }
      ]
    },
    {
      "cell_type": "markdown",
      "source": [
        "Decent Accuracy averaging around 60% with relatively high false positive rate of 60% average."
      ],
      "metadata": {
        "id": "s17b-B0_KKdS"
      }
    },
    {
      "cell_type": "code",
      "source": [
        "# display Decision Tree\n",
        "\n",
        "f = plt.figure(figsize=(32,12))\n",
        "plot_tree(dectree, filled=True, rounded=True, \n",
        "          feature_names=x_train.columns, \n",
        "          class_names=[\"Marvel Comics\",\"DC Comics\"])"
      ],
      "metadata": {
        "id": "5-46qE0FWmu-",
        "colab": {
          "base_uri": "https://localhost:8080/",
          "height": 1000
        },
        "outputId": "659fe51f-95b0-49d0-a198-157a1f54778d"
      },
      "execution_count": 62,
      "outputs": [
        {
          "output_type": "execute_result",
          "data": {
            "text/plain": [
              "[Text(0.5, 0.9, 'combat_score <= 72.5\\ngini = 0.492\\nsamples = 780\\nvalue = [340, 440]\\nclass = DC Comics'),\n",
              " Text(0.25, 0.7, 'overall_score <= 8.5\\ngini = 0.447\\nsamples = 347\\nvalue = [117, 230]\\nclass = DC Comics'),\n",
              " Text(0.125, 0.5, 'combat_score <= 47.5\\ngini = 0.397\\nsamples = 220\\nvalue = [60, 160]\\nclass = DC Comics'),\n",
              " Text(0.0625, 0.3, 'power_score <= 37.5\\ngini = 0.482\\nsamples = 74\\nvalue = [30, 44]\\nclass = DC Comics'),\n",
              " Text(0.03125, 0.1, 'gini = 0.383\\nsamples = 31\\nvalue = [8, 23]\\nclass = DC Comics'),\n",
              " Text(0.09375, 0.1, 'gini = 0.5\\nsamples = 43\\nvalue = [22, 21]\\nclass = Marvel Comics'),\n",
              " Text(0.1875, 0.3, 'durability_score <= 22.5\\ngini = 0.327\\nsamples = 146\\nvalue = [30, 116]\\nclass = DC Comics'),\n",
              " Text(0.15625, 0.1, 'gini = 0.496\\nsamples = 22\\nvalue = [12, 10]\\nclass = Marvel Comics'),\n",
              " Text(0.21875, 0.1, 'gini = 0.248\\nsamples = 124\\nvalue = [18, 106]\\nclass = DC Comics'),\n",
              " Text(0.375, 0.5, 'strength_score <= 12.5\\ngini = 0.495\\nsamples = 127\\nvalue = [57, 70]\\nclass = DC Comics'),\n",
              " Text(0.3125, 0.3, 'durability_score <= 17.5\\ngini = 0.456\\nsamples = 37\\nvalue = [24, 13]\\nclass = Marvel Comics'),\n",
              " Text(0.28125, 0.1, 'gini = 0.346\\nsamples = 9\\nvalue = [2, 7]\\nclass = DC Comics'),\n",
              " Text(0.34375, 0.1, 'gini = 0.337\\nsamples = 28\\nvalue = [22, 6]\\nclass = Marvel Comics'),\n",
              " Text(0.4375, 0.3, 'strength_score <= 87.5\\ngini = 0.464\\nsamples = 90\\nvalue = [33, 57]\\nclass = DC Comics'),\n",
              " Text(0.40625, 0.1, 'gini = 0.426\\nsamples = 65\\nvalue = [20, 45]\\nclass = DC Comics'),\n",
              " Text(0.46875, 0.1, 'gini = 0.499\\nsamples = 25\\nvalue = [13, 12]\\nclass = Marvel Comics'),\n",
              " Text(0.75, 0.7, 'intelligence_score <= 92.5\\ngini = 0.5\\nsamples = 433\\nvalue = [223, 210]\\nclass = Marvel Comics'),\n",
              " Text(0.625, 0.5, 'speed_score <= 37.5\\ngini = 0.494\\nsamples = 280\\nvalue = [125, 155]\\nclass = DC Comics'),\n",
              " Text(0.5625, 0.3, 'strength_score <= 52.5\\ngini = 0.486\\nsamples = 91\\nvalue = [53, 38]\\nclass = Marvel Comics'),\n",
              " Text(0.53125, 0.1, 'gini = 0.464\\nsamples = 82\\nvalue = [52, 30]\\nclass = Marvel Comics'),\n",
              " Text(0.59375, 0.1, 'gini = 0.198\\nsamples = 9\\nvalue = [1, 8]\\nclass = DC Comics'),\n",
              " Text(0.6875, 0.3, 'speed_score <= 92.5\\ngini = 0.472\\nsamples = 189\\nvalue = [72, 117]\\nclass = DC Comics'),\n",
              " Text(0.65625, 0.1, 'gini = 0.451\\nsamples = 166\\nvalue = [57, 109]\\nclass = DC Comics'),\n",
              " Text(0.71875, 0.1, 'gini = 0.454\\nsamples = 23\\nvalue = [15, 8]\\nclass = Marvel Comics'),\n",
              " Text(0.875, 0.5, 'speed_score <= 87.5\\ngini = 0.461\\nsamples = 153\\nvalue = [98, 55]\\nclass = Marvel Comics'),\n",
              " Text(0.8125, 0.3, 'speed_score <= 52.5\\ngini = 0.484\\nsamples = 107\\nvalue = [63, 44]\\nclass = Marvel Comics'),\n",
              " Text(0.78125, 0.1, 'gini = 0.417\\nsamples = 54\\nvalue = [38, 16]\\nclass = Marvel Comics'),\n",
              " Text(0.84375, 0.1, 'gini = 0.498\\nsamples = 53\\nvalue = [25, 28]\\nclass = DC Comics'),\n",
              " Text(0.9375, 0.3, 'intelligence_score <= 97.5\\ngini = 0.364\\nsamples = 46\\nvalue = [35, 11]\\nclass = Marvel Comics'),\n",
              " Text(0.90625, 0.1, 'gini = 0.204\\nsamples = 26\\nvalue = [23, 3]\\nclass = Marvel Comics'),\n",
              " Text(0.96875, 0.1, 'gini = 0.48\\nsamples = 20\\nvalue = [12, 8]\\nclass = Marvel Comics')]"
            ]
          },
          "metadata": {},
          "execution_count": 62
        },
        {
          "output_type": "display_data",
          "data": {
            "text/plain": [
              "<Figure size 2304x864 with 1 Axes>"
            ],
            "image/png": "[encoded data removed]"
          },
          "metadata": {}
        }
      ]
    },
    {
      "cell_type": "markdown",
      "source": [
        "Let us attempt to predict the creators of certain characters (Deadpool, Harley Quinn, Hulk).\n",
        "First, we need to isolate the characters that we want to test our prediction on."
      ],
      "metadata": {
        "id": "Fe2ZJbOjMyR1"
      }
    },
    {
      "cell_type": "code",
      "source": [
        "# test prediction on specific characters: Deadpool, Harley Quinn, Hulk\n",
        "\n",
        "heroes_pred = heroesData[heroesData[\"name\"].isin([\"Deadpool\", \"Harley Quinn\", \"Hulk\"])]\n",
        "heroes_pred"
      ],
      "metadata": {
        "id": "tJMYJJN-Ncml",
        "colab": {
          "base_uri": "https://localhost:8080/",
          "height": 444
        },
        "outputId": "4929ca0c-3bfa-4e13-ab34-6c5f74fd3ea2"
      },
      "execution_count": 63,
      "outputs": [
        {
          "output_type": "execute_result",
          "data": {
            "text/plain": [
              "             name        real_name                full_name overall_score  \\\n",
              "370      Deadpool      Wade Wilson      Wade Winston Wilson            12   \n",
              "566  Harley Quinn  Harleen Quinzel  Harleen Francis Quinzel             8   \n",
              "616          Hulk     Bruce Banner      Robert Bruce Banner            34   \n",
              "\n",
              "                                          history_text  \\\n",
              "370     Not too much is known about Deadpool's chil...   \n",
              "566   Described as having a genius-level IQ, Harlee...   \n",
              "616    Robert Bruce Banner was the son of an alcoho...   \n",
              "\n",
              "                                           powers_text  intelligence_score  \\\n",
              "370    Deadpool possesses a superhuman healing fact...                  80   \n",
              "566    Immunizes her to various assorted toxins and...                  95   \n",
              "616  The Hulk is one of the most powerful beings in...                  60   \n",
              "\n",
              "     strength_score  speed_score  durability_score  ...  has_flight  \\\n",
              "370              20           50               100  ...         0.0   \n",
              "566              10           35                65  ...         0.0   \n",
              "616             100           85               100  ...         0.0   \n",
              "\n",
              "     has_accelerated_healing has_weapons_master has_intelligence has_reflexes  \\\n",
              "370                      1.0                1.0              0.0          1.0   \n",
              "566                      1.0                0.0              1.0          1.0   \n",
              "616                      1.0                0.0              0.0          1.0   \n",
              "\n",
              "    has_super_speed has_durability has_stamina has_agility has_super_strength  \n",
              "370             1.0            1.0         0.0         1.0                0.0  \n",
              "566             0.0            0.0         1.0         1.0                1.0  \n",
              "616             1.0            1.0         1.0         1.0                1.0  \n",
              "\n",
              "[3 rows x 81 columns]"
            ],
            "text/html": [
              "\n",
              "  <div id=\"df-a7bc5e2a-03e4-4de1-a780-caa87118ffac\">\n",
              "    <div class=\"colab-df-container\">\n",
              "      <div>\n",
              "<style scoped>\n",
              "    .dataframe tbody tr th:only-of-type {\n",
              "        vertical-align: middle;\n",
              "    }\n",
              "\n",
              "    .dataframe tbody tr th {\n",
              "        vertical-align: top;\n",
              "    }\n",
              "\n",
              "    .dataframe thead th {\n",
              "        text-align: right;\n",
              "    }\n",
              "</style>\n",
              "<table border=\"1\" class=\"dataframe\">\n",
              "  <thead>\n",
              "    <tr style=\"text-align: right;\">\n",
              "      <th></th>\n",
              "      <th>name</th>\n",
              "      <th>real_name</th>\n",
              "      <th>full_name</th>\n",
              "      <th>overall_score</th>\n",
              "      <th>history_text</th>\n",
              "      <th>powers_text</th>\n",
              "      <th>intelligence_score</th>\n",
              "      <th>strength_score</th>\n",
              "      <th>speed_score</th>\n",
              "      <th>durability_score</th>\n",
              "      <th>...</th>\n",
              "      <th>has_flight</th>\n",
              "      <th>has_accelerated_healing</th>\n",
              "      <th>has_weapons_master</th>\n",
              "      <th>has_intelligence</th>\n",
              "      <th>has_reflexes</th>\n",
              "      <th>has_super_speed</th>\n",
              "      <th>has_durability</th>\n",
              "      <th>has_stamina</th>\n",
              "      <th>has_agility</th>\n",
              "      <th>has_super_strength</th>\n",
              "    </tr>\n",
              "  </thead>\n",
              "  <tbody>\n",
              "    <tr>\n",
              "      <th>370</th>\n",
              "      <td>Deadpool</td>\n",
              "      <td>Wade Wilson</td>\n",
              "      <td>Wade Winston Wilson</td>\n",
              "      <td>12</td>\n",
              "      <td>Not too much is known about Deadpool's chil...</td>\n",
              "      <td>Deadpool possesses a superhuman healing fact...</td>\n",
              "      <td>80</td>\n",
              "      <td>20</td>\n",
              "      <td>50</td>\n",
              "      <td>100</td>\n",
              "      <td>...</td>\n",
              "      <td>0.0</td>\n",
              "      <td>1.0</td>\n",
              "      <td>1.0</td>\n",
              "      <td>0.0</td>\n",
              "      <td>1.0</td>\n",
              "      <td>1.0</td>\n",
              "      <td>1.0</td>\n",
              "      <td>0.0</td>\n",
              "      <td>1.0</td>\n",
              "      <td>0.0</td>\n",
              "    </tr>\n",
              "    <tr>\n",
              "      <th>566</th>\n",
              "      <td>Harley Quinn</td>\n",
              "      <td>Harleen Quinzel</td>\n",
              "      <td>Harleen Francis Quinzel</td>\n",
              "      <td>8</td>\n",
              "      <td>Described as having a genius-level IQ, Harlee...</td>\n",
              "      <td>Immunizes her to various assorted toxins and...</td>\n",
              "      <td>95</td>\n",
              "      <td>10</td>\n",
              "      <td>35</td>\n",
              "      <td>65</td>\n",
              "      <td>...</td>\n",
              "      <td>0.0</td>\n",
              "      <td>1.0</td>\n",
              "      <td>0.0</td>\n",
              "      <td>1.0</td>\n",
              "      <td>1.0</td>\n",
              "      <td>0.0</td>\n",
              "      <td>0.0</td>\n",
              "      <td>1.0</td>\n",
              "      <td>1.0</td>\n",
              "      <td>1.0</td>\n",
              "    </tr>\n",
              "    <tr>\n",
              "      <th>616</th>\n",
              "      <td>Hulk</td>\n",
              "      <td>Bruce Banner</td>\n",
              "      <td>Robert Bruce Banner</td>\n",
              "      <td>34</td>\n",
              "      <td>Robert Bruce Banner was the son of an alcoho...</td>\n",
              "      <td>The Hulk is one of the most powerful beings in...</td>\n",
              "      <td>60</td>\n",
              "      <td>100</td>\n",
              "      <td>85</td>\n",
              "      <td>100</td>\n",
              "      <td>...</td>\n",
              "      <td>0.0</td>\n",
              "      <td>1.0</td>\n",
              "      <td>0.0</td>\n",
              "      <td>0.0</td>\n",
              "      <td>1.0</td>\n",
              "      <td>1.0</td>\n",
              "      <td>1.0</td>\n",
              "      <td>1.0</td>\n",
              "      <td>1.0</td>\n",
              "      <td>1.0</td>\n",
              "    </tr>\n",
              "  </tbody>\n",
              "</table>\n",
              "<p>3 rows × 81 columns</p>\n",
              "</div>\n",
              "      <button class=\"colab-df-convert\" onclick=\"convertToInteractive('df-a7bc5e2a-03e4-4de1-a780-caa87118ffac')\"\n",
              "              title=\"Convert this dataframe to an interactive table.\"\n",
              "              style=\"display:none;\">\n",
              "        \n",
              "  <svg xmlns=\"http://www.w3.org/2000/svg\" height=\"24px\"viewBox=\"0 0 24 24\"\n",
              "       width=\"24px\">\n",
              "    <path d=\"M0 0h24v24H0V0z\" fill=\"none\"/>\n",
              "    <path d=\"M18.56 5.44l.94 2.06.94-2.06 2.06-.94-2.06-.94-.94-2.06-.94 2.06-2.06.94zm-11 1L8.5 8.5l.94-2.06 2.06-.94-2.06-.94L8.5 2.5l-.94 2.06-2.06.94zm10 10l.94 2.06.94-2.06 2.06-.94-2.06-.94-.94-2.06-.94 2.06-2.06.94z\"/><path d=\"M17.41 7.96l-1.37-1.37c-.4-.4-.92-.59-1.43-.59-.52 0-1.04.2-1.43.59L10.3 9.45l-7.72 7.72c-.78.78-.78 2.05 0 2.83L4 21.41c.39.39.9.59 1.41.59.51 0 1.02-.2 1.41-.59l7.78-7.78 2.81-2.81c.8-.78.8-2.07 0-2.86zM5.41 20L4 18.59l7.72-7.72 1.47 1.35L5.41 20z\"/>\n",
              "  </svg>\n",
              "      </button>\n",
              "      \n",
              "  <style>\n",
              "    .colab-df-container {\n",
              "      display:flex;\n",
              "      flex-wrap:wrap;\n",
              "      gap: 12px;\n",
              "    }\n",
              "\n",
              "    .colab-df-convert {\n",
              "      background-color: #E8F0FE;\n",
              "      border: none;\n",
              "      border-radius: 50%;\n",
              "      cursor: pointer;\n",
              "      display: none;\n",
              "      fill: #1967D2;\n",
              "      height: 32px;\n",
              "      padding: 0 0 0 0;\n",
              "      width: 32px;\n",
              "    }\n",
              "\n",
              "    .colab-df-convert:hover {\n",
              "      background-color: #E2EBFA;\n",
              "      box-shadow: 0px 1px 2px rgba(60, 64, 67, 0.3), 0px 1px 3px 1px rgba(60, 64, 67, 0.15);\n",
              "      fill: #174EA6;\n",
              "    }\n",
              "\n",
              "    [theme=dark] .colab-df-convert {\n",
              "      background-color: #3B4455;\n",
              "      fill: #D2E3FC;\n",
              "    }\n",
              "\n",
              "    [theme=dark] .colab-df-convert:hover {\n",
              "      background-color: #434B5C;\n",
              "      box-shadow: 0px 1px 3px 1px rgba(0, 0, 0, 0.15);\n",
              "      filter: drop-shadow(0px 1px 2px rgba(0, 0, 0, 0.3));\n",
              "      fill: #FFFFFF;\n",
              "    }\n",
              "  </style>\n",
              "\n",
              "      <script>\n",
              "        const buttonEl =\n",
              "          document.querySelector('#df-a7bc5e2a-03e4-4de1-a780-caa87118ffac button.colab-df-convert');\n",
              "        buttonEl.style.display =\n",
              "          google.colab.kernel.accessAllowed ? 'block' : 'none';\n",
              "\n",
              "        async function convertToInteractive(key) {\n",
              "          const element = document.querySelector('#df-a7bc5e2a-03e4-4de1-a780-caa87118ffac');\n",
              "          const dataTable =\n",
              "            await google.colab.kernel.invokeFunction('convertToInteractive',\n",
              "                                                     [key], {});\n",
              "          if (!dataTable) return;\n",
              "\n",
              "          const docLinkHtml = 'Like what you see? Visit the ' +\n",
              "            '<a target=\"_blank\" href=https://colab.research.google.com/notebooks/data_table.ipynb>data table notebook</a>'\n",
              "            + ' to learn more about interactive tables.';\n",
              "          element.innerHTML = '';\n",
              "          dataTable['output_type'] = 'display_data';\n",
              "          await google.colab.output.renderOutput(dataTable, element);\n",
              "          const docLink = document.createElement('div');\n",
              "          docLink.innerHTML = docLinkHtml;\n",
              "          element.appendChild(docLink);\n",
              "        }\n",
              "      </script>\n",
              "    </div>\n",
              "  </div>\n",
              "  "
            ]
          },
          "metadata": {},
          "execution_count": 63
        }
      ]
    },
    {
      "cell_type": "code",
      "source": [
        "# keep only relevant columns, name and creator\n",
        "heroes_pred_creator = pd.DataFrame(heroes_pred[['name', 'creator']])\n",
        "heroes_pred_creator"
      ],
      "metadata": {
        "id": "I-QENJd_QBdg",
        "colab": {
          "base_uri": "https://localhost:8080/",
          "height": 143
        },
        "outputId": "6be8097f-3b34-478e-a91d-8740a7f7ffa0"
      },
      "execution_count": 64,
      "outputs": [
        {
          "output_type": "execute_result",
          "data": {
            "text/plain": [
              "             name        creator\n",
              "370      Deadpool  Marvel Comics\n",
              "566  Harley Quinn      DC Comics\n",
              "616          Hulk  Marvel Comics"
            ],
            "text/html": [
              "\n",
              "  <div id=\"df-e04de36b-14c0-4bb0-8276-f6d5257812f1\">\n",
              "    <div class=\"colab-df-container\">\n",
              "      <div>\n",
              "<style scoped>\n",
              "    .dataframe tbody tr th:only-of-type {\n",
              "        vertical-align: middle;\n",
              "    }\n",
              "\n",
              "    .dataframe tbody tr th {\n",
              "        vertical-align: top;\n",
              "    }\n",
              "\n",
              "    .dataframe thead th {\n",
              "        text-align: right;\n",
              "    }\n",
              "</style>\n",
              "<table border=\"1\" class=\"dataframe\">\n",
              "  <thead>\n",
              "    <tr style=\"text-align: right;\">\n",
              "      <th></th>\n",
              "      <th>name</th>\n",
              "      <th>creator</th>\n",
              "    </tr>\n",
              "  </thead>\n",
              "  <tbody>\n",
              "    <tr>\n",
              "      <th>370</th>\n",
              "      <td>Deadpool</td>\n",
              "      <td>Marvel Comics</td>\n",
              "    </tr>\n",
              "    <tr>\n",
              "      <th>566</th>\n",
              "      <td>Harley Quinn</td>\n",
              "      <td>DC Comics</td>\n",
              "    </tr>\n",
              "    <tr>\n",
              "      <th>616</th>\n",
              "      <td>Hulk</td>\n",
              "      <td>Marvel Comics</td>\n",
              "    </tr>\n",
              "  </tbody>\n",
              "</table>\n",
              "</div>\n",
              "      <button class=\"colab-df-convert\" onclick=\"convertToInteractive('df-e04de36b-14c0-4bb0-8276-f6d5257812f1')\"\n",
              "              title=\"Convert this dataframe to an interactive table.\"\n",
              "              style=\"display:none;\">\n",
              "        \n",
              "  <svg xmlns=\"http://www.w3.org/2000/svg\" height=\"24px\"viewBox=\"0 0 24 24\"\n",
              "       width=\"24px\">\n",
              "    <path d=\"M0 0h24v24H0V0z\" fill=\"none\"/>\n",
              "    <path d=\"M18.56 5.44l.94 2.06.94-2.06 2.06-.94-2.06-.94-.94-2.06-.94 2.06-2.06.94zm-11 1L8.5 8.5l.94-2.06 2.06-.94-2.06-.94L8.5 2.5l-.94 2.06-2.06.94zm10 10l.94 2.06.94-2.06 2.06-.94-2.06-.94-.94-2.06-.94 2.06-2.06.94z\"/><path d=\"M17.41 7.96l-1.37-1.37c-.4-.4-.92-.59-1.43-.59-.52 0-1.04.2-1.43.59L10.3 9.45l-7.72 7.72c-.78.78-.78 2.05 0 2.83L4 21.41c.39.39.9.59 1.41.59.51 0 1.02-.2 1.41-.59l7.78-7.78 2.81-2.81c.8-.78.8-2.07 0-2.86zM5.41 20L4 18.59l7.72-7.72 1.47 1.35L5.41 20z\"/>\n",
              "  </svg>\n",
              "      </button>\n",
              "      \n",
              "  <style>\n",
              "    .colab-df-container {\n",
              "      display:flex;\n",
              "      flex-wrap:wrap;\n",
              "      gap: 12px;\n",
              "    }\n",
              "\n",
              "    .colab-df-convert {\n",
              "      background-color: #E8F0FE;\n",
              "      border: none;\n",
              "      border-radius: 50%;\n",
              "      cursor: pointer;\n",
              "      display: none;\n",
              "      fill: #1967D2;\n",
              "      height: 32px;\n",
              "      padding: 0 0 0 0;\n",
              "      width: 32px;\n",
              "    }\n",
              "\n",
              "    .colab-df-convert:hover {\n",
              "      background-color: #E2EBFA;\n",
              "      box-shadow: 0px 1px 2px rgba(60, 64, 67, 0.3), 0px 1px 3px 1px rgba(60, 64, 67, 0.15);\n",
              "      fill: #174EA6;\n",
              "    }\n",
              "\n",
              "    [theme=dark] .colab-df-convert {\n",
              "      background-color: #3B4455;\n",
              "      fill: #D2E3FC;\n",
              "    }\n",
              "\n",
              "    [theme=dark] .colab-df-convert:hover {\n",
              "      background-color: #434B5C;\n",
              "      box-shadow: 0px 1px 3px 1px rgba(0, 0, 0, 0.15);\n",
              "      filter: drop-shadow(0px 1px 2px rgba(0, 0, 0, 0.3));\n",
              "      fill: #FFFFFF;\n",
              "    }\n",
              "  </style>\n",
              "\n",
              "      <script>\n",
              "        const buttonEl =\n",
              "          document.querySelector('#df-e04de36b-14c0-4bb0-8276-f6d5257812f1 button.colab-df-convert');\n",
              "        buttonEl.style.display =\n",
              "          google.colab.kernel.accessAllowed ? 'block' : 'none';\n",
              "\n",
              "        async function convertToInteractive(key) {\n",
              "          const element = document.querySelector('#df-e04de36b-14c0-4bb0-8276-f6d5257812f1');\n",
              "          const dataTable =\n",
              "            await google.colab.kernel.invokeFunction('convertToInteractive',\n",
              "                                                     [key], {});\n",
              "          if (!dataTable) return;\n",
              "\n",
              "          const docLinkHtml = 'Like what you see? Visit the ' +\n",
              "            '<a target=\"_blank\" href=https://colab.research.google.com/notebooks/data_table.ipynb>data table notebook</a>'\n",
              "            + ' to learn more about interactive tables.';\n",
              "          element.innerHTML = '';\n",
              "          dataTable['output_type'] = 'display_data';\n",
              "          await google.colab.output.renderOutput(dataTable, element);\n",
              "          const docLink = document.createElement('div');\n",
              "          docLink.innerHTML = docLinkHtml;\n",
              "          element.appendChild(docLink);\n",
              "        }\n",
              "      </script>\n",
              "    </div>\n",
              "  </div>\n",
              "  "
            ]
          },
          "metadata": {},
          "execution_count": 64
        }
      ]
    },
    {
      "cell_type": "markdown",
      "source": [
        "Observe that Deadpool and Hulk are created by Marvel Comics, and Harley Quinn is created by DC Comics."
      ],
      "metadata": {
        "id": "Lb8XPUE7xKbH"
      }
    },
    {
      "cell_type": "code",
      "source": [
        "# Extract Predictors for Prediction\n",
        "predictors = [\"overall_score\", \"intelligence_score\", \"strength_score\", \"speed_score\", \"durability_score\",\t\"power_score\", \"combat_score\"]\n",
        "x_pred = pd.DataFrame(heroes_pred[predictors])\n",
        "\n",
        "# Predict Response corresponding to Predictors\n",
        "y_pred = dectree.predict(x_pred)\n",
        "y_pred"
      ],
      "metadata": {
        "id": "z34H6R3ZNckk",
        "colab": {
          "base_uri": "https://localhost:8080/"
        },
        "outputId": "dfb8a3a5-0a42-4c4d-be19-37830d41724d"
      },
      "execution_count": 65,
      "outputs": [
        {
          "output_type": "execute_result",
          "data": {
            "text/plain": [
              "array(['Marvel Comics', 'DC Comics', 'Marvel Comics'], dtype=object)"
            ]
          },
          "metadata": {},
          "execution_count": 65
        }
      ]
    },
    {
      "cell_type": "code",
      "source": [
        "# Compare actual creators with predictions\n",
        "# creator_pred is the predicted creator by the dectree model\n",
        "y_pred = pd.DataFrame(y_pred, columns = [\"creator_pred\"], index = heroes_pred.index)\n",
        "heroes_acc = pd.concat([heroes_pred[[\"name\", \"creator\"]], y_pred], axis = 1)\n",
        "\n",
        "heroes_acc"
      ],
      "metadata": {
        "id": "u4yMPMU3NciZ",
        "colab": {
          "base_uri": "https://localhost:8080/",
          "height": 143
        },
        "outputId": "231205b6-7918-49eb-bdf2-43622d5ced8a"
      },
      "execution_count": 66,
      "outputs": [
        {
          "output_type": "execute_result",
          "data": {
            "text/plain": [
              "             name        creator   creator_pred\n",
              "370      Deadpool  Marvel Comics  Marvel Comics\n",
              "566  Harley Quinn      DC Comics      DC Comics\n",
              "616          Hulk  Marvel Comics  Marvel Comics"
            ],
            "text/html": [
              "\n",
              "  <div id=\"df-f54369d7-33ec-4481-82c2-fcb489a9d745\">\n",
              "    <div class=\"colab-df-container\">\n",
              "      <div>\n",
              "<style scoped>\n",
              "    .dataframe tbody tr th:only-of-type {\n",
              "        vertical-align: middle;\n",
              "    }\n",
              "\n",
              "    .dataframe tbody tr th {\n",
              "        vertical-align: top;\n",
              "    }\n",
              "\n",
              "    .dataframe thead th {\n",
              "        text-align: right;\n",
              "    }\n",
              "</style>\n",
              "<table border=\"1\" class=\"dataframe\">\n",
              "  <thead>\n",
              "    <tr style=\"text-align: right;\">\n",
              "      <th></th>\n",
              "      <th>name</th>\n",
              "      <th>creator</th>\n",
              "      <th>creator_pred</th>\n",
              "    </tr>\n",
              "  </thead>\n",
              "  <tbody>\n",
              "    <tr>\n",
              "      <th>370</th>\n",
              "      <td>Deadpool</td>\n",
              "      <td>Marvel Comics</td>\n",
              "      <td>Marvel Comics</td>\n",
              "    </tr>\n",
              "    <tr>\n",
              "      <th>566</th>\n",
              "      <td>Harley Quinn</td>\n",
              "      <td>DC Comics</td>\n",
              "      <td>DC Comics</td>\n",
              "    </tr>\n",
              "    <tr>\n",
              "      <th>616</th>\n",
              "      <td>Hulk</td>\n",
              "      <td>Marvel Comics</td>\n",
              "      <td>Marvel Comics</td>\n",
              "    </tr>\n",
              "  </tbody>\n",
              "</table>\n",
              "</div>\n",
              "      <button class=\"colab-df-convert\" onclick=\"convertToInteractive('df-f54369d7-33ec-4481-82c2-fcb489a9d745')\"\n",
              "              title=\"Convert this dataframe to an interactive table.\"\n",
              "              style=\"display:none;\">\n",
              "        \n",
              "  <svg xmlns=\"http://www.w3.org/2000/svg\" height=\"24px\"viewBox=\"0 0 24 24\"\n",
              "       width=\"24px\">\n",
              "    <path d=\"M0 0h24v24H0V0z\" fill=\"none\"/>\n",
              "    <path d=\"M18.56 5.44l.94 2.06.94-2.06 2.06-.94-2.06-.94-.94-2.06-.94 2.06-2.06.94zm-11 1L8.5 8.5l.94-2.06 2.06-.94-2.06-.94L8.5 2.5l-.94 2.06-2.06.94zm10 10l.94 2.06.94-2.06 2.06-.94-2.06-.94-.94-2.06-.94 2.06-2.06.94z\"/><path d=\"M17.41 7.96l-1.37-1.37c-.4-.4-.92-.59-1.43-.59-.52 0-1.04.2-1.43.59L10.3 9.45l-7.72 7.72c-.78.78-.78 2.05 0 2.83L4 21.41c.39.39.9.59 1.41.59.51 0 1.02-.2 1.41-.59l7.78-7.78 2.81-2.81c.8-.78.8-2.07 0-2.86zM5.41 20L4 18.59l7.72-7.72 1.47 1.35L5.41 20z\"/>\n",
              "  </svg>\n",
              "      </button>\n",
              "      \n",
              "  <style>\n",
              "    .colab-df-container {\n",
              "      display:flex;\n",
              "      flex-wrap:wrap;\n",
              "      gap: 12px;\n",
              "    }\n",
              "\n",
              "    .colab-df-convert {\n",
              "      background-color: #E8F0FE;\n",
              "      border: none;\n",
              "      border-radius: 50%;\n",
              "      cursor: pointer;\n",
              "      display: none;\n",
              "      fill: #1967D2;\n",
              "      height: 32px;\n",
              "      padding: 0 0 0 0;\n",
              "      width: 32px;\n",
              "    }\n",
              "\n",
              "    .colab-df-convert:hover {\n",
              "      background-color: #E2EBFA;\n",
              "      box-shadow: 0px 1px 2px rgba(60, 64, 67, 0.3), 0px 1px 3px 1px rgba(60, 64, 67, 0.15);\n",
              "      fill: #174EA6;\n",
              "    }\n",
              "\n",
              "    [theme=dark] .colab-df-convert {\n",
              "      background-color: #3B4455;\n",
              "      fill: #D2E3FC;\n",
              "    }\n",
              "\n",
              "    [theme=dark] .colab-df-convert:hover {\n",
              "      background-color: #434B5C;\n",
              "      box-shadow: 0px 1px 3px 1px rgba(0, 0, 0, 0.15);\n",
              "      filter: drop-shadow(0px 1px 2px rgba(0, 0, 0, 0.3));\n",
              "      fill: #FFFFFF;\n",
              "    }\n",
              "  </style>\n",
              "\n",
              "      <script>\n",
              "        const buttonEl =\n",
              "          document.querySelector('#df-f54369d7-33ec-4481-82c2-fcb489a9d745 button.colab-df-convert');\n",
              "        buttonEl.style.display =\n",
              "          google.colab.kernel.accessAllowed ? 'block' : 'none';\n",
              "\n",
              "        async function convertToInteractive(key) {\n",
              "          const element = document.querySelector('#df-f54369d7-33ec-4481-82c2-fcb489a9d745');\n",
              "          const dataTable =\n",
              "            await google.colab.kernel.invokeFunction('convertToInteractive',\n",
              "                                                     [key], {});\n",
              "          if (!dataTable) return;\n",
              "\n",
              "          const docLinkHtml = 'Like what you see? Visit the ' +\n",
              "            '<a target=\"_blank\" href=https://colab.research.google.com/notebooks/data_table.ipynb>data table notebook</a>'\n",
              "            + ' to learn more about interactive tables.';\n",
              "          element.innerHTML = '';\n",
              "          dataTable['output_type'] = 'display_data';\n",
              "          await google.colab.output.renderOutput(dataTable, element);\n",
              "          const docLink = document.createElement('div');\n",
              "          docLink.innerHTML = docLinkHtml;\n",
              "          element.appendChild(docLink);\n",
              "        }\n",
              "      </script>\n",
              "    </div>\n",
              "  </div>\n",
              "  "
            ]
          },
          "metadata": {},
          "execution_count": 66
        }
      ]
    },
    {
      "cell_type": "code",
      "source": [
        "# Predict Probabilities corresponding to Predictors\n",
        "y_prob = dectree.predict_proba(x_pred)\n",
        "y_prob"
      ],
      "metadata": {
        "id": "qlqI9WuGTM_r",
        "colab": {
          "base_uri": "https://localhost:8080/"
        },
        "outputId": "15db6f78-1c98-4acf-df41-25a381334f55"
      },
      "execution_count": 67,
      "outputs": [
        {
          "output_type": "execute_result",
          "data": {
            "text/plain": [
              "array([[0.34337349, 0.65662651],\n",
              "       [0.7037037 , 0.2962963 ],\n",
              "       [0.34337349, 0.65662651]])"
            ]
          },
          "metadata": {},
          "execution_count": 67
        }
      ]
    },
    {
      "cell_type": "code",
      "source": [
        "# Summarize the Probabilities with the Predictions\n",
        "# marvel_prob is probability that character is created by Marvel Comics\n",
        "y_prob = pd.DataFrame(list(y_prob[:,1]), columns = [\"marvel_prob\"], index = heroes_pred.index)\n",
        "heroes_pred_prob = pd.concat([heroes_acc, y_prob], axis = 1)\n",
        "\n",
        "heroes_pred_prob"
      ],
      "metadata": {
        "id": "teaOM6V6S-Ge",
        "colab": {
          "base_uri": "https://localhost:8080/",
          "height": 143
        },
        "outputId": "31580a16-495e-4c4d-b9ce-397bd9e17b65"
      },
      "execution_count": 68,
      "outputs": [
        {
          "output_type": "execute_result",
          "data": {
            "text/plain": [
              "             name        creator   creator_pred  marvel_prob\n",
              "370      Deadpool  Marvel Comics  Marvel Comics     0.656627\n",
              "566  Harley Quinn      DC Comics      DC Comics     0.296296\n",
              "616          Hulk  Marvel Comics  Marvel Comics     0.656627"
            ],
            "text/html": [
              "\n",
              "  <div id=\"df-4d8cb3be-8537-4a99-bbef-b94d5063af1d\">\n",
              "    <div class=\"colab-df-container\">\n",
              "      <div>\n",
              "<style scoped>\n",
              "    .dataframe tbody tr th:only-of-type {\n",
              "        vertical-align: middle;\n",
              "    }\n",
              "\n",
              "    .dataframe tbody tr th {\n",
              "        vertical-align: top;\n",
              "    }\n",
              "\n",
              "    .dataframe thead th {\n",
              "        text-align: right;\n",
              "    }\n",
              "</style>\n",
              "<table border=\"1\" class=\"dataframe\">\n",
              "  <thead>\n",
              "    <tr style=\"text-align: right;\">\n",
              "      <th></th>\n",
              "      <th>name</th>\n",
              "      <th>creator</th>\n",
              "      <th>creator_pred</th>\n",
              "      <th>marvel_prob</th>\n",
              "    </tr>\n",
              "  </thead>\n",
              "  <tbody>\n",
              "    <tr>\n",
              "      <th>370</th>\n",
              "      <td>Deadpool</td>\n",
              "      <td>Marvel Comics</td>\n",
              "      <td>Marvel Comics</td>\n",
              "      <td>0.656627</td>\n",
              "    </tr>\n",
              "    <tr>\n",
              "      <th>566</th>\n",
              "      <td>Harley Quinn</td>\n",
              "      <td>DC Comics</td>\n",
              "      <td>DC Comics</td>\n",
              "      <td>0.296296</td>\n",
              "    </tr>\n",
              "    <tr>\n",
              "      <th>616</th>\n",
              "      <td>Hulk</td>\n",
              "      <td>Marvel Comics</td>\n",
              "      <td>Marvel Comics</td>\n",
              "      <td>0.656627</td>\n",
              "    </tr>\n",
              "  </tbody>\n",
              "</table>\n",
              "</div>\n",
              "      <button class=\"colab-df-convert\" onclick=\"convertToInteractive('df-4d8cb3be-8537-4a99-bbef-b94d5063af1d')\"\n",
              "              title=\"Convert this dataframe to an interactive table.\"\n",
              "              style=\"display:none;\">\n",
              "        \n",
              "  <svg xmlns=\"http://www.w3.org/2000/svg\" height=\"24px\"viewBox=\"0 0 24 24\"\n",
              "       width=\"24px\">\n",
              "    <path d=\"M0 0h24v24H0V0z\" fill=\"none\"/>\n",
              "    <path d=\"M18.56 5.44l.94 2.06.94-2.06 2.06-.94-2.06-.94-.94-2.06-.94 2.06-2.06.94zm-11 1L8.5 8.5l.94-2.06 2.06-.94-2.06-.94L8.5 2.5l-.94 2.06-2.06.94zm10 10l.94 2.06.94-2.06 2.06-.94-2.06-.94-.94-2.06-.94 2.06-2.06.94z\"/><path d=\"M17.41 7.96l-1.37-1.37c-.4-.4-.92-.59-1.43-.59-.52 0-1.04.2-1.43.59L10.3 9.45l-7.72 7.72c-.78.78-.78 2.05 0 2.83L4 21.41c.39.39.9.59 1.41.59.51 0 1.02-.2 1.41-.59l7.78-7.78 2.81-2.81c.8-.78.8-2.07 0-2.86zM5.41 20L4 18.59l7.72-7.72 1.47 1.35L5.41 20z\"/>\n",
              "  </svg>\n",
              "      </button>\n",
              "      \n",
              "  <style>\n",
              "    .colab-df-container {\n",
              "      display:flex;\n",
              "      flex-wrap:wrap;\n",
              "      gap: 12px;\n",
              "    }\n",
              "\n",
              "    .colab-df-convert {\n",
              "      background-color: #E8F0FE;\n",
              "      border: none;\n",
              "      border-radius: 50%;\n",
              "      cursor: pointer;\n",
              "      display: none;\n",
              "      fill: #1967D2;\n",
              "      height: 32px;\n",
              "      padding: 0 0 0 0;\n",
              "      width: 32px;\n",
              "    }\n",
              "\n",
              "    .colab-df-convert:hover {\n",
              "      background-color: #E2EBFA;\n",
              "      box-shadow: 0px 1px 2px rgba(60, 64, 67, 0.3), 0px 1px 3px 1px rgba(60, 64, 67, 0.15);\n",
              "      fill: #174EA6;\n",
              "    }\n",
              "\n",
              "    [theme=dark] .colab-df-convert {\n",
              "      background-color: #3B4455;\n",
              "      fill: #D2E3FC;\n",
              "    }\n",
              "\n",
              "    [theme=dark] .colab-df-convert:hover {\n",
              "      background-color: #434B5C;\n",
              "      box-shadow: 0px 1px 3px 1px rgba(0, 0, 0, 0.15);\n",
              "      filter: drop-shadow(0px 1px 2px rgba(0, 0, 0, 0.3));\n",
              "      fill: #FFFFFF;\n",
              "    }\n",
              "  </style>\n",
              "\n",
              "      <script>\n",
              "        const buttonEl =\n",
              "          document.querySelector('#df-4d8cb3be-8537-4a99-bbef-b94d5063af1d button.colab-df-convert');\n",
              "        buttonEl.style.display =\n",
              "          google.colab.kernel.accessAllowed ? 'block' : 'none';\n",
              "\n",
              "        async function convertToInteractive(key) {\n",
              "          const element = document.querySelector('#df-4d8cb3be-8537-4a99-bbef-b94d5063af1d');\n",
              "          const dataTable =\n",
              "            await google.colab.kernel.invokeFunction('convertToInteractive',\n",
              "                                                     [key], {});\n",
              "          if (!dataTable) return;\n",
              "\n",
              "          const docLinkHtml = 'Like what you see? Visit the ' +\n",
              "            '<a target=\"_blank\" href=https://colab.research.google.com/notebooks/data_table.ipynb>data table notebook</a>'\n",
              "            + ' to learn more about interactive tables.';\n",
              "          element.innerHTML = '';\n",
              "          dataTable['output_type'] = 'display_data';\n",
              "          await google.colab.output.renderOutput(dataTable, element);\n",
              "          const docLink = document.createElement('div');\n",
              "          docLink.innerHTML = docLinkHtml;\n",
              "          element.appendChild(docLink);\n",
              "        }\n",
              "      </script>\n",
              "    </div>\n",
              "  </div>\n",
              "  "
            ]
          },
          "metadata": {},
          "execution_count": 68
        }
      ]
    },
    {
      "cell_type": "markdown",
      "source": [
        "Using Classification Tree, we have successfully predicted the creators for 3 superheroes namely, Deadpool, Harley Quinn and Hulk correctly. Although it made the correct predictions, the probabilty is quite low on average. \n",
        "\n",
        "With that in mind, we would like to explore predicting a superhero's creator using Natural Language Processing, based on each hero's own description/history_text.\n",
        "\n",
        "---"
      ],
      "metadata": {
        "id": "GDZlxk8yR66A"
      }
    },
    {
      "cell_type": "markdown",
      "source": [
        "# **Natural Language Processing**\n",
        "\n",
        "Firstly, let us create another dataframe from the original dataframe with only the history_text and creator columns."
      ],
      "metadata": {
        "id": "qpHfZMDK-qLm"
      }
    },
    {
      "cell_type": "code",
      "source": [
        "# new dataframe with only relevant columns\n",
        "historyData = heroesData[[\"history_text\", \"creator\"]]\n",
        "historyData"
      ],
      "metadata": {
        "id": "6m76Aqtz_laF",
        "colab": {
          "base_uri": "https://localhost:8080/",
          "height": 423
        },
        "outputId": "897c4a55-afe9-4f62-aab1-6b9909804056"
      },
      "execution_count": 69,
      "outputs": [
        {
          "output_type": "execute_result",
          "data": {
            "text/plain": [
              "                                           history_text        creator\n",
              "0     Delroy Garrett, Jr. grew up to become a track ...  Marvel Comics\n",
              "1     He was one of the many prisoners of Indian Hil...      DC Comics\n",
              "2      Richard \"Rick\" Jones was orphaned at a young ...  Marvel Comics\n",
              "3     Aa is one of the more passive members of the P...      DC Comics\n",
              "4     Aaron Cash is the head of security at Arkham A...      DC Comics\n",
              "...                                                 ...            ...\n",
              "1445  Zatanna is the daughter of adventurer John Zat...      DC Comics\n",
              "1446   Zero was created by the late Dr. Albert Wily ...         Capcom\n",
              "1447  Hunter Zolomon is better known as Zoom, a spee...      DC Comics\n",
              "1448   Hunter Zolomon had a troubled relationship wi...      DC Comics\n",
              "1449  Zzzax was the product of an accident that occu...  Marvel Comics\n",
              "\n",
              "[1450 rows x 2 columns]"
            ],
            "text/html": [
              "\n",
              "  <div id=\"df-6b36ced6-b6f3-41e6-9f0b-d74dd99f348b\">\n",
              "    <div class=\"colab-df-container\">\n",
              "      <div>\n",
              "<style scoped>\n",
              "    .dataframe tbody tr th:only-of-type {\n",
              "        vertical-align: middle;\n",
              "    }\n",
              "\n",
              "    .dataframe tbody tr th {\n",
              "        vertical-align: top;\n",
              "    }\n",
              "\n",
              "    .dataframe thead th {\n",
              "        text-align: right;\n",
              "    }\n",
              "</style>\n",
              "<table border=\"1\" class=\"dataframe\">\n",
              "  <thead>\n",
              "    <tr style=\"text-align: right;\">\n",
              "      <th></th>\n",
              "      <th>history_text</th>\n",
              "      <th>creator</th>\n",
              "    </tr>\n",
              "  </thead>\n",
              "  <tbody>\n",
              "    <tr>\n",
              "      <th>0</th>\n",
              "      <td>Delroy Garrett, Jr. grew up to become a track ...</td>\n",
              "      <td>Marvel Comics</td>\n",
              "    </tr>\n",
              "    <tr>\n",
              "      <th>1</th>\n",
              "      <td>He was one of the many prisoners of Indian Hil...</td>\n",
              "      <td>DC Comics</td>\n",
              "    </tr>\n",
              "    <tr>\n",
              "      <th>2</th>\n",
              "      <td>Richard \"Rick\" Jones was orphaned at a young ...</td>\n",
              "      <td>Marvel Comics</td>\n",
              "    </tr>\n",
              "    <tr>\n",
              "      <th>3</th>\n",
              "      <td>Aa is one of the more passive members of the P...</td>\n",
              "      <td>DC Comics</td>\n",
              "    </tr>\n",
              "    <tr>\n",
              "      <th>4</th>\n",
              "      <td>Aaron Cash is the head of security at Arkham A...</td>\n",
              "      <td>DC Comics</td>\n",
              "    </tr>\n",
              "    <tr>\n",
              "      <th>...</th>\n",
              "      <td>...</td>\n",
              "      <td>...</td>\n",
              "    </tr>\n",
              "    <tr>\n",
              "      <th>1445</th>\n",
              "      <td>Zatanna is the daughter of adventurer John Zat...</td>\n",
              "      <td>DC Comics</td>\n",
              "    </tr>\n",
              "    <tr>\n",
              "      <th>1446</th>\n",
              "      <td>Zero was created by the late Dr. Albert Wily ...</td>\n",
              "      <td>Capcom</td>\n",
              "    </tr>\n",
              "    <tr>\n",
              "      <th>1447</th>\n",
              "      <td>Hunter Zolomon is better known as Zoom, a spee...</td>\n",
              "      <td>DC Comics</td>\n",
              "    </tr>\n",
              "    <tr>\n",
              "      <th>1448</th>\n",
              "      <td>Hunter Zolomon had a troubled relationship wi...</td>\n",
              "      <td>DC Comics</td>\n",
              "    </tr>\n",
              "    <tr>\n",
              "      <th>1449</th>\n",
              "      <td>Zzzax was the product of an accident that occu...</td>\n",
              "      <td>Marvel Comics</td>\n",
              "    </tr>\n",
              "  </tbody>\n",
              "</table>\n",
              "<p>1450 rows × 2 columns</p>\n",
              "</div>\n",
              "      <button class=\"colab-df-convert\" onclick=\"convertToInteractive('df-6b36ced6-b6f3-41e6-9f0b-d74dd99f348b')\"\n",
              "              title=\"Convert this dataframe to an interactive table.\"\n",
              "              style=\"display:none;\">\n",
              "        \n",
              "  <svg xmlns=\"http://www.w3.org/2000/svg\" height=\"24px\"viewBox=\"0 0 24 24\"\n",
              "       width=\"24px\">\n",
              "    <path d=\"M0 0h24v24H0V0z\" fill=\"none\"/>\n",
              "    <path d=\"M18.56 5.44l.94 2.06.94-2.06 2.06-.94-2.06-.94-.94-2.06-.94 2.06-2.06.94zm-11 1L8.5 8.5l.94-2.06 2.06-.94-2.06-.94L8.5 2.5l-.94 2.06-2.06.94zm10 10l.94 2.06.94-2.06 2.06-.94-2.06-.94-.94-2.06-.94 2.06-2.06.94z\"/><path d=\"M17.41 7.96l-1.37-1.37c-.4-.4-.92-.59-1.43-.59-.52 0-1.04.2-1.43.59L10.3 9.45l-7.72 7.72c-.78.78-.78 2.05 0 2.83L4 21.41c.39.39.9.59 1.41.59.51 0 1.02-.2 1.41-.59l7.78-7.78 2.81-2.81c.8-.78.8-2.07 0-2.86zM5.41 20L4 18.59l7.72-7.72 1.47 1.35L5.41 20z\"/>\n",
              "  </svg>\n",
              "      </button>\n",
              "      \n",
              "  <style>\n",
              "    .colab-df-container {\n",
              "      display:flex;\n",
              "      flex-wrap:wrap;\n",
              "      gap: 12px;\n",
              "    }\n",
              "\n",
              "    .colab-df-convert {\n",
              "      background-color: #E8F0FE;\n",
              "      border: none;\n",
              "      border-radius: 50%;\n",
              "      cursor: pointer;\n",
              "      display: none;\n",
              "      fill: #1967D2;\n",
              "      height: 32px;\n",
              "      padding: 0 0 0 0;\n",
              "      width: 32px;\n",
              "    }\n",
              "\n",
              "    .colab-df-convert:hover {\n",
              "      background-color: #E2EBFA;\n",
              "      box-shadow: 0px 1px 2px rgba(60, 64, 67, 0.3), 0px 1px 3px 1px rgba(60, 64, 67, 0.15);\n",
              "      fill: #174EA6;\n",
              "    }\n",
              "\n",
              "    [theme=dark] .colab-df-convert {\n",
              "      background-color: #3B4455;\n",
              "      fill: #D2E3FC;\n",
              "    }\n",
              "\n",
              "    [theme=dark] .colab-df-convert:hover {\n",
              "      background-color: #434B5C;\n",
              "      box-shadow: 0px 1px 3px 1px rgba(0, 0, 0, 0.15);\n",
              "      filter: drop-shadow(0px 1px 2px rgba(0, 0, 0, 0.3));\n",
              "      fill: #FFFFFF;\n",
              "    }\n",
              "  </style>\n",
              "\n",
              "      <script>\n",
              "        const buttonEl =\n",
              "          document.querySelector('#df-6b36ced6-b6f3-41e6-9f0b-d74dd99f348b button.colab-df-convert');\n",
              "        buttonEl.style.display =\n",
              "          google.colab.kernel.accessAllowed ? 'block' : 'none';\n",
              "\n",
              "        async function convertToInteractive(key) {\n",
              "          const element = document.querySelector('#df-6b36ced6-b6f3-41e6-9f0b-d74dd99f348b');\n",
              "          const dataTable =\n",
              "            await google.colab.kernel.invokeFunction('convertToInteractive',\n",
              "                                                     [key], {});\n",
              "          if (!dataTable) return;\n",
              "\n",
              "          const docLinkHtml = 'Like what you see? Visit the ' +\n",
              "            '<a target=\"_blank\" href=https://colab.research.google.com/notebooks/data_table.ipynb>data table notebook</a>'\n",
              "            + ' to learn more about interactive tables.';\n",
              "          element.innerHTML = '';\n",
              "          dataTable['output_type'] = 'display_data';\n",
              "          await google.colab.output.renderOutput(dataTable, element);\n",
              "          const docLink = document.createElement('div');\n",
              "          docLink.innerHTML = docLinkHtml;\n",
              "          element.appendChild(docLink);\n",
              "        }\n",
              "      </script>\n",
              "    </div>\n",
              "  </div>\n",
              "  "
            ]
          },
          "metadata": {},
          "execution_count": 69
        }
      ]
    },
    {
      "cell_type": "code",
      "source": [
        "historyData.info()"
      ],
      "metadata": {
        "id": "xkp7bcS0AdsW",
        "colab": {
          "base_uri": "https://localhost:8080/"
        },
        "outputId": "7c58f67e-783d-427f-eb08-7a438167ed27"
      },
      "execution_count": 70,
      "outputs": [
        {
          "output_type": "stream",
          "name": "stdout",
          "text": [
            "<class 'pandas.core.frame.DataFrame'>\n",
            "RangeIndex: 1450 entries, 0 to 1449\n",
            "Data columns (total 2 columns):\n",
            " #   Column        Non-Null Count  Dtype \n",
            "---  ------        --------------  ----- \n",
            " 0   history_text  1360 non-null   object\n",
            " 1   creator       1311 non-null   object\n",
            "dtypes: object(2)\n",
            "memory usage: 22.8+ KB\n"
          ]
        }
      ]
    },
    {
      "cell_type": "markdown",
      "source": [
        "As before, we need to clean the dataset by removing NaN values, as well as any characters not created by Marvel Comics or DC Comics."
      ],
      "metadata": {
        "id": "Y31C7n1cAmkN"
      }
    },
    {
      "cell_type": "code",
      "source": [
        "# set non-Marvel/DC creators to NaN\n",
        "historyData.loc[((historyData['creator'] != \"Marvel Comics\") & (historyData['creator'] != \"DC Comics\")),'creator'] = np.NaN\n",
        "\n",
        "# remove all NaN values\n",
        "historyData = historyData.dropna()\n",
        "historyData"
      ],
      "metadata": {
        "id": "O96vnctrNHN7",
        "colab": {
          "base_uri": "https://localhost:8080/",
          "height": 607
        },
        "outputId": "36720d69-a7b1-4da5-8e32-f1b4d27c58c6"
      },
      "execution_count": 71,
      "outputs": [
        {
          "output_type": "stream",
          "name": "stderr",
          "text": [
            "/usr/local/lib/python3.7/dist-packages/pandas/core/indexing.py:1732: SettingWithCopyWarning: \n",
            "A value is trying to be set on a copy of a slice from a DataFrame\n",
            "\n",
            "See the caveats in the documentation: https://pandas.pydata.org/pandas-docs/stable/user_guide/indexing.html#returning-a-view-versus-a-copy\n",
            "  self._setitem_single_block(indexer, value, name)\n",
            "/usr/local/lib/python3.7/dist-packages/pandas/core/indexing.py:723: SettingWithCopyWarning: \n",
            "A value is trying to be set on a copy of a slice from a DataFrame\n",
            "\n",
            "See the caveats in the documentation: https://pandas.pydata.org/pandas-docs/stable/user_guide/indexing.html#returning-a-view-versus-a-copy\n",
            "  iloc._setitem_with_indexer(indexer, value, self.name)\n"
          ]
        },
        {
          "output_type": "execute_result",
          "data": {
            "text/plain": [
              "                                           history_text        creator\n",
              "0     Delroy Garrett, Jr. grew up to become a track ...  Marvel Comics\n",
              "1     He was one of the many prisoners of Indian Hil...      DC Comics\n",
              "2      Richard \"Rick\" Jones was orphaned at a young ...  Marvel Comics\n",
              "3     Aa is one of the more passive members of the P...      DC Comics\n",
              "4     Aaron Cash is the head of security at Arkham A...      DC Comics\n",
              "...                                                 ...            ...\n",
              "1443  Little is known about the early life of the ad...  Marvel Comics\n",
              "1445  Zatanna is the daughter of adventurer John Zat...      DC Comics\n",
              "1447  Hunter Zolomon is better known as Zoom, a spee...      DC Comics\n",
              "1448   Hunter Zolomon had a troubled relationship wi...      DC Comics\n",
              "1449  Zzzax was the product of an accident that occu...  Marvel Comics\n",
              "\n",
              "[997 rows x 2 columns]"
            ],
            "text/html": [
              "\n",
              "  <div id=\"df-9efecbf0-cd80-4c3c-baa4-40b4f06e7c86\">\n",
              "    <div class=\"colab-df-container\">\n",
              "      <div>\n",
              "<style scoped>\n",
              "    .dataframe tbody tr th:only-of-type {\n",
              "        vertical-align: middle;\n",
              "    }\n",
              "\n",
              "    .dataframe tbody tr th {\n",
              "        vertical-align: top;\n",
              "    }\n",
              "\n",
              "    .dataframe thead th {\n",
              "        text-align: right;\n",
              "    }\n",
              "</style>\n",
              "<table border=\"1\" class=\"dataframe\">\n",
              "  <thead>\n",
              "    <tr style=\"text-align: right;\">\n",
              "      <th></th>\n",
              "      <th>history_text</th>\n",
              "      <th>creator</th>\n",
              "    </tr>\n",
              "  </thead>\n",
              "  <tbody>\n",
              "    <tr>\n",
              "      <th>0</th>\n",
              "      <td>Delroy Garrett, Jr. grew up to become a track ...</td>\n",
              "      <td>Marvel Comics</td>\n",
              "    </tr>\n",
              "    <tr>\n",
              "      <th>1</th>\n",
              "      <td>He was one of the many prisoners of Indian Hil...</td>\n",
              "      <td>DC Comics</td>\n",
              "    </tr>\n",
              "    <tr>\n",
              "      <th>2</th>\n",
              "      <td>Richard \"Rick\" Jones was orphaned at a young ...</td>\n",
              "      <td>Marvel Comics</td>\n",
              "    </tr>\n",
              "    <tr>\n",
              "      <th>3</th>\n",
              "      <td>Aa is one of the more passive members of the P...</td>\n",
              "      <td>DC Comics</td>\n",
              "    </tr>\n",
              "    <tr>\n",
              "      <th>4</th>\n",
              "      <td>Aaron Cash is the head of security at Arkham A...</td>\n",
              "      <td>DC Comics</td>\n",
              "    </tr>\n",
              "    <tr>\n",
              "      <th>...</th>\n",
              "      <td>...</td>\n",
              "      <td>...</td>\n",
              "    </tr>\n",
              "    <tr>\n",
              "      <th>1443</th>\n",
              "      <td>Little is known about the early life of the ad...</td>\n",
              "      <td>Marvel Comics</td>\n",
              "    </tr>\n",
              "    <tr>\n",
              "      <th>1445</th>\n",
              "      <td>Zatanna is the daughter of adventurer John Zat...</td>\n",
              "      <td>DC Comics</td>\n",
              "    </tr>\n",
              "    <tr>\n",
              "      <th>1447</th>\n",
              "      <td>Hunter Zolomon is better known as Zoom, a spee...</td>\n",
              "      <td>DC Comics</td>\n",
              "    </tr>\n",
              "    <tr>\n",
              "      <th>1448</th>\n",
              "      <td>Hunter Zolomon had a troubled relationship wi...</td>\n",
              "      <td>DC Comics</td>\n",
              "    </tr>\n",
              "    <tr>\n",
              "      <th>1449</th>\n",
              "      <td>Zzzax was the product of an accident that occu...</td>\n",
              "      <td>Marvel Comics</td>\n",
              "    </tr>\n",
              "  </tbody>\n",
              "</table>\n",
              "<p>997 rows × 2 columns</p>\n",
              "</div>\n",
              "      <button class=\"colab-df-convert\" onclick=\"convertToInteractive('df-9efecbf0-cd80-4c3c-baa4-40b4f06e7c86')\"\n",
              "              title=\"Convert this dataframe to an interactive table.\"\n",
              "              style=\"display:none;\">\n",
              "        \n",
              "  <svg xmlns=\"http://www.w3.org/2000/svg\" height=\"24px\"viewBox=\"0 0 24 24\"\n",
              "       width=\"24px\">\n",
              "    <path d=\"M0 0h24v24H0V0z\" fill=\"none\"/>\n",
              "    <path d=\"M18.56 5.44l.94 2.06.94-2.06 2.06-.94-2.06-.94-.94-2.06-.94 2.06-2.06.94zm-11 1L8.5 8.5l.94-2.06 2.06-.94-2.06-.94L8.5 2.5l-.94 2.06-2.06.94zm10 10l.94 2.06.94-2.06 2.06-.94-2.06-.94-.94-2.06-.94 2.06-2.06.94z\"/><path d=\"M17.41 7.96l-1.37-1.37c-.4-.4-.92-.59-1.43-.59-.52 0-1.04.2-1.43.59L10.3 9.45l-7.72 7.72c-.78.78-.78 2.05 0 2.83L4 21.41c.39.39.9.59 1.41.59.51 0 1.02-.2 1.41-.59l7.78-7.78 2.81-2.81c.8-.78.8-2.07 0-2.86zM5.41 20L4 18.59l7.72-7.72 1.47 1.35L5.41 20z\"/>\n",
              "  </svg>\n",
              "      </button>\n",
              "      \n",
              "  <style>\n",
              "    .colab-df-container {\n",
              "      display:flex;\n",
              "      flex-wrap:wrap;\n",
              "      gap: 12px;\n",
              "    }\n",
              "\n",
              "    .colab-df-convert {\n",
              "      background-color: #E8F0FE;\n",
              "      border: none;\n",
              "      border-radius: 50%;\n",
              "      cursor: pointer;\n",
              "      display: none;\n",
              "      fill: #1967D2;\n",
              "      height: 32px;\n",
              "      padding: 0 0 0 0;\n",
              "      width: 32px;\n",
              "    }\n",
              "\n",
              "    .colab-df-convert:hover {\n",
              "      background-color: #E2EBFA;\n",
              "      box-shadow: 0px 1px 2px rgba(60, 64, 67, 0.3), 0px 1px 3px 1px rgba(60, 64, 67, 0.15);\n",
              "      fill: #174EA6;\n",
              "    }\n",
              "\n",
              "    [theme=dark] .colab-df-convert {\n",
              "      background-color: #3B4455;\n",
              "      fill: #D2E3FC;\n",
              "    }\n",
              "\n",
              "    [theme=dark] .colab-df-convert:hover {\n",
              "      background-color: #434B5C;\n",
              "      box-shadow: 0px 1px 3px 1px rgba(0, 0, 0, 0.15);\n",
              "      filter: drop-shadow(0px 1px 2px rgba(0, 0, 0, 0.3));\n",
              "      fill: #FFFFFF;\n",
              "    }\n",
              "  </style>\n",
              "\n",
              "      <script>\n",
              "        const buttonEl =\n",
              "          document.querySelector('#df-9efecbf0-cd80-4c3c-baa4-40b4f06e7c86 button.colab-df-convert');\n",
              "        buttonEl.style.display =\n",
              "          google.colab.kernel.accessAllowed ? 'block' : 'none';\n",
              "\n",
              "        async function convertToInteractive(key) {\n",
              "          const element = document.querySelector('#df-9efecbf0-cd80-4c3c-baa4-40b4f06e7c86');\n",
              "          const dataTable =\n",
              "            await google.colab.kernel.invokeFunction('convertToInteractive',\n",
              "                                                     [key], {});\n",
              "          if (!dataTable) return;\n",
              "\n",
              "          const docLinkHtml = 'Like what you see? Visit the ' +\n",
              "            '<a target=\"_blank\" href=https://colab.research.google.com/notebooks/data_table.ipynb>data table notebook</a>'\n",
              "            + ' to learn more about interactive tables.';\n",
              "          element.innerHTML = '';\n",
              "          dataTable['output_type'] = 'display_data';\n",
              "          await google.colab.output.renderOutput(dataTable, element);\n",
              "          const docLink = document.createElement('div');\n",
              "          docLink.innerHTML = docLinkHtml;\n",
              "          element.appendChild(docLink);\n",
              "        }\n",
              "      </script>\n",
              "    </div>\n",
              "  </div>\n",
              "  "
            ]
          },
          "metadata": {},
          "execution_count": 71
        }
      ]
    },
    {
      "cell_type": "markdown",
      "source": [
        "After dropping rows with NaN Values, there are now 997 remaining rows of superheroes with valid history_text and creator."
      ],
      "metadata": {
        "id": "G95N9oH6BDOK"
      }
    },
    {
      "cell_type": "markdown",
      "source": [
        "Next, we will create a word cloud of all the words present in history_text for Marvel characters and DC characters separately. This will help us to see which words are more commonly used by either creator."
      ],
      "metadata": {
        "id": "eYpAlrgfBSPC"
      }
    },
    {
      "cell_type": "code",
      "source": [
        "# concatenate all words in history_text into Cloud_Marvel and Cloud_DC\n",
        "Cloud_Marvel = historyData['history_text'].loc[(historyData.creator == 'Marvel Comics')]\n",
        "Cloud_Marvel = Cloud_Marvel.sum()\n",
        "Cloud_DC = historyData['history_text'].loc[(historyData.creator == 'DC Comics')]\n",
        "Cloud_DC = Cloud_DC.sum()"
      ],
      "metadata": {
        "id": "Csl6onVEHOkb"
      },
      "execution_count": 72,
      "outputs": []
    },
    {
      "cell_type": "code",
      "source": [
        "from wordcloud import WordCloud\n",
        "\n",
        "# display Marvel WordCloud\n",
        "wordcloud = WordCloud(max_font_size=300,background_color=\"black\").generate(Cloud_Marvel)\n",
        "plt.figure()\n",
        "plt.imshow(wordcloud, interpolation=\"bilinear\")\n",
        "plt.axis(\"off\")\n",
        "plt.show()"
      ],
      "metadata": {
        "id": "kA9d7aOsHVbb",
        "colab": {
          "base_uri": "https://localhost:8080/",
          "height": 197
        },
        "outputId": "bdfa8e9a-afd4-442c-91ed-1037e7a55151"
      },
      "execution_count": 73,
      "outputs": [
        {
          "output_type": "display_data",
          "data": {
            "text/plain": [
              "<Figure size 432x288 with 1 Axes>"
            ],
            "image/png": "[encoded data removed]"
          },
          "metadata": {}
        }
      ]
    },
    {
      "cell_type": "code",
      "source": [
        "# get word count from cloud\n",
        "wordcount = wordcloud.process_text(Cloud_Marvel)\n",
        "\n",
        "# view 10 words with highest count\n",
        "top10 = sorted(wordcount, key=wordcount.get, reverse=True)[:10]\n",
        "\n",
        "for item in wordcount:\n",
        "  if item in top10:\n",
        "    print(item, wordcount[item])"
      ],
      "metadata": {
        "colab": {
          "base_uri": "https://localhost:8080/"
        },
        "id": "2h16cu4mySlc",
        "outputId": "a375f922-9b9d-42ff-eed4-44796e129fa3"
      },
      "execution_count": 74,
      "outputs": [
        {
          "output_type": "stream",
          "name": "stdout",
          "text": [
            "one 784\n",
            "time 871\n",
            "later 869\n",
            "Earth 601\n",
            "new 713\n",
            "power 996\n",
            "team 712\n",
            "mutant 752\n",
            "Men 1066\n",
            "Spider Man 595\n"
          ]
        }
      ]
    },
    {
      "cell_type": "code",
      "source": [
        "# display DC WordCloud\n",
        "wordcloud = WordCloud(max_font_size=300,background_color=\"black\").generate(Cloud_DC)\n",
        "plt.figure()\n",
        "plt.imshow(wordcloud, interpolation=\"bilinear\")\n",
        "plt.axis(\"off\")\n",
        "plt.show()"
      ],
      "metadata": {
        "id": "EmlK6R4VHfCn",
        "colab": {
          "base_uri": "https://localhost:8080/",
          "height": 197
        },
        "outputId": "0facb045-ef1c-4a21-84b5-6e169a369c75"
      },
      "execution_count": 75,
      "outputs": [
        {
          "output_type": "display_data",
          "data": {
            "text/plain": [
              "<Figure size 432x288 with 1 Axes>"
            ],
            "image/png": "[encoded data removed]"
          },
          "metadata": {}
        }
      ]
    },
    {
      "cell_type": "code",
      "source": [
        "# get word count from cloud\n",
        "wordcount = wordcloud.process_text(Cloud_DC)\n",
        "\n",
        "# view 10 words with highest count\n",
        "top10 = sorted(wordcount, key=wordcount.get, reverse=True)[:10]\n",
        "\n",
        "# top10\n",
        "\n",
        "# for item in wordcount:\n",
        "#   if item in top10:\n",
        "#     print(item, wordcount[item])"
      ],
      "metadata": {
        "id": "_28LebL41EWP"
      },
      "execution_count": 76,
      "outputs": []
    },
    {
      "cell_type": "markdown",
      "source": [
        "It is easy to see that words like \"mutant\" and \"avenger\" are only widely used in the Marvel word cloud, while \"Batman\" and \"Superman\" are widely used in the DC word cloud. \"Men\" is also much more widely used in Marvel history_text, although it is likely that it is also used by DC since it is a neutral word that does not have much relation to the Marvel universe.\n",
        "\n",
        "With this in mind, given any history_text data, we can analyse the individual words to see if there is any indication of its likely corresponding creator. To do this, we will need to split the dataset into two again, to train and test."
      ],
      "metadata": {
        "id": "NFvUkXjxGwus"
      }
    },
    {
      "cell_type": "code",
      "source": [
        "# randomly split historyData into train and test dataframes with 80:20 ratio\n",
        "train, test = train_test_split(historyData, test_size = 0.20)\n",
        "\n",
        "print(\"Train Set:\", train.shape)\n",
        "print(\"Test Set :\", test.shape)"
      ],
      "metadata": {
        "id": "UVvio4_iIxVk",
        "colab": {
          "base_uri": "https://localhost:8080/"
        },
        "outputId": "bacd2ae8-471c-4c5c-b72a-fa4288b90186"
      },
      "execution_count": 77,
      "outputs": [
        {
          "output_type": "stream",
          "name": "stdout",
          "text": [
            "Train Set: (797, 2)\n",
            "Test Set : (200, 2)\n"
          ]
        }
      ]
    },
    {
      "cell_type": "markdown",
      "source": [
        "Before we carry on, we will need to declare a function for use later. This will remove any non-text ASCII characters and punctuation and lower the text so that we can analyse the text more accurately and smoothly."
      ],
      "metadata": {
        "id": "NG25ALaVJTy9"
      }
    },
    {
      "cell_type": "code",
      "source": [
        "import re\n",
        "\n",
        "def clean_text(text):\n",
        "    \n",
        "    # Applies some pre-processing on the given text:\n",
        "    # - Removing non-text characters and punctuation\n",
        "    # - Lowering text\n",
        "    \n",
        "    # remove the characters [\\], ['] and [\"]\n",
        "    text = re.sub(r\"\\\\\", \"\", text)   \n",
        "    text = re.sub(r\"\\'\", \"\", text)   \n",
        "    text = re.sub(r\"\\\"\", \"\", text)    \n",
        "                  \n",
        "    # replace punctuation characters with spaces\n",
        "    filters='!\"\\'#$%&()*+,-./:;<=>?@[\\\\]^_`{|}~\\t\\n'\n",
        "    translate_dict = dict((c, \" \") for c in filters)\n",
        "    translate_map = str.maketrans(translate_dict)\n",
        "    text = text.translate(translate_map) \n",
        "                           \n",
        "    # convert text to lowercase\n",
        "    text = text.strip().lower()\n",
        "\n",
        "    return text"
      ],
      "metadata": {
        "id": "e6w3ZclrnMRw"
      },
      "execution_count": 78,
      "outputs": []
    },
    {
      "cell_type": "markdown",
      "source": [
        "Next, we will transform each history_text into vectors of word counts, using the function defined above to clean the text. We will also ignore any stop words, which are the most common words like \"the\" and \"a\", because they will not improve our analysis.\n",
        "\n",
        "We will then fit our training data with a LinearSVC model, and use that to predict the creators."
      ],
      "metadata": {
        "id": "In86P3ruMaFj"
      }
    },
    {
      "cell_type": "code",
      "source": [
        "\n",
        "from sklearn.feature_extraction.text import CountVectorizer\n",
        "\n",
        "# Transform each text into a vector of word counts\n",
        "# Ignores stop words and uses above function to clean the text\n",
        "vectorizer = CountVectorizer(stop_words=\"english\", preprocessor=clean_text)\n",
        "\n",
        "# transform vectors into matrices of the text vocabulary\n",
        "training_features = vectorizer.fit_transform(train[\"history_text\"])    \n",
        "test_features = vectorizer.transform(test[\"history_text\"])\n"
      ],
      "metadata": {
        "id": "sw165k30tgV5"
      },
      "execution_count": 79,
      "outputs": []
    },
    {
      "cell_type": "code",
      "source": [
        "\n",
        "from sklearn.svm import LinearSVC\n",
        "\n",
        "# Training using LinearSVC model\n",
        "model = LinearSVC()\n",
        "model.fit(training_features, train[\"creator\"])\n",
        "\n",
        "# Predict with model on test dataset\n",
        "y_pred = model.predict(test_features)\n"
      ],
      "metadata": {
        "id": "wEbKe8iDO-Sv"
      },
      "execution_count": 80,
      "outputs": []
    },
    {
      "cell_type": "code",
      "source": [
        "from sklearn.metrics import accuracy_score\n",
        "\n",
        "# Calculate accuracy score comparing actual creator and predicted creator\n",
        "acc = accuracy_score(test[\"creator\"], y_pred)\n",
        "\n",
        "print(\"Accuracy of creator prediction: {:.2f}\".format(acc*100))"
      ],
      "metadata": {
        "id": "dEJGGEkWPHxk",
        "colab": {
          "base_uri": "https://localhost:8080/"
        },
        "outputId": "899ca071-fceb-4230-981a-8fc89baa9447"
      },
      "execution_count": 81,
      "outputs": [
        {
          "output_type": "stream",
          "name": "stdout",
          "text": [
            "Accuracy of creator prediction: 91.00\n"
          ]
        }
      ]
    },
    {
      "cell_type": "code",
      "source": [
        "# Calculation of TPR and FPR\n",
        "TNtest, FPtest, FNtest, TPtest = confusion_matrix(test[\"creator\"], y_pred).ravel()\n",
        "\n",
        "TPRtest = TPtest/(TPtest+FNtest)\n",
        "FPRtest = FPtest/(FPtest+TNtest)\n",
        "\n",
        "print(\"Test set: True Positive Rate \\t:\", TPRtest)\n",
        "print(\"Test set: False Positive Rate \\t:\", FPRtest)"
      ],
      "metadata": {
        "colab": {
          "base_uri": "https://localhost:8080/"
        },
        "id": "_82fjtFFwzoP",
        "outputId": "1320e1e2-39a1-4562-bbea-e1eff7b1b148"
      },
      "execution_count": 82,
      "outputs": [
        {
          "output_type": "stream",
          "name": "stdout",
          "text": [
            "Test set: True Positive Rate \t: 0.897196261682243\n",
            "Test set: False Positive Rate \t: 0.07526881720430108\n"
          ]
        }
      ]
    },
    {
      "cell_type": "markdown",
      "source": [
        "As we can see, this model predicts the correct creator a high percentage of the time. This is a big improvement from the initial predictions we have made with the numerical data.\n",
        "\n",
        "Again, to compare with the initial prediction relying on numerical data, let us attempt to predict the creators of the same characters (Deadpool, Harley Quinn, Hulk). We will use the heroes_pred dataframe from before for this.\n",
        "\n",
        "Recall that Deadpool and Hulk are created by Marvel Comics, and Harley Quinn is created by DC Comics.\n"
      ],
      "metadata": {
        "id": "soLjn_yYGVNn"
      }
    },
    {
      "cell_type": "code",
      "source": [
        "# test on same characters as before: Deadpool, Harley Quinn, Hulk\n",
        "test_features = vectorizer.transform(heroes_pred[\"history_text\"])\n",
        "y_pred = model.predict(test_features)\n",
        "\n",
        "y_pred"
      ],
      "metadata": {
        "id": "YBVvr9vbGHcb",
        "colab": {
          "base_uri": "https://localhost:8080/"
        },
        "outputId": "d0582386-c8c5-4bbd-b19e-95c94cd8d5d3"
      },
      "execution_count": 83,
      "outputs": [
        {
          "output_type": "execute_result",
          "data": {
            "text/plain": [
              "array(['Marvel Comics', 'DC Comics', 'Marvel Comics'], dtype=object)"
            ]
          },
          "metadata": {},
          "execution_count": 83
        }
      ]
    },
    {
      "cell_type": "code",
      "source": [
        "# Compare actual creators with predictions\n",
        "y_pred = pd.DataFrame(y_pred, columns = [\"Predcreator\"], index = heroes_pred.index)\n",
        "heroes_acc = pd.concat([heroes_pred[[\"name\", \"creator\"]], y_pred], axis = 1)\n",
        "\n",
        "heroes_acc"
      ],
      "metadata": {
        "id": "XvWW0EYTGu-B",
        "colab": {
          "base_uri": "https://localhost:8080/",
          "height": 143
        },
        "outputId": "227953ad-539c-423c-b01b-cfe6ea66fdb4"
      },
      "execution_count": 84,
      "outputs": [
        {
          "output_type": "execute_result",
          "data": {
            "text/plain": [
              "             name        creator    Predcreator\n",
              "370      Deadpool  Marvel Comics  Marvel Comics\n",
              "566  Harley Quinn      DC Comics      DC Comics\n",
              "616          Hulk  Marvel Comics  Marvel Comics"
            ],
            "text/html": [
              "\n",
              "  <div id=\"df-8390efd9-854d-4bc0-a4df-a0e5fdf26c0e\">\n",
              "    <div class=\"colab-df-container\">\n",
              "      <div>\n",
              "<style scoped>\n",
              "    .dataframe tbody tr th:only-of-type {\n",
              "        vertical-align: middle;\n",
              "    }\n",
              "\n",
              "    .dataframe tbody tr th {\n",
              "        vertical-align: top;\n",
              "    }\n",
              "\n",
              "    .dataframe thead th {\n",
              "        text-align: right;\n",
              "    }\n",
              "</style>\n",
              "<table border=\"1\" class=\"dataframe\">\n",
              "  <thead>\n",
              "    <tr style=\"text-align: right;\">\n",
              "      <th></th>\n",
              "      <th>name</th>\n",
              "      <th>creator</th>\n",
              "      <th>Predcreator</th>\n",
              "    </tr>\n",
              "  </thead>\n",
              "  <tbody>\n",
              "    <tr>\n",
              "      <th>370</th>\n",
              "      <td>Deadpool</td>\n",
              "      <td>Marvel Comics</td>\n",
              "      <td>Marvel Comics</td>\n",
              "    </tr>\n",
              "    <tr>\n",
              "      <th>566</th>\n",
              "      <td>Harley Quinn</td>\n",
              "      <td>DC Comics</td>\n",
              "      <td>DC Comics</td>\n",
              "    </tr>\n",
              "    <tr>\n",
              "      <th>616</th>\n",
              "      <td>Hulk</td>\n",
              "      <td>Marvel Comics</td>\n",
              "      <td>Marvel Comics</td>\n",
              "    </tr>\n",
              "  </tbody>\n",
              "</table>\n",
              "</div>\n",
              "      <button class=\"colab-df-convert\" onclick=\"convertToInteractive('df-8390efd9-854d-4bc0-a4df-a0e5fdf26c0e')\"\n",
              "              title=\"Convert this dataframe to an interactive table.\"\n",
              "              style=\"display:none;\">\n",
              "        \n",
              "  <svg xmlns=\"http://www.w3.org/2000/svg\" height=\"24px\"viewBox=\"0 0 24 24\"\n",
              "       width=\"24px\">\n",
              "    <path d=\"M0 0h24v24H0V0z\" fill=\"none\"/>\n",
              "    <path d=\"M18.56 5.44l.94 2.06.94-2.06 2.06-.94-2.06-.94-.94-2.06-.94 2.06-2.06.94zm-11 1L8.5 8.5l.94-2.06 2.06-.94-2.06-.94L8.5 2.5l-.94 2.06-2.06.94zm10 10l.94 2.06.94-2.06 2.06-.94-2.06-.94-.94-2.06-.94 2.06-2.06.94z\"/><path d=\"M17.41 7.96l-1.37-1.37c-.4-.4-.92-.59-1.43-.59-.52 0-1.04.2-1.43.59L10.3 9.45l-7.72 7.72c-.78.78-.78 2.05 0 2.83L4 21.41c.39.39.9.59 1.41.59.51 0 1.02-.2 1.41-.59l7.78-7.78 2.81-2.81c.8-.78.8-2.07 0-2.86zM5.41 20L4 18.59l7.72-7.72 1.47 1.35L5.41 20z\"/>\n",
              "  </svg>\n",
              "      </button>\n",
              "      \n",
              "  <style>\n",
              "    .colab-df-container {\n",
              "      display:flex;\n",
              "      flex-wrap:wrap;\n",
              "      gap: 12px;\n",
              "    }\n",
              "\n",
              "    .colab-df-convert {\n",
              "      background-color: #E8F0FE;\n",
              "      border: none;\n",
              "      border-radius: 50%;\n",
              "      cursor: pointer;\n",
              "      display: none;\n",
              "      fill: #1967D2;\n",
              "      height: 32px;\n",
              "      padding: 0 0 0 0;\n",
              "      width: 32px;\n",
              "    }\n",
              "\n",
              "    .colab-df-convert:hover {\n",
              "      background-color: #E2EBFA;\n",
              "      box-shadow: 0px 1px 2px rgba(60, 64, 67, 0.3), 0px 1px 3px 1px rgba(60, 64, 67, 0.15);\n",
              "      fill: #174EA6;\n",
              "    }\n",
              "\n",
              "    [theme=dark] .colab-df-convert {\n",
              "      background-color: #3B4455;\n",
              "      fill: #D2E3FC;\n",
              "    }\n",
              "\n",
              "    [theme=dark] .colab-df-convert:hover {\n",
              "      background-color: #434B5C;\n",
              "      box-shadow: 0px 1px 3px 1px rgba(0, 0, 0, 0.15);\n",
              "      filter: drop-shadow(0px 1px 2px rgba(0, 0, 0, 0.3));\n",
              "      fill: #FFFFFF;\n",
              "    }\n",
              "  </style>\n",
              "\n",
              "      <script>\n",
              "        const buttonEl =\n",
              "          document.querySelector('#df-8390efd9-854d-4bc0-a4df-a0e5fdf26c0e button.colab-df-convert');\n",
              "        buttonEl.style.display =\n",
              "          google.colab.kernel.accessAllowed ? 'block' : 'none';\n",
              "\n",
              "        async function convertToInteractive(key) {\n",
              "          const element = document.querySelector('#df-8390efd9-854d-4bc0-a4df-a0e5fdf26c0e');\n",
              "          const dataTable =\n",
              "            await google.colab.kernel.invokeFunction('convertToInteractive',\n",
              "                                                     [key], {});\n",
              "          if (!dataTable) return;\n",
              "\n",
              "          const docLinkHtml = 'Like what you see? Visit the ' +\n",
              "            '<a target=\"_blank\" href=https://colab.research.google.com/notebooks/data_table.ipynb>data table notebook</a>'\n",
              "            + ' to learn more about interactive tables.';\n",
              "          element.innerHTML = '';\n",
              "          dataTable['output_type'] = 'display_data';\n",
              "          await google.colab.output.renderOutput(dataTable, element);\n",
              "          const docLink = document.createElement('div');\n",
              "          docLink.innerHTML = docLinkHtml;\n",
              "          element.appendChild(docLink);\n",
              "        }\n",
              "      </script>\n",
              "    </div>\n",
              "  </div>\n",
              "  "
            ]
          },
          "metadata": {},
          "execution_count": 84
        }
      ]
    },
    {
      "cell_type": "code",
      "source": [
        "from sklearn.calibration import CalibratedClassifierCV\n",
        "\n",
        "# Predict Probabilities corresponding to Predictors\n",
        "clf = CalibratedClassifierCV(model) \n",
        "clf.fit(training_features, train[\"creator\"])\n",
        "y_prob = clf.predict_proba(test_features)\n",
        "\n",
        "y_prob"
      ],
      "metadata": {
        "id": "EneQyurYIjDl",
        "colab": {
          "base_uri": "https://localhost:8080/"
        },
        "outputId": "76cd3528-ac5a-4f0d-aac8-dda3828f4b2f"
      },
      "execution_count": 85,
      "outputs": [
        {
          "output_type": "execute_result",
          "data": {
            "text/plain": [
              "array([[2.72819800e-05, 9.99972718e-01],\n",
              "       [6.03086170e-01, 3.96913830e-01],\n",
              "       [4.90891519e-03, 9.95091085e-01]])"
            ]
          },
          "metadata": {},
          "execution_count": 85
        }
      ]
    },
    {
      "cell_type": "code",
      "source": [
        "# Summarize the Probabilities with the Predictions\n",
        "# marvel_prob is probability that character is created by Marvel Comics\n",
        "y_prob = pd.DataFrame(list(y_prob[:,1]), columns = [\"marvel_prob\"], index = heroes_pred.index)\n",
        "heroes_pred_prob = pd.concat([heroes_acc, y_prob], axis = 1)\n",
        "\n",
        "heroes_pred_prob"
      ],
      "metadata": {
        "id": "HA2VaX4sMf2P",
        "colab": {
          "base_uri": "https://localhost:8080/",
          "height": 143
        },
        "outputId": "f2e5cfc3-1ffb-4236-fee3-d2c6cc26df57"
      },
      "execution_count": 86,
      "outputs": [
        {
          "output_type": "execute_result",
          "data": {
            "text/plain": [
              "             name        creator    Predcreator  marvel_prob\n",
              "370      Deadpool  Marvel Comics  Marvel Comics     0.999973\n",
              "566  Harley Quinn      DC Comics      DC Comics     0.396914\n",
              "616          Hulk  Marvel Comics  Marvel Comics     0.995091"
            ],
            "text/html": [
              "\n",
              "  <div id=\"df-9639614f-6719-4162-98db-36c4d2605a9a\">\n",
              "    <div class=\"colab-df-container\">\n",
              "      <div>\n",
              "<style scoped>\n",
              "    .dataframe tbody tr th:only-of-type {\n",
              "        vertical-align: middle;\n",
              "    }\n",
              "\n",
              "    .dataframe tbody tr th {\n",
              "        vertical-align: top;\n",
              "    }\n",
              "\n",
              "    .dataframe thead th {\n",
              "        text-align: right;\n",
              "    }\n",
              "</style>\n",
              "<table border=\"1\" class=\"dataframe\">\n",
              "  <thead>\n",
              "    <tr style=\"text-align: right;\">\n",
              "      <th></th>\n",
              "      <th>name</th>\n",
              "      <th>creator</th>\n",
              "      <th>Predcreator</th>\n",
              "      <th>marvel_prob</th>\n",
              "    </tr>\n",
              "  </thead>\n",
              "  <tbody>\n",
              "    <tr>\n",
              "      <th>370</th>\n",
              "      <td>Deadpool</td>\n",
              "      <td>Marvel Comics</td>\n",
              "      <td>Marvel Comics</td>\n",
              "      <td>0.999973</td>\n",
              "    </tr>\n",
              "    <tr>\n",
              "      <th>566</th>\n",
              "      <td>Harley Quinn</td>\n",
              "      <td>DC Comics</td>\n",
              "      <td>DC Comics</td>\n",
              "      <td>0.396914</td>\n",
              "    </tr>\n",
              "    <tr>\n",
              "      <th>616</th>\n",
              "      <td>Hulk</td>\n",
              "      <td>Marvel Comics</td>\n",
              "      <td>Marvel Comics</td>\n",
              "      <td>0.995091</td>\n",
              "    </tr>\n",
              "  </tbody>\n",
              "</table>\n",
              "</div>\n",
              "      <button class=\"colab-df-convert\" onclick=\"convertToInteractive('df-9639614f-6719-4162-98db-36c4d2605a9a')\"\n",
              "              title=\"Convert this dataframe to an interactive table.\"\n",
              "              style=\"display:none;\">\n",
              "        \n",
              "  <svg xmlns=\"http://www.w3.org/2000/svg\" height=\"24px\"viewBox=\"0 0 24 24\"\n",
              "       width=\"24px\">\n",
              "    <path d=\"M0 0h24v24H0V0z\" fill=\"none\"/>\n",
              "    <path d=\"M18.56 5.44l.94 2.06.94-2.06 2.06-.94-2.06-.94-.94-2.06-.94 2.06-2.06.94zm-11 1L8.5 8.5l.94-2.06 2.06-.94-2.06-.94L8.5 2.5l-.94 2.06-2.06.94zm10 10l.94 2.06.94-2.06 2.06-.94-2.06-.94-.94-2.06-.94 2.06-2.06.94z\"/><path d=\"M17.41 7.96l-1.37-1.37c-.4-.4-.92-.59-1.43-.59-.52 0-1.04.2-1.43.59L10.3 9.45l-7.72 7.72c-.78.78-.78 2.05 0 2.83L4 21.41c.39.39.9.59 1.41.59.51 0 1.02-.2 1.41-.59l7.78-7.78 2.81-2.81c.8-.78.8-2.07 0-2.86zM5.41 20L4 18.59l7.72-7.72 1.47 1.35L5.41 20z\"/>\n",
              "  </svg>\n",
              "      </button>\n",
              "      \n",
              "  <style>\n",
              "    .colab-df-container {\n",
              "      display:flex;\n",
              "      flex-wrap:wrap;\n",
              "      gap: 12px;\n",
              "    }\n",
              "\n",
              "    .colab-df-convert {\n",
              "      background-color: #E8F0FE;\n",
              "      border: none;\n",
              "      border-radius: 50%;\n",
              "      cursor: pointer;\n",
              "      display: none;\n",
              "      fill: #1967D2;\n",
              "      height: 32px;\n",
              "      padding: 0 0 0 0;\n",
              "      width: 32px;\n",
              "    }\n",
              "\n",
              "    .colab-df-convert:hover {\n",
              "      background-color: #E2EBFA;\n",
              "      box-shadow: 0px 1px 2px rgba(60, 64, 67, 0.3), 0px 1px 3px 1px rgba(60, 64, 67, 0.15);\n",
              "      fill: #174EA6;\n",
              "    }\n",
              "\n",
              "    [theme=dark] .colab-df-convert {\n",
              "      background-color: #3B4455;\n",
              "      fill: #D2E3FC;\n",
              "    }\n",
              "\n",
              "    [theme=dark] .colab-df-convert:hover {\n",
              "      background-color: #434B5C;\n",
              "      box-shadow: 0px 1px 3px 1px rgba(0, 0, 0, 0.15);\n",
              "      filter: drop-shadow(0px 1px 2px rgba(0, 0, 0, 0.3));\n",
              "      fill: #FFFFFF;\n",
              "    }\n",
              "  </style>\n",
              "\n",
              "      <script>\n",
              "        const buttonEl =\n",
              "          document.querySelector('#df-9639614f-6719-4162-98db-36c4d2605a9a button.colab-df-convert');\n",
              "        buttonEl.style.display =\n",
              "          google.colab.kernel.accessAllowed ? 'block' : 'none';\n",
              "\n",
              "        async function convertToInteractive(key) {\n",
              "          const element = document.querySelector('#df-9639614f-6719-4162-98db-36c4d2605a9a');\n",
              "          const dataTable =\n",
              "            await google.colab.kernel.invokeFunction('convertToInteractive',\n",
              "                                                     [key], {});\n",
              "          if (!dataTable) return;\n",
              "\n",
              "          const docLinkHtml = 'Like what you see? Visit the ' +\n",
              "            '<a target=\"_blank\" href=https://colab.research.google.com/notebooks/data_table.ipynb>data table notebook</a>'\n",
              "            + ' to learn more about interactive tables.';\n",
              "          element.innerHTML = '';\n",
              "          dataTable['output_type'] = 'display_data';\n",
              "          await google.colab.output.renderOutput(dataTable, element);\n",
              "          const docLink = document.createElement('div');\n",
              "          docLink.innerHTML = docLinkHtml;\n",
              "          element.appendChild(docLink);\n",
              "        }\n",
              "      </script>\n",
              "    </div>\n",
              "  </div>\n",
              "  "
            ]
          },
          "metadata": {},
          "execution_count": 86
        }
      ]
    },
    {
      "cell_type": "markdown",
      "source": [
        "Using Natural Language Processing, we have again successfully predicted the creators for 3 superheroes namely, Deadpool, Harley Quinn and Hulk correctly. This time, the probabilities of success are much higher compared to the analysis based on their statistics. Since the classification accuracy is higher, we consider this an improvement, a valuable and meaningful addition to our initial analysis.\n",
        "\n",
        "---"
      ],
      "metadata": {
        "id": "LEdf4feEM36b"
      }
    },
    {
      "cell_type": "markdown",
      "source": [
        "# **Point Estimation**\n",
        "\n",
        "These values of classification accuracy and probabilities are based on the train and test datasets, chosen at random. This means that with every new iteration of this analysis, the values obtained may differ, and could possibly be erroneous even.\n",
        "\n",
        "This next segment will iterate through both parts of the analysis with the train and test sets split repeatedly at random 30 times, such that we can apply Central Limit Theorem to assume a normal distribution of classification accuracy values. This allows us to determine the level of significance of our observations, and obtain a confidence interval for both methods.\n",
        "\n",
        "The null hypothesis is that the mean classification accuracy is equal to 0.5, meaning that the predictions are accurate around 50% of the time. The alternative hypothesis is that the mean classification accuracy is greater than 0.5. \n",
        "\n"
      ],
      "metadata": {
        "id": "IlvMiRwbpUdD"
      }
    },
    {
      "cell_type": "code",
      "source": [
        "from statistics import mean, stdev\n",
        "from scipy import stats\n",
        "\n",
        "# split statsData into independent variables x (statistics) and dependent variable y (creator)\n",
        "x = pd.DataFrame(statsData.drop('creator', axis=1))\n",
        "y = pd.DataFrame(statsData['creator'])\n",
        "\n",
        "# store classification accuracy values in a list\n",
        "statsAccList = []\n",
        "\n",
        "# repeat 30 times, append values to list\n",
        "for i in range(30):\n",
        "\n",
        "  # randomly split x and y into train and test dataframes with 80:20 ratio\n",
        "  x_train, x_test, y_train, y_test = train_test_split(x, y, test_size = 0.20)\n",
        "\n",
        "  # Decision Tree using train data\n",
        "  dectree = DecisionTreeClassifier(max_depth = 4)  # create the decision tree object\n",
        "  dectree.fit(x_train, y_train)                    # train the decision tree model\n",
        "\n",
        "  # Predict creator corresponding to predictors (only test)\n",
        "  y_test_pred = dectree.predict(x_test)\n",
        "\n",
        "  # append classificatiton accuracy value to list\n",
        "  statsAccList.append(dectree.score(x_test, y_test))\n",
        "\n",
        "mean(statsAccList)"
      ],
      "metadata": {
        "id": "6HDq0rT6rY5d",
        "colab": {
          "base_uri": "https://localhost:8080/"
        },
        "outputId": "d69323d5-121d-4696-bc57-a75d13ac306a"
      },
      "execution_count": 49,
      "outputs": [
        {
          "output_type": "execute_result",
          "data": {
            "text/plain": [
              "0.5964102564102564"
            ]
          },
          "metadata": {},
          "execution_count": 49
        }
      ]
    },
    {
      "cell_type": "code",
      "source": [
        "# store classification accuracy values in a list\n",
        "nlpAccList = []\n",
        "\n",
        "# repeat 30 times, append values to list\n",
        "for i in range(30):\n",
        "\n",
        "  # randomly split historyData into train and test dataframes with 80:20 ratio\n",
        "  train, test = train_test_split(historyData, test_size = 0.20)\n",
        "\n",
        "  # Transform each text into a vector of word counts\n",
        "  # Ignores stop words and uses above function to clean the text\n",
        "  vectorizer = CountVectorizer(stop_words=\"english\", preprocessor=clean_text)\n",
        "\n",
        "  # transform vectors into matrices of the text vocabulary\n",
        "  training_features = vectorizer.fit_transform(train[\"history_text\"])    \n",
        "  test_features = vectorizer.transform(test[\"history_text\"])\n",
        "\n",
        "  # Training using LinearSVC model\n",
        "  model = LinearSVC()\n",
        "  model.fit(training_features, train[\"creator\"])\n",
        "\n",
        "  # Predict with model on test dataset\n",
        "  y_pred = model.predict(test_features)\n",
        "\n",
        "  # append classificatiton accuracy value to list\n",
        "  nlpAccList.append(accuracy_score(test[\"creator\"], y_pred))\n",
        "\n",
        "mean(nlpAccList)"
      ],
      "metadata": {
        "id": "N73XBR5a_-QM",
        "colab": {
          "base_uri": "https://localhost:8080/"
        },
        "outputId": "d9502532-f410-40e9-89a0-b8c0ca5a4c05"
      },
      "execution_count": 50,
      "outputs": [
        {
          "output_type": "execute_result",
          "data": {
            "text/plain": [
              "0.8748333333333334"
            ]
          },
          "metadata": {},
          "execution_count": 50
        }
      ]
    },
    {
      "cell_type": "code",
      "source": [
        "# from math import sqrt\n",
        "\n",
        "# # mathematical calculations match the function \n",
        "# zscoreStats = (mean(statsAccList) - 0.50) / (stdev(statsAccList) / sqrt(30))\n",
        "# zscoreNlp = (mean(nlpAccList) - 0.50) / (stdev(nlpAccList) / sqrt(30))\n",
        "\n",
        "# print(\"z-score, p-value for stats method:\\t\", ztest(statsAccList, value = 0.5))\n",
        "# print(\"z-score, p-value for nlp method:\\t\", ztest(nlpAccList, value = 0.5))"
      ],
      "metadata": {
        "id": "E93lXPaHRERY"
      },
      "execution_count": 51,
      "outputs": []
    },
    {
      "cell_type": "code",
      "source": [
        "from statsmodels.stats.weightstats import ztest, zconfint\n",
        "\n",
        "# use ztest function to obtain z-score and p-value \n",
        "# returns p-value for 2-tailed test, need to divide by 2 for this 1-tailed test\n",
        "print(\"z-score, p-value for decision tree method:\\t\", ztest(statsAccList, value = 0.5))\n",
        "print(\"z-score, p-value for nlp method:\\t\\t\", ztest(nlpAccList, value = 0.5))"
      ],
      "metadata": {
        "id": "NP_No-FeWwZ5",
        "colab": {
          "base_uri": "https://localhost:8080/"
        },
        "outputId": "94c22d4d-9139-46b4-b295-902bbae1b592"
      },
      "execution_count": 52,
      "outputs": [
        {
          "output_type": "stream",
          "name": "stdout",
          "text": [
            "z-score, p-value for decision tree method:\t (12.460973769847802, 1.2187332270854363e-35)\n",
            "z-score, p-value for nlp method:\t\t (87.20343609000074, 0.0)\n"
          ]
        },
        {
          "output_type": "stream",
          "name": "stderr",
          "text": [
            "/usr/local/lib/python3.7/dist-packages/statsmodels/tools/_testing.py:19: FutureWarning: pandas.util.testing is deprecated. Use the functions in the public API at pandas.testing instead.\n",
            "  import pandas.util.testing as tm\n"
          ]
        }
      ]
    },
    {
      "cell_type": "code",
      "source": [
        "# use function to determine 95% confidence interval\n",
        "print(\"confidence interval for decision tree method:\\t\", zconfint(statsAccList, alpha = 0.05))\n",
        "print(\"confidence interval for nlp method:\\t\\t\", zconfint(nlpAccList, alpha = 0.05))"
      ],
      "metadata": {
        "id": "5YA5BZMgYuze",
        "colab": {
          "base_uri": "https://localhost:8080/"
        },
        "outputId": "bba2c1fa-db2f-4680-fc59-de43c9a56b12"
      },
      "execution_count": 53,
      "outputs": [
        {
          "output_type": "stream",
          "name": "stdout",
          "text": [
            "confidence interval for decision tree method:\t (0.5812460618782362, 0.6115744509422769)\n",
            "confidence interval for nlp method:\t\t (0.8664086672137529, 0.8832579994529138)\n"
          ]
        }
      ]
    },
    {
      "cell_type": "markdown",
      "source": [
        "As we can see, the calculated z-scores are incredibly high and the p-values are incredibly low. This means that the probability that our model is effective is very significant, even to a 99% significance level, since the p-values (divided by 2) are much lower than 0.01. Thus, we reject the null hypothesis.\n",
        "\n",
        "On that note, while the classification accuracy may vary slightly depending on the random split of the train and test sets, we have determined the 95% confidence interval for the classification accuracy with regards to both models. This means that 95% of the time, the classification accuracy should fall in this range of values.\n",
        "\n",
        "---"
      ],
      "metadata": {
        "id": "HXBjuVZicwvh"
      }
    },
    {
      "cell_type": "markdown",
      "source": [
        "# **Optimal Depth of Decision Tree**\n",
        "\n",
        "To improve on our analysis further, we wanted to find out if the max depth chosen for the decision tree was optimal. With too few levels, the decision tree will be underfitted, and the predictions will have a higher gini coefficient and will not be as strong. On the other hand, with too many levels the decision tree will become overfitted, meaning that it fits the training data well, but fails to generalise for unseen test data.\n",
        "\n",
        "Below is the same code for the average classification accuracy, repeated iteratively with increasing depth from 1 to 20. The means are stored in a dictionary, later used to plot a linegraph for easy visualisation. The optimal depth is the one with highest average classification accuracy."
      ],
      "metadata": {
        "id": "5TvMYjpC2Q8U"
      }
    },
    {
      "cell_type": "code",
      "source": [
        "# split statsData into independent variables x (statistics) and dependent variable y (creator)\n",
        "x = pd.DataFrame(statsData.drop('creator', axis=1))\n",
        "y = pd.DataFrame(statsData['creator'])\n",
        "\n",
        "# store average values in a dictionary for graphing\n",
        "depths = {}\n",
        "for depth in range(1, 21):\n",
        "\n",
        "  # store classification accuracy values in a list\n",
        "  statsAccList = []\n",
        "\n",
        "  # repeat 30 times, append values to list\n",
        "  for i in range(30):\n",
        "\n",
        "    # randomly split x and y into train and test dataframes with 80:20 ratio\n",
        "    x_train, x_test, y_train, y_test = train_test_split(x, y, test_size = 0.20)\n",
        "\n",
        "    # Decision Tree using train data\n",
        "    dectree = DecisionTreeClassifier(max_depth = depth)  # create the decision tree object\n",
        "    dectree.fit(x_train, y_train)                    # train the decision tree model\n",
        "\n",
        "    # Predict creator corresponding to predictors (only test)\n",
        "    y_test_pred = dectree.predict(x_test)\n",
        "\n",
        "    # append classificatiton accuracy value to list\n",
        "    statsAccList.append(dectree.score(x_test, y_test))\n",
        "\n",
        "  # depthList[depth] = mean(statsAccList)\n",
        "  depths[depth] = mean(statsAccList)\n",
        "\n",
        "depths"
      ],
      "metadata": {
        "id": "bxuy3DJ7CZyi",
        "colab": {
          "base_uri": "https://localhost:8080/"
        },
        "outputId": "d8e7f414-c789-4777-908b-3ea034963698"
      },
      "execution_count": 89,
      "outputs": [
        {
          "output_type": "execute_result",
          "data": {
            "text/plain": [
              "{1: 0.5567521367521368,\n",
              " 2: 0.5683760683760684,\n",
              " 3: 0.583076923076923,\n",
              " 4: 0.5847863247863248,\n",
              " 5: 0.6003418803418803,\n",
              " 6: 0.5984615384615385,\n",
              " 7: 0.592991452991453,\n",
              " 8: 0.5834188034188035,\n",
              " 9: 0.5950427350427351,\n",
              " 10: 0.5994871794871794,\n",
              " 11: 0.5972649572649573,\n",
              " 12: 0.587008547008547,\n",
              " 13: 0.5794871794871795,\n",
              " 14: 0.5866666666666667,\n",
              " 15: 0.5882051282051282,\n",
              " 16: 0.5878632478632478,\n",
              " 17: 0.5825641025641025,\n",
              " 18: 0.5868376068376069,\n",
              " 19: 0.5808547008547008,\n",
              " 20: 0.58991452991453}"
            ]
          },
          "metadata": {},
          "execution_count": 89
        }
      ]
    },
    {
      "cell_type": "code",
      "source": [
        "plt.xticks([i for i in range(0, 20, 2)])\n",
        "plt.yticks([i/100 for i in range(50, 65)])\n",
        "\n",
        "ax = sb.lineplot(data = depths)\n",
        "ax.set(xlabel='depth', ylabel='mean score')"
      ],
      "metadata": {
        "id": "zBHDBWscCaiX",
        "colab": {
          "base_uri": "https://localhost:8080/",
          "height": 303
        },
        "outputId": "514b9bca-215d-416e-a378-332d77579fc4"
      },
      "execution_count": 90,
      "outputs": [
        {
          "output_type": "execute_result",
          "data": {
            "text/plain": [
              "[Text(0, 0.5, 'mean score'), Text(0.5, 0, 'depth')]"
            ]
          },
          "metadata": {},
          "execution_count": 90
        },
        {
          "output_type": "display_data",
          "data": {
            "text/plain": [
              "<Figure size 432x288 with 1 Axes>"
            ],
            "image/png": "[encoded data removed]"
          },
          "metadata": {}
        }
      ]
    },
    {
      "cell_type": "markdown",
      "source": [
        "From the graph, we can infer that the optimal depth of the decision tree for this dataset is around 5."
      ],
      "metadata": {
        "id": "sTUvCrau58H-"
      }
    },
    {
      "cell_type": "code",
      "source": [
        ""
      ],
      "metadata": {
        "id": "H-zN_CPtW5SA"
      },
      "execution_count": 90,
      "outputs": []
    }
  ]
}