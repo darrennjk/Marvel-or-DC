{
  "nbformat": 4,
  "nbformat_minor": 0,
  "metadata": {
    "colab": {
      "name": "SC1015 Mini-Project.ipynb",
      "provenance": [],
      "collapsed_sections": [
        "dPt1KtDRLIE2",
        "TzkYl8A8M2Ud",
        "MS9VbBdSeuQI",
        "1Ys-G6n7vlXy",
        "l9gYqHjQ9Z0w",
        "qpHfZMDK-qLm",
        "IlvMiRwbpUdD"
      ],
      "toc_visible": true
    },
    "kernelspec": {
      "name": "python3",
      "display_name": "Python 3"
    },
    "language_info": {
      "name": "python"
    }
  },
  "cells": [
    {
      "cell_type": "markdown",
      "source": [
        "What is the Grading Scheme for the Mini-Project?\n",
        "\n",
        "10% for coming up with your own problem definition based on a dataset\n",
        "\n",
        "10% for data preparation and cleaning to suit the problem of your choice\n",
        "\n",
        "20% for exploratory data analysis/visualization to gather relevant insights\n",
        "\n",
        "20% for the use of machine learning techniques to solve specific problem\n",
        "\n",
        "20% for the presentation of data-driven insights and the recommendations\n",
        "\n",
        "10% for the quality of your final team presentation and overall impressions\n",
        "\n",
        "10% for learning something new and doing something beyond this course\n",
        "\n",
        "---"
      ],
      "metadata": {
        "id": "J5Te8MJSTFdT"
      }
    },
    {
      "cell_type": "markdown",
      "source": [
        "## **Problem defined based on Marvel Superheroes Dataset:**\n",
        "\n",
        "**Predict which universe (Marvel/DC) a superhero is in.**\n",
        "\n",
        "Dataset:         https://www.kaggle.com/datasets/jonathanbesomi/superheroes-nlp-dataset?datasetId=633089&sortBy=voteCount \n",
        "\n",
        "Sample:          https://www.kaggle.com/code/raislervoigt/marvel-or-dc-creators#Some-tests "
      ],
      "metadata": {
        "id": "dPt1KtDRLIE2"
      }
    },
    {
      "cell_type": "code",
      "source": [
        "from google.colab import drive\n",
        "drive.mount('/content/drive')"
      ],
      "metadata": {
        "id": "5phl1b9s3SUk",
        "colab": {
          "base_uri": "https://localhost:8080/"
        },
        "outputId": "33494087-8cc2-43a1-8d1e-802d30d9a733"
      },
      "execution_count": 1,
      "outputs": [
        {
          "output_type": "stream",
          "name": "stdout",
          "text": [
            "Mounted at /content/drive\n"
          ]
        }
      ]
    },
    {
      "cell_type": "markdown",
      "source": [
        "We shall start off by importing some basic libraries to begin exploratory analysis on our data."
      ],
      "metadata": {
        "id": "zQKH-2jIZzs4"
      }
    },
    {
      "cell_type": "code",
      "execution_count": 2,
      "metadata": {
        "id": "4T9BN7I280fD",
        "cellView": "code"
      },
      "outputs": [],
      "source": [
        "# Basic Libraries\n",
        "import numpy as np\n",
        "import pandas as pd\n",
        "import seaborn as sb\n",
        "import matplotlib.pyplot as plt\n",
        "from sklearn.model_selection import train_test_split  # Import train_test_split from sklearn\n",
        "from sklearn.tree import DecisionTreeClassifier       # Import DecisionTreeClassifier model from Scikit-Learn\n",
        "from sklearn.tree import plot_tree                    # Plot the trained Decision Tree\n",
        "from sklearn.metrics import confusion_matrix          # Plot the two-way Confusion Matrix\n",
        "from sklearn.preprocessing import StandardScaler      #\n",
        "from sklearn.preprocessing import LabelEncoder        # Encode categorial features into numeric values\n",
        "from sklearn.linear_model import LogisticRegression   #\n",
        "\n",
        "# set the default Seaborn style for graphics\n",
        "sb.set()"
      ]
    },
    {
      "cell_type": "markdown",
      "source": [
        "Next, we will import the dataset using the read_csv() function from pandas, creating the dataframe: heroesData"
      ],
      "metadata": {
        "id": "-Z4MJh2zdz6P"
      }
    },
    {
      "cell_type": "code",
      "source": [
        "\n",
        "# import csv file\n",
        "heroesData = pd.read_csv(\"/content/drive/MyDrive/data/superheroes_nlp_dataset.csv\")\n"
      ],
      "metadata": {
        "id": "u5mnRaZnBGuj"
      },
      "execution_count": 3,
      "outputs": []
    },
    {
      "cell_type": "markdown",
      "source": [
        "Let us take a look at a brief overview of what our dataset and its entries look like."
      ],
      "metadata": {
        "id": "RBNxAElIcj_p"
      }
    },
    {
      "cell_type": "code",
      "source": [
        "heroesData.head()"
      ],
      "metadata": {
        "colab": {
          "base_uri": "https://localhost:8080/",
          "height": 0
        },
        "id": "ChbPyGGCL8VX",
        "outputId": "063c6138-8e79-420c-b4cc-cf8118face9e"
      },
      "execution_count": 4,
      "outputs": [
        {
          "output_type": "execute_result",
          "data": {
            "text/plain": [
              "            name               real_name               full_name  \\\n",
              "0        3-D Man     Delroy Garrett, Jr.     Delroy Garrett, Jr.   \n",
              "1  514A (Gotham)             Bruce Wayne                     NaN   \n",
              "2         A-Bomb  Richard Milhouse Jones  Richard Milhouse Jones   \n",
              "3             Aa                      Aa                     NaN   \n",
              "4     Aaron Cash              Aaron Cash              Aaron Cash   \n",
              "\n",
              "  overall_score                                       history_text  \\\n",
              "0             6  Delroy Garrett, Jr. grew up to become a track ...   \n",
              "1            10  He was one of the many prisoners of Indian Hil...   \n",
              "2            20   Richard \"Rick\" Jones was orphaned at a young ...   \n",
              "3            12  Aa is one of the more passive members of the P...   \n",
              "4             5  Aaron Cash is the head of security at Arkham A...   \n",
              "\n",
              "                                         powers_text  intelligence_score  \\\n",
              "0                                                NaN                  85   \n",
              "1                                                NaN                 100   \n",
              "2    On rare occasions, and through unusual circu...                  80   \n",
              "3                                                NaN                  80   \n",
              "4                                                NaN                  80   \n",
              "\n",
              "   strength_score  speed_score  durability_score  ...  has_flight  \\\n",
              "0              30           60                60  ...         0.0   \n",
              "1              20           30                50  ...         0.0   \n",
              "2             100           80               100  ...         0.0   \n",
              "3              50           55                45  ...         0.0   \n",
              "4              10           25                40  ...         0.0   \n",
              "\n",
              "   has_accelerated_healing has_weapons_master has_intelligence has_reflexes  \\\n",
              "0                      0.0                0.0              0.0          0.0   \n",
              "1                      0.0                0.0              0.0          1.0   \n",
              "2                      1.0                0.0              0.0          1.0   \n",
              "3                      0.0                0.0              0.0          0.0   \n",
              "4                      0.0                1.0              0.0          0.0   \n",
              "\n",
              "  has_super_speed has_durability has_stamina has_agility has_super_strength  \n",
              "0             1.0            0.0         0.0         0.0                1.0  \n",
              "1             0.0            1.0         0.0         0.0                1.0  \n",
              "2             1.0            1.0         1.0         1.0                1.0  \n",
              "3             0.0            0.0         0.0         0.0                0.0  \n",
              "4             0.0            0.0         0.0         0.0                0.0  \n",
              "\n",
              "[5 rows x 81 columns]"
            ],
            "text/html": [
              "\n",
              "  <div id=\"df-dc2d2081-bcf2-4dea-88eb-2fe96bb3f9ee\">\n",
              "    <div class=\"colab-df-container\">\n",
              "      <div>\n",
              "<style scoped>\n",
              "    .dataframe tbody tr th:only-of-type {\n",
              "        vertical-align: middle;\n",
              "    }\n",
              "\n",
              "    .dataframe tbody tr th {\n",
              "        vertical-align: top;\n",
              "    }\n",
              "\n",
              "    .dataframe thead th {\n",
              "        text-align: right;\n",
              "    }\n",
              "</style>\n",
              "<table border=\"1\" class=\"dataframe\">\n",
              "  <thead>\n",
              "    <tr style=\"text-align: right;\">\n",
              "      <th></th>\n",
              "      <th>name</th>\n",
              "      <th>real_name</th>\n",
              "      <th>full_name</th>\n",
              "      <th>overall_score</th>\n",
              "      <th>history_text</th>\n",
              "      <th>powers_text</th>\n",
              "      <th>intelligence_score</th>\n",
              "      <th>strength_score</th>\n",
              "      <th>speed_score</th>\n",
              "      <th>durability_score</th>\n",
              "      <th>...</th>\n",
              "      <th>has_flight</th>\n",
              "      <th>has_accelerated_healing</th>\n",
              "      <th>has_weapons_master</th>\n",
              "      <th>has_intelligence</th>\n",
              "      <th>has_reflexes</th>\n",
              "      <th>has_super_speed</th>\n",
              "      <th>has_durability</th>\n",
              "      <th>has_stamina</th>\n",
              "      <th>has_agility</th>\n",
              "      <th>has_super_strength</th>\n",
              "    </tr>\n",
              "  </thead>\n",
              "  <tbody>\n",
              "    <tr>\n",
              "      <th>0</th>\n",
              "      <td>3-D Man</td>\n",
              "      <td>Delroy Garrett, Jr.</td>\n",
              "      <td>Delroy Garrett, Jr.</td>\n",
              "      <td>6</td>\n",
              "      <td>Delroy Garrett, Jr. grew up to become a track ...</td>\n",
              "      <td>NaN</td>\n",
              "      <td>85</td>\n",
              "      <td>30</td>\n",
              "      <td>60</td>\n",
              "      <td>60</td>\n",
              "      <td>...</td>\n",
              "      <td>0.0</td>\n",
              "      <td>0.0</td>\n",
              "      <td>0.0</td>\n",
              "      <td>0.0</td>\n",
              "      <td>0.0</td>\n",
              "      <td>1.0</td>\n",
              "      <td>0.0</td>\n",
              "      <td>0.0</td>\n",
              "      <td>0.0</td>\n",
              "      <td>1.0</td>\n",
              "    </tr>\n",
              "    <tr>\n",
              "      <th>1</th>\n",
              "      <td>514A (Gotham)</td>\n",
              "      <td>Bruce Wayne</td>\n",
              "      <td>NaN</td>\n",
              "      <td>10</td>\n",
              "      <td>He was one of the many prisoners of Indian Hil...</td>\n",
              "      <td>NaN</td>\n",
              "      <td>100</td>\n",
              "      <td>20</td>\n",
              "      <td>30</td>\n",
              "      <td>50</td>\n",
              "      <td>...</td>\n",
              "      <td>0.0</td>\n",
              "      <td>0.0</td>\n",
              "      <td>0.0</td>\n",
              "      <td>0.0</td>\n",
              "      <td>1.0</td>\n",
              "      <td>0.0</td>\n",
              "      <td>1.0</td>\n",
              "      <td>0.0</td>\n",
              "      <td>0.0</td>\n",
              "      <td>1.0</td>\n",
              "    </tr>\n",
              "    <tr>\n",
              "      <th>2</th>\n",
              "      <td>A-Bomb</td>\n",
              "      <td>Richard Milhouse Jones</td>\n",
              "      <td>Richard Milhouse Jones</td>\n",
              "      <td>20</td>\n",
              "      <td>Richard \"Rick\" Jones was orphaned at a young ...</td>\n",
              "      <td>On rare occasions, and through unusual circu...</td>\n",
              "      <td>80</td>\n",
              "      <td>100</td>\n",
              "      <td>80</td>\n",
              "      <td>100</td>\n",
              "      <td>...</td>\n",
              "      <td>0.0</td>\n",
              "      <td>1.0</td>\n",
              "      <td>0.0</td>\n",
              "      <td>0.0</td>\n",
              "      <td>1.0</td>\n",
              "      <td>1.0</td>\n",
              "      <td>1.0</td>\n",
              "      <td>1.0</td>\n",
              "      <td>1.0</td>\n",
              "      <td>1.0</td>\n",
              "    </tr>\n",
              "    <tr>\n",
              "      <th>3</th>\n",
              "      <td>Aa</td>\n",
              "      <td>Aa</td>\n",
              "      <td>NaN</td>\n",
              "      <td>12</td>\n",
              "      <td>Aa is one of the more passive members of the P...</td>\n",
              "      <td>NaN</td>\n",
              "      <td>80</td>\n",
              "      <td>50</td>\n",
              "      <td>55</td>\n",
              "      <td>45</td>\n",
              "      <td>...</td>\n",
              "      <td>0.0</td>\n",
              "      <td>0.0</td>\n",
              "      <td>0.0</td>\n",
              "      <td>0.0</td>\n",
              "      <td>0.0</td>\n",
              "      <td>0.0</td>\n",
              "      <td>0.0</td>\n",
              "      <td>0.0</td>\n",
              "      <td>0.0</td>\n",
              "      <td>0.0</td>\n",
              "    </tr>\n",
              "    <tr>\n",
              "      <th>4</th>\n",
              "      <td>Aaron Cash</td>\n",
              "      <td>Aaron Cash</td>\n",
              "      <td>Aaron Cash</td>\n",
              "      <td>5</td>\n",
              "      <td>Aaron Cash is the head of security at Arkham A...</td>\n",
              "      <td>NaN</td>\n",
              "      <td>80</td>\n",
              "      <td>10</td>\n",
              "      <td>25</td>\n",
              "      <td>40</td>\n",
              "      <td>...</td>\n",
              "      <td>0.0</td>\n",
              "      <td>0.0</td>\n",
              "      <td>1.0</td>\n",
              "      <td>0.0</td>\n",
              "      <td>0.0</td>\n",
              "      <td>0.0</td>\n",
              "      <td>0.0</td>\n",
              "      <td>0.0</td>\n",
              "      <td>0.0</td>\n",
              "      <td>0.0</td>\n",
              "    </tr>\n",
              "  </tbody>\n",
              "</table>\n",
              "<p>5 rows × 81 columns</p>\n",
              "</div>\n",
              "      <button class=\"colab-df-convert\" onclick=\"convertToInteractive('df-dc2d2081-bcf2-4dea-88eb-2fe96bb3f9ee')\"\n",
              "              title=\"Convert this dataframe to an interactive table.\"\n",
              "              style=\"display:none;\">\n",
              "        \n",
              "  <svg xmlns=\"http://www.w3.org/2000/svg\" height=\"24px\"viewBox=\"0 0 24 24\"\n",
              "       width=\"24px\">\n",
              "    <path d=\"M0 0h24v24H0V0z\" fill=\"none\"/>\n",
              "    <path d=\"M18.56 5.44l.94 2.06.94-2.06 2.06-.94-2.06-.94-.94-2.06-.94 2.06-2.06.94zm-11 1L8.5 8.5l.94-2.06 2.06-.94-2.06-.94L8.5 2.5l-.94 2.06-2.06.94zm10 10l.94 2.06.94-2.06 2.06-.94-2.06-.94-.94-2.06-.94 2.06-2.06.94z\"/><path d=\"M17.41 7.96l-1.37-1.37c-.4-.4-.92-.59-1.43-.59-.52 0-1.04.2-1.43.59L10.3 9.45l-7.72 7.72c-.78.78-.78 2.05 0 2.83L4 21.41c.39.39.9.59 1.41.59.51 0 1.02-.2 1.41-.59l7.78-7.78 2.81-2.81c.8-.78.8-2.07 0-2.86zM5.41 20L4 18.59l7.72-7.72 1.47 1.35L5.41 20z\"/>\n",
              "  </svg>\n",
              "      </button>\n",
              "      \n",
              "  <style>\n",
              "    .colab-df-container {\n",
              "      display:flex;\n",
              "      flex-wrap:wrap;\n",
              "      gap: 12px;\n",
              "    }\n",
              "\n",
              "    .colab-df-convert {\n",
              "      background-color: #E8F0FE;\n",
              "      border: none;\n",
              "      border-radius: 50%;\n",
              "      cursor: pointer;\n",
              "      display: none;\n",
              "      fill: #1967D2;\n",
              "      height: 32px;\n",
              "      padding: 0 0 0 0;\n",
              "      width: 32px;\n",
              "    }\n",
              "\n",
              "    .colab-df-convert:hover {\n",
              "      background-color: #E2EBFA;\n",
              "      box-shadow: 0px 1px 2px rgba(60, 64, 67, 0.3), 0px 1px 3px 1px rgba(60, 64, 67, 0.15);\n",
              "      fill: #174EA6;\n",
              "    }\n",
              "\n",
              "    [theme=dark] .colab-df-convert {\n",
              "      background-color: #3B4455;\n",
              "      fill: #D2E3FC;\n",
              "    }\n",
              "\n",
              "    [theme=dark] .colab-df-convert:hover {\n",
              "      background-color: #434B5C;\n",
              "      box-shadow: 0px 1px 3px 1px rgba(0, 0, 0, 0.15);\n",
              "      filter: drop-shadow(0px 1px 2px rgba(0, 0, 0, 0.3));\n",
              "      fill: #FFFFFF;\n",
              "    }\n",
              "  </style>\n",
              "\n",
              "      <script>\n",
              "        const buttonEl =\n",
              "          document.querySelector('#df-dc2d2081-bcf2-4dea-88eb-2fe96bb3f9ee button.colab-df-convert');\n",
              "        buttonEl.style.display =\n",
              "          google.colab.kernel.accessAllowed ? 'block' : 'none';\n",
              "\n",
              "        async function convertToInteractive(key) {\n",
              "          const element = document.querySelector('#df-dc2d2081-bcf2-4dea-88eb-2fe96bb3f9ee');\n",
              "          const dataTable =\n",
              "            await google.colab.kernel.invokeFunction('convertToInteractive',\n",
              "                                                     [key], {});\n",
              "          if (!dataTable) return;\n",
              "\n",
              "          const docLinkHtml = 'Like what you see? Visit the ' +\n",
              "            '<a target=\"_blank\" href=https://colab.research.google.com/notebooks/data_table.ipynb>data table notebook</a>'\n",
              "            + ' to learn more about interactive tables.';\n",
              "          element.innerHTML = '';\n",
              "          dataTable['output_type'] = 'display_data';\n",
              "          await google.colab.output.renderOutput(dataTable, element);\n",
              "          const docLink = document.createElement('div');\n",
              "          docLink.innerHTML = docLinkHtml;\n",
              "          element.appendChild(docLink);\n",
              "        }\n",
              "      </script>\n",
              "    </div>\n",
              "  </div>\n",
              "  "
            ]
          },
          "metadata": {},
          "execution_count": 4
        }
      ]
    },
    {
      "cell_type": "code",
      "source": [
        "heroesData.shape"
      ],
      "metadata": {
        "colab": {
          "base_uri": "https://localhost:8080/"
        },
        "id": "ingH9TNcRndJ",
        "outputId": "c482b1d9-eda0-467c-9c27-88fd00c4939e"
      },
      "execution_count": 5,
      "outputs": [
        {
          "output_type": "execute_result",
          "data": {
            "text/plain": [
              "(1450, 81)"
            ]
          },
          "metadata": {},
          "execution_count": 5
        }
      ]
    },
    {
      "cell_type": "code",
      "source": [
        "heroesData.describe()"
      ],
      "metadata": {
        "colab": {
          "base_uri": "https://localhost:8080/",
          "height": 0
        },
        "id": "e9nZ2SsWMT_M",
        "outputId": "853e95d7-93ec-40eb-b6b3-5723ab17aa5c"
      },
      "execution_count": 6,
      "outputs": [
        {
          "output_type": "execute_result",
          "data": {
            "text/plain": [
              "       intelligence_score  strength_score  speed_score  durability_score  \\\n",
              "count         1450.000000     1450.000000  1450.000000       1450.000000   \n",
              "mean            79.103448       39.458621    46.389655         56.193103   \n",
              "std             25.048393       34.385566    29.205902         31.647711   \n",
              "min              0.000000        0.000000     0.000000          0.000000   \n",
              "25%             75.000000       10.000000    25.000000         30.000000   \n",
              "50%             85.000000       30.000000    40.000000         55.000000   \n",
              "75%             95.000000       65.000000    65.000000         85.000000   \n",
              "max            100.000000      100.000000   100.000000        100.000000   \n",
              "\n",
              "       power_score  combat_score  has_electrokinesis  has_energy_constructs  \\\n",
              "count  1450.000000   1450.000000         1383.000000            1383.000000   \n",
              "mean     66.913793     68.175862            0.090383               0.076645   \n",
              "std      33.225127     29.540420            0.286834               0.266124   \n",
              "min       0.000000      0.000000            0.000000               0.000000   \n",
              "25%      40.000000     55.000000            0.000000               0.000000   \n",
              "50%      72.500000     75.000000            0.000000               0.000000   \n",
              "75%     100.000000     90.000000            0.000000               0.000000   \n",
              "max     100.000000    100.000000            1.000000               1.000000   \n",
              "\n",
              "       has_mind_control_resistance  has_matter_manipulation  ...   has_flight  \\\n",
              "count                  1383.000000              1383.000000  ...  1383.000000   \n",
              "mean                      0.075922                 0.050615  ...     0.266811   \n",
              "std                       0.264969                 0.219289  ...     0.442453   \n",
              "min                       0.000000                 0.000000  ...     0.000000   \n",
              "25%                       0.000000                 0.000000  ...     0.000000   \n",
              "50%                       0.000000                 0.000000  ...     0.000000   \n",
              "75%                       0.000000                 0.000000  ...     1.000000   \n",
              "max                       1.000000                 1.000000  ...     1.000000   \n",
              "\n",
              "       has_accelerated_healing  has_weapons_master  has_intelligence  \\\n",
              "count              1383.000000         1383.000000       1383.000000   \n",
              "mean                  0.308026            0.409978          0.433116   \n",
              "std                   0.461844            0.492007          0.495686   \n",
              "min                   0.000000            0.000000          0.000000   \n",
              "25%                   0.000000            0.000000          0.000000   \n",
              "50%                   0.000000            0.000000          0.000000   \n",
              "75%                   1.000000            1.000000          1.000000   \n",
              "max                   1.000000            1.000000          1.000000   \n",
              "\n",
              "       has_reflexes  has_super_speed  has_durability  has_stamina  \\\n",
              "count   1383.000000      1383.000000     1383.000000  1383.000000   \n",
              "mean       0.428778         0.386840        0.511931     0.532899   \n",
              "std        0.495080         0.487203        0.500038     0.499097   \n",
              "min        0.000000         0.000000        0.000000     0.000000   \n",
              "25%        0.000000         0.000000        0.000000     0.000000   \n",
              "50%        0.000000         0.000000        1.000000     1.000000   \n",
              "75%        1.000000         1.000000        1.000000     1.000000   \n",
              "max        1.000000         1.000000        1.000000     1.000000   \n",
              "\n",
              "       has_agility  has_super_strength  \n",
              "count  1383.000000         1383.000000  \n",
              "mean      0.562545            0.528561  \n",
              "std       0.496252            0.499364  \n",
              "min       0.000000            0.000000  \n",
              "25%       0.000000            0.000000  \n",
              "50%       1.000000            1.000000  \n",
              "75%       1.000000            1.000000  \n",
              "max       1.000000            1.000000  \n",
              "\n",
              "[8 rows x 56 columns]"
            ],
            "text/html": [
              "\n",
              "  <div id=\"df-a392cf95-865f-4e01-a2d1-5bef089a435e\">\n",
              "    <div class=\"colab-df-container\">\n",
              "      <div>\n",
              "<style scoped>\n",
              "    .dataframe tbody tr th:only-of-type {\n",
              "        vertical-align: middle;\n",
              "    }\n",
              "\n",
              "    .dataframe tbody tr th {\n",
              "        vertical-align: top;\n",
              "    }\n",
              "\n",
              "    .dataframe thead th {\n",
              "        text-align: right;\n",
              "    }\n",
              "</style>\n",
              "<table border=\"1\" class=\"dataframe\">\n",
              "  <thead>\n",
              "    <tr style=\"text-align: right;\">\n",
              "      <th></th>\n",
              "      <th>intelligence_score</th>\n",
              "      <th>strength_score</th>\n",
              "      <th>speed_score</th>\n",
              "      <th>durability_score</th>\n",
              "      <th>power_score</th>\n",
              "      <th>combat_score</th>\n",
              "      <th>has_electrokinesis</th>\n",
              "      <th>has_energy_constructs</th>\n",
              "      <th>has_mind_control_resistance</th>\n",
              "      <th>has_matter_manipulation</th>\n",
              "      <th>...</th>\n",
              "      <th>has_flight</th>\n",
              "      <th>has_accelerated_healing</th>\n",
              "      <th>has_weapons_master</th>\n",
              "      <th>has_intelligence</th>\n",
              "      <th>has_reflexes</th>\n",
              "      <th>has_super_speed</th>\n",
              "      <th>has_durability</th>\n",
              "      <th>has_stamina</th>\n",
              "      <th>has_agility</th>\n",
              "      <th>has_super_strength</th>\n",
              "    </tr>\n",
              "  </thead>\n",
              "  <tbody>\n",
              "    <tr>\n",
              "      <th>count</th>\n",
              "      <td>1450.000000</td>\n",
              "      <td>1450.000000</td>\n",
              "      <td>1450.000000</td>\n",
              "      <td>1450.000000</td>\n",
              "      <td>1450.000000</td>\n",
              "      <td>1450.000000</td>\n",
              "      <td>1383.000000</td>\n",
              "      <td>1383.000000</td>\n",
              "      <td>1383.000000</td>\n",
              "      <td>1383.000000</td>\n",
              "      <td>...</td>\n",
              "      <td>1383.000000</td>\n",
              "      <td>1383.000000</td>\n",
              "      <td>1383.000000</td>\n",
              "      <td>1383.000000</td>\n",
              "      <td>1383.000000</td>\n",
              "      <td>1383.000000</td>\n",
              "      <td>1383.000000</td>\n",
              "      <td>1383.000000</td>\n",
              "      <td>1383.000000</td>\n",
              "      <td>1383.000000</td>\n",
              "    </tr>\n",
              "    <tr>\n",
              "      <th>mean</th>\n",
              "      <td>79.103448</td>\n",
              "      <td>39.458621</td>\n",
              "      <td>46.389655</td>\n",
              "      <td>56.193103</td>\n",
              "      <td>66.913793</td>\n",
              "      <td>68.175862</td>\n",
              "      <td>0.090383</td>\n",
              "      <td>0.076645</td>\n",
              "      <td>0.075922</td>\n",
              "      <td>0.050615</td>\n",
              "      <td>...</td>\n",
              "      <td>0.266811</td>\n",
              "      <td>0.308026</td>\n",
              "      <td>0.409978</td>\n",
              "      <td>0.433116</td>\n",
              "      <td>0.428778</td>\n",
              "      <td>0.386840</td>\n",
              "      <td>0.511931</td>\n",
              "      <td>0.532899</td>\n",
              "      <td>0.562545</td>\n",
              "      <td>0.528561</td>\n",
              "    </tr>\n",
              "    <tr>\n",
              "      <th>std</th>\n",
              "      <td>25.048393</td>\n",
              "      <td>34.385566</td>\n",
              "      <td>29.205902</td>\n",
              "      <td>31.647711</td>\n",
              "      <td>33.225127</td>\n",
              "      <td>29.540420</td>\n",
              "      <td>0.286834</td>\n",
              "      <td>0.266124</td>\n",
              "      <td>0.264969</td>\n",
              "      <td>0.219289</td>\n",
              "      <td>...</td>\n",
              "      <td>0.442453</td>\n",
              "      <td>0.461844</td>\n",
              "      <td>0.492007</td>\n",
              "      <td>0.495686</td>\n",
              "      <td>0.495080</td>\n",
              "      <td>0.487203</td>\n",
              "      <td>0.500038</td>\n",
              "      <td>0.499097</td>\n",
              "      <td>0.496252</td>\n",
              "      <td>0.499364</td>\n",
              "    </tr>\n",
              "    <tr>\n",
              "      <th>min</th>\n",
              "      <td>0.000000</td>\n",
              "      <td>0.000000</td>\n",
              "      <td>0.000000</td>\n",
              "      <td>0.000000</td>\n",
              "      <td>0.000000</td>\n",
              "      <td>0.000000</td>\n",
              "      <td>0.000000</td>\n",
              "      <td>0.000000</td>\n",
              "      <td>0.000000</td>\n",
              "      <td>0.000000</td>\n",
              "      <td>...</td>\n",
              "      <td>0.000000</td>\n",
              "      <td>0.000000</td>\n",
              "      <td>0.000000</td>\n",
              "      <td>0.000000</td>\n",
              "      <td>0.000000</td>\n",
              "      <td>0.000000</td>\n",
              "      <td>0.000000</td>\n",
              "      <td>0.000000</td>\n",
              "      <td>0.000000</td>\n",
              "      <td>0.000000</td>\n",
              "    </tr>\n",
              "    <tr>\n",
              "      <th>25%</th>\n",
              "      <td>75.000000</td>\n",
              "      <td>10.000000</td>\n",
              "      <td>25.000000</td>\n",
              "      <td>30.000000</td>\n",
              "      <td>40.000000</td>\n",
              "      <td>55.000000</td>\n",
              "      <td>0.000000</td>\n",
              "      <td>0.000000</td>\n",
              "      <td>0.000000</td>\n",
              "      <td>0.000000</td>\n",
              "      <td>...</td>\n",
              "      <td>0.000000</td>\n",
              "      <td>0.000000</td>\n",
              "      <td>0.000000</td>\n",
              "      <td>0.000000</td>\n",
              "      <td>0.000000</td>\n",
              "      <td>0.000000</td>\n",
              "      <td>0.000000</td>\n",
              "      <td>0.000000</td>\n",
              "      <td>0.000000</td>\n",
              "      <td>0.000000</td>\n",
              "    </tr>\n",
              "    <tr>\n",
              "      <th>50%</th>\n",
              "      <td>85.000000</td>\n",
              "      <td>30.000000</td>\n",
              "      <td>40.000000</td>\n",
              "      <td>55.000000</td>\n",
              "      <td>72.500000</td>\n",
              "      <td>75.000000</td>\n",
              "      <td>0.000000</td>\n",
              "      <td>0.000000</td>\n",
              "      <td>0.000000</td>\n",
              "      <td>0.000000</td>\n",
              "      <td>...</td>\n",
              "      <td>0.000000</td>\n",
              "      <td>0.000000</td>\n",
              "      <td>0.000000</td>\n",
              "      <td>0.000000</td>\n",
              "      <td>0.000000</td>\n",
              "      <td>0.000000</td>\n",
              "      <td>1.000000</td>\n",
              "      <td>1.000000</td>\n",
              "      <td>1.000000</td>\n",
              "      <td>1.000000</td>\n",
              "    </tr>\n",
              "    <tr>\n",
              "      <th>75%</th>\n",
              "      <td>95.000000</td>\n",
              "      <td>65.000000</td>\n",
              "      <td>65.000000</td>\n",
              "      <td>85.000000</td>\n",
              "      <td>100.000000</td>\n",
              "      <td>90.000000</td>\n",
              "      <td>0.000000</td>\n",
              "      <td>0.000000</td>\n",
              "      <td>0.000000</td>\n",
              "      <td>0.000000</td>\n",
              "      <td>...</td>\n",
              "      <td>1.000000</td>\n",
              "      <td>1.000000</td>\n",
              "      <td>1.000000</td>\n",
              "      <td>1.000000</td>\n",
              "      <td>1.000000</td>\n",
              "      <td>1.000000</td>\n",
              "      <td>1.000000</td>\n",
              "      <td>1.000000</td>\n",
              "      <td>1.000000</td>\n",
              "      <td>1.000000</td>\n",
              "    </tr>\n",
              "    <tr>\n",
              "      <th>max</th>\n",
              "      <td>100.000000</td>\n",
              "      <td>100.000000</td>\n",
              "      <td>100.000000</td>\n",
              "      <td>100.000000</td>\n",
              "      <td>100.000000</td>\n",
              "      <td>100.000000</td>\n",
              "      <td>1.000000</td>\n",
              "      <td>1.000000</td>\n",
              "      <td>1.000000</td>\n",
              "      <td>1.000000</td>\n",
              "      <td>...</td>\n",
              "      <td>1.000000</td>\n",
              "      <td>1.000000</td>\n",
              "      <td>1.000000</td>\n",
              "      <td>1.000000</td>\n",
              "      <td>1.000000</td>\n",
              "      <td>1.000000</td>\n",
              "      <td>1.000000</td>\n",
              "      <td>1.000000</td>\n",
              "      <td>1.000000</td>\n",
              "      <td>1.000000</td>\n",
              "    </tr>\n",
              "  </tbody>\n",
              "</table>\n",
              "<p>8 rows × 56 columns</p>\n",
              "</div>\n",
              "      <button class=\"colab-df-convert\" onclick=\"convertToInteractive('df-a392cf95-865f-4e01-a2d1-5bef089a435e')\"\n",
              "              title=\"Convert this dataframe to an interactive table.\"\n",
              "              style=\"display:none;\">\n",
              "        \n",
              "  <svg xmlns=\"http://www.w3.org/2000/svg\" height=\"24px\"viewBox=\"0 0 24 24\"\n",
              "       width=\"24px\">\n",
              "    <path d=\"M0 0h24v24H0V0z\" fill=\"none\"/>\n",
              "    <path d=\"M18.56 5.44l.94 2.06.94-2.06 2.06-.94-2.06-.94-.94-2.06-.94 2.06-2.06.94zm-11 1L8.5 8.5l.94-2.06 2.06-.94-2.06-.94L8.5 2.5l-.94 2.06-2.06.94zm10 10l.94 2.06.94-2.06 2.06-.94-2.06-.94-.94-2.06-.94 2.06-2.06.94z\"/><path d=\"M17.41 7.96l-1.37-1.37c-.4-.4-.92-.59-1.43-.59-.52 0-1.04.2-1.43.59L10.3 9.45l-7.72 7.72c-.78.78-.78 2.05 0 2.83L4 21.41c.39.39.9.59 1.41.59.51 0 1.02-.2 1.41-.59l7.78-7.78 2.81-2.81c.8-.78.8-2.07 0-2.86zM5.41 20L4 18.59l7.72-7.72 1.47 1.35L5.41 20z\"/>\n",
              "  </svg>\n",
              "      </button>\n",
              "      \n",
              "  <style>\n",
              "    .colab-df-container {\n",
              "      display:flex;\n",
              "      flex-wrap:wrap;\n",
              "      gap: 12px;\n",
              "    }\n",
              "\n",
              "    .colab-df-convert {\n",
              "      background-color: #E8F0FE;\n",
              "      border: none;\n",
              "      border-radius: 50%;\n",
              "      cursor: pointer;\n",
              "      display: none;\n",
              "      fill: #1967D2;\n",
              "      height: 32px;\n",
              "      padding: 0 0 0 0;\n",
              "      width: 32px;\n",
              "    }\n",
              "\n",
              "    .colab-df-convert:hover {\n",
              "      background-color: #E2EBFA;\n",
              "      box-shadow: 0px 1px 2px rgba(60, 64, 67, 0.3), 0px 1px 3px 1px rgba(60, 64, 67, 0.15);\n",
              "      fill: #174EA6;\n",
              "    }\n",
              "\n",
              "    [theme=dark] .colab-df-convert {\n",
              "      background-color: #3B4455;\n",
              "      fill: #D2E3FC;\n",
              "    }\n",
              "\n",
              "    [theme=dark] .colab-df-convert:hover {\n",
              "      background-color: #434B5C;\n",
              "      box-shadow: 0px 1px 3px 1px rgba(0, 0, 0, 0.15);\n",
              "      filter: drop-shadow(0px 1px 2px rgba(0, 0, 0, 0.3));\n",
              "      fill: #FFFFFF;\n",
              "    }\n",
              "  </style>\n",
              "\n",
              "      <script>\n",
              "        const buttonEl =\n",
              "          document.querySelector('#df-a392cf95-865f-4e01-a2d1-5bef089a435e button.colab-df-convert');\n",
              "        buttonEl.style.display =\n",
              "          google.colab.kernel.accessAllowed ? 'block' : 'none';\n",
              "\n",
              "        async function convertToInteractive(key) {\n",
              "          const element = document.querySelector('#df-a392cf95-865f-4e01-a2d1-5bef089a435e');\n",
              "          const dataTable =\n",
              "            await google.colab.kernel.invokeFunction('convertToInteractive',\n",
              "                                                     [key], {});\n",
              "          if (!dataTable) return;\n",
              "\n",
              "          const docLinkHtml = 'Like what you see? Visit the ' +\n",
              "            '<a target=\"_blank\" href=https://colab.research.google.com/notebooks/data_table.ipynb>data table notebook</a>'\n",
              "            + ' to learn more about interactive tables.';\n",
              "          element.innerHTML = '';\n",
              "          dataTable['output_type'] = 'display_data';\n",
              "          await google.colab.output.renderOutput(dataTable, element);\n",
              "          const docLink = document.createElement('div');\n",
              "          docLink.innerHTML = docLinkHtml;\n",
              "          element.appendChild(docLink);\n",
              "        }\n",
              "      </script>\n",
              "    </div>\n",
              "  </div>\n",
              "  "
            ]
          },
          "metadata": {},
          "execution_count": 6
        }
      ]
    },
    {
      "cell_type": "code",
      "source": [
        "heroesData.count()"
      ],
      "metadata": {
        "colab": {
          "base_uri": "https://localhost:8080/"
        },
        "id": "0uEQoC98MYDr",
        "outputId": "ea0231fb-f358-4291-c911-a35eb66ee87f"
      },
      "execution_count": 7,
      "outputs": [
        {
          "output_type": "execute_result",
          "data": {
            "text/plain": [
              "name                  1448\n",
              "real_name             1301\n",
              "full_name              956\n",
              "overall_score         1450\n",
              "history_text          1360\n",
              "                      ... \n",
              "has_super_speed       1383\n",
              "has_durability        1383\n",
              "has_stamina           1383\n",
              "has_agility           1383\n",
              "has_super_strength    1383\n",
              "Length: 81, dtype: int64"
            ]
          },
          "metadata": {},
          "execution_count": 7
        }
      ]
    },
    {
      "cell_type": "code",
      "source": [
        "heroesData.dtypes"
      ],
      "metadata": {
        "colab": {
          "base_uri": "https://localhost:8080/"
        },
        "id": "ixieWTOW7p-w",
        "outputId": "a368286a-4fb6-4d53-c483-1de88f316766"
      },
      "execution_count": 8,
      "outputs": [
        {
          "output_type": "execute_result",
          "data": {
            "text/plain": [
              "name                   object\n",
              "real_name              object\n",
              "full_name              object\n",
              "overall_score          object\n",
              "history_text           object\n",
              "                       ...   \n",
              "has_super_speed       float64\n",
              "has_durability        float64\n",
              "has_stamina           float64\n",
              "has_agility           float64\n",
              "has_super_strength    float64\n",
              "Length: 81, dtype: object"
            ]
          },
          "metadata": {},
          "execution_count": 8
        }
      ]
    },
    {
      "cell_type": "markdown",
      "source": [
        "# **Cleaning dataset**\n",
        "\n",
        "Our first goal is to determine a Superhero's creator (Marvel/DC) based on only numerical statistics.\n",
        "\n",
        "We will clean the data by removing unneccesary columns (Eg. has_flight, has_electrokinesis, history_text, etc.), and keep only the relevant data."
      ],
      "metadata": {
        "id": "TzkYl8A8M2Ud"
      }
    },
    {
      "cell_type": "code",
      "source": [
        "# new dataframe with only relevant columns\n",
        "statsData = pd.DataFrame(heroesData[[\"overall_score\", \"intelligence_score\", \"strength_score\", \"speed_score\", \"durability_score\", \"power_score\", \"combat_score\", \"creator\"]])\n",
        "statsData.head()\n"
      ],
      "metadata": {
        "id": "gsbGAhIJNo9M",
        "colab": {
          "base_uri": "https://localhost:8080/",
          "height": 206
        },
        "outputId": "c4a11e4e-1b67-460e-92b9-4a073af2e678"
      },
      "execution_count": 9,
      "outputs": [
        {
          "output_type": "execute_result",
          "data": {
            "text/plain": [
              "  overall_score  intelligence_score  strength_score  speed_score  \\\n",
              "0             6                  85              30           60   \n",
              "1            10                 100              20           30   \n",
              "2            20                  80             100           80   \n",
              "3            12                  80              50           55   \n",
              "4             5                  80              10           25   \n",
              "\n",
              "   durability_score  power_score  combat_score        creator  \n",
              "0                60           40            70  Marvel Comics  \n",
              "1                50           35           100      DC Comics  \n",
              "2               100          100            80  Marvel Comics  \n",
              "3                45          100            55      DC Comics  \n",
              "4                40           30            50      DC Comics  "
            ],
            "text/html": [
              "\n",
              "  <div id=\"df-18469b6d-fff6-4d3a-a340-f3fd3c6b71e7\">\n",
              "    <div class=\"colab-df-container\">\n",
              "      <div>\n",
              "<style scoped>\n",
              "    .dataframe tbody tr th:only-of-type {\n",
              "        vertical-align: middle;\n",
              "    }\n",
              "\n",
              "    .dataframe tbody tr th {\n",
              "        vertical-align: top;\n",
              "    }\n",
              "\n",
              "    .dataframe thead th {\n",
              "        text-align: right;\n",
              "    }\n",
              "</style>\n",
              "<table border=\"1\" class=\"dataframe\">\n",
              "  <thead>\n",
              "    <tr style=\"text-align: right;\">\n",
              "      <th></th>\n",
              "      <th>overall_score</th>\n",
              "      <th>intelligence_score</th>\n",
              "      <th>strength_score</th>\n",
              "      <th>speed_score</th>\n",
              "      <th>durability_score</th>\n",
              "      <th>power_score</th>\n",
              "      <th>combat_score</th>\n",
              "      <th>creator</th>\n",
              "    </tr>\n",
              "  </thead>\n",
              "  <tbody>\n",
              "    <tr>\n",
              "      <th>0</th>\n",
              "      <td>6</td>\n",
              "      <td>85</td>\n",
              "      <td>30</td>\n",
              "      <td>60</td>\n",
              "      <td>60</td>\n",
              "      <td>40</td>\n",
              "      <td>70</td>\n",
              "      <td>Marvel Comics</td>\n",
              "    </tr>\n",
              "    <tr>\n",
              "      <th>1</th>\n",
              "      <td>10</td>\n",
              "      <td>100</td>\n",
              "      <td>20</td>\n",
              "      <td>30</td>\n",
              "      <td>50</td>\n",
              "      <td>35</td>\n",
              "      <td>100</td>\n",
              "      <td>DC Comics</td>\n",
              "    </tr>\n",
              "    <tr>\n",
              "      <th>2</th>\n",
              "      <td>20</td>\n",
              "      <td>80</td>\n",
              "      <td>100</td>\n",
              "      <td>80</td>\n",
              "      <td>100</td>\n",
              "      <td>100</td>\n",
              "      <td>80</td>\n",
              "      <td>Marvel Comics</td>\n",
              "    </tr>\n",
              "    <tr>\n",
              "      <th>3</th>\n",
              "      <td>12</td>\n",
              "      <td>80</td>\n",
              "      <td>50</td>\n",
              "      <td>55</td>\n",
              "      <td>45</td>\n",
              "      <td>100</td>\n",
              "      <td>55</td>\n",
              "      <td>DC Comics</td>\n",
              "    </tr>\n",
              "    <tr>\n",
              "      <th>4</th>\n",
              "      <td>5</td>\n",
              "      <td>80</td>\n",
              "      <td>10</td>\n",
              "      <td>25</td>\n",
              "      <td>40</td>\n",
              "      <td>30</td>\n",
              "      <td>50</td>\n",
              "      <td>DC Comics</td>\n",
              "    </tr>\n",
              "  </tbody>\n",
              "</table>\n",
              "</div>\n",
              "      <button class=\"colab-df-convert\" onclick=\"convertToInteractive('df-18469b6d-fff6-4d3a-a340-f3fd3c6b71e7')\"\n",
              "              title=\"Convert this dataframe to an interactive table.\"\n",
              "              style=\"display:none;\">\n",
              "        \n",
              "  <svg xmlns=\"http://www.w3.org/2000/svg\" height=\"24px\"viewBox=\"0 0 24 24\"\n",
              "       width=\"24px\">\n",
              "    <path d=\"M0 0h24v24H0V0z\" fill=\"none\"/>\n",
              "    <path d=\"M18.56 5.44l.94 2.06.94-2.06 2.06-.94-2.06-.94-.94-2.06-.94 2.06-2.06.94zm-11 1L8.5 8.5l.94-2.06 2.06-.94-2.06-.94L8.5 2.5l-.94 2.06-2.06.94zm10 10l.94 2.06.94-2.06 2.06-.94-2.06-.94-.94-2.06-.94 2.06-2.06.94z\"/><path d=\"M17.41 7.96l-1.37-1.37c-.4-.4-.92-.59-1.43-.59-.52 0-1.04.2-1.43.59L10.3 9.45l-7.72 7.72c-.78.78-.78 2.05 0 2.83L4 21.41c.39.39.9.59 1.41.59.51 0 1.02-.2 1.41-.59l7.78-7.78 2.81-2.81c.8-.78.8-2.07 0-2.86zM5.41 20L4 18.59l7.72-7.72 1.47 1.35L5.41 20z\"/>\n",
              "  </svg>\n",
              "      </button>\n",
              "      \n",
              "  <style>\n",
              "    .colab-df-container {\n",
              "      display:flex;\n",
              "      flex-wrap:wrap;\n",
              "      gap: 12px;\n",
              "    }\n",
              "\n",
              "    .colab-df-convert {\n",
              "      background-color: #E8F0FE;\n",
              "      border: none;\n",
              "      border-radius: 50%;\n",
              "      cursor: pointer;\n",
              "      display: none;\n",
              "      fill: #1967D2;\n",
              "      height: 32px;\n",
              "      padding: 0 0 0 0;\n",
              "      width: 32px;\n",
              "    }\n",
              "\n",
              "    .colab-df-convert:hover {\n",
              "      background-color: #E2EBFA;\n",
              "      box-shadow: 0px 1px 2px rgba(60, 64, 67, 0.3), 0px 1px 3px 1px rgba(60, 64, 67, 0.15);\n",
              "      fill: #174EA6;\n",
              "    }\n",
              "\n",
              "    [theme=dark] .colab-df-convert {\n",
              "      background-color: #3B4455;\n",
              "      fill: #D2E3FC;\n",
              "    }\n",
              "\n",
              "    [theme=dark] .colab-df-convert:hover {\n",
              "      background-color: #434B5C;\n",
              "      box-shadow: 0px 1px 3px 1px rgba(0, 0, 0, 0.15);\n",
              "      filter: drop-shadow(0px 1px 2px rgba(0, 0, 0, 0.3));\n",
              "      fill: #FFFFFF;\n",
              "    }\n",
              "  </style>\n",
              "\n",
              "      <script>\n",
              "        const buttonEl =\n",
              "          document.querySelector('#df-18469b6d-fff6-4d3a-a340-f3fd3c6b71e7 button.colab-df-convert');\n",
              "        buttonEl.style.display =\n",
              "          google.colab.kernel.accessAllowed ? 'block' : 'none';\n",
              "\n",
              "        async function convertToInteractive(key) {\n",
              "          const element = document.querySelector('#df-18469b6d-fff6-4d3a-a340-f3fd3c6b71e7');\n",
              "          const dataTable =\n",
              "            await google.colab.kernel.invokeFunction('convertToInteractive',\n",
              "                                                     [key], {});\n",
              "          if (!dataTable) return;\n",
              "\n",
              "          const docLinkHtml = 'Like what you see? Visit the ' +\n",
              "            '<a target=\"_blank\" href=https://colab.research.google.com/notebooks/data_table.ipynb>data table notebook</a>'\n",
              "            + ' to learn more about interactive tables.';\n",
              "          element.innerHTML = '';\n",
              "          dataTable['output_type'] = 'display_data';\n",
              "          await google.colab.output.renderOutput(dataTable, element);\n",
              "          const docLink = document.createElement('div');\n",
              "          docLink.innerHTML = docLinkHtml;\n",
              "          element.appendChild(docLink);\n",
              "        }\n",
              "      </script>\n",
              "    </div>\n",
              "  </div>\n",
              "  "
            ]
          },
          "metadata": {},
          "execution_count": 9
        }
      ]
    },
    {
      "cell_type": "code",
      "source": [
        "statsData.info()"
      ],
      "metadata": {
        "id": "v79Xiz_rEGba",
        "colab": {
          "base_uri": "https://localhost:8080/"
        },
        "outputId": "cb67fea2-288f-4ed2-f712-65a9d6b6f2ba"
      },
      "execution_count": 10,
      "outputs": [
        {
          "output_type": "stream",
          "name": "stdout",
          "text": [
            "<class 'pandas.core.frame.DataFrame'>\n",
            "RangeIndex: 1450 entries, 0 to 1449\n",
            "Data columns (total 8 columns):\n",
            " #   Column              Non-Null Count  Dtype \n",
            "---  ------              --------------  ----- \n",
            " 0   overall_score       1450 non-null   object\n",
            " 1   intelligence_score  1450 non-null   int64 \n",
            " 2   strength_score      1450 non-null   int64 \n",
            " 3   speed_score         1450 non-null   int64 \n",
            " 4   durability_score    1450 non-null   int64 \n",
            " 5   power_score         1450 non-null   int64 \n",
            " 6   combat_score        1450 non-null   int64 \n",
            " 7   creator             1311 non-null   object\n",
            "dtypes: int64(6), object(2)\n",
            "memory usage: 90.8+ KB\n"
          ]
        }
      ]
    },
    {
      "cell_type": "markdown",
      "source": [
        "It is weird that overall_score is showing Dtype of 'object' instead of int64/float. We fix this by converting overall_score using to_numeric and set errors to 'coerce' which means that if there is an error, the invalid entry will be set as NaN.\n"
      ],
      "metadata": {
        "id": "SIoa8SRbETgU"
      }
    },
    {
      "cell_type": "code",
      "source": [
        "# change data to numeric form, and data type to Int64\n",
        "statsData['overall_score'] = pd.to_numeric(statsData['overall_score'], errors='coerce')\n",
        "statsData['overall_score'] = statsData['overall_score'].astype('Int64')\n",
        "\n",
        "statsData.info()"
      ],
      "metadata": {
        "id": "q2alS8g-E0m_",
        "colab": {
          "base_uri": "https://localhost:8080/"
        },
        "outputId": "be7ffc54-2409-4321-bd46-176b426d44ea"
      },
      "execution_count": 11,
      "outputs": [
        {
          "output_type": "stream",
          "name": "stdout",
          "text": [
            "<class 'pandas.core.frame.DataFrame'>\n",
            "RangeIndex: 1450 entries, 0 to 1449\n",
            "Data columns (total 8 columns):\n",
            " #   Column              Non-Null Count  Dtype \n",
            "---  ------              --------------  ----- \n",
            " 0   overall_score       1325 non-null   Int64 \n",
            " 1   intelligence_score  1450 non-null   int64 \n",
            " 2   strength_score      1450 non-null   int64 \n",
            " 3   speed_score         1450 non-null   int64 \n",
            " 4   durability_score    1450 non-null   int64 \n",
            " 5   power_score         1450 non-null   int64 \n",
            " 6   combat_score        1450 non-null   int64 \n",
            " 7   creator             1311 non-null   object\n",
            "dtypes: Int64(1), int64(6), object(1)\n",
            "memory usage: 92.2+ KB\n"
          ]
        }
      ]
    },
    {
      "cell_type": "markdown",
      "source": [
        "Now that 'overall_score' has been set to integer, but there is still another problem. There are a total of 1450 entries. However for the column 'overall_score', there are only 1325 non-null values which means there are 125 NaN values that needs to be cleaned. \n",
        "\n",
        "Also, there seems to be 139 null values under 'creator' which needs to be cleaned as well."
      ],
      "metadata": {
        "id": "nl0KIOU2GTyI"
      }
    },
    {
      "cell_type": "code",
      "source": [
        "# remove rows with NaN values\n",
        "statsData = statsData.dropna()\n",
        "statsData"
      ],
      "metadata": {
        "id": "H-DSNLRjIVI-",
        "colab": {
          "base_uri": "https://localhost:8080/",
          "height": 423
        },
        "outputId": "c17cec45-a776-41f1-8538-c4dbd4aa0bea"
      },
      "execution_count": 12,
      "outputs": [
        {
          "output_type": "execute_result",
          "data": {
            "text/plain": [
              "      overall_score  intelligence_score  strength_score  speed_score  \\\n",
              "0                 6                  85              30           60   \n",
              "1                10                 100              20           30   \n",
              "2                20                  80             100           80   \n",
              "3                12                  80              50           55   \n",
              "4                 5                  80              10           25   \n",
              "...             ...                 ...             ...          ...   \n",
              "1445             10                  90              10           25   \n",
              "1446             18                  80             100          100   \n",
              "1447             20                  95              50          100   \n",
              "1448              9                  75              10          100   \n",
              "1449              5                  45              80           75   \n",
              "\n",
              "      durability_score  power_score  combat_score        creator  \n",
              "0                   60           40            70  Marvel Comics  \n",
              "1                   50           35           100      DC Comics  \n",
              "2                  100          100            80  Marvel Comics  \n",
              "3                   45          100            55      DC Comics  \n",
              "4                   40           30            50      DC Comics  \n",
              "...                ...          ...           ...            ...  \n",
              "1445                30          100            55      DC Comics  \n",
              "1446               100          100            80         Capcom  \n",
              "1447                75          100            80      DC Comics  \n",
              "1448                30          100            30      DC Comics  \n",
              "1449                95           80            50  Marvel Comics  \n",
              "\n",
              "[1194 rows x 8 columns]"
            ],
            "text/html": [
              "\n",
              "  <div id=\"df-67c9f09a-a654-448a-987b-41d5ea824e32\">\n",
              "    <div class=\"colab-df-container\">\n",
              "      <div>\n",
              "<style scoped>\n",
              "    .dataframe tbody tr th:only-of-type {\n",
              "        vertical-align: middle;\n",
              "    }\n",
              "\n",
              "    .dataframe tbody tr th {\n",
              "        vertical-align: top;\n",
              "    }\n",
              "\n",
              "    .dataframe thead th {\n",
              "        text-align: right;\n",
              "    }\n",
              "</style>\n",
              "<table border=\"1\" class=\"dataframe\">\n",
              "  <thead>\n",
              "    <tr style=\"text-align: right;\">\n",
              "      <th></th>\n",
              "      <th>overall_score</th>\n",
              "      <th>intelligence_score</th>\n",
              "      <th>strength_score</th>\n",
              "      <th>speed_score</th>\n",
              "      <th>durability_score</th>\n",
              "      <th>power_score</th>\n",
              "      <th>combat_score</th>\n",
              "      <th>creator</th>\n",
              "    </tr>\n",
              "  </thead>\n",
              "  <tbody>\n",
              "    <tr>\n",
              "      <th>0</th>\n",
              "      <td>6</td>\n",
              "      <td>85</td>\n",
              "      <td>30</td>\n",
              "      <td>60</td>\n",
              "      <td>60</td>\n",
              "      <td>40</td>\n",
              "      <td>70</td>\n",
              "      <td>Marvel Comics</td>\n",
              "    </tr>\n",
              "    <tr>\n",
              "      <th>1</th>\n",
              "      <td>10</td>\n",
              "      <td>100</td>\n",
              "      <td>20</td>\n",
              "      <td>30</td>\n",
              "      <td>50</td>\n",
              "      <td>35</td>\n",
              "      <td>100</td>\n",
              "      <td>DC Comics</td>\n",
              "    </tr>\n",
              "    <tr>\n",
              "      <th>2</th>\n",
              "      <td>20</td>\n",
              "      <td>80</td>\n",
              "      <td>100</td>\n",
              "      <td>80</td>\n",
              "      <td>100</td>\n",
              "      <td>100</td>\n",
              "      <td>80</td>\n",
              "      <td>Marvel Comics</td>\n",
              "    </tr>\n",
              "    <tr>\n",
              "      <th>3</th>\n",
              "      <td>12</td>\n",
              "      <td>80</td>\n",
              "      <td>50</td>\n",
              "      <td>55</td>\n",
              "      <td>45</td>\n",
              "      <td>100</td>\n",
              "      <td>55</td>\n",
              "      <td>DC Comics</td>\n",
              "    </tr>\n",
              "    <tr>\n",
              "      <th>4</th>\n",
              "      <td>5</td>\n",
              "      <td>80</td>\n",
              "      <td>10</td>\n",
              "      <td>25</td>\n",
              "      <td>40</td>\n",
              "      <td>30</td>\n",
              "      <td>50</td>\n",
              "      <td>DC Comics</td>\n",
              "    </tr>\n",
              "    <tr>\n",
              "      <th>...</th>\n",
              "      <td>...</td>\n",
              "      <td>...</td>\n",
              "      <td>...</td>\n",
              "      <td>...</td>\n",
              "      <td>...</td>\n",
              "      <td>...</td>\n",
              "      <td>...</td>\n",
              "      <td>...</td>\n",
              "    </tr>\n",
              "    <tr>\n",
              "      <th>1445</th>\n",
              "      <td>10</td>\n",
              "      <td>90</td>\n",
              "      <td>10</td>\n",
              "      <td>25</td>\n",
              "      <td>30</td>\n",
              "      <td>100</td>\n",
              "      <td>55</td>\n",
              "      <td>DC Comics</td>\n",
              "    </tr>\n",
              "    <tr>\n",
              "      <th>1446</th>\n",
              "      <td>18</td>\n",
              "      <td>80</td>\n",
              "      <td>100</td>\n",
              "      <td>100</td>\n",
              "      <td>100</td>\n",
              "      <td>100</td>\n",
              "      <td>80</td>\n",
              "      <td>Capcom</td>\n",
              "    </tr>\n",
              "    <tr>\n",
              "      <th>1447</th>\n",
              "      <td>20</td>\n",
              "      <td>95</td>\n",
              "      <td>50</td>\n",
              "      <td>100</td>\n",
              "      <td>75</td>\n",
              "      <td>100</td>\n",
              "      <td>80</td>\n",
              "      <td>DC Comics</td>\n",
              "    </tr>\n",
              "    <tr>\n",
              "      <th>1448</th>\n",
              "      <td>9</td>\n",
              "      <td>75</td>\n",
              "      <td>10</td>\n",
              "      <td>100</td>\n",
              "      <td>30</td>\n",
              "      <td>100</td>\n",
              "      <td>30</td>\n",
              "      <td>DC Comics</td>\n",
              "    </tr>\n",
              "    <tr>\n",
              "      <th>1449</th>\n",
              "      <td>5</td>\n",
              "      <td>45</td>\n",
              "      <td>80</td>\n",
              "      <td>75</td>\n",
              "      <td>95</td>\n",
              "      <td>80</td>\n",
              "      <td>50</td>\n",
              "      <td>Marvel Comics</td>\n",
              "    </tr>\n",
              "  </tbody>\n",
              "</table>\n",
              "<p>1194 rows × 8 columns</p>\n",
              "</div>\n",
              "      <button class=\"colab-df-convert\" onclick=\"convertToInteractive('df-67c9f09a-a654-448a-987b-41d5ea824e32')\"\n",
              "              title=\"Convert this dataframe to an interactive table.\"\n",
              "              style=\"display:none;\">\n",
              "        \n",
              "  <svg xmlns=\"http://www.w3.org/2000/svg\" height=\"24px\"viewBox=\"0 0 24 24\"\n",
              "       width=\"24px\">\n",
              "    <path d=\"M0 0h24v24H0V0z\" fill=\"none\"/>\n",
              "    <path d=\"M18.56 5.44l.94 2.06.94-2.06 2.06-.94-2.06-.94-.94-2.06-.94 2.06-2.06.94zm-11 1L8.5 8.5l.94-2.06 2.06-.94-2.06-.94L8.5 2.5l-.94 2.06-2.06.94zm10 10l.94 2.06.94-2.06 2.06-.94-2.06-.94-.94-2.06-.94 2.06-2.06.94z\"/><path d=\"M17.41 7.96l-1.37-1.37c-.4-.4-.92-.59-1.43-.59-.52 0-1.04.2-1.43.59L10.3 9.45l-7.72 7.72c-.78.78-.78 2.05 0 2.83L4 21.41c.39.39.9.59 1.41.59.51 0 1.02-.2 1.41-.59l7.78-7.78 2.81-2.81c.8-.78.8-2.07 0-2.86zM5.41 20L4 18.59l7.72-7.72 1.47 1.35L5.41 20z\"/>\n",
              "  </svg>\n",
              "      </button>\n",
              "      \n",
              "  <style>\n",
              "    .colab-df-container {\n",
              "      display:flex;\n",
              "      flex-wrap:wrap;\n",
              "      gap: 12px;\n",
              "    }\n",
              "\n",
              "    .colab-df-convert {\n",
              "      background-color: #E8F0FE;\n",
              "      border: none;\n",
              "      border-radius: 50%;\n",
              "      cursor: pointer;\n",
              "      display: none;\n",
              "      fill: #1967D2;\n",
              "      height: 32px;\n",
              "      padding: 0 0 0 0;\n",
              "      width: 32px;\n",
              "    }\n",
              "\n",
              "    .colab-df-convert:hover {\n",
              "      background-color: #E2EBFA;\n",
              "      box-shadow: 0px 1px 2px rgba(60, 64, 67, 0.3), 0px 1px 3px 1px rgba(60, 64, 67, 0.15);\n",
              "      fill: #174EA6;\n",
              "    }\n",
              "\n",
              "    [theme=dark] .colab-df-convert {\n",
              "      background-color: #3B4455;\n",
              "      fill: #D2E3FC;\n",
              "    }\n",
              "\n",
              "    [theme=dark] .colab-df-convert:hover {\n",
              "      background-color: #434B5C;\n",
              "      box-shadow: 0px 1px 3px 1px rgba(0, 0, 0, 0.15);\n",
              "      filter: drop-shadow(0px 1px 2px rgba(0, 0, 0, 0.3));\n",
              "      fill: #FFFFFF;\n",
              "    }\n",
              "  </style>\n",
              "\n",
              "      <script>\n",
              "        const buttonEl =\n",
              "          document.querySelector('#df-67c9f09a-a654-448a-987b-41d5ea824e32 button.colab-df-convert');\n",
              "        buttonEl.style.display =\n",
              "          google.colab.kernel.accessAllowed ? 'block' : 'none';\n",
              "\n",
              "        async function convertToInteractive(key) {\n",
              "          const element = document.querySelector('#df-67c9f09a-a654-448a-987b-41d5ea824e32');\n",
              "          const dataTable =\n",
              "            await google.colab.kernel.invokeFunction('convertToInteractive',\n",
              "                                                     [key], {});\n",
              "          if (!dataTable) return;\n",
              "\n",
              "          const docLinkHtml = 'Like what you see? Visit the ' +\n",
              "            '<a target=\"_blank\" href=https://colab.research.google.com/notebooks/data_table.ipynb>data table notebook</a>'\n",
              "            + ' to learn more about interactive tables.';\n",
              "          element.innerHTML = '';\n",
              "          dataTable['output_type'] = 'display_data';\n",
              "          await google.colab.output.renderOutput(dataTable, element);\n",
              "          const docLink = document.createElement('div');\n",
              "          docLink.innerHTML = docLinkHtml;\n",
              "          element.appendChild(docLink);\n",
              "        }\n",
              "      </script>\n",
              "    </div>\n",
              "  </div>\n",
              "  "
            ]
          },
          "metadata": {},
          "execution_count": 12
        }
      ]
    },
    {
      "cell_type": "code",
      "source": [
        "statsData.info()"
      ],
      "metadata": {
        "id": "yO_7hNjCIVG0",
        "colab": {
          "base_uri": "https://localhost:8080/"
        },
        "outputId": "8c652223-5944-4e4c-c17f-665771d35e88"
      },
      "execution_count": 13,
      "outputs": [
        {
          "output_type": "stream",
          "name": "stdout",
          "text": [
            "<class 'pandas.core.frame.DataFrame'>\n",
            "Int64Index: 1194 entries, 0 to 1449\n",
            "Data columns (total 8 columns):\n",
            " #   Column              Non-Null Count  Dtype \n",
            "---  ------              --------------  ----- \n",
            " 0   overall_score       1194 non-null   Int64 \n",
            " 1   intelligence_score  1194 non-null   int64 \n",
            " 2   strength_score      1194 non-null   int64 \n",
            " 3   speed_score         1194 non-null   int64 \n",
            " 4   durability_score    1194 non-null   int64 \n",
            " 5   power_score         1194 non-null   int64 \n",
            " 6   combat_score        1194 non-null   int64 \n",
            " 7   creator             1194 non-null   object\n",
            "dtypes: Int64(1), int64(6), object(1)\n",
            "memory usage: 85.1+ KB\n"
          ]
        }
      ]
    },
    {
      "cell_type": "markdown",
      "source": [
        "After dropping rows with NaN Values, there are now 1194 remaining rows of superheroes with valid numerical values and creator."
      ],
      "metadata": {
        "id": "fXf6YUEDJV1m"
      }
    },
    {
      "cell_type": "markdown",
      "source": [
        "Moving on, since we are focusing on Marvel and DC creators only, we need to remove characters from other creators."
      ],
      "metadata": {
        "id": "xzfrgiGKq7Jd"
      }
    },
    {
      "cell_type": "code",
      "source": [
        "# set other creator values to NaN, then remove rows with NaN values\n",
        "statsData.loc[((statsData['creator'] != \"Marvel Comics\") & (statsData['creator'] != \"DC Comics\")),'creator'] = np.NaN\n",
        "statsData = statsData.dropna()\n",
        "statsData"
      ],
      "metadata": {
        "id": "ug4dFah9IUm4",
        "colab": {
          "base_uri": "https://localhost:8080/",
          "height": 423
        },
        "outputId": "3cfc61f0-9e6d-4dd2-bbe8-5b6a31712672"
      },
      "execution_count": 14,
      "outputs": [
        {
          "output_type": "execute_result",
          "data": {
            "text/plain": [
              "      overall_score  intelligence_score  strength_score  speed_score  \\\n",
              "0                 6                  85              30           60   \n",
              "1                10                 100              20           30   \n",
              "2                20                  80             100           80   \n",
              "3                12                  80              50           55   \n",
              "4                 5                  80              10           25   \n",
              "...             ...                 ...             ...          ...   \n",
              "1442              5                  80              10           50   \n",
              "1445             10                  90              10           25   \n",
              "1447             20                  95              50          100   \n",
              "1448              9                  75              10          100   \n",
              "1449              5                  45              80           75   \n",
              "\n",
              "      durability_score  power_score  combat_score        creator  \n",
              "0                   60           40            70  Marvel Comics  \n",
              "1                   50           35           100      DC Comics  \n",
              "2                  100          100            80  Marvel Comics  \n",
              "3                   45          100            55      DC Comics  \n",
              "4                   40           30            50      DC Comics  \n",
              "...                ...          ...           ...            ...  \n",
              "1442                30           45           100  Marvel Comics  \n",
              "1445                30          100            55      DC Comics  \n",
              "1447                75          100            80      DC Comics  \n",
              "1448                30          100            30      DC Comics  \n",
              "1449                95           80            50  Marvel Comics  \n",
              "\n",
              "[975 rows x 8 columns]"
            ],
            "text/html": [
              "\n",
              "  <div id=\"df-f7d41986-7169-406b-a77e-6cb6ed5eb991\">\n",
              "    <div class=\"colab-df-container\">\n",
              "      <div>\n",
              "<style scoped>\n",
              "    .dataframe tbody tr th:only-of-type {\n",
              "        vertical-align: middle;\n",
              "    }\n",
              "\n",
              "    .dataframe tbody tr th {\n",
              "        vertical-align: top;\n",
              "    }\n",
              "\n",
              "    .dataframe thead th {\n",
              "        text-align: right;\n",
              "    }\n",
              "</style>\n",
              "<table border=\"1\" class=\"dataframe\">\n",
              "  <thead>\n",
              "    <tr style=\"text-align: right;\">\n",
              "      <th></th>\n",
              "      <th>overall_score</th>\n",
              "      <th>intelligence_score</th>\n",
              "      <th>strength_score</th>\n",
              "      <th>speed_score</th>\n",
              "      <th>durability_score</th>\n",
              "      <th>power_score</th>\n",
              "      <th>combat_score</th>\n",
              "      <th>creator</th>\n",
              "    </tr>\n",
              "  </thead>\n",
              "  <tbody>\n",
              "    <tr>\n",
              "      <th>0</th>\n",
              "      <td>6</td>\n",
              "      <td>85</td>\n",
              "      <td>30</td>\n",
              "      <td>60</td>\n",
              "      <td>60</td>\n",
              "      <td>40</td>\n",
              "      <td>70</td>\n",
              "      <td>Marvel Comics</td>\n",
              "    </tr>\n",
              "    <tr>\n",
              "      <th>1</th>\n",
              "      <td>10</td>\n",
              "      <td>100</td>\n",
              "      <td>20</td>\n",
              "      <td>30</td>\n",
              "      <td>50</td>\n",
              "      <td>35</td>\n",
              "      <td>100</td>\n",
              "      <td>DC Comics</td>\n",
              "    </tr>\n",
              "    <tr>\n",
              "      <th>2</th>\n",
              "      <td>20</td>\n",
              "      <td>80</td>\n",
              "      <td>100</td>\n",
              "      <td>80</td>\n",
              "      <td>100</td>\n",
              "      <td>100</td>\n",
              "      <td>80</td>\n",
              "      <td>Marvel Comics</td>\n",
              "    </tr>\n",
              "    <tr>\n",
              "      <th>3</th>\n",
              "      <td>12</td>\n",
              "      <td>80</td>\n",
              "      <td>50</td>\n",
              "      <td>55</td>\n",
              "      <td>45</td>\n",
              "      <td>100</td>\n",
              "      <td>55</td>\n",
              "      <td>DC Comics</td>\n",
              "    </tr>\n",
              "    <tr>\n",
              "      <th>4</th>\n",
              "      <td>5</td>\n",
              "      <td>80</td>\n",
              "      <td>10</td>\n",
              "      <td>25</td>\n",
              "      <td>40</td>\n",
              "      <td>30</td>\n",
              "      <td>50</td>\n",
              "      <td>DC Comics</td>\n",
              "    </tr>\n",
              "    <tr>\n",
              "      <th>...</th>\n",
              "      <td>...</td>\n",
              "      <td>...</td>\n",
              "      <td>...</td>\n",
              "      <td>...</td>\n",
              "      <td>...</td>\n",
              "      <td>...</td>\n",
              "      <td>...</td>\n",
              "      <td>...</td>\n",
              "    </tr>\n",
              "    <tr>\n",
              "      <th>1442</th>\n",
              "      <td>5</td>\n",
              "      <td>80</td>\n",
              "      <td>10</td>\n",
              "      <td>50</td>\n",
              "      <td>30</td>\n",
              "      <td>45</td>\n",
              "      <td>100</td>\n",
              "      <td>Marvel Comics</td>\n",
              "    </tr>\n",
              "    <tr>\n",
              "      <th>1445</th>\n",
              "      <td>10</td>\n",
              "      <td>90</td>\n",
              "      <td>10</td>\n",
              "      <td>25</td>\n",
              "      <td>30</td>\n",
              "      <td>100</td>\n",
              "      <td>55</td>\n",
              "      <td>DC Comics</td>\n",
              "    </tr>\n",
              "    <tr>\n",
              "      <th>1447</th>\n",
              "      <td>20</td>\n",
              "      <td>95</td>\n",
              "      <td>50</td>\n",
              "      <td>100</td>\n",
              "      <td>75</td>\n",
              "      <td>100</td>\n",
              "      <td>80</td>\n",
              "      <td>DC Comics</td>\n",
              "    </tr>\n",
              "    <tr>\n",
              "      <th>1448</th>\n",
              "      <td>9</td>\n",
              "      <td>75</td>\n",
              "      <td>10</td>\n",
              "      <td>100</td>\n",
              "      <td>30</td>\n",
              "      <td>100</td>\n",
              "      <td>30</td>\n",
              "      <td>DC Comics</td>\n",
              "    </tr>\n",
              "    <tr>\n",
              "      <th>1449</th>\n",
              "      <td>5</td>\n",
              "      <td>45</td>\n",
              "      <td>80</td>\n",
              "      <td>75</td>\n",
              "      <td>95</td>\n",
              "      <td>80</td>\n",
              "      <td>50</td>\n",
              "      <td>Marvel Comics</td>\n",
              "    </tr>\n",
              "  </tbody>\n",
              "</table>\n",
              "<p>975 rows × 8 columns</p>\n",
              "</div>\n",
              "      <button class=\"colab-df-convert\" onclick=\"convertToInteractive('df-f7d41986-7169-406b-a77e-6cb6ed5eb991')\"\n",
              "              title=\"Convert this dataframe to an interactive table.\"\n",
              "              style=\"display:none;\">\n",
              "        \n",
              "  <svg xmlns=\"http://www.w3.org/2000/svg\" height=\"24px\"viewBox=\"0 0 24 24\"\n",
              "       width=\"24px\">\n",
              "    <path d=\"M0 0h24v24H0V0z\" fill=\"none\"/>\n",
              "    <path d=\"M18.56 5.44l.94 2.06.94-2.06 2.06-.94-2.06-.94-.94-2.06-.94 2.06-2.06.94zm-11 1L8.5 8.5l.94-2.06 2.06-.94-2.06-.94L8.5 2.5l-.94 2.06-2.06.94zm10 10l.94 2.06.94-2.06 2.06-.94-2.06-.94-.94-2.06-.94 2.06-2.06.94z\"/><path d=\"M17.41 7.96l-1.37-1.37c-.4-.4-.92-.59-1.43-.59-.52 0-1.04.2-1.43.59L10.3 9.45l-7.72 7.72c-.78.78-.78 2.05 0 2.83L4 21.41c.39.39.9.59 1.41.59.51 0 1.02-.2 1.41-.59l7.78-7.78 2.81-2.81c.8-.78.8-2.07 0-2.86zM5.41 20L4 18.59l7.72-7.72 1.47 1.35L5.41 20z\"/>\n",
              "  </svg>\n",
              "      </button>\n",
              "      \n",
              "  <style>\n",
              "    .colab-df-container {\n",
              "      display:flex;\n",
              "      flex-wrap:wrap;\n",
              "      gap: 12px;\n",
              "    }\n",
              "\n",
              "    .colab-df-convert {\n",
              "      background-color: #E8F0FE;\n",
              "      border: none;\n",
              "      border-radius: 50%;\n",
              "      cursor: pointer;\n",
              "      display: none;\n",
              "      fill: #1967D2;\n",
              "      height: 32px;\n",
              "      padding: 0 0 0 0;\n",
              "      width: 32px;\n",
              "    }\n",
              "\n",
              "    .colab-df-convert:hover {\n",
              "      background-color: #E2EBFA;\n",
              "      box-shadow: 0px 1px 2px rgba(60, 64, 67, 0.3), 0px 1px 3px 1px rgba(60, 64, 67, 0.15);\n",
              "      fill: #174EA6;\n",
              "    }\n",
              "\n",
              "    [theme=dark] .colab-df-convert {\n",
              "      background-color: #3B4455;\n",
              "      fill: #D2E3FC;\n",
              "    }\n",
              "\n",
              "    [theme=dark] .colab-df-convert:hover {\n",
              "      background-color: #434B5C;\n",
              "      box-shadow: 0px 1px 3px 1px rgba(0, 0, 0, 0.15);\n",
              "      filter: drop-shadow(0px 1px 2px rgba(0, 0, 0, 0.3));\n",
              "      fill: #FFFFFF;\n",
              "    }\n",
              "  </style>\n",
              "\n",
              "      <script>\n",
              "        const buttonEl =\n",
              "          document.querySelector('#df-f7d41986-7169-406b-a77e-6cb6ed5eb991 button.colab-df-convert');\n",
              "        buttonEl.style.display =\n",
              "          google.colab.kernel.accessAllowed ? 'block' : 'none';\n",
              "\n",
              "        async function convertToInteractive(key) {\n",
              "          const element = document.querySelector('#df-f7d41986-7169-406b-a77e-6cb6ed5eb991');\n",
              "          const dataTable =\n",
              "            await google.colab.kernel.invokeFunction('convertToInteractive',\n",
              "                                                     [key], {});\n",
              "          if (!dataTable) return;\n",
              "\n",
              "          const docLinkHtml = 'Like what you see? Visit the ' +\n",
              "            '<a target=\"_blank\" href=https://colab.research.google.com/notebooks/data_table.ipynb>data table notebook</a>'\n",
              "            + ' to learn more about interactive tables.';\n",
              "          element.innerHTML = '';\n",
              "          dataTable['output_type'] = 'display_data';\n",
              "          await google.colab.output.renderOutput(dataTable, element);\n",
              "          const docLink = document.createElement('div');\n",
              "          docLink.innerHTML = docLinkHtml;\n",
              "          element.appendChild(docLink);\n",
              "        }\n",
              "      </script>\n",
              "    </div>\n",
              "  </div>\n",
              "  "
            ]
          },
          "metadata": {},
          "execution_count": 14
        }
      ]
    },
    {
      "cell_type": "markdown",
      "source": [
        "After removing 'creators' that are not \"Marvel Comics\" or \"DC Comics\", we are left with 975 entires. This is our clean dataset for hero statistics.\n",
        "\n",
        "---"
      ],
      "metadata": {
        "id": "uLyk8hDg5aO-"
      }
    },
    {
      "cell_type": "markdown",
      "source": [
        "# **Data Exploration**\n",
        "\n"
      ],
      "metadata": {
        "id": "MS9VbBdSeuQI"
      }
    },
    {
      "cell_type": "code",
      "source": [
        "# statsData without creator for exploration\n",
        "statsDataWOC = statsData.drop('creator', axis=1) "
      ],
      "metadata": {
        "id": "3CeWxN7L4tjX"
      },
      "execution_count": 15,
      "outputs": []
    },
    {
      "cell_type": "code",
      "source": [
        "# boxplot, histplot, violinplot for each individual column\n",
        "f, axes = plt.subplots(7, 3, figsize=(18, 32))\n",
        "\n",
        "count = 0\n",
        "for var in statsDataWOC:\n",
        "    sb.boxplot(data = statsDataWOC[var], orient = \"h\", ax = axes[count,0])\n",
        "    sb.histplot(data = statsDataWOC[var], ax = axes[count,1])\n",
        "    sb.violinplot(data = statsDataWOC[var], orient = \"h\", ax = axes[count,2])\n",
        "    count += 1\n",
        "\n",
        "    "
      ],
      "metadata": {
        "id": "toU5ajz29sLx",
        "colab": {
          "base_uri": "https://localhost:8080/",
          "height": 1000
        },
        "outputId": "6dba9e2a-65d3-452f-b9c1-6b554af6fcd0"
      },
      "execution_count": 16,
      "outputs": [
        {
          "output_type": "display_data",
          "data": {
            "text/plain": [
              "<Figure size 1296x2304 with 21 Axes>"
            ],
            "image/png": "[encoded data removed]"
          },
          "metadata": {}
        }
      ]
    },
    {
      "cell_type": "code",
      "source": [
        "\n",
        "# Correlation Matrix\n",
        "print(statsDataWOC.corr())\n",
        "\n",
        "# Heatmap of the Correlation Matrix\n",
        "f = plt.figure(figsize=(20, 20))\n",
        "sb.heatmap(statsDataWOC.corr(), vmin = -1, vmax = 1, linewidths = 1,\n",
        "           annot = True, fmt = \".2f\", annot_kws = {\"size\": 18}, cmap = \"RdBu\")\n",
        "\n"
      ],
      "metadata": {
        "id": "5pDiYkpqNokp",
        "colab": {
          "base_uri": "https://localhost:8080/",
          "height": 1000
        },
        "outputId": "c739fb77-59b8-43b9-a32f-795e02d13094"
      },
      "execution_count": 17,
      "outputs": [
        {
          "output_type": "stream",
          "name": "stdout",
          "text": [
            "                    overall_score  intelligence_score  strength_score  \\\n",
            "overall_score            1.000000            0.255080        0.434460   \n",
            "intelligence_score       0.255080            1.000000        0.059490   \n",
            "strength_score           0.434460            0.059490        1.000000   \n",
            "speed_score              0.423537            0.122865        0.620062   \n",
            "durability_score         0.400231            0.053290        0.738799   \n",
            "power_score              0.368750            0.097858        0.556646   \n",
            "combat_score             0.118166            0.228708        0.198596   \n",
            "\n",
            "                    speed_score  durability_score  power_score  combat_score  \n",
            "overall_score          0.423537          0.400231     0.368750      0.118166  \n",
            "intelligence_score     0.122865          0.053290     0.097858      0.228708  \n",
            "strength_score         0.620062          0.738799     0.556646      0.198596  \n",
            "speed_score            1.000000          0.635030     0.557411      0.304439  \n",
            "durability_score       0.635030          1.000000     0.637833      0.261345  \n",
            "power_score            0.557411          0.637833     1.000000      0.204408  \n",
            "combat_score           0.304439          0.261345     0.204408      1.000000  \n"
          ]
        },
        {
          "output_type": "execute_result",
          "data": {
            "text/plain": [
              "<matplotlib.axes._subplots.AxesSubplot at 0x7f4a29d73410>"
            ]
          },
          "metadata": {},
          "execution_count": 17
        },
        {
          "output_type": "display_data",
          "data": {
            "text/plain": [
              "<Figure size 1440x1440 with 2 Axes>"
            ],
            "image/png": "[encoded data removed]"
          },
          "metadata": {}
        }
      ]
    },
    {
      "cell_type": "markdown",
      "source": [
        "Strong correlation between strength and durabilty (0.74), power and durability (0.64)."
      ],
      "metadata": {
        "id": "Ce9Y8dHP83dL"
      }
    },
    {
      "cell_type": "markdown",
      "source": [
        "# **Decision Tree model**"
      ],
      "metadata": {
        "id": "1Ys-G6n7vlXy"
      }
    },
    {
      "cell_type": "markdown",
      "source": [
        "**Multi-Variate Decision Tree**"
      ],
      "metadata": {
        "id": "a8AGrrAFKm1v"
      }
    },
    {
      "cell_type": "code",
      "source": [
        "# split statsData into independent variables x (statistics) and dependent variable y (creator)\n",
        "x = pd.DataFrame(statsData.drop('creator', axis=1))\n",
        "y = pd.DataFrame(statsData['creator'])"
      ],
      "metadata": {
        "id": "kSSEY1VtKpa6"
      },
      "execution_count": 18,
      "outputs": []
    },
    {
      "cell_type": "code",
      "source": [
        "\n",
        "# randomly split x and y into train and test dataframes with 80:20 ratio\n",
        "x_train, x_test, y_train, y_test = train_test_split(x, y, test_size = 0.2)\n",
        "\n",
        "print(\"Train Set:\", y_train.shape, x_train.shape)\n",
        "print(\"Test Set :\", y_test.shape, x_test.shape)\n"
      ],
      "metadata": {
        "id": "8ya5hIxJLXKv",
        "colab": {
          "base_uri": "https://localhost:8080/"
        },
        "outputId": "4f6b3b25-a6ab-4348-ec53-ec40e8936a89"
      },
      "execution_count": 19,
      "outputs": [
        {
          "output_type": "stream",
          "name": "stdout",
          "text": [
            "Train Set: (780, 1) (780, 7)\n",
            "Test Set : (195, 1) (195, 7)\n"
          ]
        }
      ]
    },
    {
      "cell_type": "markdown",
      "source": [
        "Basic statistical exploration and visualization on train set."
      ],
      "metadata": {
        "id": "PzEFHrEpCixF"
      }
    },
    {
      "cell_type": "code",
      "source": [
        "# creator distribution\n",
        "sb.catplot(y = \"creator\", data = y, kind = \"count\")"
      ],
      "metadata": {
        "id": "Xtj4JkQxLXFX",
        "colab": {
          "base_uri": "https://localhost:8080/",
          "height": 383
        },
        "outputId": "8f8e5f57-6939-490d-99c5-11e0135d296c"
      },
      "execution_count": 20,
      "outputs": [
        {
          "output_type": "execute_result",
          "data": {
            "text/plain": [
              "<seaborn.axisgrid.FacetGrid at 0x7f4a22d44c50>"
            ]
          },
          "metadata": {},
          "execution_count": 20
        },
        {
          "output_type": "display_data",
          "data": {
            "text/plain": [
              "<Figure size 360x360 with 1 Axes>"
            ],
            "image/png": "[encoded data removed]"
          },
          "metadata": {}
        }
      ]
    },
    {
      "cell_type": "markdown",
      "source": [
        "We observe that there are slightly more Marvel Comics than DC Comics in the Superhero Universe."
      ],
      "metadata": {
        "id": "aZWQaO-JJ9mZ"
      }
    },
    {
      "cell_type": "code",
      "source": [
        "# creator distribution in the train set\n",
        "y_train[\"creator\"].value_counts()"
      ],
      "metadata": {
        "id": "IUgiZ81gLXHr",
        "colab": {
          "base_uri": "https://localhost:8080/"
        },
        "outputId": "39b2c7bc-feb1-45a8-bc51-f7dbc942c8e8"
      },
      "execution_count": 21,
      "outputs": [
        {
          "output_type": "execute_result",
          "data": {
            "text/plain": [
              "Marvel Comics    434\n",
              "DC Comics        346\n",
              "Name: creator, dtype: int64"
            ]
          },
          "metadata": {},
          "execution_count": 21
        }
      ]
    },
    {
      "cell_type": "code",
      "source": [
        "# statistics distribution in the train set\n",
        "x_train.describe()"
      ],
      "metadata": {
        "id": "_6YBaNQNCCfw",
        "colab": {
          "base_uri": "https://localhost:8080/",
          "height": 300
        },
        "outputId": "6904408e-ce80-4406-82b1-8b908bed15ff"
      },
      "execution_count": 22,
      "outputs": [
        {
          "output_type": "execute_result",
          "data": {
            "text/plain": [
              "       overall_score  intelligence_score  strength_score  speed_score  \\\n",
              "count     780.000000          780.000000      780.000000   780.000000   \n",
              "mean       13.080769           85.653846       42.602564    49.525641   \n",
              "std        18.078985           11.099187       33.362420    26.338970   \n",
              "min         1.000000           30.000000        0.000000     0.000000   \n",
              "25%         6.000000           80.000000       10.000000    25.000000   \n",
              "50%         8.000000           90.000000       30.000000    45.000000   \n",
              "75%        13.000000           95.000000       75.000000    70.000000   \n",
              "max       222.000000          100.000000      100.000000   100.000000   \n",
              "\n",
              "       durability_score  power_score  combat_score  \n",
              "count        780.000000   780.000000    780.000000  \n",
              "mean          61.051282    69.397436     72.064103  \n",
              "std           27.902451    29.225492     21.652726  \n",
              "min            0.000000     0.000000      5.000000  \n",
              "25%           40.000000    45.000000     60.000000  \n",
              "50%           60.000000    75.000000     75.000000  \n",
              "75%           85.000000   100.000000     90.000000  \n",
              "max          100.000000   100.000000    100.000000  "
            ],
            "text/html": [
              "\n",
              "  <div id=\"df-d6716948-75e4-4f6c-b65c-8a5e3e5d789a\">\n",
              "    <div class=\"colab-df-container\">\n",
              "      <div>\n",
              "<style scoped>\n",
              "    .dataframe tbody tr th:only-of-type {\n",
              "        vertical-align: middle;\n",
              "    }\n",
              "\n",
              "    .dataframe tbody tr th {\n",
              "        vertical-align: top;\n",
              "    }\n",
              "\n",
              "    .dataframe thead th {\n",
              "        text-align: right;\n",
              "    }\n",
              "</style>\n",
              "<table border=\"1\" class=\"dataframe\">\n",
              "  <thead>\n",
              "    <tr style=\"text-align: right;\">\n",
              "      <th></th>\n",
              "      <th>overall_score</th>\n",
              "      <th>intelligence_score</th>\n",
              "      <th>strength_score</th>\n",
              "      <th>speed_score</th>\n",
              "      <th>durability_score</th>\n",
              "      <th>power_score</th>\n",
              "      <th>combat_score</th>\n",
              "    </tr>\n",
              "  </thead>\n",
              "  <tbody>\n",
              "    <tr>\n",
              "      <th>count</th>\n",
              "      <td>780.000000</td>\n",
              "      <td>780.000000</td>\n",
              "      <td>780.000000</td>\n",
              "      <td>780.000000</td>\n",
              "      <td>780.000000</td>\n",
              "      <td>780.000000</td>\n",
              "      <td>780.000000</td>\n",
              "    </tr>\n",
              "    <tr>\n",
              "      <th>mean</th>\n",
              "      <td>13.080769</td>\n",
              "      <td>85.653846</td>\n",
              "      <td>42.602564</td>\n",
              "      <td>49.525641</td>\n",
              "      <td>61.051282</td>\n",
              "      <td>69.397436</td>\n",
              "      <td>72.064103</td>\n",
              "    </tr>\n",
              "    <tr>\n",
              "      <th>std</th>\n",
              "      <td>18.078985</td>\n",
              "      <td>11.099187</td>\n",
              "      <td>33.362420</td>\n",
              "      <td>26.338970</td>\n",
              "      <td>27.902451</td>\n",
              "      <td>29.225492</td>\n",
              "      <td>21.652726</td>\n",
              "    </tr>\n",
              "    <tr>\n",
              "      <th>min</th>\n",
              "      <td>1.000000</td>\n",
              "      <td>30.000000</td>\n",
              "      <td>0.000000</td>\n",
              "      <td>0.000000</td>\n",
              "      <td>0.000000</td>\n",
              "      <td>0.000000</td>\n",
              "      <td>5.000000</td>\n",
              "    </tr>\n",
              "    <tr>\n",
              "      <th>25%</th>\n",
              "      <td>6.000000</td>\n",
              "      <td>80.000000</td>\n",
              "      <td>10.000000</td>\n",
              "      <td>25.000000</td>\n",
              "      <td>40.000000</td>\n",
              "      <td>45.000000</td>\n",
              "      <td>60.000000</td>\n",
              "    </tr>\n",
              "    <tr>\n",
              "      <th>50%</th>\n",
              "      <td>8.000000</td>\n",
              "      <td>90.000000</td>\n",
              "      <td>30.000000</td>\n",
              "      <td>45.000000</td>\n",
              "      <td>60.000000</td>\n",
              "      <td>75.000000</td>\n",
              "      <td>75.000000</td>\n",
              "    </tr>\n",
              "    <tr>\n",
              "      <th>75%</th>\n",
              "      <td>13.000000</td>\n",
              "      <td>95.000000</td>\n",
              "      <td>75.000000</td>\n",
              "      <td>70.000000</td>\n",
              "      <td>85.000000</td>\n",
              "      <td>100.000000</td>\n",
              "      <td>90.000000</td>\n",
              "    </tr>\n",
              "    <tr>\n",
              "      <th>max</th>\n",
              "      <td>222.000000</td>\n",
              "      <td>100.000000</td>\n",
              "      <td>100.000000</td>\n",
              "      <td>100.000000</td>\n",
              "      <td>100.000000</td>\n",
              "      <td>100.000000</td>\n",
              "      <td>100.000000</td>\n",
              "    </tr>\n",
              "  </tbody>\n",
              "</table>\n",
              "</div>\n",
              "      <button class=\"colab-df-convert\" onclick=\"convertToInteractive('df-d6716948-75e4-4f6c-b65c-8a5e3e5d789a')\"\n",
              "              title=\"Convert this dataframe to an interactive table.\"\n",
              "              style=\"display:none;\">\n",
              "        \n",
              "  <svg xmlns=\"http://www.w3.org/2000/svg\" height=\"24px\"viewBox=\"0 0 24 24\"\n",
              "       width=\"24px\">\n",
              "    <path d=\"M0 0h24v24H0V0z\" fill=\"none\"/>\n",
              "    <path d=\"M18.56 5.44l.94 2.06.94-2.06 2.06-.94-2.06-.94-.94-2.06-.94 2.06-2.06.94zm-11 1L8.5 8.5l.94-2.06 2.06-.94-2.06-.94L8.5 2.5l-.94 2.06-2.06.94zm10 10l.94 2.06.94-2.06 2.06-.94-2.06-.94-.94-2.06-.94 2.06-2.06.94z\"/><path d=\"M17.41 7.96l-1.37-1.37c-.4-.4-.92-.59-1.43-.59-.52 0-1.04.2-1.43.59L10.3 9.45l-7.72 7.72c-.78.78-.78 2.05 0 2.83L4 21.41c.39.39.9.59 1.41.59.51 0 1.02-.2 1.41-.59l7.78-7.78 2.81-2.81c.8-.78.8-2.07 0-2.86zM5.41 20L4 18.59l7.72-7.72 1.47 1.35L5.41 20z\"/>\n",
              "  </svg>\n",
              "      </button>\n",
              "      \n",
              "  <style>\n",
              "    .colab-df-container {\n",
              "      display:flex;\n",
              "      flex-wrap:wrap;\n",
              "      gap: 12px;\n",
              "    }\n",
              "\n",
              "    .colab-df-convert {\n",
              "      background-color: #E8F0FE;\n",
              "      border: none;\n",
              "      border-radius: 50%;\n",
              "      cursor: pointer;\n",
              "      display: none;\n",
              "      fill: #1967D2;\n",
              "      height: 32px;\n",
              "      padding: 0 0 0 0;\n",
              "      width: 32px;\n",
              "    }\n",
              "\n",
              "    .colab-df-convert:hover {\n",
              "      background-color: #E2EBFA;\n",
              "      box-shadow: 0px 1px 2px rgba(60, 64, 67, 0.3), 0px 1px 3px 1px rgba(60, 64, 67, 0.15);\n",
              "      fill: #174EA6;\n",
              "    }\n",
              "\n",
              "    [theme=dark] .colab-df-convert {\n",
              "      background-color: #3B4455;\n",
              "      fill: #D2E3FC;\n",
              "    }\n",
              "\n",
              "    [theme=dark] .colab-df-convert:hover {\n",
              "      background-color: #434B5C;\n",
              "      box-shadow: 0px 1px 3px 1px rgba(0, 0, 0, 0.15);\n",
              "      filter: drop-shadow(0px 1px 2px rgba(0, 0, 0, 0.3));\n",
              "      fill: #FFFFFF;\n",
              "    }\n",
              "  </style>\n",
              "\n",
              "      <script>\n",
              "        const buttonEl =\n",
              "          document.querySelector('#df-d6716948-75e4-4f6c-b65c-8a5e3e5d789a button.colab-df-convert');\n",
              "        buttonEl.style.display =\n",
              "          google.colab.kernel.accessAllowed ? 'block' : 'none';\n",
              "\n",
              "        async function convertToInteractive(key) {\n",
              "          const element = document.querySelector('#df-d6716948-75e4-4f6c-b65c-8a5e3e5d789a');\n",
              "          const dataTable =\n",
              "            await google.colab.kernel.invokeFunction('convertToInteractive',\n",
              "                                                     [key], {});\n",
              "          if (!dataTable) return;\n",
              "\n",
              "          const docLinkHtml = 'Like what you see? Visit the ' +\n",
              "            '<a target=\"_blank\" href=https://colab.research.google.com/notebooks/data_table.ipynb>data table notebook</a>'\n",
              "            + ' to learn more about interactive tables.';\n",
              "          element.innerHTML = '';\n",
              "          dataTable['output_type'] = 'display_data';\n",
              "          await google.colab.output.renderOutput(dataTable, element);\n",
              "          const docLink = document.createElement('div');\n",
              "          docLink.innerHTML = docLinkHtml;\n",
              "          element.appendChild(docLink);\n",
              "        }\n",
              "      </script>\n",
              "    </div>\n",
              "  </div>\n",
              "  "
            ]
          },
          "metadata": {},
          "execution_count": 22
        }
      ]
    },
    {
      "cell_type": "code",
      "source": [
        "# Decision Tree using train data\n",
        "dectree = DecisionTreeClassifier(max_depth = 4)  # create the decision tree object\n",
        "dectree.fit(x_train, y_train)                    # train the decision tree model\n",
        "\n",
        "# Predict creator corresponding to predictors (train and test)\n",
        "y_train_pred = dectree.predict(x_train)\n",
        "y_test_pred = dectree.predict(x_test)\n",
        "\n",
        "# Calculation of TPR and FPR\n",
        "TNtrain, FPtrain, FNtrain, TPtrain = confusion_matrix(y_train, y_train_pred).ravel()\n",
        "TNtest, FPtest, FNtest, TPtest = confusion_matrix(y_test, y_test_pred).ravel()\n",
        "\n",
        "TPRtrain = TPtrain/(TPtrain+FNtrain)\n",
        "FPRtrain = FPtrain/(FPtrain+TNtrain)\n",
        "\n",
        "TPRtest = TPtest/(TPtest+FNtest)\n",
        "FPRtest = FPtest/(FPtest+TNtest)\n",
        "\n",
        "# Check the Goodness of Fit (on train data)\n",
        "print(\"Goodness of Fit of Model \\tTrain Dataset\")\n",
        "print(\"Classification Accuracy \\t:\", dectree.score(x_train, y_train))\n",
        "print(\"Train set: True Positive Rate \\t:\", TPRtrain)\n",
        "print(\"Train set: False Positive Rate \\t:\", FPRtrain)\n",
        "print()\n",
        "\n",
        "# Check the Goodness of Fit (on test data)\n",
        "print(\"Goodness of Fit of Model \\tTest Dataset\")\n",
        "print(\"Classification Accuracy \\t:\", dectree.score(x_test, y_test))\n",
        "print(\"Test set: True Positive Rate \\t:\", TPRtest)\n",
        "print(\"Test set: False Positive Rate \\t:\", FPRtest)\n",
        "print()\n",
        "\n",
        "# Plot the Confusion Matrix for train and test\n",
        "f, axes = plt.subplots(1, 2, figsize=(12, 4))\n",
        "sb.heatmap(confusion_matrix(y_train, y_train_pred),\n",
        "           annot = True, fmt=\".0f\", annot_kws={\"size\": 18}, ax = axes[0])\n",
        "sb.heatmap(confusion_matrix(y_test, y_test_pred), \n",
        "           annot = True, fmt=\".0f\", annot_kws={\"size\": 18}, ax = axes[1])"
      ],
      "metadata": {
        "id": "_ynXTslvKp-J",
        "colab": {
          "base_uri": "https://localhost:8080/",
          "height": 474
        },
        "outputId": "e3051c56-3062-4d35-caef-965d4a7a4d53"
      },
      "execution_count": 23,
      "outputs": [
        {
          "output_type": "stream",
          "name": "stdout",
          "text": [
            "Goodness of Fit of Model \tTrain Dataset\n",
            "Classification Accuracy \t: 0.6897435897435897\n",
            "Train set: True Positive Rate \t: 0.8087557603686636\n",
            "Train set: False Positive Rate \t: 0.4595375722543353\n",
            "\n",
            "Goodness of Fit of Model \tTest Dataset\n",
            "Classification Accuracy \t: 0.6410256410256411\n",
            "Test set: True Positive Rate \t: 0.7589285714285714\n",
            "Test set: False Positive Rate \t: 0.5180722891566265\n",
            "\n"
          ]
        },
        {
          "output_type": "execute_result",
          "data": {
            "text/plain": [
              "<matplotlib.axes._subplots.AxesSubplot at 0x7f4a22c20550>"
            ]
          },
          "metadata": {},
          "execution_count": 23
        },
        {
          "output_type": "display_data",
          "data": {
            "text/plain": [
              "<Figure size 864x288 with 4 Axes>"
            ],
            "image/png": "[encoded data removed]"
          },
          "metadata": {}
        }
      ]
    },
    {
      "cell_type": "markdown",
      "source": [
        "Decent Accuracy averaging around 60% with relatively high false positive rate of 60% average."
      ],
      "metadata": {
        "id": "s17b-B0_KKdS"
      }
    },
    {
      "cell_type": "code",
      "source": [
        "# display Decision Tree\n",
        "\n",
        "f = plt.figure(figsize=(32,12))\n",
        "plot_tree(dectree, filled=True, rounded=True, \n",
        "          feature_names=x_train.columns, \n",
        "          class_names=[\"Marvel Comics\",\"DC Comics\"])"
      ],
      "metadata": {
        "id": "5-46qE0FWmu-",
        "colab": {
          "base_uri": "https://localhost:8080/",
          "height": 1000
        },
        "outputId": "d14357b7-cc9e-4314-bf31-a47338871aba"
      },
      "execution_count": 24,
      "outputs": [
        {
          "output_type": "execute_result",
          "data": {
            "text/plain": [
              "[Text(0.5, 0.9, 'overall_score <= 8.5\\ngini = 0.494\\nsamples = 780\\nvalue = [346, 434]\\nclass = DC Comics'),\n",
              " Text(0.25, 0.7, 'strength_score <= 27.5\\ngini = 0.463\\nsamples = 398\\nvalue = [145, 253]\\nclass = DC Comics'),\n",
              " Text(0.125, 0.5, 'combat_score <= 77.5\\ngini = 0.495\\nsamples = 249\\nvalue = [112, 137]\\nclass = DC Comics'),\n",
              " Text(0.0625, 0.3, 'durability_score <= 22.5\\ngini = 0.432\\nsamples = 136\\nvalue = [43, 93]\\nclass = DC Comics'),\n",
              " Text(0.03125, 0.1, 'gini = 0.5\\nsamples = 39\\nvalue = [19, 20]\\nclass = DC Comics'),\n",
              " Text(0.09375, 0.1, 'gini = 0.372\\nsamples = 97\\nvalue = [24, 73]\\nclass = DC Comics'),\n",
              " Text(0.1875, 0.3, 'power_score <= 57.5\\ngini = 0.476\\nsamples = 113\\nvalue = [69, 44]\\nclass = Marvel Comics'),\n",
              " Text(0.15625, 0.1, 'gini = 0.424\\nsamples = 82\\nvalue = [57, 25]\\nclass = Marvel Comics'),\n",
              " Text(0.21875, 0.1, 'gini = 0.475\\nsamples = 31\\nvalue = [12, 19]\\nclass = DC Comics'),\n",
              " Text(0.375, 0.5, 'power_score <= 52.5\\ngini = 0.345\\nsamples = 149\\nvalue = [33, 116]\\nclass = DC Comics'),\n",
              " Text(0.3125, 0.3, 'speed_score <= 72.5\\ngini = 0.073\\nsamples = 53\\nvalue = [2, 51]\\nclass = DC Comics'),\n",
              " Text(0.28125, 0.1, 'gini = 0.038\\nsamples = 51\\nvalue = [1, 50]\\nclass = DC Comics'),\n",
              " Text(0.34375, 0.1, 'gini = 0.5\\nsamples = 2\\nvalue = [1, 1]\\nclass = Marvel Comics'),\n",
              " Text(0.4375, 0.3, 'strength_score <= 57.5\\ngini = 0.437\\nsamples = 96\\nvalue = [31, 65]\\nclass = DC Comics'),\n",
              " Text(0.40625, 0.1, 'gini = 0.476\\nsamples = 69\\nvalue = [27, 42]\\nclass = DC Comics'),\n",
              " Text(0.46875, 0.1, 'gini = 0.252\\nsamples = 27\\nvalue = [4, 23]\\nclass = DC Comics'),\n",
              " Text(0.75, 0.7, 'speed_score <= 87.5\\ngini = 0.499\\nsamples = 382\\nvalue = [201, 181]\\nclass = Marvel Comics'),\n",
              " Text(0.625, 0.5, 'strength_score <= 17.5\\ngini = 0.5\\nsamples = 291\\nvalue = [141, 150]\\nclass = DC Comics'),\n",
              " Text(0.5625, 0.3, 'durability_score <= 17.5\\ngini = 0.461\\nsamples = 72\\nvalue = [46, 26]\\nclass = Marvel Comics'),\n",
              " Text(0.53125, 0.1, 'gini = 0.444\\nsamples = 12\\nvalue = [4, 8]\\nclass = DC Comics'),\n",
              " Text(0.59375, 0.1, 'gini = 0.42\\nsamples = 60\\nvalue = [42, 18]\\nclass = Marvel Comics'),\n",
              " Text(0.6875, 0.3, 'combat_score <= 97.5\\ngini = 0.491\\nsamples = 219\\nvalue = [95, 124]\\nclass = DC Comics'),\n",
              " Text(0.65625, 0.1, 'gini = 0.472\\nsamples = 178\\nvalue = [68, 110]\\nclass = DC Comics'),\n",
              " Text(0.71875, 0.1, 'gini = 0.45\\nsamples = 41\\nvalue = [27, 14]\\nclass = Marvel Comics'),\n",
              " Text(0.875, 0.5, 'overall_score <= 116.0\\ngini = 0.449\\nsamples = 91\\nvalue = [60, 31]\\nclass = Marvel Comics'),\n",
              " Text(0.8125, 0.3, 'intelligence_score <= 92.5\\ngini = 0.418\\nsamples = 84\\nvalue = [59, 25]\\nclass = Marvel Comics'),\n",
              " Text(0.78125, 0.1, 'gini = 0.49\\nsamples = 42\\nvalue = [24, 18]\\nclass = Marvel Comics'),\n",
              " Text(0.84375, 0.1, 'gini = 0.278\\nsamples = 42\\nvalue = [35, 7]\\nclass = Marvel Comics'),\n",
              " Text(0.9375, 0.3, 'overall_score <= 195.5\\ngini = 0.245\\nsamples = 7\\nvalue = [1, 6]\\nclass = DC Comics'),\n",
              " Text(0.90625, 0.1, 'gini = 0.0\\nsamples = 6\\nvalue = [0, 6]\\nclass = DC Comics'),\n",
              " Text(0.96875, 0.1, 'gini = 0.0\\nsamples = 1\\nvalue = [1, 0]\\nclass = Marvel Comics')]"
            ]
          },
          "metadata": {},
          "execution_count": 24
        },
        {
          "output_type": "display_data",
          "data": {
            "text/plain": [
              "<Figure size 2304x864 with 1 Axes>"
            ],
            "image/png": "[encoded data removed]"
          },
          "metadata": {}
        }
      ]
    },
    {
      "cell_type": "markdown",
      "source": [
        "Let us attempt to predict the creators of certain characters (Deadpool, Harley Quinn, Hulk).\n",
        "First, we need to isolate the characters that we want to test our prediction on."
      ],
      "metadata": {
        "id": "Fe2ZJbOjMyR1"
      }
    },
    {
      "cell_type": "code",
      "source": [
        "# test prediction on specific characters: Deadpool, Harley Quinn, Hulk\n",
        "\n",
        "heroes_pred = heroesData[heroesData[\"name\"].isin([\"Deadpool\", \"Harley Quinn\", \"Hulk\"])]\n",
        "heroes_pred"
      ],
      "metadata": {
        "id": "tJMYJJN-Ncml",
        "colab": {
          "base_uri": "https://localhost:8080/",
          "height": 444
        },
        "outputId": "d35b83aa-d60f-4ad7-a52a-ff601f266723"
      },
      "execution_count": 25,
      "outputs": [
        {
          "output_type": "execute_result",
          "data": {
            "text/plain": [
              "             name        real_name                full_name overall_score  \\\n",
              "370      Deadpool      Wade Wilson      Wade Winston Wilson            12   \n",
              "566  Harley Quinn  Harleen Quinzel  Harleen Francis Quinzel             8   \n",
              "616          Hulk     Bruce Banner      Robert Bruce Banner            34   \n",
              "\n",
              "                                          history_text  \\\n",
              "370     Not too much is known about Deadpool's chil...   \n",
              "566   Described as having a genius-level IQ, Harlee...   \n",
              "616    Robert Bruce Banner was the son of an alcoho...   \n",
              "\n",
              "                                           powers_text  intelligence_score  \\\n",
              "370    Deadpool possesses a superhuman healing fact...                  80   \n",
              "566    Immunizes her to various assorted toxins and...                  95   \n",
              "616  The Hulk is one of the most powerful beings in...                  60   \n",
              "\n",
              "     strength_score  speed_score  durability_score  ...  has_flight  \\\n",
              "370              20           50               100  ...         0.0   \n",
              "566              10           35                65  ...         0.0   \n",
              "616             100           85               100  ...         0.0   \n",
              "\n",
              "     has_accelerated_healing has_weapons_master has_intelligence has_reflexes  \\\n",
              "370                      1.0                1.0              0.0          1.0   \n",
              "566                      1.0                0.0              1.0          1.0   \n",
              "616                      1.0                0.0              0.0          1.0   \n",
              "\n",
              "    has_super_speed has_durability has_stamina has_agility has_super_strength  \n",
              "370             1.0            1.0         0.0         1.0                0.0  \n",
              "566             0.0            0.0         1.0         1.0                1.0  \n",
              "616             1.0            1.0         1.0         1.0                1.0  \n",
              "\n",
              "[3 rows x 81 columns]"
            ],
            "text/html": [
              "\n",
              "  <div id=\"df-2e061bd0-c170-4af8-bf9b-576b53bb8d35\">\n",
              "    <div class=\"colab-df-container\">\n",
              "      <div>\n",
              "<style scoped>\n",
              "    .dataframe tbody tr th:only-of-type {\n",
              "        vertical-align: middle;\n",
              "    }\n",
              "\n",
              "    .dataframe tbody tr th {\n",
              "        vertical-align: top;\n",
              "    }\n",
              "\n",
              "    .dataframe thead th {\n",
              "        text-align: right;\n",
              "    }\n",
              "</style>\n",
              "<table border=\"1\" class=\"dataframe\">\n",
              "  <thead>\n",
              "    <tr style=\"text-align: right;\">\n",
              "      <th></th>\n",
              "      <th>name</th>\n",
              "      <th>real_name</th>\n",
              "      <th>full_name</th>\n",
              "      <th>overall_score</th>\n",
              "      <th>history_text</th>\n",
              "      <th>powers_text</th>\n",
              "      <th>intelligence_score</th>\n",
              "      <th>strength_score</th>\n",
              "      <th>speed_score</th>\n",
              "      <th>durability_score</th>\n",
              "      <th>...</th>\n",
              "      <th>has_flight</th>\n",
              "      <th>has_accelerated_healing</th>\n",
              "      <th>has_weapons_master</th>\n",
              "      <th>has_intelligence</th>\n",
              "      <th>has_reflexes</th>\n",
              "      <th>has_super_speed</th>\n",
              "      <th>has_durability</th>\n",
              "      <th>has_stamina</th>\n",
              "      <th>has_agility</th>\n",
              "      <th>has_super_strength</th>\n",
              "    </tr>\n",
              "  </thead>\n",
              "  <tbody>\n",
              "    <tr>\n",
              "      <th>370</th>\n",
              "      <td>Deadpool</td>\n",
              "      <td>Wade Wilson</td>\n",
              "      <td>Wade Winston Wilson</td>\n",
              "      <td>12</td>\n",
              "      <td>Not too much is known about Deadpool's chil...</td>\n",
              "      <td>Deadpool possesses a superhuman healing fact...</td>\n",
              "      <td>80</td>\n",
              "      <td>20</td>\n",
              "      <td>50</td>\n",
              "      <td>100</td>\n",
              "      <td>...</td>\n",
              "      <td>0.0</td>\n",
              "      <td>1.0</td>\n",
              "      <td>1.0</td>\n",
              "      <td>0.0</td>\n",
              "      <td>1.0</td>\n",
              "      <td>1.0</td>\n",
              "      <td>1.0</td>\n",
              "      <td>0.0</td>\n",
              "      <td>1.0</td>\n",
              "      <td>0.0</td>\n",
              "    </tr>\n",
              "    <tr>\n",
              "      <th>566</th>\n",
              "      <td>Harley Quinn</td>\n",
              "      <td>Harleen Quinzel</td>\n",
              "      <td>Harleen Francis Quinzel</td>\n",
              "      <td>8</td>\n",
              "      <td>Described as having a genius-level IQ, Harlee...</td>\n",
              "      <td>Immunizes her to various assorted toxins and...</td>\n",
              "      <td>95</td>\n",
              "      <td>10</td>\n",
              "      <td>35</td>\n",
              "      <td>65</td>\n",
              "      <td>...</td>\n",
              "      <td>0.0</td>\n",
              "      <td>1.0</td>\n",
              "      <td>0.0</td>\n",
              "      <td>1.0</td>\n",
              "      <td>1.0</td>\n",
              "      <td>0.0</td>\n",
              "      <td>0.0</td>\n",
              "      <td>1.0</td>\n",
              "      <td>1.0</td>\n",
              "      <td>1.0</td>\n",
              "    </tr>\n",
              "    <tr>\n",
              "      <th>616</th>\n",
              "      <td>Hulk</td>\n",
              "      <td>Bruce Banner</td>\n",
              "      <td>Robert Bruce Banner</td>\n",
              "      <td>34</td>\n",
              "      <td>Robert Bruce Banner was the son of an alcoho...</td>\n",
              "      <td>The Hulk is one of the most powerful beings in...</td>\n",
              "      <td>60</td>\n",
              "      <td>100</td>\n",
              "      <td>85</td>\n",
              "      <td>100</td>\n",
              "      <td>...</td>\n",
              "      <td>0.0</td>\n",
              "      <td>1.0</td>\n",
              "      <td>0.0</td>\n",
              "      <td>0.0</td>\n",
              "      <td>1.0</td>\n",
              "      <td>1.0</td>\n",
              "      <td>1.0</td>\n",
              "      <td>1.0</td>\n",
              "      <td>1.0</td>\n",
              "      <td>1.0</td>\n",
              "    </tr>\n",
              "  </tbody>\n",
              "</table>\n",
              "<p>3 rows × 81 columns</p>\n",
              "</div>\n",
              "      <button class=\"colab-df-convert\" onclick=\"convertToInteractive('df-2e061bd0-c170-4af8-bf9b-576b53bb8d35')\"\n",
              "              title=\"Convert this dataframe to an interactive table.\"\n",
              "              style=\"display:none;\">\n",
              "        \n",
              "  <svg xmlns=\"http://www.w3.org/2000/svg\" height=\"24px\"viewBox=\"0 0 24 24\"\n",
              "       width=\"24px\">\n",
              "    <path d=\"M0 0h24v24H0V0z\" fill=\"none\"/>\n",
              "    <path d=\"M18.56 5.44l.94 2.06.94-2.06 2.06-.94-2.06-.94-.94-2.06-.94 2.06-2.06.94zm-11 1L8.5 8.5l.94-2.06 2.06-.94-2.06-.94L8.5 2.5l-.94 2.06-2.06.94zm10 10l.94 2.06.94-2.06 2.06-.94-2.06-.94-.94-2.06-.94 2.06-2.06.94z\"/><path d=\"M17.41 7.96l-1.37-1.37c-.4-.4-.92-.59-1.43-.59-.52 0-1.04.2-1.43.59L10.3 9.45l-7.72 7.72c-.78.78-.78 2.05 0 2.83L4 21.41c.39.39.9.59 1.41.59.51 0 1.02-.2 1.41-.59l7.78-7.78 2.81-2.81c.8-.78.8-2.07 0-2.86zM5.41 20L4 18.59l7.72-7.72 1.47 1.35L5.41 20z\"/>\n",
              "  </svg>\n",
              "      </button>\n",
              "      \n",
              "  <style>\n",
              "    .colab-df-container {\n",
              "      display:flex;\n",
              "      flex-wrap:wrap;\n",
              "      gap: 12px;\n",
              "    }\n",
              "\n",
              "    .colab-df-convert {\n",
              "      background-color: #E8F0FE;\n",
              "      border: none;\n",
              "      border-radius: 50%;\n",
              "      cursor: pointer;\n",
              "      display: none;\n",
              "      fill: #1967D2;\n",
              "      height: 32px;\n",
              "      padding: 0 0 0 0;\n",
              "      width: 32px;\n",
              "    }\n",
              "\n",
              "    .colab-df-convert:hover {\n",
              "      background-color: #E2EBFA;\n",
              "      box-shadow: 0px 1px 2px rgba(60, 64, 67, 0.3), 0px 1px 3px 1px rgba(60, 64, 67, 0.15);\n",
              "      fill: #174EA6;\n",
              "    }\n",
              "\n",
              "    [theme=dark] .colab-df-convert {\n",
              "      background-color: #3B4455;\n",
              "      fill: #D2E3FC;\n",
              "    }\n",
              "\n",
              "    [theme=dark] .colab-df-convert:hover {\n",
              "      background-color: #434B5C;\n",
              "      box-shadow: 0px 1px 3px 1px rgba(0, 0, 0, 0.15);\n",
              "      filter: drop-shadow(0px 1px 2px rgba(0, 0, 0, 0.3));\n",
              "      fill: #FFFFFF;\n",
              "    }\n",
              "  </style>\n",
              "\n",
              "      <script>\n",
              "        const buttonEl =\n",
              "          document.querySelector('#df-2e061bd0-c170-4af8-bf9b-576b53bb8d35 button.colab-df-convert');\n",
              "        buttonEl.style.display =\n",
              "          google.colab.kernel.accessAllowed ? 'block' : 'none';\n",
              "\n",
              "        async function convertToInteractive(key) {\n",
              "          const element = document.querySelector('#df-2e061bd0-c170-4af8-bf9b-576b53bb8d35');\n",
              "          const dataTable =\n",
              "            await google.colab.kernel.invokeFunction('convertToInteractive',\n",
              "                                                     [key], {});\n",
              "          if (!dataTable) return;\n",
              "\n",
              "          const docLinkHtml = 'Like what you see? Visit the ' +\n",
              "            '<a target=\"_blank\" href=https://colab.research.google.com/notebooks/data_table.ipynb>data table notebook</a>'\n",
              "            + ' to learn more about interactive tables.';\n",
              "          element.innerHTML = '';\n",
              "          dataTable['output_type'] = 'display_data';\n",
              "          await google.colab.output.renderOutput(dataTable, element);\n",
              "          const docLink = document.createElement('div');\n",
              "          docLink.innerHTML = docLinkHtml;\n",
              "          element.appendChild(docLink);\n",
              "        }\n",
              "      </script>\n",
              "    </div>\n",
              "  </div>\n",
              "  "
            ]
          },
          "metadata": {},
          "execution_count": 25
        }
      ]
    },
    {
      "cell_type": "code",
      "source": [
        "# keep only relevant columns, name and creator\n",
        "heroes_pred_creator = pd.DataFrame(heroes_pred[['name', 'creator']])\n",
        "heroes_pred_creator"
      ],
      "metadata": {
        "id": "I-QENJd_QBdg",
        "colab": {
          "base_uri": "https://localhost:8080/",
          "height": 143
        },
        "outputId": "e85c2828-2800-4652-cabc-7f17ecb48c39"
      },
      "execution_count": 26,
      "outputs": [
        {
          "output_type": "execute_result",
          "data": {
            "text/plain": [
              "             name        creator\n",
              "370      Deadpool  Marvel Comics\n",
              "566  Harley Quinn      DC Comics\n",
              "616          Hulk  Marvel Comics"
            ],
            "text/html": [
              "\n",
              "  <div id=\"df-dc9b720e-707e-41e3-9ec2-4ca6a06d3778\">\n",
              "    <div class=\"colab-df-container\">\n",
              "      <div>\n",
              "<style scoped>\n",
              "    .dataframe tbody tr th:only-of-type {\n",
              "        vertical-align: middle;\n",
              "    }\n",
              "\n",
              "    .dataframe tbody tr th {\n",
              "        vertical-align: top;\n",
              "    }\n",
              "\n",
              "    .dataframe thead th {\n",
              "        text-align: right;\n",
              "    }\n",
              "</style>\n",
              "<table border=\"1\" class=\"dataframe\">\n",
              "  <thead>\n",
              "    <tr style=\"text-align: right;\">\n",
              "      <th></th>\n",
              "      <th>name</th>\n",
              "      <th>creator</th>\n",
              "    </tr>\n",
              "  </thead>\n",
              "  <tbody>\n",
              "    <tr>\n",
              "      <th>370</th>\n",
              "      <td>Deadpool</td>\n",
              "      <td>Marvel Comics</td>\n",
              "    </tr>\n",
              "    <tr>\n",
              "      <th>566</th>\n",
              "      <td>Harley Quinn</td>\n",
              "      <td>DC Comics</td>\n",
              "    </tr>\n",
              "    <tr>\n",
              "      <th>616</th>\n",
              "      <td>Hulk</td>\n",
              "      <td>Marvel Comics</td>\n",
              "    </tr>\n",
              "  </tbody>\n",
              "</table>\n",
              "</div>\n",
              "      <button class=\"colab-df-convert\" onclick=\"convertToInteractive('df-dc9b720e-707e-41e3-9ec2-4ca6a06d3778')\"\n",
              "              title=\"Convert this dataframe to an interactive table.\"\n",
              "              style=\"display:none;\">\n",
              "        \n",
              "  <svg xmlns=\"http://www.w3.org/2000/svg\" height=\"24px\"viewBox=\"0 0 24 24\"\n",
              "       width=\"24px\">\n",
              "    <path d=\"M0 0h24v24H0V0z\" fill=\"none\"/>\n",
              "    <path d=\"M18.56 5.44l.94 2.06.94-2.06 2.06-.94-2.06-.94-.94-2.06-.94 2.06-2.06.94zm-11 1L8.5 8.5l.94-2.06 2.06-.94-2.06-.94L8.5 2.5l-.94 2.06-2.06.94zm10 10l.94 2.06.94-2.06 2.06-.94-2.06-.94-.94-2.06-.94 2.06-2.06.94z\"/><path d=\"M17.41 7.96l-1.37-1.37c-.4-.4-.92-.59-1.43-.59-.52 0-1.04.2-1.43.59L10.3 9.45l-7.72 7.72c-.78.78-.78 2.05 0 2.83L4 21.41c.39.39.9.59 1.41.59.51 0 1.02-.2 1.41-.59l7.78-7.78 2.81-2.81c.8-.78.8-2.07 0-2.86zM5.41 20L4 18.59l7.72-7.72 1.47 1.35L5.41 20z\"/>\n",
              "  </svg>\n",
              "      </button>\n",
              "      \n",
              "  <style>\n",
              "    .colab-df-container {\n",
              "      display:flex;\n",
              "      flex-wrap:wrap;\n",
              "      gap: 12px;\n",
              "    }\n",
              "\n",
              "    .colab-df-convert {\n",
              "      background-color: #E8F0FE;\n",
              "      border: none;\n",
              "      border-radius: 50%;\n",
              "      cursor: pointer;\n",
              "      display: none;\n",
              "      fill: #1967D2;\n",
              "      height: 32px;\n",
              "      padding: 0 0 0 0;\n",
              "      width: 32px;\n",
              "    }\n",
              "\n",
              "    .colab-df-convert:hover {\n",
              "      background-color: #E2EBFA;\n",
              "      box-shadow: 0px 1px 2px rgba(60, 64, 67, 0.3), 0px 1px 3px 1px rgba(60, 64, 67, 0.15);\n",
              "      fill: #174EA6;\n",
              "    }\n",
              "\n",
              "    [theme=dark] .colab-df-convert {\n",
              "      background-color: #3B4455;\n",
              "      fill: #D2E3FC;\n",
              "    }\n",
              "\n",
              "    [theme=dark] .colab-df-convert:hover {\n",
              "      background-color: #434B5C;\n",
              "      box-shadow: 0px 1px 3px 1px rgba(0, 0, 0, 0.15);\n",
              "      filter: drop-shadow(0px 1px 2px rgba(0, 0, 0, 0.3));\n",
              "      fill: #FFFFFF;\n",
              "    }\n",
              "  </style>\n",
              "\n",
              "      <script>\n",
              "        const buttonEl =\n",
              "          document.querySelector('#df-dc9b720e-707e-41e3-9ec2-4ca6a06d3778 button.colab-df-convert');\n",
              "        buttonEl.style.display =\n",
              "          google.colab.kernel.accessAllowed ? 'block' : 'none';\n",
              "\n",
              "        async function convertToInteractive(key) {\n",
              "          const element = document.querySelector('#df-dc9b720e-707e-41e3-9ec2-4ca6a06d3778');\n",
              "          const dataTable =\n",
              "            await google.colab.kernel.invokeFunction('convertToInteractive',\n",
              "                                                     [key], {});\n",
              "          if (!dataTable) return;\n",
              "\n",
              "          const docLinkHtml = 'Like what you see? Visit the ' +\n",
              "            '<a target=\"_blank\" href=https://colab.research.google.com/notebooks/data_table.ipynb>data table notebook</a>'\n",
              "            + ' to learn more about interactive tables.';\n",
              "          element.innerHTML = '';\n",
              "          dataTable['output_type'] = 'display_data';\n",
              "          await google.colab.output.renderOutput(dataTable, element);\n",
              "          const docLink = document.createElement('div');\n",
              "          docLink.innerHTML = docLinkHtml;\n",
              "          element.appendChild(docLink);\n",
              "        }\n",
              "      </script>\n",
              "    </div>\n",
              "  </div>\n",
              "  "
            ]
          },
          "metadata": {},
          "execution_count": 26
        }
      ]
    },
    {
      "cell_type": "markdown",
      "source": [
        "Observe that Deadpool and Hulk are created by Marvel Comics, and Harley Quinn is created by DC Comics."
      ],
      "metadata": {
        "id": "Lb8XPUE7xKbH"
      }
    },
    {
      "cell_type": "code",
      "source": [
        "# Extract Predictors for Prediction\n",
        "predictors = [\"overall_score\", \"intelligence_score\", \"strength_score\", \"speed_score\", \"durability_score\",\t\"power_score\", \"combat_score\"]\n",
        "x_pred = pd.DataFrame(heroes_pred[predictors])\n",
        "\n",
        "# Predict Response corresponding to Predictors\n",
        "y_pred = dectree.predict(x_pred)\n",
        "y_pred"
      ],
      "metadata": {
        "id": "z34H6R3ZNckk",
        "colab": {
          "base_uri": "https://localhost:8080/"
        },
        "outputId": "cf9fcc18-be5f-4a2e-cb00-b13b2f5ee84b"
      },
      "execution_count": 27,
      "outputs": [
        {
          "output_type": "execute_result",
          "data": {
            "text/plain": [
              "array(['DC Comics', 'DC Comics', 'Marvel Comics'], dtype=object)"
            ]
          },
          "metadata": {},
          "execution_count": 27
        }
      ]
    },
    {
      "cell_type": "code",
      "source": [
        "# Compare actual creators with predictions\n",
        "# creator_pred is the predicted creator by the dectree model\n",
        "y_pred = pd.DataFrame(y_pred, columns = [\"creator_pred\"], index = heroes_pred.index)\n",
        "heroes_acc = pd.concat([heroes_pred[[\"name\", \"creator\"]], y_pred], axis = 1)\n",
        "\n",
        "heroes_acc"
      ],
      "metadata": {
        "id": "u4yMPMU3NciZ",
        "colab": {
          "base_uri": "https://localhost:8080/",
          "height": 143
        },
        "outputId": "5f1857e7-ee30-4e7e-c011-8b88273ef405"
      },
      "execution_count": 28,
      "outputs": [
        {
          "output_type": "execute_result",
          "data": {
            "text/plain": [
              "             name        creator   creator_pred\n",
              "370      Deadpool  Marvel Comics      DC Comics\n",
              "566  Harley Quinn      DC Comics      DC Comics\n",
              "616          Hulk  Marvel Comics  Marvel Comics"
            ],
            "text/html": [
              "\n",
              "  <div id=\"df-0e690ab6-f6e9-474b-abf6-f9788ee912a0\">\n",
              "    <div class=\"colab-df-container\">\n",
              "      <div>\n",
              "<style scoped>\n",
              "    .dataframe tbody tr th:only-of-type {\n",
              "        vertical-align: middle;\n",
              "    }\n",
              "\n",
              "    .dataframe tbody tr th {\n",
              "        vertical-align: top;\n",
              "    }\n",
              "\n",
              "    .dataframe thead th {\n",
              "        text-align: right;\n",
              "    }\n",
              "</style>\n",
              "<table border=\"1\" class=\"dataframe\">\n",
              "  <thead>\n",
              "    <tr style=\"text-align: right;\">\n",
              "      <th></th>\n",
              "      <th>name</th>\n",
              "      <th>creator</th>\n",
              "      <th>creator_pred</th>\n",
              "    </tr>\n",
              "  </thead>\n",
              "  <tbody>\n",
              "    <tr>\n",
              "      <th>370</th>\n",
              "      <td>Deadpool</td>\n",
              "      <td>Marvel Comics</td>\n",
              "      <td>DC Comics</td>\n",
              "    </tr>\n",
              "    <tr>\n",
              "      <th>566</th>\n",
              "      <td>Harley Quinn</td>\n",
              "      <td>DC Comics</td>\n",
              "      <td>DC Comics</td>\n",
              "    </tr>\n",
              "    <tr>\n",
              "      <th>616</th>\n",
              "      <td>Hulk</td>\n",
              "      <td>Marvel Comics</td>\n",
              "      <td>Marvel Comics</td>\n",
              "    </tr>\n",
              "  </tbody>\n",
              "</table>\n",
              "</div>\n",
              "      <button class=\"colab-df-convert\" onclick=\"convertToInteractive('df-0e690ab6-f6e9-474b-abf6-f9788ee912a0')\"\n",
              "              title=\"Convert this dataframe to an interactive table.\"\n",
              "              style=\"display:none;\">\n",
              "        \n",
              "  <svg xmlns=\"http://www.w3.org/2000/svg\" height=\"24px\"viewBox=\"0 0 24 24\"\n",
              "       width=\"24px\">\n",
              "    <path d=\"M0 0h24v24H0V0z\" fill=\"none\"/>\n",
              "    <path d=\"M18.56 5.44l.94 2.06.94-2.06 2.06-.94-2.06-.94-.94-2.06-.94 2.06-2.06.94zm-11 1L8.5 8.5l.94-2.06 2.06-.94-2.06-.94L8.5 2.5l-.94 2.06-2.06.94zm10 10l.94 2.06.94-2.06 2.06-.94-2.06-.94-.94-2.06-.94 2.06-2.06.94z\"/><path d=\"M17.41 7.96l-1.37-1.37c-.4-.4-.92-.59-1.43-.59-.52 0-1.04.2-1.43.59L10.3 9.45l-7.72 7.72c-.78.78-.78 2.05 0 2.83L4 21.41c.39.39.9.59 1.41.59.51 0 1.02-.2 1.41-.59l7.78-7.78 2.81-2.81c.8-.78.8-2.07 0-2.86zM5.41 20L4 18.59l7.72-7.72 1.47 1.35L5.41 20z\"/>\n",
              "  </svg>\n",
              "      </button>\n",
              "      \n",
              "  <style>\n",
              "    .colab-df-container {\n",
              "      display:flex;\n",
              "      flex-wrap:wrap;\n",
              "      gap: 12px;\n",
              "    }\n",
              "\n",
              "    .colab-df-convert {\n",
              "      background-color: #E8F0FE;\n",
              "      border: none;\n",
              "      border-radius: 50%;\n",
              "      cursor: pointer;\n",
              "      display: none;\n",
              "      fill: #1967D2;\n",
              "      height: 32px;\n",
              "      padding: 0 0 0 0;\n",
              "      width: 32px;\n",
              "    }\n",
              "\n",
              "    .colab-df-convert:hover {\n",
              "      background-color: #E2EBFA;\n",
              "      box-shadow: 0px 1px 2px rgba(60, 64, 67, 0.3), 0px 1px 3px 1px rgba(60, 64, 67, 0.15);\n",
              "      fill: #174EA6;\n",
              "    }\n",
              "\n",
              "    [theme=dark] .colab-df-convert {\n",
              "      background-color: #3B4455;\n",
              "      fill: #D2E3FC;\n",
              "    }\n",
              "\n",
              "    [theme=dark] .colab-df-convert:hover {\n",
              "      background-color: #434B5C;\n",
              "      box-shadow: 0px 1px 3px 1px rgba(0, 0, 0, 0.15);\n",
              "      filter: drop-shadow(0px 1px 2px rgba(0, 0, 0, 0.3));\n",
              "      fill: #FFFFFF;\n",
              "    }\n",
              "  </style>\n",
              "\n",
              "      <script>\n",
              "        const buttonEl =\n",
              "          document.querySelector('#df-0e690ab6-f6e9-474b-abf6-f9788ee912a0 button.colab-df-convert');\n",
              "        buttonEl.style.display =\n",
              "          google.colab.kernel.accessAllowed ? 'block' : 'none';\n",
              "\n",
              "        async function convertToInteractive(key) {\n",
              "          const element = document.querySelector('#df-0e690ab6-f6e9-474b-abf6-f9788ee912a0');\n",
              "          const dataTable =\n",
              "            await google.colab.kernel.invokeFunction('convertToInteractive',\n",
              "                                                     [key], {});\n",
              "          if (!dataTable) return;\n",
              "\n",
              "          const docLinkHtml = 'Like what you see? Visit the ' +\n",
              "            '<a target=\"_blank\" href=https://colab.research.google.com/notebooks/data_table.ipynb>data table notebook</a>'\n",
              "            + ' to learn more about interactive tables.';\n",
              "          element.innerHTML = '';\n",
              "          dataTable['output_type'] = 'display_data';\n",
              "          await google.colab.output.renderOutput(dataTable, element);\n",
              "          const docLink = document.createElement('div');\n",
              "          docLink.innerHTML = docLinkHtml;\n",
              "          element.appendChild(docLink);\n",
              "        }\n",
              "      </script>\n",
              "    </div>\n",
              "  </div>\n",
              "  "
            ]
          },
          "metadata": {},
          "execution_count": 28
        }
      ]
    },
    {
      "cell_type": "code",
      "source": [
        "# Predict Probabilities corresponding to Predictors\n",
        "y_prob = dectree.predict_proba(x_pred)\n",
        "y_prob"
      ],
      "metadata": {
        "id": "qlqI9WuGTM_r",
        "colab": {
          "base_uri": "https://localhost:8080/"
        },
        "outputId": "c1aa1f21-ca41-41c3-a024-d1981ef03b90"
      },
      "execution_count": 29,
      "outputs": [
        {
          "output_type": "execute_result",
          "data": {
            "text/plain": [
              "array([[0.65853659, 0.34146341],\n",
              "       [0.69512195, 0.30487805],\n",
              "       [0.38202247, 0.61797753]])"
            ]
          },
          "metadata": {},
          "execution_count": 29
        }
      ]
    },
    {
      "cell_type": "code",
      "source": [
        "# Summarize the Probabilities with the Predictions\n",
        "# marvel_prob is probability that character is created by Marvel Comics\n",
        "y_prob = pd.DataFrame(list(y_prob[:,1]), columns = [\"marvel_prob\"], index = heroes_pred.index)\n",
        "heroes_pred_prob = pd.concat([heroes_acc, y_prob], axis = 1)\n",
        "\n",
        "heroes_pred_prob"
      ],
      "metadata": {
        "id": "teaOM6V6S-Ge",
        "colab": {
          "base_uri": "https://localhost:8080/",
          "height": 143
        },
        "outputId": "6ff3b2cc-d926-4106-b0ab-9ff0da451eb2"
      },
      "execution_count": 30,
      "outputs": [
        {
          "output_type": "execute_result",
          "data": {
            "text/plain": [
              "             name        creator   creator_pred  marvel_prob\n",
              "370      Deadpool  Marvel Comics      DC Comics     0.341463\n",
              "566  Harley Quinn      DC Comics      DC Comics     0.304878\n",
              "616          Hulk  Marvel Comics  Marvel Comics     0.617978"
            ],
            "text/html": [
              "\n",
              "  <div id=\"df-4d441b17-2c12-4e7b-84f2-bb65b8b9ebad\">\n",
              "    <div class=\"colab-df-container\">\n",
              "      <div>\n",
              "<style scoped>\n",
              "    .dataframe tbody tr th:only-of-type {\n",
              "        vertical-align: middle;\n",
              "    }\n",
              "\n",
              "    .dataframe tbody tr th {\n",
              "        vertical-align: top;\n",
              "    }\n",
              "\n",
              "    .dataframe thead th {\n",
              "        text-align: right;\n",
              "    }\n",
              "</style>\n",
              "<table border=\"1\" class=\"dataframe\">\n",
              "  <thead>\n",
              "    <tr style=\"text-align: right;\">\n",
              "      <th></th>\n",
              "      <th>name</th>\n",
              "      <th>creator</th>\n",
              "      <th>creator_pred</th>\n",
              "      <th>marvel_prob</th>\n",
              "    </tr>\n",
              "  </thead>\n",
              "  <tbody>\n",
              "    <tr>\n",
              "      <th>370</th>\n",
              "      <td>Deadpool</td>\n",
              "      <td>Marvel Comics</td>\n",
              "      <td>DC Comics</td>\n",
              "      <td>0.341463</td>\n",
              "    </tr>\n",
              "    <tr>\n",
              "      <th>566</th>\n",
              "      <td>Harley Quinn</td>\n",
              "      <td>DC Comics</td>\n",
              "      <td>DC Comics</td>\n",
              "      <td>0.304878</td>\n",
              "    </tr>\n",
              "    <tr>\n",
              "      <th>616</th>\n",
              "      <td>Hulk</td>\n",
              "      <td>Marvel Comics</td>\n",
              "      <td>Marvel Comics</td>\n",
              "      <td>0.617978</td>\n",
              "    </tr>\n",
              "  </tbody>\n",
              "</table>\n",
              "</div>\n",
              "      <button class=\"colab-df-convert\" onclick=\"convertToInteractive('df-4d441b17-2c12-4e7b-84f2-bb65b8b9ebad')\"\n",
              "              title=\"Convert this dataframe to an interactive table.\"\n",
              "              style=\"display:none;\">\n",
              "        \n",
              "  <svg xmlns=\"http://www.w3.org/2000/svg\" height=\"24px\"viewBox=\"0 0 24 24\"\n",
              "       width=\"24px\">\n",
              "    <path d=\"M0 0h24v24H0V0z\" fill=\"none\"/>\n",
              "    <path d=\"M18.56 5.44l.94 2.06.94-2.06 2.06-.94-2.06-.94-.94-2.06-.94 2.06-2.06.94zm-11 1L8.5 8.5l.94-2.06 2.06-.94-2.06-.94L8.5 2.5l-.94 2.06-2.06.94zm10 10l.94 2.06.94-2.06 2.06-.94-2.06-.94-.94-2.06-.94 2.06-2.06.94z\"/><path d=\"M17.41 7.96l-1.37-1.37c-.4-.4-.92-.59-1.43-.59-.52 0-1.04.2-1.43.59L10.3 9.45l-7.72 7.72c-.78.78-.78 2.05 0 2.83L4 21.41c.39.39.9.59 1.41.59.51 0 1.02-.2 1.41-.59l7.78-7.78 2.81-2.81c.8-.78.8-2.07 0-2.86zM5.41 20L4 18.59l7.72-7.72 1.47 1.35L5.41 20z\"/>\n",
              "  </svg>\n",
              "      </button>\n",
              "      \n",
              "  <style>\n",
              "    .colab-df-container {\n",
              "      display:flex;\n",
              "      flex-wrap:wrap;\n",
              "      gap: 12px;\n",
              "    }\n",
              "\n",
              "    .colab-df-convert {\n",
              "      background-color: #E8F0FE;\n",
              "      border: none;\n",
              "      border-radius: 50%;\n",
              "      cursor: pointer;\n",
              "      display: none;\n",
              "      fill: #1967D2;\n",
              "      height: 32px;\n",
              "      padding: 0 0 0 0;\n",
              "      width: 32px;\n",
              "    }\n",
              "\n",
              "    .colab-df-convert:hover {\n",
              "      background-color: #E2EBFA;\n",
              "      box-shadow: 0px 1px 2px rgba(60, 64, 67, 0.3), 0px 1px 3px 1px rgba(60, 64, 67, 0.15);\n",
              "      fill: #174EA6;\n",
              "    }\n",
              "\n",
              "    [theme=dark] .colab-df-convert {\n",
              "      background-color: #3B4455;\n",
              "      fill: #D2E3FC;\n",
              "    }\n",
              "\n",
              "    [theme=dark] .colab-df-convert:hover {\n",
              "      background-color: #434B5C;\n",
              "      box-shadow: 0px 1px 3px 1px rgba(0, 0, 0, 0.15);\n",
              "      filter: drop-shadow(0px 1px 2px rgba(0, 0, 0, 0.3));\n",
              "      fill: #FFFFFF;\n",
              "    }\n",
              "  </style>\n",
              "\n",
              "      <script>\n",
              "        const buttonEl =\n",
              "          document.querySelector('#df-4d441b17-2c12-4e7b-84f2-bb65b8b9ebad button.colab-df-convert');\n",
              "        buttonEl.style.display =\n",
              "          google.colab.kernel.accessAllowed ? 'block' : 'none';\n",
              "\n",
              "        async function convertToInteractive(key) {\n",
              "          const element = document.querySelector('#df-4d441b17-2c12-4e7b-84f2-bb65b8b9ebad');\n",
              "          const dataTable =\n",
              "            await google.colab.kernel.invokeFunction('convertToInteractive',\n",
              "                                                     [key], {});\n",
              "          if (!dataTable) return;\n",
              "\n",
              "          const docLinkHtml = 'Like what you see? Visit the ' +\n",
              "            '<a target=\"_blank\" href=https://colab.research.google.com/notebooks/data_table.ipynb>data table notebook</a>'\n",
              "            + ' to learn more about interactive tables.';\n",
              "          element.innerHTML = '';\n",
              "          dataTable['output_type'] = 'display_data';\n",
              "          await google.colab.output.renderOutput(dataTable, element);\n",
              "          const docLink = document.createElement('div');\n",
              "          docLink.innerHTML = docLinkHtml;\n",
              "          element.appendChild(docLink);\n",
              "        }\n",
              "      </script>\n",
              "    </div>\n",
              "  </div>\n",
              "  "
            ]
          },
          "metadata": {},
          "execution_count": 30
        }
      ]
    },
    {
      "cell_type": "markdown",
      "source": [
        "Using Classification Tree, we have successfully predicted the creators for 3 superheroes namely, Deadpool, Harley Quinn and Hulk correctly. Although it made the correct predictions, the probabilty is quite close to 50-50 on average. \n",
        "\n",
        "With that in mind, we would like to explore predicting a superhero's creator using Natural Language Processing, based on each hero's own description/history_text.\n",
        "\n",
        "---"
      ],
      "metadata": {
        "id": "GDZlxk8yR66A"
      }
    },
    {
      "cell_type": "markdown",
      "source": [
        "# **Natural Language Processing**\n",
        "\n",
        "Firstly, let us create another dataframe from the original dataframe with only the history_text and creator columns."
      ],
      "metadata": {
        "id": "qpHfZMDK-qLm"
      }
    },
    {
      "cell_type": "code",
      "source": [
        "# new dataframe with only relevant columns\n",
        "historyData = heroesData[[\"history_text\", \"creator\"]]\n",
        "historyData"
      ],
      "metadata": {
        "id": "6m76Aqtz_laF",
        "colab": {
          "base_uri": "https://localhost:8080/",
          "height": 0
        },
        "outputId": "bc5700ac-08ca-4a3f-fcdb-39fc3d630175"
      },
      "execution_count": 31,
      "outputs": [
        {
          "output_type": "execute_result",
          "data": {
            "text/plain": [
              "                                           history_text        creator\n",
              "0     Delroy Garrett, Jr. grew up to become a track ...  Marvel Comics\n",
              "1     He was one of the many prisoners of Indian Hil...      DC Comics\n",
              "2      Richard \"Rick\" Jones was orphaned at a young ...  Marvel Comics\n",
              "3     Aa is one of the more passive members of the P...      DC Comics\n",
              "4     Aaron Cash is the head of security at Arkham A...      DC Comics\n",
              "...                                                 ...            ...\n",
              "1445  Zatanna is the daughter of adventurer John Zat...      DC Comics\n",
              "1446   Zero was created by the late Dr. Albert Wily ...         Capcom\n",
              "1447  Hunter Zolomon is better known as Zoom, a spee...      DC Comics\n",
              "1448   Hunter Zolomon had a troubled relationship wi...      DC Comics\n",
              "1449  Zzzax was the product of an accident that occu...  Marvel Comics\n",
              "\n",
              "[1450 rows x 2 columns]"
            ],
            "text/html": [
              "\n",
              "  <div id=\"df-e0e2b7b8-3c20-4cf3-99e1-48238bc90675\">\n",
              "    <div class=\"colab-df-container\">\n",
              "      <div>\n",
              "<style scoped>\n",
              "    .dataframe tbody tr th:only-of-type {\n",
              "        vertical-align: middle;\n",
              "    }\n",
              "\n",
              "    .dataframe tbody tr th {\n",
              "        vertical-align: top;\n",
              "    }\n",
              "\n",
              "    .dataframe thead th {\n",
              "        text-align: right;\n",
              "    }\n",
              "</style>\n",
              "<table border=\"1\" class=\"dataframe\">\n",
              "  <thead>\n",
              "    <tr style=\"text-align: right;\">\n",
              "      <th></th>\n",
              "      <th>history_text</th>\n",
              "      <th>creator</th>\n",
              "    </tr>\n",
              "  </thead>\n",
              "  <tbody>\n",
              "    <tr>\n",
              "      <th>0</th>\n",
              "      <td>Delroy Garrett, Jr. grew up to become a track ...</td>\n",
              "      <td>Marvel Comics</td>\n",
              "    </tr>\n",
              "    <tr>\n",
              "      <th>1</th>\n",
              "      <td>He was one of the many prisoners of Indian Hil...</td>\n",
              "      <td>DC Comics</td>\n",
              "    </tr>\n",
              "    <tr>\n",
              "      <th>2</th>\n",
              "      <td>Richard \"Rick\" Jones was orphaned at a young ...</td>\n",
              "      <td>Marvel Comics</td>\n",
              "    </tr>\n",
              "    <tr>\n",
              "      <th>3</th>\n",
              "      <td>Aa is one of the more passive members of the P...</td>\n",
              "      <td>DC Comics</td>\n",
              "    </tr>\n",
              "    <tr>\n",
              "      <th>4</th>\n",
              "      <td>Aaron Cash is the head of security at Arkham A...</td>\n",
              "      <td>DC Comics</td>\n",
              "    </tr>\n",
              "    <tr>\n",
              "      <th>...</th>\n",
              "      <td>...</td>\n",
              "      <td>...</td>\n",
              "    </tr>\n",
              "    <tr>\n",
              "      <th>1445</th>\n",
              "      <td>Zatanna is the daughter of adventurer John Zat...</td>\n",
              "      <td>DC Comics</td>\n",
              "    </tr>\n",
              "    <tr>\n",
              "      <th>1446</th>\n",
              "      <td>Zero was created by the late Dr. Albert Wily ...</td>\n",
              "      <td>Capcom</td>\n",
              "    </tr>\n",
              "    <tr>\n",
              "      <th>1447</th>\n",
              "      <td>Hunter Zolomon is better known as Zoom, a spee...</td>\n",
              "      <td>DC Comics</td>\n",
              "    </tr>\n",
              "    <tr>\n",
              "      <th>1448</th>\n",
              "      <td>Hunter Zolomon had a troubled relationship wi...</td>\n",
              "      <td>DC Comics</td>\n",
              "    </tr>\n",
              "    <tr>\n",
              "      <th>1449</th>\n",
              "      <td>Zzzax was the product of an accident that occu...</td>\n",
              "      <td>Marvel Comics</td>\n",
              "    </tr>\n",
              "  </tbody>\n",
              "</table>\n",
              "<p>1450 rows × 2 columns</p>\n",
              "</div>\n",
              "      <button class=\"colab-df-convert\" onclick=\"convertToInteractive('df-e0e2b7b8-3c20-4cf3-99e1-48238bc90675')\"\n",
              "              title=\"Convert this dataframe to an interactive table.\"\n",
              "              style=\"display:none;\">\n",
              "        \n",
              "  <svg xmlns=\"http://www.w3.org/2000/svg\" height=\"24px\"viewBox=\"0 0 24 24\"\n",
              "       width=\"24px\">\n",
              "    <path d=\"M0 0h24v24H0V0z\" fill=\"none\"/>\n",
              "    <path d=\"M18.56 5.44l.94 2.06.94-2.06 2.06-.94-2.06-.94-.94-2.06-.94 2.06-2.06.94zm-11 1L8.5 8.5l.94-2.06 2.06-.94-2.06-.94L8.5 2.5l-.94 2.06-2.06.94zm10 10l.94 2.06.94-2.06 2.06-.94-2.06-.94-.94-2.06-.94 2.06-2.06.94z\"/><path d=\"M17.41 7.96l-1.37-1.37c-.4-.4-.92-.59-1.43-.59-.52 0-1.04.2-1.43.59L10.3 9.45l-7.72 7.72c-.78.78-.78 2.05 0 2.83L4 21.41c.39.39.9.59 1.41.59.51 0 1.02-.2 1.41-.59l7.78-7.78 2.81-2.81c.8-.78.8-2.07 0-2.86zM5.41 20L4 18.59l7.72-7.72 1.47 1.35L5.41 20z\"/>\n",
              "  </svg>\n",
              "      </button>\n",
              "      \n",
              "  <style>\n",
              "    .colab-df-container {\n",
              "      display:flex;\n",
              "      flex-wrap:wrap;\n",
              "      gap: 12px;\n",
              "    }\n",
              "\n",
              "    .colab-df-convert {\n",
              "      background-color: #E8F0FE;\n",
              "      border: none;\n",
              "      border-radius: 50%;\n",
              "      cursor: pointer;\n",
              "      display: none;\n",
              "      fill: #1967D2;\n",
              "      height: 32px;\n",
              "      padding: 0 0 0 0;\n",
              "      width: 32px;\n",
              "    }\n",
              "\n",
              "    .colab-df-convert:hover {\n",
              "      background-color: #E2EBFA;\n",
              "      box-shadow: 0px 1px 2px rgba(60, 64, 67, 0.3), 0px 1px 3px 1px rgba(60, 64, 67, 0.15);\n",
              "      fill: #174EA6;\n",
              "    }\n",
              "\n",
              "    [theme=dark] .colab-df-convert {\n",
              "      background-color: #3B4455;\n",
              "      fill: #D2E3FC;\n",
              "    }\n",
              "\n",
              "    [theme=dark] .colab-df-convert:hover {\n",
              "      background-color: #434B5C;\n",
              "      box-shadow: 0px 1px 3px 1px rgba(0, 0, 0, 0.15);\n",
              "      filter: drop-shadow(0px 1px 2px rgba(0, 0, 0, 0.3));\n",
              "      fill: #FFFFFF;\n",
              "    }\n",
              "  </style>\n",
              "\n",
              "      <script>\n",
              "        const buttonEl =\n",
              "          document.querySelector('#df-e0e2b7b8-3c20-4cf3-99e1-48238bc90675 button.colab-df-convert');\n",
              "        buttonEl.style.display =\n",
              "          google.colab.kernel.accessAllowed ? 'block' : 'none';\n",
              "\n",
              "        async function convertToInteractive(key) {\n",
              "          const element = document.querySelector('#df-e0e2b7b8-3c20-4cf3-99e1-48238bc90675');\n",
              "          const dataTable =\n",
              "            await google.colab.kernel.invokeFunction('convertToInteractive',\n",
              "                                                     [key], {});\n",
              "          if (!dataTable) return;\n",
              "\n",
              "          const docLinkHtml = 'Like what you see? Visit the ' +\n",
              "            '<a target=\"_blank\" href=https://colab.research.google.com/notebooks/data_table.ipynb>data table notebook</a>'\n",
              "            + ' to learn more about interactive tables.';\n",
              "          element.innerHTML = '';\n",
              "          dataTable['output_type'] = 'display_data';\n",
              "          await google.colab.output.renderOutput(dataTable, element);\n",
              "          const docLink = document.createElement('div');\n",
              "          docLink.innerHTML = docLinkHtml;\n",
              "          element.appendChild(docLink);\n",
              "        }\n",
              "      </script>\n",
              "    </div>\n",
              "  </div>\n",
              "  "
            ]
          },
          "metadata": {},
          "execution_count": 31
        }
      ]
    },
    {
      "cell_type": "code",
      "source": [
        "historyData.info()"
      ],
      "metadata": {
        "id": "xkp7bcS0AdsW",
        "colab": {
          "base_uri": "https://localhost:8080/"
        },
        "outputId": "c2b02a7b-2fe8-46ba-bc55-83cc3f73e3d9"
      },
      "execution_count": 32,
      "outputs": [
        {
          "output_type": "stream",
          "name": "stdout",
          "text": [
            "<class 'pandas.core.frame.DataFrame'>\n",
            "RangeIndex: 1450 entries, 0 to 1449\n",
            "Data columns (total 2 columns):\n",
            " #   Column        Non-Null Count  Dtype \n",
            "---  ------        --------------  ----- \n",
            " 0   history_text  1360 non-null   object\n",
            " 1   creator       1311 non-null   object\n",
            "dtypes: object(2)\n",
            "memory usage: 22.8+ KB\n"
          ]
        }
      ]
    },
    {
      "cell_type": "markdown",
      "source": [
        "As before, we need to clean the dataset by removing NaN values, as well as any characters not created by Marvel Comics or DC Comics."
      ],
      "metadata": {
        "id": "Y31C7n1cAmkN"
      }
    },
    {
      "cell_type": "code",
      "source": [
        "# set non-Marvel/DC creators to NaN\n",
        "historyData.loc[((historyData['creator'] != \"Marvel Comics\") & (historyData['creator'] != \"DC Comics\")),'creator'] = np.NaN\n",
        "\n",
        "# remove all NaN values\n",
        "historyData = historyData.dropna()\n",
        "historyData"
      ],
      "metadata": {
        "id": "O96vnctrNHN7",
        "colab": {
          "base_uri": "https://localhost:8080/",
          "height": 0
        },
        "outputId": "10269fb7-ea65-4038-8339-9263083aac54"
      },
      "execution_count": 33,
      "outputs": [
        {
          "output_type": "stream",
          "name": "stderr",
          "text": [
            "/usr/local/lib/python3.7/dist-packages/pandas/core/indexing.py:1732: SettingWithCopyWarning: \n",
            "A value is trying to be set on a copy of a slice from a DataFrame\n",
            "\n",
            "See the caveats in the documentation: https://pandas.pydata.org/pandas-docs/stable/user_guide/indexing.html#returning-a-view-versus-a-copy\n",
            "  self._setitem_single_block(indexer, value, name)\n",
            "/usr/local/lib/python3.7/dist-packages/pandas/core/indexing.py:723: SettingWithCopyWarning: \n",
            "A value is trying to be set on a copy of a slice from a DataFrame\n",
            "\n",
            "See the caveats in the documentation: https://pandas.pydata.org/pandas-docs/stable/user_guide/indexing.html#returning-a-view-versus-a-copy\n",
            "  iloc._setitem_with_indexer(indexer, value, self.name)\n"
          ]
        },
        {
          "output_type": "execute_result",
          "data": {
            "text/plain": [
              "                                           history_text        creator\n",
              "0     Delroy Garrett, Jr. grew up to become a track ...  Marvel Comics\n",
              "1     He was one of the many prisoners of Indian Hil...      DC Comics\n",
              "2      Richard \"Rick\" Jones was orphaned at a young ...  Marvel Comics\n",
              "3     Aa is one of the more passive members of the P...      DC Comics\n",
              "4     Aaron Cash is the head of security at Arkham A...      DC Comics\n",
              "...                                                 ...            ...\n",
              "1443  Little is known about the early life of the ad...  Marvel Comics\n",
              "1445  Zatanna is the daughter of adventurer John Zat...      DC Comics\n",
              "1447  Hunter Zolomon is better known as Zoom, a spee...      DC Comics\n",
              "1448   Hunter Zolomon had a troubled relationship wi...      DC Comics\n",
              "1449  Zzzax was the product of an accident that occu...  Marvel Comics\n",
              "\n",
              "[997 rows x 2 columns]"
            ],
            "text/html": [
              "\n",
              "  <div id=\"df-1dd2f618-51bf-4c63-ae3a-1aead87aede5\">\n",
              "    <div class=\"colab-df-container\">\n",
              "      <div>\n",
              "<style scoped>\n",
              "    .dataframe tbody tr th:only-of-type {\n",
              "        vertical-align: middle;\n",
              "    }\n",
              "\n",
              "    .dataframe tbody tr th {\n",
              "        vertical-align: top;\n",
              "    }\n",
              "\n",
              "    .dataframe thead th {\n",
              "        text-align: right;\n",
              "    }\n",
              "</style>\n",
              "<table border=\"1\" class=\"dataframe\">\n",
              "  <thead>\n",
              "    <tr style=\"text-align: right;\">\n",
              "      <th></th>\n",
              "      <th>history_text</th>\n",
              "      <th>creator</th>\n",
              "    </tr>\n",
              "  </thead>\n",
              "  <tbody>\n",
              "    <tr>\n",
              "      <th>0</th>\n",
              "      <td>Delroy Garrett, Jr. grew up to become a track ...</td>\n",
              "      <td>Marvel Comics</td>\n",
              "    </tr>\n",
              "    <tr>\n",
              "      <th>1</th>\n",
              "      <td>He was one of the many prisoners of Indian Hil...</td>\n",
              "      <td>DC Comics</td>\n",
              "    </tr>\n",
              "    <tr>\n",
              "      <th>2</th>\n",
              "      <td>Richard \"Rick\" Jones was orphaned at a young ...</td>\n",
              "      <td>Marvel Comics</td>\n",
              "    </tr>\n",
              "    <tr>\n",
              "      <th>3</th>\n",
              "      <td>Aa is one of the more passive members of the P...</td>\n",
              "      <td>DC Comics</td>\n",
              "    </tr>\n",
              "    <tr>\n",
              "      <th>4</th>\n",
              "      <td>Aaron Cash is the head of security at Arkham A...</td>\n",
              "      <td>DC Comics</td>\n",
              "    </tr>\n",
              "    <tr>\n",
              "      <th>...</th>\n",
              "      <td>...</td>\n",
              "      <td>...</td>\n",
              "    </tr>\n",
              "    <tr>\n",
              "      <th>1443</th>\n",
              "      <td>Little is known about the early life of the ad...</td>\n",
              "      <td>Marvel Comics</td>\n",
              "    </tr>\n",
              "    <tr>\n",
              "      <th>1445</th>\n",
              "      <td>Zatanna is the daughter of adventurer John Zat...</td>\n",
              "      <td>DC Comics</td>\n",
              "    </tr>\n",
              "    <tr>\n",
              "      <th>1447</th>\n",
              "      <td>Hunter Zolomon is better known as Zoom, a spee...</td>\n",
              "      <td>DC Comics</td>\n",
              "    </tr>\n",
              "    <tr>\n",
              "      <th>1448</th>\n",
              "      <td>Hunter Zolomon had a troubled relationship wi...</td>\n",
              "      <td>DC Comics</td>\n",
              "    </tr>\n",
              "    <tr>\n",
              "      <th>1449</th>\n",
              "      <td>Zzzax was the product of an accident that occu...</td>\n",
              "      <td>Marvel Comics</td>\n",
              "    </tr>\n",
              "  </tbody>\n",
              "</table>\n",
              "<p>997 rows × 2 columns</p>\n",
              "</div>\n",
              "      <button class=\"colab-df-convert\" onclick=\"convertToInteractive('df-1dd2f618-51bf-4c63-ae3a-1aead87aede5')\"\n",
              "              title=\"Convert this dataframe to an interactive table.\"\n",
              "              style=\"display:none;\">\n",
              "        \n",
              "  <svg xmlns=\"http://www.w3.org/2000/svg\" height=\"24px\"viewBox=\"0 0 24 24\"\n",
              "       width=\"24px\">\n",
              "    <path d=\"M0 0h24v24H0V0z\" fill=\"none\"/>\n",
              "    <path d=\"M18.56 5.44l.94 2.06.94-2.06 2.06-.94-2.06-.94-.94-2.06-.94 2.06-2.06.94zm-11 1L8.5 8.5l.94-2.06 2.06-.94-2.06-.94L8.5 2.5l-.94 2.06-2.06.94zm10 10l.94 2.06.94-2.06 2.06-.94-2.06-.94-.94-2.06-.94 2.06-2.06.94z\"/><path d=\"M17.41 7.96l-1.37-1.37c-.4-.4-.92-.59-1.43-.59-.52 0-1.04.2-1.43.59L10.3 9.45l-7.72 7.72c-.78.78-.78 2.05 0 2.83L4 21.41c.39.39.9.59 1.41.59.51 0 1.02-.2 1.41-.59l7.78-7.78 2.81-2.81c.8-.78.8-2.07 0-2.86zM5.41 20L4 18.59l7.72-7.72 1.47 1.35L5.41 20z\"/>\n",
              "  </svg>\n",
              "      </button>\n",
              "      \n",
              "  <style>\n",
              "    .colab-df-container {\n",
              "      display:flex;\n",
              "      flex-wrap:wrap;\n",
              "      gap: 12px;\n",
              "    }\n",
              "\n",
              "    .colab-df-convert {\n",
              "      background-color: #E8F0FE;\n",
              "      border: none;\n",
              "      border-radius: 50%;\n",
              "      cursor: pointer;\n",
              "      display: none;\n",
              "      fill: #1967D2;\n",
              "      height: 32px;\n",
              "      padding: 0 0 0 0;\n",
              "      width: 32px;\n",
              "    }\n",
              "\n",
              "    .colab-df-convert:hover {\n",
              "      background-color: #E2EBFA;\n",
              "      box-shadow: 0px 1px 2px rgba(60, 64, 67, 0.3), 0px 1px 3px 1px rgba(60, 64, 67, 0.15);\n",
              "      fill: #174EA6;\n",
              "    }\n",
              "\n",
              "    [theme=dark] .colab-df-convert {\n",
              "      background-color: #3B4455;\n",
              "      fill: #D2E3FC;\n",
              "    }\n",
              "\n",
              "    [theme=dark] .colab-df-convert:hover {\n",
              "      background-color: #434B5C;\n",
              "      box-shadow: 0px 1px 3px 1px rgba(0, 0, 0, 0.15);\n",
              "      filter: drop-shadow(0px 1px 2px rgba(0, 0, 0, 0.3));\n",
              "      fill: #FFFFFF;\n",
              "    }\n",
              "  </style>\n",
              "\n",
              "      <script>\n",
              "        const buttonEl =\n",
              "          document.querySelector('#df-1dd2f618-51bf-4c63-ae3a-1aead87aede5 button.colab-df-convert');\n",
              "        buttonEl.style.display =\n",
              "          google.colab.kernel.accessAllowed ? 'block' : 'none';\n",
              "\n",
              "        async function convertToInteractive(key) {\n",
              "          const element = document.querySelector('#df-1dd2f618-51bf-4c63-ae3a-1aead87aede5');\n",
              "          const dataTable =\n",
              "            await google.colab.kernel.invokeFunction('convertToInteractive',\n",
              "                                                     [key], {});\n",
              "          if (!dataTable) return;\n",
              "\n",
              "          const docLinkHtml = 'Like what you see? Visit the ' +\n",
              "            '<a target=\"_blank\" href=https://colab.research.google.com/notebooks/data_table.ipynb>data table notebook</a>'\n",
              "            + ' to learn more about interactive tables.';\n",
              "          element.innerHTML = '';\n",
              "          dataTable['output_type'] = 'display_data';\n",
              "          await google.colab.output.renderOutput(dataTable, element);\n",
              "          const docLink = document.createElement('div');\n",
              "          docLink.innerHTML = docLinkHtml;\n",
              "          element.appendChild(docLink);\n",
              "        }\n",
              "      </script>\n",
              "    </div>\n",
              "  </div>\n",
              "  "
            ]
          },
          "metadata": {},
          "execution_count": 33
        }
      ]
    },
    {
      "cell_type": "markdown",
      "source": [
        "After dropping rows with NaN Values, there are now 997 remaining rows of superheroes with valid history_text and creator."
      ],
      "metadata": {
        "id": "G95N9oH6BDOK"
      }
    },
    {
      "cell_type": "markdown",
      "source": [
        "Next, we will create a word cloud of all the words present in history_text for Marvel characters and DC characters separately. This will help us to see which words are more commonly used by either creator."
      ],
      "metadata": {
        "id": "eYpAlrgfBSPC"
      }
    },
    {
      "cell_type": "code",
      "source": [
        "# concatenate all words in history_text into Cloud_Marvel and Cloud_DC\n",
        "Cloud_Marvel = historyData['history_text'].loc[(historyData.creator == 'Marvel Comics')]\n",
        "Cloud_Marvel = Cloud_Marvel.sum()\n",
        "Cloud_DC = historyData['history_text'].loc[(historyData.creator == 'DC Comics')]\n",
        "Cloud_DC = Cloud_DC.sum()"
      ],
      "metadata": {
        "id": "Csl6onVEHOkb"
      },
      "execution_count": 34,
      "outputs": []
    },
    {
      "cell_type": "code",
      "source": [
        "from wordcloud import WordCloud\n",
        "\n",
        "# display Marvel WordCloud\n",
        "wordcloud = WordCloud(max_font_size=300,background_color=\"black\").generate(Cloud_Marvel)\n",
        "plt.figure()\n",
        "plt.imshow(wordcloud, interpolation=\"bilinear\")\n",
        "plt.axis(\"off\")\n",
        "plt.show()"
      ],
      "metadata": {
        "id": "kA9d7aOsHVbb",
        "colab": {
          "base_uri": "https://localhost:8080/",
          "height": 0
        },
        "outputId": "f3945ade-0fc3-46cd-dac0-d13f274c6faa"
      },
      "execution_count": 35,
      "outputs": [
        {
          "output_type": "display_data",
          "data": {
            "text/plain": [
              "<Figure size 432x288 with 1 Axes>"
            ],
            "image/png": "[encoded data removed]"
          },
          "metadata": {}
        }
      ]
    },
    {
      "cell_type": "code",
      "source": [
        "# get word count from cloud\n",
        "wordcount = wordcloud.process_text(Cloud_Marvel)\n",
        "\n",
        "# view 10 words with highest count\n",
        "top10 = sorted(wordcount, key=wordcount.get, reverse=True)[:10]\n",
        "\n",
        "for item in wordcount:\n",
        "  if item in top10:\n",
        "    print(item, wordcount[item])"
      ],
      "metadata": {
        "colab": {
          "base_uri": "https://localhost:8080/"
        },
        "id": "2h16cu4mySlc",
        "outputId": "3460ba5c-7739-4271-d614-572b01e63739"
      },
      "execution_count": 36,
      "outputs": [
        {
          "output_type": "stream",
          "name": "stdout",
          "text": [
            "one 784\n",
            "time 871\n",
            "later 869\n",
            "Earth 601\n",
            "new 713\n",
            "power 996\n",
            "team 712\n",
            "mutant 752\n",
            "Men 1066\n",
            "Spider Man 595\n"
          ]
        }
      ]
    },
    {
      "cell_type": "code",
      "source": [
        "# display DC WordCloud\n",
        "wordcloud = WordCloud(max_font_size=300,background_color=\"black\").generate(Cloud_DC)\n",
        "plt.figure()\n",
        "plt.imshow(wordcloud, interpolation=\"bilinear\")\n",
        "plt.axis(\"off\")\n",
        "plt.show()"
      ],
      "metadata": {
        "id": "EmlK6R4VHfCn",
        "colab": {
          "base_uri": "https://localhost:8080/",
          "height": 0
        },
        "outputId": "1e4ad035-32a4-4cf4-ec12-d784ed26f862"
      },
      "execution_count": 37,
      "outputs": [
        {
          "output_type": "display_data",
          "data": {
            "text/plain": [
              "<Figure size 432x288 with 1 Axes>"
            ],
            "image/png": "[encoded data removed]"
          },
          "metadata": {}
        }
      ]
    },
    {
      "cell_type": "code",
      "source": [
        "# get word count from cloud\n",
        "wordcount = wordcloud.process_text(Cloud_DC)\n",
        "\n",
        "# view 10 words with highest count\n",
        "top10 = sorted(wordcount, key=wordcount.get, reverse=True)[:10]\n",
        "\n",
        "# top10\n",
        "\n",
        "# for item in wordcount:\n",
        "#   if item in top10:\n",
        "#     print(item, wordcount[item])"
      ],
      "metadata": {
        "id": "_28LebL41EWP"
      },
      "execution_count": 38,
      "outputs": []
    },
    {
      "cell_type": "markdown",
      "source": [
        "It is easy to see that words like \"mutant\" and \"avenger\" are only widely used in the Marvel word cloud, while \"Batman\" and \"Superman\" are widely used in the DC word cloud. \"Men\" is also much more widely used in Marvel history_text, although it is likely that it is also used by DC since it is a neutral word that does not have much relation to the Marvel universe.\n",
        "\n",
        "With this in mind, given any history_text data, we can analyse the individual words to see if there is any indication of its likely corresponding creator. To do this, we will need to split the dataset into two again, to train and test."
      ],
      "metadata": {
        "id": "NFvUkXjxGwus"
      }
    },
    {
      "cell_type": "code",
      "source": [
        "# randomly split historyData into train and test dataframes with 80:20 ratio\n",
        "train, test = train_test_split(historyData, test_size = 0.20)\n",
        "\n",
        "print(\"Train Set:\", train.shape)\n",
        "print(\"Test Set :\", test.shape)"
      ],
      "metadata": {
        "id": "UVvio4_iIxVk",
        "colab": {
          "base_uri": "https://localhost:8080/"
        },
        "outputId": "678c61c4-0ebb-49cf-cb4f-e5fcaca842e9"
      },
      "execution_count": 39,
      "outputs": [
        {
          "output_type": "stream",
          "name": "stdout",
          "text": [
            "Train Set: (797, 2)\n",
            "Test Set : (200, 2)\n"
          ]
        }
      ]
    },
    {
      "cell_type": "markdown",
      "source": [
        "Before we carry on, we will need to declare a function for use later. This will remove any non-text ASCII characters and punctuation and lower the text so that we can analyse the text more accurately and smoothly."
      ],
      "metadata": {
        "id": "NG25ALaVJTy9"
      }
    },
    {
      "cell_type": "code",
      "source": [
        "import re\n",
        "\n",
        "def clean_text(text):\n",
        "    \n",
        "    # Applies some pre-processing on the given text:\n",
        "    # - Removing non-text characters and punctuation\n",
        "    # - Lowering text\n",
        "    \n",
        "    # remove the characters [\\], ['] and [\"]\n",
        "    text = re.sub(r\"\\\\\", \"\", text)   \n",
        "    text = re.sub(r\"\\'\", \"\", text)   \n",
        "    text = re.sub(r\"\\\"\", \"\", text)    \n",
        "                  \n",
        "    # replace punctuation characters with spaces\n",
        "    filters='!\"\\'#$%&()*+,-./:;<=>?@[\\\\]^_`{|}~\\t\\n'\n",
        "    translate_dict = dict((c, \" \") for c in filters)\n",
        "    translate_map = str.maketrans(translate_dict)\n",
        "    text = text.translate(translate_map) \n",
        "                           \n",
        "    # convert text to lowercase\n",
        "    text = text.strip().lower()\n",
        "\n",
        "    return text"
      ],
      "metadata": {
        "id": "e6w3ZclrnMRw"
      },
      "execution_count": 40,
      "outputs": []
    },
    {
      "cell_type": "markdown",
      "source": [
        "Next, we will transform each history_text into vectors of word counts, using the function defined above to clean the text. We will also ignore any stop words, which are the most common words like \"the\" and \"a\", because they will not improve our analysis.\n",
        "\n",
        "We will then fit our training data with a LinearSVC model, and use that to predict the creators."
      ],
      "metadata": {
        "id": "In86P3ruMaFj"
      }
    },
    {
      "cell_type": "code",
      "source": [
        "\n",
        "from sklearn.feature_extraction.text import CountVectorizer\n",
        "\n",
        "# Transform each text into a vector of word counts\n",
        "# Ignores stop words and uses above function to clean the text\n",
        "vectorizer = CountVectorizer(stop_words=\"english\", preprocessor=clean_text)\n",
        "\n",
        "# transform vectors into matrices of the text vocabulary\n",
        "training_features = vectorizer.fit_transform(train[\"history_text\"])    \n",
        "test_features = vectorizer.transform(test[\"history_text\"])\n"
      ],
      "metadata": {
        "id": "sw165k30tgV5"
      },
      "execution_count": 41,
      "outputs": []
    },
    {
      "cell_type": "code",
      "source": [
        "\n",
        "from sklearn.svm import LinearSVC\n",
        "\n",
        "# Training using LinearSVC model\n",
        "model = LinearSVC()\n",
        "model.fit(training_features, train[\"creator\"])\n",
        "\n",
        "# Predict with model on test dataset\n",
        "y_pred = model.predict(test_features)\n"
      ],
      "metadata": {
        "id": "wEbKe8iDO-Sv"
      },
      "execution_count": 42,
      "outputs": []
    },
    {
      "cell_type": "code",
      "source": [
        "from sklearn.metrics import accuracy_score\n",
        "\n",
        "# Calculate accuracy score comparing actual creator and predicted creator\n",
        "acc = accuracy_score(test[\"creator\"], y_pred)\n",
        "\n",
        "print(\"Accuracy of creator prediction: {:.2f}\".format(acc*100))"
      ],
      "metadata": {
        "id": "dEJGGEkWPHxk",
        "colab": {
          "base_uri": "https://localhost:8080/"
        },
        "outputId": "b9cc16d3-98bb-4803-fea2-35cd92ad5baa"
      },
      "execution_count": 43,
      "outputs": [
        {
          "output_type": "stream",
          "name": "stdout",
          "text": [
            "Accuracy of creator prediction: 90.00\n"
          ]
        }
      ]
    },
    {
      "cell_type": "code",
      "source": [
        "# Calculation of TPR and FPR\n",
        "TNtest, FPtest, FNtest, TPtest = confusion_matrix(test[\"creator\"], y_pred).ravel()\n",
        "\n",
        "TPRtest = TPtest/(TPtest+FNtest)\n",
        "FPRtest = FPtest/(FPtest+TNtest)\n",
        "\n",
        "print(\"Test set: True Positive Rate \\t:\", TPRtest)\n",
        "print(\"Test set: False Positive Rate \\t:\", FPRtest)"
      ],
      "metadata": {
        "colab": {
          "base_uri": "https://localhost:8080/"
        },
        "id": "_82fjtFFwzoP",
        "outputId": "3a4b7f04-fba2-4418-af07-36092bdd1b90"
      },
      "execution_count": 44,
      "outputs": [
        {
          "output_type": "stream",
          "name": "stdout",
          "text": [
            "Test set: True Positive Rate \t: 0.9107142857142857\n",
            "Test set: False Positive Rate \t: 0.11363636363636363\n"
          ]
        }
      ]
    },
    {
      "cell_type": "markdown",
      "source": [
        "As we can see, this model predicts the correct creator a high percentage of the time. This is a big improvement from the initial predictions we have made with the numerical data.\n",
        "\n",
        "Again, to compare with the initial prediction relying on numerical data, let us attempt to predict the creators of the same characters (Deadpool, Harley Quinn, Hulk). We will use the heroes_pred dataframe from before for this.\n",
        "\n",
        "Recall that Deadpool and Hulk are created by Marvel Comics, and Harley Quinn is created by DC Comics.\n"
      ],
      "metadata": {
        "id": "soLjn_yYGVNn"
      }
    },
    {
      "cell_type": "code",
      "source": [
        "# test on same characters as before: Deadpool, Harley Quinn, Hulk\n",
        "test_features = vectorizer.transform(heroes_pred[\"history_text\"])\n",
        "y_pred = model.predict(test_features)\n",
        "\n",
        "y_pred"
      ],
      "metadata": {
        "id": "YBVvr9vbGHcb",
        "colab": {
          "base_uri": "https://localhost:8080/"
        },
        "outputId": "422eb04e-1c0a-4574-b107-20508d6fa17f"
      },
      "execution_count": 45,
      "outputs": [
        {
          "output_type": "execute_result",
          "data": {
            "text/plain": [
              "array(['Marvel Comics', 'DC Comics', 'Marvel Comics'], dtype=object)"
            ]
          },
          "metadata": {},
          "execution_count": 45
        }
      ]
    },
    {
      "cell_type": "code",
      "source": [
        "# Compare actual creators with predictions\n",
        "y_pred = pd.DataFrame(y_pred, columns = [\"Predcreator\"], index = heroes_pred.index)\n",
        "heroes_acc = pd.concat([heroes_pred[[\"name\", \"creator\"]], y_pred], axis = 1)\n",
        "\n",
        "heroes_acc"
      ],
      "metadata": {
        "id": "XvWW0EYTGu-B",
        "colab": {
          "base_uri": "https://localhost:8080/",
          "height": 0
        },
        "outputId": "0e8de2cd-fad7-42d5-e5fd-0eebcb159694"
      },
      "execution_count": 46,
      "outputs": [
        {
          "output_type": "execute_result",
          "data": {
            "text/plain": [
              "             name        creator    Predcreator\n",
              "370      Deadpool  Marvel Comics  Marvel Comics\n",
              "566  Harley Quinn      DC Comics      DC Comics\n",
              "616          Hulk  Marvel Comics  Marvel Comics"
            ],
            "text/html": [
              "\n",
              "  <div id=\"df-6b1d4dfd-5dd0-4ea5-9b2c-8a05f9fcb165\">\n",
              "    <div class=\"colab-df-container\">\n",
              "      <div>\n",
              "<style scoped>\n",
              "    .dataframe tbody tr th:only-of-type {\n",
              "        vertical-align: middle;\n",
              "    }\n",
              "\n",
              "    .dataframe tbody tr th {\n",
              "        vertical-align: top;\n",
              "    }\n",
              "\n",
              "    .dataframe thead th {\n",
              "        text-align: right;\n",
              "    }\n",
              "</style>\n",
              "<table border=\"1\" class=\"dataframe\">\n",
              "  <thead>\n",
              "    <tr style=\"text-align: right;\">\n",
              "      <th></th>\n",
              "      <th>name</th>\n",
              "      <th>creator</th>\n",
              "      <th>Predcreator</th>\n",
              "    </tr>\n",
              "  </thead>\n",
              "  <tbody>\n",
              "    <tr>\n",
              "      <th>370</th>\n",
              "      <td>Deadpool</td>\n",
              "      <td>Marvel Comics</td>\n",
              "      <td>Marvel Comics</td>\n",
              "    </tr>\n",
              "    <tr>\n",
              "      <th>566</th>\n",
              "      <td>Harley Quinn</td>\n",
              "      <td>DC Comics</td>\n",
              "      <td>DC Comics</td>\n",
              "    </tr>\n",
              "    <tr>\n",
              "      <th>616</th>\n",
              "      <td>Hulk</td>\n",
              "      <td>Marvel Comics</td>\n",
              "      <td>Marvel Comics</td>\n",
              "    </tr>\n",
              "  </tbody>\n",
              "</table>\n",
              "</div>\n",
              "      <button class=\"colab-df-convert\" onclick=\"convertToInteractive('df-6b1d4dfd-5dd0-4ea5-9b2c-8a05f9fcb165')\"\n",
              "              title=\"Convert this dataframe to an interactive table.\"\n",
              "              style=\"display:none;\">\n",
              "        \n",
              "  <svg xmlns=\"http://www.w3.org/2000/svg\" height=\"24px\"viewBox=\"0 0 24 24\"\n",
              "       width=\"24px\">\n",
              "    <path d=\"M0 0h24v24H0V0z\" fill=\"none\"/>\n",
              "    <path d=\"M18.56 5.44l.94 2.06.94-2.06 2.06-.94-2.06-.94-.94-2.06-.94 2.06-2.06.94zm-11 1L8.5 8.5l.94-2.06 2.06-.94-2.06-.94L8.5 2.5l-.94 2.06-2.06.94zm10 10l.94 2.06.94-2.06 2.06-.94-2.06-.94-.94-2.06-.94 2.06-2.06.94z\"/><path d=\"M17.41 7.96l-1.37-1.37c-.4-.4-.92-.59-1.43-.59-.52 0-1.04.2-1.43.59L10.3 9.45l-7.72 7.72c-.78.78-.78 2.05 0 2.83L4 21.41c.39.39.9.59 1.41.59.51 0 1.02-.2 1.41-.59l7.78-7.78 2.81-2.81c.8-.78.8-2.07 0-2.86zM5.41 20L4 18.59l7.72-7.72 1.47 1.35L5.41 20z\"/>\n",
              "  </svg>\n",
              "      </button>\n",
              "      \n",
              "  <style>\n",
              "    .colab-df-container {\n",
              "      display:flex;\n",
              "      flex-wrap:wrap;\n",
              "      gap: 12px;\n",
              "    }\n",
              "\n",
              "    .colab-df-convert {\n",
              "      background-color: #E8F0FE;\n",
              "      border: none;\n",
              "      border-radius: 50%;\n",
              "      cursor: pointer;\n",
              "      display: none;\n",
              "      fill: #1967D2;\n",
              "      height: 32px;\n",
              "      padding: 0 0 0 0;\n",
              "      width: 32px;\n",
              "    }\n",
              "\n",
              "    .colab-df-convert:hover {\n",
              "      background-color: #E2EBFA;\n",
              "      box-shadow: 0px 1px 2px rgba(60, 64, 67, 0.3), 0px 1px 3px 1px rgba(60, 64, 67, 0.15);\n",
              "      fill: #174EA6;\n",
              "    }\n",
              "\n",
              "    [theme=dark] .colab-df-convert {\n",
              "      background-color: #3B4455;\n",
              "      fill: #D2E3FC;\n",
              "    }\n",
              "\n",
              "    [theme=dark] .colab-df-convert:hover {\n",
              "      background-color: #434B5C;\n",
              "      box-shadow: 0px 1px 3px 1px rgba(0, 0, 0, 0.15);\n",
              "      filter: drop-shadow(0px 1px 2px rgba(0, 0, 0, 0.3));\n",
              "      fill: #FFFFFF;\n",
              "    }\n",
              "  </style>\n",
              "\n",
              "      <script>\n",
              "        const buttonEl =\n",
              "          document.querySelector('#df-6b1d4dfd-5dd0-4ea5-9b2c-8a05f9fcb165 button.colab-df-convert');\n",
              "        buttonEl.style.display =\n",
              "          google.colab.kernel.accessAllowed ? 'block' : 'none';\n",
              "\n",
              "        async function convertToInteractive(key) {\n",
              "          const element = document.querySelector('#df-6b1d4dfd-5dd0-4ea5-9b2c-8a05f9fcb165');\n",
              "          const dataTable =\n",
              "            await google.colab.kernel.invokeFunction('convertToInteractive',\n",
              "                                                     [key], {});\n",
              "          if (!dataTable) return;\n",
              "\n",
              "          const docLinkHtml = 'Like what you see? Visit the ' +\n",
              "            '<a target=\"_blank\" href=https://colab.research.google.com/notebooks/data_table.ipynb>data table notebook</a>'\n",
              "            + ' to learn more about interactive tables.';\n",
              "          element.innerHTML = '';\n",
              "          dataTable['output_type'] = 'display_data';\n",
              "          await google.colab.output.renderOutput(dataTable, element);\n",
              "          const docLink = document.createElement('div');\n",
              "          docLink.innerHTML = docLinkHtml;\n",
              "          element.appendChild(docLink);\n",
              "        }\n",
              "      </script>\n",
              "    </div>\n",
              "  </div>\n",
              "  "
            ]
          },
          "metadata": {},
          "execution_count": 46
        }
      ]
    },
    {
      "cell_type": "code",
      "source": [
        "from sklearn.calibration import CalibratedClassifierCV\n",
        "\n",
        "# Predict Probabilities corresponding to Predictors\n",
        "clf = CalibratedClassifierCV(model) \n",
        "clf.fit(training_features, train[\"creator\"])\n",
        "y_prob = clf.predict_proba(test_features)\n",
        "\n",
        "y_prob"
      ],
      "metadata": {
        "id": "EneQyurYIjDl",
        "colab": {
          "base_uri": "https://localhost:8080/"
        },
        "outputId": "581bcb93-2ee4-45bf-9260-2771ece430e3"
      },
      "execution_count": 47,
      "outputs": [
        {
          "output_type": "execute_result",
          "data": {
            "text/plain": [
              "array([[5.47180990e-06, 9.99994528e-01],\n",
              "       [5.90899301e-01, 4.09100699e-01],\n",
              "       [6.34227997e-05, 9.99936577e-01]])"
            ]
          },
          "metadata": {},
          "execution_count": 47
        }
      ]
    },
    {
      "cell_type": "code",
      "source": [
        "# Summarize the Probabilities with the Predictions\n",
        "# marvel_prob is probability that character is created by Marvel Comics\n",
        "y_prob = pd.DataFrame(list(y_prob[:,1]), columns = [\"marvel_prob\"], index = heroes_pred.index)\n",
        "heroes_pred_prob = pd.concat([heroes_acc, y_prob], axis = 1)\n",
        "\n",
        "heroes_pred_prob"
      ],
      "metadata": {
        "id": "HA2VaX4sMf2P",
        "colab": {
          "base_uri": "https://localhost:8080/",
          "height": 0
        },
        "outputId": "be275acf-59f5-424f-b9f9-44675f87bc55"
      },
      "execution_count": 48,
      "outputs": [
        {
          "output_type": "execute_result",
          "data": {
            "text/plain": [
              "             name        creator    Predcreator  marvel_prob\n",
              "370      Deadpool  Marvel Comics  Marvel Comics     0.999995\n",
              "566  Harley Quinn      DC Comics      DC Comics     0.409101\n",
              "616          Hulk  Marvel Comics  Marvel Comics     0.999937"
            ],
            "text/html": [
              "\n",
              "  <div id=\"df-2105888f-ea60-4a36-9b11-0727eb102a73\">\n",
              "    <div class=\"colab-df-container\">\n",
              "      <div>\n",
              "<style scoped>\n",
              "    .dataframe tbody tr th:only-of-type {\n",
              "        vertical-align: middle;\n",
              "    }\n",
              "\n",
              "    .dataframe tbody tr th {\n",
              "        vertical-align: top;\n",
              "    }\n",
              "\n",
              "    .dataframe thead th {\n",
              "        text-align: right;\n",
              "    }\n",
              "</style>\n",
              "<table border=\"1\" class=\"dataframe\">\n",
              "  <thead>\n",
              "    <tr style=\"text-align: right;\">\n",
              "      <th></th>\n",
              "      <th>name</th>\n",
              "      <th>creator</th>\n",
              "      <th>Predcreator</th>\n",
              "      <th>marvel_prob</th>\n",
              "    </tr>\n",
              "  </thead>\n",
              "  <tbody>\n",
              "    <tr>\n",
              "      <th>370</th>\n",
              "      <td>Deadpool</td>\n",
              "      <td>Marvel Comics</td>\n",
              "      <td>Marvel Comics</td>\n",
              "      <td>0.999995</td>\n",
              "    </tr>\n",
              "    <tr>\n",
              "      <th>566</th>\n",
              "      <td>Harley Quinn</td>\n",
              "      <td>DC Comics</td>\n",
              "      <td>DC Comics</td>\n",
              "      <td>0.409101</td>\n",
              "    </tr>\n",
              "    <tr>\n",
              "      <th>616</th>\n",
              "      <td>Hulk</td>\n",
              "      <td>Marvel Comics</td>\n",
              "      <td>Marvel Comics</td>\n",
              "      <td>0.999937</td>\n",
              "    </tr>\n",
              "  </tbody>\n",
              "</table>\n",
              "</div>\n",
              "      <button class=\"colab-df-convert\" onclick=\"convertToInteractive('df-2105888f-ea60-4a36-9b11-0727eb102a73')\"\n",
              "              title=\"Convert this dataframe to an interactive table.\"\n",
              "              style=\"display:none;\">\n",
              "        \n",
              "  <svg xmlns=\"http://www.w3.org/2000/svg\" height=\"24px\"viewBox=\"0 0 24 24\"\n",
              "       width=\"24px\">\n",
              "    <path d=\"M0 0h24v24H0V0z\" fill=\"none\"/>\n",
              "    <path d=\"M18.56 5.44l.94 2.06.94-2.06 2.06-.94-2.06-.94-.94-2.06-.94 2.06-2.06.94zm-11 1L8.5 8.5l.94-2.06 2.06-.94-2.06-.94L8.5 2.5l-.94 2.06-2.06.94zm10 10l.94 2.06.94-2.06 2.06-.94-2.06-.94-.94-2.06-.94 2.06-2.06.94z\"/><path d=\"M17.41 7.96l-1.37-1.37c-.4-.4-.92-.59-1.43-.59-.52 0-1.04.2-1.43.59L10.3 9.45l-7.72 7.72c-.78.78-.78 2.05 0 2.83L4 21.41c.39.39.9.59 1.41.59.51 0 1.02-.2 1.41-.59l7.78-7.78 2.81-2.81c.8-.78.8-2.07 0-2.86zM5.41 20L4 18.59l7.72-7.72 1.47 1.35L5.41 20z\"/>\n",
              "  </svg>\n",
              "      </button>\n",
              "      \n",
              "  <style>\n",
              "    .colab-df-container {\n",
              "      display:flex;\n",
              "      flex-wrap:wrap;\n",
              "      gap: 12px;\n",
              "    }\n",
              "\n",
              "    .colab-df-convert {\n",
              "      background-color: #E8F0FE;\n",
              "      border: none;\n",
              "      border-radius: 50%;\n",
              "      cursor: pointer;\n",
              "      display: none;\n",
              "      fill: #1967D2;\n",
              "      height: 32px;\n",
              "      padding: 0 0 0 0;\n",
              "      width: 32px;\n",
              "    }\n",
              "\n",
              "    .colab-df-convert:hover {\n",
              "      background-color: #E2EBFA;\n",
              "      box-shadow: 0px 1px 2px rgba(60, 64, 67, 0.3), 0px 1px 3px 1px rgba(60, 64, 67, 0.15);\n",
              "      fill: #174EA6;\n",
              "    }\n",
              "\n",
              "    [theme=dark] .colab-df-convert {\n",
              "      background-color: #3B4455;\n",
              "      fill: #D2E3FC;\n",
              "    }\n",
              "\n",
              "    [theme=dark] .colab-df-convert:hover {\n",
              "      background-color: #434B5C;\n",
              "      box-shadow: 0px 1px 3px 1px rgba(0, 0, 0, 0.15);\n",
              "      filter: drop-shadow(0px 1px 2px rgba(0, 0, 0, 0.3));\n",
              "      fill: #FFFFFF;\n",
              "    }\n",
              "  </style>\n",
              "\n",
              "      <script>\n",
              "        const buttonEl =\n",
              "          document.querySelector('#df-2105888f-ea60-4a36-9b11-0727eb102a73 button.colab-df-convert');\n",
              "        buttonEl.style.display =\n",
              "          google.colab.kernel.accessAllowed ? 'block' : 'none';\n",
              "\n",
              "        async function convertToInteractive(key) {\n",
              "          const element = document.querySelector('#df-2105888f-ea60-4a36-9b11-0727eb102a73');\n",
              "          const dataTable =\n",
              "            await google.colab.kernel.invokeFunction('convertToInteractive',\n",
              "                                                     [key], {});\n",
              "          if (!dataTable) return;\n",
              "\n",
              "          const docLinkHtml = 'Like what you see? Visit the ' +\n",
              "            '<a target=\"_blank\" href=https://colab.research.google.com/notebooks/data_table.ipynb>data table notebook</a>'\n",
              "            + ' to learn more about interactive tables.';\n",
              "          element.innerHTML = '';\n",
              "          dataTable['output_type'] = 'display_data';\n",
              "          await google.colab.output.renderOutput(dataTable, element);\n",
              "          const docLink = document.createElement('div');\n",
              "          docLink.innerHTML = docLinkHtml;\n",
              "          element.appendChild(docLink);\n",
              "        }\n",
              "      </script>\n",
              "    </div>\n",
              "  </div>\n",
              "  "
            ]
          },
          "metadata": {},
          "execution_count": 48
        }
      ]
    },
    {
      "cell_type": "markdown",
      "source": [
        "Using Natural Language Processing, we have again successfully predicted the creators for 3 superheroes namely, Deadpool, Harley Quinn and Hulk correctly. This time, the probabilities of success are much higher compared to the analysis based on their statistics. Since the classification accuracy is higher, we consider this an improvement, a valuable and meaningful addition to our initial analysis.\n",
        "\n",
        "---"
      ],
      "metadata": {
        "id": "LEdf4feEM36b"
      }
    },
    {
      "cell_type": "markdown",
      "source": [
        "# **Point Estimation**\n",
        "\n",
        "These values of classification accuracy and probabilities are based on the train and test datasets, chosen at random. This means that with every new iteration of this analysis, the values obtained may differ, and could possibly be erroneous even.\n",
        "\n",
        "This next segment will iterate through both parts of the analysis with the train and test sets split repeatedly at random 30 times, such that we can apply Central Limit Theorem to assume a normal distribution of classification accuracy values. This allows us to determine the level of significance of our observations, and obtain a confidence interval for both methods.\n",
        "\n",
        "The null hypothesis is that the mean classification accuracy is equal to 0.5, meaning that the predictions are accurate around 50% of the time. The alternative hypothesis is that the mean classification accuracy is greater than 0.5. \n",
        "\n"
      ],
      "metadata": {
        "id": "IlvMiRwbpUdD"
      }
    },
    {
      "cell_type": "code",
      "source": [
        "from statistics import mean, stdev\n",
        "from scipy import stats\n",
        "\n",
        "# split statsData into independent variables x (statistics) and dependent variable y (creator)\n",
        "x = pd.DataFrame(statsData.drop('creator', axis=1))\n",
        "y = pd.DataFrame(statsData['creator'])\n",
        "\n",
        "# store classification accuracy values in a list\n",
        "statsAccList = []\n",
        "\n",
        "# repeat 30 times, append values to list\n",
        "for i in range(30):\n",
        "\n",
        "  # randomly split x and y into train and test dataframes with 80:20 ratio\n",
        "  x_train, x_test, y_train, y_test = train_test_split(x, y, test_size = 0.20)\n",
        "\n",
        "  # Decision Tree using train data\n",
        "  dectree = DecisionTreeClassifier(max_depth = 4)  # create the decision tree object\n",
        "  dectree.fit(x_train, y_train)                    # train the decision tree model\n",
        "\n",
        "  # Predict creator corresponding to predictors (only test)\n",
        "  y_test_pred = dectree.predict(x_test)\n",
        "\n",
        "  # append classificatiton accuracy value to list\n",
        "  statsAccList.append(dectree.score(x_test, y_test))\n",
        "\n",
        "mean(statsAccList)"
      ],
      "metadata": {
        "id": "6HDq0rT6rY5d",
        "colab": {
          "base_uri": "https://localhost:8080/"
        },
        "outputId": "86f143db-29f7-4bac-eb81-189ab65999d4"
      },
      "execution_count": 49,
      "outputs": [
        {
          "output_type": "execute_result",
          "data": {
            "text/plain": [
              "0.5894017094017094"
            ]
          },
          "metadata": {},
          "execution_count": 49
        }
      ]
    },
    {
      "cell_type": "code",
      "source": [
        "# store classification accuracy values in a list\n",
        "nlpAccList = []\n",
        "\n",
        "# repeat 30 times, append values to list\n",
        "for i in range(30):\n",
        "\n",
        "  # randomly split historyData into train and test dataframes with 80:20 ratio\n",
        "  train, test = train_test_split(historyData, test_size = 0.20)\n",
        "\n",
        "  # Transform each text into a vector of word counts\n",
        "  # Ignores stop words and uses above function to clean the text\n",
        "  vectorizer = CountVectorizer(stop_words=\"english\", preprocessor=clean_text)\n",
        "\n",
        "  # transform vectors into matrices of the text vocabulary\n",
        "  training_features = vectorizer.fit_transform(train[\"history_text\"])    \n",
        "  test_features = vectorizer.transform(test[\"history_text\"])\n",
        "\n",
        "  # Training using LinearSVC model\n",
        "  model = LinearSVC()\n",
        "  model.fit(training_features, train[\"creator\"])\n",
        "\n",
        "  # Predict with model on test dataset\n",
        "  y_pred = model.predict(test_features)\n",
        "\n",
        "  # append classificatiton accuracy value to list\n",
        "  nlpAccList.append(accuracy_score(test[\"creator\"], y_pred))\n",
        "\n",
        "mean(nlpAccList)"
      ],
      "metadata": {
        "id": "N73XBR5a_-QM",
        "colab": {
          "base_uri": "https://localhost:8080/"
        },
        "outputId": "7493a27d-9a1a-44ed-fba3-4d2eaefc2211"
      },
      "execution_count": 50,
      "outputs": [
        {
          "output_type": "execute_result",
          "data": {
            "text/plain": [
              "0.8795"
            ]
          },
          "metadata": {},
          "execution_count": 50
        }
      ]
    },
    {
      "cell_type": "code",
      "source": [
        "# from math import sqrt\n",
        "\n",
        "# # mathematical calculations match the function \n",
        "# zscoreStats = (mean(statsAccList) - 0.50) / (stdev(statsAccList) / sqrt(30))\n",
        "# zscoreNlp = (mean(nlpAccList) - 0.50) / (stdev(nlpAccList) / sqrt(30))\n",
        "\n",
        "# print(\"z-score, p-value for stats method:\\t\", ztest(statsAccList, value = 0.5))\n",
        "# print(\"z-score, p-value for nlp method:\\t\", ztest(nlpAccList, value = 0.5))"
      ],
      "metadata": {
        "id": "E93lXPaHRERY"
      },
      "execution_count": 51,
      "outputs": []
    },
    {
      "cell_type": "code",
      "source": [
        "from statsmodels.stats.weightstats import ztest, zconfint\n",
        "\n",
        "# use ztest function to obtain z-score and p-value \n",
        "# returns p-value for 2-tailed test, need to divide by 2 for this 1-tailed test\n",
        "print(\"z-score, p-value for decision tree method:\\t\", ztest(statsAccList, value = 0.5))\n",
        "print(\"z-score, p-value for nlp method:\\t\\t\", ztest(nlpAccList, value = 0.5))"
      ],
      "metadata": {
        "id": "NP_No-FeWwZ5",
        "colab": {
          "base_uri": "https://localhost:8080/"
        },
        "outputId": "49b6d556-689f-41f1-9550-a48fb24e9cbd"
      },
      "execution_count": 52,
      "outputs": [
        {
          "output_type": "stream",
          "name": "stdout",
          "text": [
            "z-score, p-value for decision tree method:\t (11.71120446324559, 1.1168170303654383e-31)\n",
            "z-score, p-value for nlp method:\t\t (98.87118594505368, 0.0)\n"
          ]
        },
        {
          "output_type": "stream",
          "name": "stderr",
          "text": [
            "/usr/local/lib/python3.7/dist-packages/statsmodels/tools/_testing.py:19: FutureWarning: pandas.util.testing is deprecated. Use the functions in the public API at pandas.testing instead.\n",
            "  import pandas.util.testing as tm\n"
          ]
        }
      ]
    },
    {
      "cell_type": "code",
      "source": [
        "# use function to determine 95% confidence interval\n",
        "print(\"confidence interval for decision tree method:\\t\", zconfint(statsAccList, alpha = 0.05))\n",
        "print(\"confidence interval for nlp method:\\t\\t\", zconfint(nlpAccList, alpha = 0.05))"
      ],
      "metadata": {
        "id": "5YA5BZMgYuze",
        "colab": {
          "base_uri": "https://localhost:8080/"
        },
        "outputId": "c8c60572-7d0f-4cb0-cbad-f9968c1ac41a"
      },
      "execution_count": 53,
      "outputs": [
        {
          "output_type": "stream",
          "name": "stdout",
          "text": [
            "confidence interval for decision tree method:\t (0.574439616379289, 0.6043638024241299)\n",
            "confidence interval for nlp method:\t\t (0.8719770161799586, 0.8870229838200415)\n"
          ]
        }
      ]
    },
    {
      "cell_type": "markdown",
      "source": [
        "As we can see, the calculated z-scores are incredibly high and the p-values are incredibly low. This means that the probability that our model is effective is very significant, even to a 99% significance level, since the p-values (divided by 2) are much lower than 0.01. Thus, we reject the null hypothesis.\n",
        "\n",
        "On that note, while the classification accuracy may vary slightly depending on the random split of the train and test sets, we have determined the 95% confidence interval for the classification accuracy with regards to both models. This means that 95% of the time, the classification accuracy should fall in this range of values.\n",
        "\n",
        "---"
      ],
      "metadata": {
        "id": "HXBjuVZicwvh"
      }
    },
    {
      "cell_type": "markdown",
      "source": [
        "# **Optimal Depth of Decision Tree**\n",
        "\n",
        "To improve on our analysis further, we wanted to find out if the max depth chosen for the decision tree was optimal. With too few levels, the decision tree will be underfitted, and the predictions will have a higher gini coefficient and will not be as strong. On the other hand, with too many levels the decision tree will become overfitted, meaning that it fits the training data well, but fails to generalise for unseen test data.\n",
        "\n",
        "Below is the same code for the average classification accuracy, repeated iteratively with increasing depth from 1 to 20. The means are stored in a dictionary, later used to plot a linegraph for easy visualisation. The optimal depth is the one with highest average classification accuracy."
      ],
      "metadata": {
        "id": "5TvMYjpC2Q8U"
      }
    },
    {
      "cell_type": "code",
      "source": [
        "# split statsData into independent variables x (statistics) and dependent variable y (creator)\n",
        "x = pd.DataFrame(statsData.drop('creator', axis=1))\n",
        "y = pd.DataFrame(statsData['creator'])\n",
        "\n",
        "# store average values in a dictionary for graphing\n",
        "depths = {}\n",
        "for depth in range(1, 21):\n",
        "\n",
        "  # store classification accuracy values in a list\n",
        "  statsAccList = []\n",
        "\n",
        "  # repeat 30 times, append values to list\n",
        "  for i in range(30):\n",
        "\n",
        "    # randomly split x and y into train and test dataframes with 80:20 ratio\n",
        "    x_train, x_test, y_train, y_test = train_test_split(x, y, test_size = 0.20)\n",
        "\n",
        "    # Decision Tree using train data\n",
        "    dectree = DecisionTreeClassifier(max_depth = depth)  # create the decision tree object\n",
        "    dectree.fit(x_train, y_train)                    # train the decision tree model\n",
        "\n",
        "    # Predict creator corresponding to predictors (only test)\n",
        "    y_test_pred = dectree.predict(x_test)\n",
        "\n",
        "    # append classificatiton accuracy value to list\n",
        "    statsAccList.append(dectree.score(x_test, y_test))\n",
        "\n",
        "  # depthList[depth] = mean(statsAccList)\n",
        "  depths[depth] = mean(statsAccList)\n",
        "\n",
        "depths"
      ],
      "metadata": {
        "id": "bxuy3DJ7CZyi",
        "colab": {
          "base_uri": "https://localhost:8080/"
        },
        "outputId": "ecea744a-a879-4967-a03e-6b4208e968ae"
      },
      "execution_count": 54,
      "outputs": [
        {
          "output_type": "execute_result",
          "data": {
            "text/plain": [
              "{1: 0.5531623931623931,\n",
              " 2: 0.582905982905983,\n",
              " 3: 0.5883760683760684,\n",
              " 4: 0.6032478632478633,\n",
              " 5: 0.6052991452991453,\n",
              " 6: 0.6056410256410256,\n",
              " 7: 0.6058119658119658,\n",
              " 8: 0.5935042735042735,\n",
              " 9: 0.601025641025641,\n",
              " 10: 0.5911111111111111,\n",
              " 11: 0.5858119658119658,\n",
              " 12: 0.5900854700854701,\n",
              " 13: 0.6006837606837607,\n",
              " 14: 0.5844444444444444,\n",
              " 15: 0.5924786324786325,\n",
              " 16: 0.5947008547008548,\n",
              " 17: 0.6013675213675214,\n",
              " 18: 0.592991452991453,\n",
              " 19: 0.5875213675213675,\n",
              " 20: 0.58}"
            ]
          },
          "metadata": {},
          "execution_count": 54
        }
      ]
    },
    {
      "cell_type": "code",
      "source": [
        "plt.xticks([i for i in range(0, 20, 2)])\n",
        "plt.yticks([i/100 for i in range(50, 65)])\n",
        "\n",
        "ax = sb.lineplot(data = depths)\n",
        "ax.set(xlabel='depth', ylabel='mean score')"
      ],
      "metadata": {
        "id": "zBHDBWscCaiX",
        "colab": {
          "base_uri": "https://localhost:8080/",
          "height": 0
        },
        "outputId": "92be379e-4a2a-42b8-c069-a3287e0cc044"
      },
      "execution_count": 55,
      "outputs": [
        {
          "output_type": "execute_result",
          "data": {
            "text/plain": [
              "[Text(0, 0.5, 'mean score'), Text(0.5, 0, 'depth')]"
            ]
          },
          "metadata": {},
          "execution_count": 55
        },
        {
          "output_type": "display_data",
          "data": {
            "text/plain": [
              "<Figure size 432x288 with 1 Axes>"
            ],
            "image/png": "[encoded data removed]"
          },
          "metadata": {}
        }
      ]
    },
    {
      "cell_type": "markdown",
      "source": [
        "From the graph, we can infer that the optimal depth of the decision tree for this dataset is around 5."
      ],
      "metadata": {
        "id": "sTUvCrau58H-"
      }
    },
    {
      "cell_type": "code",
      "source": [
        ""
      ],
      "metadata": {
        "id": "H-zN_CPtW5SA"
      },
      "execution_count": 55,
      "outputs": []
    }
  ]
}